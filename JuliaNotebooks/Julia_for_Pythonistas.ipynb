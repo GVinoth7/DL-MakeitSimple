{
  "nbformat": 4,
  "nbformat_minor": 0,
  "metadata": {
    "colab": {
      "name": "Julia_for_Pythonistas.ipynb",
      "provenance": [],
      "collapsed_sections": [],
      "toc_visible": true
    },
    "kernelspec": {
      "display_name": "Julia",
      "language": "julia",
      "name": "julia"
    },
    "language_info": {
      "file_extension": ".jl",
      "mimetype": "application/julia",
      "name": "julia"
    }
  },
  "cells": [
    {
      "cell_type": "markdown",
      "metadata": {
        "id": "tQ1r1bbb0yBv",
        "colab_type": "text"
      },
      "source": [
        "# <img src=\"https://github.com/JuliaLang/julia-logo-graphics/raw/master/images/julia-logo-color.png\" height=\"100\" /> _for Pythonistas_\n",
        "\n",
        "> TL;DR: _Julia looks and feels a lot like Python, only much faster. It's dynamic, expressive, extensible, with batteries included, in particular for Data Science_.\n",
        "\n",
        "This notebook is an **introduction to Julia for Python programmers**.\n",
        "\n",
        "It will go through the most important Python features (such as functions, basic types, list comprehensions, exceptions, generators, modules, packages, and so on) and show you how to code them in Julia."
      ]
    },
    {
      "cell_type": "markdown",
      "metadata": {
        "id": "f_1dr-2W5iSU",
        "colab_type": "text"
      },
      "source": [
        "# Getting Started with Julia in Colab/Jupyter\n",
        "You can either run this notebook in Google Colab, or using Jupyter on your own machine."
      ]
    },
    {
      "cell_type": "markdown",
      "metadata": {
        "id": "6ew60wXrZM0W",
        "colab_type": "text"
      },
      "source": [
        "## Running on Google Colab\n",
        "1. Work on a copy of this notebook: _File_ > _Save a copy in Drive_ (you will need a Google account). Alternatively, you can download the notebook using _File_ > _Download .ipynb_, then upload it to [Colab](https://colab.research.google.com/).\n",
        "2. Execute the following cell (click on it and press Ctrl+Enter) to install Julia, IJulia (the Jupyter kernel for Julia) and other packages. You can update `JULIA_VERSION` and the other parameters, if you know what you're doing. Installation takes a couple of minutes.\n",
        "3. Reload this page (press Ctrl+R, or ⌘+R, or the F5 key) and continue to the _Checking the Installation_ section.\n",
        "\n",
        "* _Note_: If your Colab Runtime gets reset (e.g., due to inactivity), repeat steps 2 and 3."
      ]
    },
    {
      "cell_type": "code",
      "metadata": {
        "id": "GIeFXS0F0zww",
        "colab_type": "code",
        "colab": {
          "base_uri": "https://localhost:8080/",
          "height": 1000
        },
        "outputId": "f2c1b19f-9ebc-4d75-a1c4-e901f438d520"
      },
      "source": [
        "%%shell\n",
        "set -e\n",
        "\n",
        "#---------------------------------------------------#\n",
        "JULIA_VERSION=\"1.5.0-rc1\" # any version ≥ 0.7.0\n",
        "JULIA_PACKAGES=\"IJulia BenchmarkTools PyCall PyPlot\"\n",
        "JULIA_PACKAGES_IF_GPU=\"CuArrays\"\n",
        "JULIA_NUM_THREADS=4\n",
        "#---------------------------------------------------#\n",
        "\n",
        "if [ -n \"$COLAB_GPU\" ] && [ -z `which julia` ]; then\n",
        "  # Install Julia\n",
        "  JULIA_VER=`cut -d '.' -f -2 <<< \"$JULIA_VERSION\"`\n",
        "  echo \"Installing Julia $JULIA_VERSION on the current Colab Runtime...\"\n",
        "  BASE_URL=\"https://julialang-s3.julialang.org/bin/linux/x64\"\n",
        "  URL=\"$BASE_URL/$JULIA_VER/julia-$JULIA_VERSION-linux-x86_64.tar.gz\"\n",
        "  wget -nv $URL -O /tmp/julia.tar.gz # -nv means \"not verbose\"\n",
        "  tar -x -f /tmp/julia.tar.gz -C /usr/local --strip-components 1\n",
        "  rm /tmp/julia.tar.gz\n",
        "\n",
        "  # Install Packages\n",
        "  if [ \"$COLAB_GPU\" = \"1\" ]; then\n",
        "      JULIA_PACKAGES=\"$JULIA_PACKAGES $JULIA_PACKAGES_IF_GPU\"\n",
        "  fi\n",
        "  for PKG in `echo $JULIA_PACKAGES`; do\n",
        "    echo \"Installing Julia package $PKG...\"\n",
        "    julia -e 'using Pkg; pkg\"add '$PKG'; precompile;\"'\n",
        "  done\n",
        "\n",
        "  # Install kernel and rename it to \"julia\"\n",
        "  echo \"Installing IJulia kernel...\"\n",
        "  julia -e 'using IJulia; IJulia.installkernel(\"julia\", env=Dict(\n",
        "      \"JULIA_NUM_THREADS\"=>\"'\"$JULIA_NUM_THREADS\"'\"))'\n",
        "  KERNEL_DIR=`julia -e \"using IJulia; print(IJulia.kerneldir())\"`\n",
        "  KERNEL_NAME=`ls -d \"$KERNEL_DIR\"/julia*`\n",
        "  mv -f $KERNEL_NAME \"$KERNEL_DIR\"/julia  \n",
        "\n",
        "  echo ''\n",
        "  echo \"Successfully installed `julia -v`!\"\n",
        "  echo \"Please reload this page (press Ctrl+R, ⌘+R, or the F5 key) then\"\n",
        "  echo \"jump to the 'Checking the Installation' section.\"\n",
        "fi"
      ],
      "execution_count": null,
      "outputs": [
        {
          "output_type": "stream",
          "text": [
            "Installing Julia 1.5.0-rc1 on the current Colab Runtime...\n",
            "2020-06-29 10:59:19 URL:https://storage.googleapis.com/julialang2/bin/linux/x64/1.5/julia-1.5.0-rc1-linux-x86_64.tar.gz [105329069/105329069] -> \"/tmp/julia.tar.gz\" [1]\n",
            "Installing Julia package IJulia...\n",
            "\u001b[32m\u001b[1m Installing\u001b[22m\u001b[39m known registries into `~/.julia`\n",
            "\u001b[36m\u001b[1m[ \u001b[22m\u001b[39m\u001b[36m\u001b[1mInfo: \u001b[22m\u001b[39mLEGAL NOTICE: package operations send anonymous data about your system to https://pkg.julialang.org (your current package server), including the operating system and Julia versions you are using, and a random client UUID. Running `Pkg.telemetryinfo()` will show exactly what data is sent. See https://julialang.org/legal/data/ for more details about what this data is used for, how long it is retained, and how to opt out of sending it.\n",
            "######################################################################## 100.0%\n",
            "\u001b[32m\u001b[1m      Added\u001b[22m\u001b[39m registry `General` to `~/.julia/registries/General`\n",
            "\u001b[32m\u001b[1m  Resolving\u001b[22m\u001b[39m package versions...\n",
            "\u001b[32m\u001b[1m  Installed\u001b[22m\u001b[39m ZMQ ───────────── v1.2.1\n",
            "\u001b[32m\u001b[1m  Installed\u001b[22m\u001b[39m ZeroMQ_jll ────── v4.3.2+4\n",
            "\u001b[32m\u001b[1m  Installed\u001b[22m\u001b[39m VersionParsing ── v1.2.0\n",
            "\u001b[32m\u001b[1m  Installed\u001b[22m\u001b[39m SoftGlobalScope ─ v1.0.10\n",
            "\u001b[32m\u001b[1m  Installed\u001b[22m\u001b[39m Conda ─────────── v1.4.1\n",
            "\u001b[32m\u001b[1m  Installed\u001b[22m\u001b[39m Parsers ───────── v1.0.6\n",
            "\u001b[32m\u001b[1m  Installed\u001b[22m\u001b[39m IJulia ────────── v1.21.2\n",
            "\u001b[32m\u001b[1m  Installed\u001b[22m\u001b[39m MbedTLS ───────── v1.0.2\n",
            "\u001b[32m\u001b[1m  Installed\u001b[22m\u001b[39m MbedTLS_jll ───── v2.16.6+0\n",
            "\u001b[32m\u001b[1m  Installed\u001b[22m\u001b[39m JSON ──────────── v0.21.0\n",
            "\u001b[32m\u001b[1mDownloading\u001b[22m\u001b[39m artifact: ZeroMQ\n",
            "######################################################################## 100.0%\n",
            "\u001b[1A\u001b[2K\u001b[?25h\u001b[32m\u001b[1mDownloading\u001b[22m\u001b[39m artifact: MbedTLS\n",
            "######################################################################## 100.0%\n",
            "\u001b[1A\u001b[2K\u001b[?25h\u001b[32m\u001b[1mUpdating\u001b[22m\u001b[39m `~/.julia/environments/v1.5/Project.toml`\n",
            " \u001b[90m [7073ff75] \u001b[39m\u001b[92m+ IJulia v1.21.2\u001b[39m\n",
            "\u001b[32m\u001b[1mUpdating\u001b[22m\u001b[39m `~/.julia/environments/v1.5/Manifest.toml`\n",
            " \u001b[90m [8f4d0f93] \u001b[39m\u001b[92m+ Conda v1.4.1\u001b[39m\n",
            " \u001b[90m [7073ff75] \u001b[39m\u001b[92m+ IJulia v1.21.2\u001b[39m\n",
            " \u001b[90m [682c06a0] \u001b[39m\u001b[92m+ JSON v0.21.0\u001b[39m\n",
            " \u001b[90m [739be429] \u001b[39m\u001b[92m+ MbedTLS v1.0.2\u001b[39m\n",
            " \u001b[90m [c8ffd9c3] \u001b[39m\u001b[92m+ MbedTLS_jll v2.16.6+0\u001b[39m\n",
            " \u001b[90m [69de0a69] \u001b[39m\u001b[92m+ Parsers v1.0.6\u001b[39m\n",
            " \u001b[90m [b85f4697] \u001b[39m\u001b[92m+ SoftGlobalScope v1.0.10\u001b[39m\n",
            " \u001b[90m [81def892] \u001b[39m\u001b[92m+ VersionParsing v1.2.0\u001b[39m\n",
            " \u001b[90m [c2297ded] \u001b[39m\u001b[92m+ ZMQ v1.2.1\u001b[39m\n",
            " \u001b[90m [8f1865be] \u001b[39m\u001b[92m+ ZeroMQ_jll v4.3.2+4\u001b[39m\n",
            " \u001b[90m [2a0f44e3] \u001b[39m\u001b[92m+ Base64\u001b[39m\n",
            " \u001b[90m [ade2ca70] \u001b[39m\u001b[92m+ Dates\u001b[39m\n",
            " \u001b[90m [8ba89e20] \u001b[39m\u001b[92m+ Distributed\u001b[39m\n",
            " \u001b[90m [7b1f6079] \u001b[39m\u001b[92m+ FileWatching\u001b[39m\n",
            " \u001b[90m [b77e0a4c] \u001b[39m\u001b[92m+ InteractiveUtils\u001b[39m\n",
            " \u001b[90m [76f85450] \u001b[39m\u001b[92m+ LibGit2\u001b[39m\n",
            " \u001b[90m [8f399da3] \u001b[39m\u001b[92m+ Libdl\u001b[39m\n",
            " \u001b[90m [56ddb016] \u001b[39m\u001b[92m+ Logging\u001b[39m\n",
            " \u001b[90m [d6f4376e] \u001b[39m\u001b[92m+ Markdown\u001b[39m\n",
            " \u001b[90m [a63ad114] \u001b[39m\u001b[92m+ Mmap\u001b[39m\n",
            " \u001b[90m [44cfe95a] \u001b[39m\u001b[92m+ Pkg\u001b[39m\n",
            " \u001b[90m [de0858da] \u001b[39m\u001b[92m+ Printf\u001b[39m\n",
            " \u001b[90m [3fa0cd96] \u001b[39m\u001b[92m+ REPL\u001b[39m\n",
            " \u001b[90m [9a3f8284] \u001b[39m\u001b[92m+ Random\u001b[39m\n",
            " \u001b[90m [ea8e919c] \u001b[39m\u001b[92m+ SHA\u001b[39m\n",
            " \u001b[90m [9e88b42a] \u001b[39m\u001b[92m+ Serialization\u001b[39m\n",
            " \u001b[90m [6462fe0b] \u001b[39m\u001b[92m+ Sockets\u001b[39m\n",
            " \u001b[90m [8dfed614] \u001b[39m\u001b[92m+ Test\u001b[39m\n",
            " \u001b[90m [cf7118a7] \u001b[39m\u001b[92m+ UUIDs\u001b[39m\n",
            " \u001b[90m [4ec0a83e] \u001b[39m\u001b[92m+ Unicode\u001b[39m\n",
            "\u001b[32m\u001b[1m   Building\u001b[22m\u001b[39m Conda ─→ `~/.julia/packages/Conda/3rPhK/deps/build.log`\n",
            "\u001b[32m\u001b[1m   Building\u001b[22m\u001b[39m IJulia → `~/.julia/packages/IJulia/DrVMH/deps/build.log`\n",
            "\u001b[32m\u001b[1mPrecompiling\u001b[22m\u001b[39m project...\n",
            "Installing Julia package BenchmarkTools...\n",
            "\u001b[32m\u001b[1m   Updating\u001b[22m\u001b[39m registry at `~/.julia/registries/General`\n",
            "\u001b[32m\u001b[1m  Resolving\u001b[22m\u001b[39m package versions...\n",
            "\u001b[32m\u001b[1m  Installed\u001b[22m\u001b[39m BenchmarkTools ─ v0.5.0\n",
            "\u001b[32m\u001b[1mUpdating\u001b[22m\u001b[39m `~/.julia/environments/v1.5/Project.toml`\n",
            " \u001b[90m [6e4b80f9] \u001b[39m\u001b[92m+ BenchmarkTools v0.5.0\u001b[39m\n",
            "\u001b[32m\u001b[1mUpdating\u001b[22m\u001b[39m `~/.julia/environments/v1.5/Manifest.toml`\n",
            " \u001b[90m [6e4b80f9] \u001b[39m\u001b[92m+ BenchmarkTools v0.5.0\u001b[39m\n",
            " \u001b[90m [37e2e46d] \u001b[39m\u001b[92m+ LinearAlgebra\u001b[39m\n",
            " \u001b[90m [2f01184e] \u001b[39m\u001b[92m+ SparseArrays\u001b[39m\n",
            " \u001b[90m [10745b16] \u001b[39m\u001b[92m+ Statistics\u001b[39m\n",
            "\u001b[32m\u001b[1mPrecompiling\u001b[22m\u001b[39m project...\n",
            "Installing Julia package PyCall...\n",
            "\u001b[32m\u001b[1m   Updating\u001b[22m\u001b[39m registry at `~/.julia/registries/General`\n",
            "\u001b[32m\u001b[1m  Resolving\u001b[22m\u001b[39m package versions...\n",
            "\u001b[32m\u001b[1m  Installed\u001b[22m\u001b[39m MacroTools ─ v0.5.5\n",
            "\u001b[32m\u001b[1m  Installed\u001b[22m\u001b[39m PyCall ───── v1.91.4\n",
            "\u001b[32m\u001b[1mUpdating\u001b[22m\u001b[39m `~/.julia/environments/v1.5/Project.toml`\n",
            " \u001b[90m [438e738f] \u001b[39m\u001b[92m+ PyCall v1.91.4\u001b[39m\n",
            "\u001b[32m\u001b[1mUpdating\u001b[22m\u001b[39m `~/.julia/environments/v1.5/Manifest.toml`\n",
            " \u001b[90m [1914dd2f] \u001b[39m\u001b[92m+ MacroTools v0.5.5\u001b[39m\n",
            " \u001b[90m [438e738f] \u001b[39m\u001b[92m+ PyCall v1.91.4\u001b[39m\n",
            "\u001b[32m\u001b[1m   Building\u001b[22m\u001b[39m PyCall → `~/.julia/packages/PyCall/zqDXB/deps/build.log`\n",
            "\u001b[32m\u001b[1mPrecompiling\u001b[22m\u001b[39m project...\n",
            "Installing Julia package PyPlot...\n",
            "\u001b[32m\u001b[1m   Updating\u001b[22m\u001b[39m registry at `~/.julia/registries/General`\n",
            "\u001b[32m\u001b[1m  Resolving\u001b[22m\u001b[39m package versions...\n",
            "\u001b[32m\u001b[1m  Installed\u001b[22m\u001b[39m PyPlot ──────────── v2.9.0\n",
            "\u001b[32m\u001b[1m  Installed\u001b[22m\u001b[39m LaTeXStrings ────── v1.1.0\n",
            "\u001b[32m\u001b[1m  Installed\u001b[22m\u001b[39m Reexport ────────── v0.2.0\n",
            "\u001b[32m\u001b[1m  Installed\u001b[22m\u001b[39m ColorTypes ──────── v0.10.4\n",
            "\u001b[32m\u001b[1m  Installed\u001b[22m\u001b[39m FixedPointNumbers ─ v0.8.1\n",
            "\u001b[32m\u001b[1m  Installed\u001b[22m\u001b[39m Colors ──────────── v0.12.2\n",
            "\u001b[32m\u001b[1mUpdating\u001b[22m\u001b[39m `~/.julia/environments/v1.5/Project.toml`\n",
            " \u001b[90m [d330b81b] \u001b[39m\u001b[92m+ PyPlot v2.9.0\u001b[39m\n",
            "\u001b[32m\u001b[1mUpdating\u001b[22m\u001b[39m `~/.julia/environments/v1.5/Manifest.toml`\n",
            " \u001b[90m [3da002f7] \u001b[39m\u001b[92m+ ColorTypes v0.10.4\u001b[39m\n",
            " \u001b[90m [5ae59095] \u001b[39m\u001b[92m+ Colors v0.12.2\u001b[39m\n",
            " \u001b[90m [53c48c17] \u001b[39m\u001b[92m+ FixedPointNumbers v0.8.1\u001b[39m\n",
            " \u001b[90m [b964fa9f] \u001b[39m\u001b[92m+ LaTeXStrings v1.1.0\u001b[39m\n",
            " \u001b[90m [d330b81b] \u001b[39m\u001b[92m+ PyPlot v2.9.0\u001b[39m\n",
            " \u001b[90m [189a3867] \u001b[39m\u001b[92m+ Reexport v0.2.0\u001b[39m\n",
            "\u001b[32m\u001b[1mPrecompiling\u001b[22m\u001b[39m project...\n",
            "Installing IJulia kernel...\n",
            "\u001b[36m\u001b[1m[ \u001b[22m\u001b[39m\u001b[36m\u001b[1mInfo: \u001b[22m\u001b[39mInstalling julia kernelspec in /root/.local/share/jupyter/kernels/julia-1.5\n",
            "\n",
            "Successfully installed julia version 1.5.0-rc1!\n",
            "Please reload this page (press Ctrl+R, ⌘+R, or the F5 key) then\n",
            "jump to the 'Checking the Installation' section.\n"
          ],
          "name": "stdout"
        },
        {
          "output_type": "execute_result",
          "data": {
            "text/plain": [
              ""
            ]
          },
          "metadata": {
            "tags": []
          },
          "execution_count": 1
        }
      ]
    },
    {
      "cell_type": "markdown",
      "metadata": {
        "id": "2ZvetMlVYKXY",
        "colab_type": "text"
      },
      "source": [
        "## Running This Notebook Locally\n",
        "If you prefer to run this notebook on your machine instead of Google Colab:\n",
        "\n",
        "* Download this notebook (File > Download .ipynb)\n",
        "* Install [Julia](https://julialang.org/downloads/)\n",
        "* Run the following command in a terminal to install `IJulia` (the Jupyter kernel for Julia), and a few packages we will use:\n",
        "```bash\n",
        "julia -e 'using Pkg\n",
        "            pkg\"add IJulia; precompile;\"\n",
        "            pkg\"add BenchmarkTools; precompile;\"\n",
        "            pkg\"add PyCall; precompile;\"\n",
        "            pkg\"add PyPlot; precompile;\"'\n",
        "```\n",
        "\n",
        "* Next, go to the directory containing this notebook:\n",
        "\n",
        "    ```julia\n",
        "cd /path/to/notebook/directory\n",
        "```\n",
        "\n",
        "* Start Jupyter Notebook:\n",
        "\n",
        "    ```bash\n",
        "julia -e 'using IJulia; IJulia.notebook()'\n",
        "```\n",
        "\n",
        "    Or replace `notebook()` with `jupyterlab()` if you prefer JupyterLab.\n",
        "\n",
        "    If you do not already have [Jupyter](https://jupyter.org/install) installed, IJulia will propose to install it. If you agree, it will automatically install a private Miniconda (just for Julia), and install Jupyter and Python inside it.\n",
        "\n",
        "* Lastly, open this notebook and skip directly to the next section."
      ]
    },
    {
      "cell_type": "markdown",
      "metadata": {
        "id": "-OS3Ac017T1i",
        "colab_type": "text"
      },
      "source": [
        "## Checking the Installation\n",
        "The `versioninfo()` function should print your Julia version and some other info about the system (if you ever ask for help or file an issue about Julia, you should always provide this information)."
      ]
    },
    {
      "cell_type": "code",
      "metadata": {
        "id": "EEzvvzCl1i0F",
        "colab_type": "code",
        "colab": {
          "base_uri": "https://localhost:8080/",
          "height": 187
        },
        "outputId": "e716e452-1a5b-48a8-dba2-2f95394ef3cf"
      },
      "source": [
        "versioninfo()"
      ],
      "execution_count": null,
      "outputs": [
        {
          "output_type": "stream",
          "text": [
            "Julia Version 1.5.0-rc1.0\n",
            "Commit 24f033c951 (2020-06-26 20:13 UTC)\n",
            "Platform Info:\n",
            "  OS: Linux (x86_64-pc-linux-gnu)\n",
            "  CPU: Intel(R) Xeon(R) CPU @ 2.30GHz\n",
            "  WORD_SIZE: 64\n",
            "  LIBM: libopenlibm\n",
            "  LLVM: libLLVM-9.0.1 (ORCJIT, haswell)\n",
            "Environment:\n",
            "  JULIA_NUM_THREADS = 4\n"
          ],
          "name": "stdout"
        }
      ]
    },
    {
      "cell_type": "markdown",
      "metadata": {
        "id": "GnSoOX6btmkh",
        "colab_type": "text"
      },
      "source": [
        "# Getting Help\n",
        "To get help on any module, function, variable, or just about anything else, just type `?` followed by what you're interested in. For example:"
      ]
    },
    {
      "cell_type": "code",
      "metadata": {
        "id": "-4FMkizktjB5",
        "colab_type": "code",
        "colab": {
          "base_uri": "https://localhost:8080/",
          "height": 120
        },
        "outputId": "cc0a9cb8-acb7-494a-d95d-20f77ad6b396"
      },
      "source": [
        "?versioninfo"
      ],
      "execution_count": null,
      "outputs": [
        {
          "output_type": "stream",
          "text": [
            "search: \u001b[0m\u001b[1mv\u001b[22m\u001b[0m\u001b[1me\u001b[22m\u001b[0m\u001b[1mr\u001b[22m\u001b[0m\u001b[1ms\u001b[22m\u001b[0m\u001b[1mi\u001b[22m\u001b[0m\u001b[1mo\u001b[22m\u001b[0m\u001b[1mn\u001b[22m\u001b[0m\u001b[1mi\u001b[22m\u001b[0m\u001b[1mn\u001b[22m\u001b[0m\u001b[1mf\u001b[22m\u001b[0m\u001b[1mo\u001b[22m\n",
            "\n"
          ],
          "name": "stdout"
        },
        {
          "output_type": "execute_result",
          "data": {
            "text/latex": "\\begin{verbatim}\nversioninfo(io::IO=stdout; verbose::Bool=false)\n\\end{verbatim}\nPrint information about the version of Julia in use. The output is controlled with boolean keyword arguments:\n\n\\begin{itemize}\n\\item \\texttt{verbose}: print all additional information\n\n\\end{itemize}\n",
            "text/markdown": "```\nversioninfo(io::IO=stdout; verbose::Bool=false)\n```\n\nPrint information about the version of Julia in use. The output is controlled with boolean keyword arguments:\n\n  * `verbose`: print all additional information\n",
            "text/plain": [
              "\u001b[36m  versioninfo(io::IO=stdout; verbose::Bool=false)\u001b[39m\n",
              "\n",
              "  Print information about the version of Julia in use. The output is\n",
              "  controlled with boolean keyword arguments:\n",
              "\n",
              "    •    \u001b[36mverbose\u001b[39m: print all additional information"
            ]
          },
          "metadata": {
            "tags": []
          },
          "execution_count": 1
        }
      ]
    },
    {
      "cell_type": "markdown",
      "metadata": {
        "id": "iAZabyzVEKlX",
        "colab_type": "text"
      },
      "source": [
        "This works in interactive mode only: in Jupyter, Colab and in the Julia shell (called the REPL)."
      ]
    },
    {
      "cell_type": "markdown",
      "metadata": {
        "id": "QvXUXo-XUt3h",
        "colab_type": "text"
      },
      "source": [
        "Here are a few more ways to get help and inspect objects in interactive mode:\n",
        "\n",
        "|Julia|Python\n",
        "|-----|------\n",
        "|`?obj` | `help(obj)`\n",
        "|`dump(obj)` | `print(repr(obj))`\n",
        "|`names(FooModule)` | `dir(foo_module)`\n",
        "|`methodswith(SomeType)` | `dir(SomeType)`\n",
        "|`@which func` | `func.__module__`\n",
        "|`apropos(\"bar\")` | Search for `\"bar\"` in docstrings of all installed packages\n",
        "|`typeof(obj)` | `type(obj)`\n",
        "|`obj isa SomeType`<br />or<br />`isa(obj, SomeType)` | `isinstance(obj, SomeType)`\n",
        "\n",
        "If you ever ask for help or file an issue about Julia, you should generally provide the output of `versioninfo()`.\n",
        "\n",
        "And of course, you can also learn and get help here:\n",
        "\n",
        "* Learning: https://julialang.org/learning/\n",
        "* Documentation: https://docs.julialang.org/\n",
        "* Questions & Discussions:\n",
        "  * https://discourse.julialang.org/\n",
        "  * http://julialang.slack.com/\n",
        "  * https://stackoverflow.com/questions/tagged/julia"
      ]
    },
    {
      "cell_type": "markdown",
      "metadata": {
        "id": "TB3UQ7RQZZtP",
        "colab_type": "text"
      },
      "source": [
        "# A First Look at Julia\n",
        "This section will give you an idea of what Julia looks like and what some of its major qualities are: it's expressive, dynamic, flexible, and most of all, super fast."
      ]
    },
    {
      "cell_type": "markdown",
      "metadata": {
        "id": "tBKp4lciICdi",
        "colab_type": "text"
      },
      "source": [
        "## Estimating π\n",
        "Let's write our first function. It will estimate π using the equation:\n",
        "$π = 4 \\times \\left(1 - \\dfrac{1}{3} + \\dfrac{1}{5} - \\dfrac{1}{7} + \\dfrac{1}{9}-\\dfrac{1}{11}+\\dots\\right)$\n",
        "\n",
        "There are much better ways to estimate π, but this one is easy to implement."
      ]
    },
    {
      "cell_type": "code",
      "metadata": {
        "id": "EPRfV4_XI2Rk",
        "colab_type": "code",
        "colab": {
          "base_uri": "https://localhost:8080/",
          "height": 51
        },
        "outputId": "665a31e8-8659-41f3-b7ef-a0c64d24b2ed"
      },
      "source": [
        "function estimate_pi(n)\n",
        "    s = 1.0\n",
        "    for i in 1:n\n",
        "        s += (isodd(i) ? -1 : 1) / (2i + 1)\n",
        "    end\n",
        "    4s\n",
        "end\n",
        "\n",
        "p = estimate_pi(100_000_000)\n",
        "println(\"π ≈ $p\")\n",
        "println(\"Error is $(p - π)\")"
      ],
      "execution_count": null,
      "outputs": [
        {
          "output_type": "stream",
          "text": [
            "π ≈ 3.141592663589326\n",
            "Error is 9.999532757376528e-9\n"
          ],
          "name": "stdout"
        }
      ]
    },
    {
      "cell_type": "markdown",
      "metadata": {
        "id": "5SGZnQB3cug3",
        "colab_type": "text"
      },
      "source": [
        "**Note**: syntax highlighting for Julia does not work (yet?) on Colab, but it does in Jupyter."
      ]
    },
    {
      "cell_type": "markdown",
      "metadata": {
        "id": "iYJZNTLCLdU3",
        "colab_type": "text"
      },
      "source": [
        "Compare this with the equivalent Python 3 code:"
      ]
    },
    {
      "cell_type": "markdown",
      "metadata": {
        "id": "F98h-og4KHHn",
        "colab_type": "text"
      },
      "source": [
        "```python\n",
        "# PYTHON\n",
        "import math\n",
        "\n",
        "def estimate_pi(n):\n",
        "    s = 1.0\n",
        "    for i in range(1, n + 1):\n",
        "        s += (-1 if i % 2 else 1) / (2 * i + 1)\n",
        "    return 4 * s\n",
        "\n",
        "p = estimate_pi(100_000_000)\n",
        "print(f\"π ≈ {p}\") # f-strings are available in Python 3.6+\n",
        "print(f\"Error is {p - math.pi}\")\n",
        "```"
      ]
    },
    {
      "cell_type": "markdown",
      "metadata": {
        "id": "zZl4GRE0LuEc",
        "colab_type": "text"
      },
      "source": [
        "Pretty similar, right? But notice the small differences:\n",
        "\n",
        "|Julia|Python\n",
        "|-----|------\n",
        "|`function` | `def`\n",
        "|`for i in X`<br />&nbsp;&nbsp;&nbsp;&nbsp;`...`<br />`end` | `for i in X:`<br />&nbsp;&nbsp;&nbsp;&nbsp;`...`\n",
        "|`1:n` | `range(1, n+1)`\n",
        "|`cond ? a : b` | `a if cond else b`\n",
        "|`2i + 1` | `2 * i + 1`\n",
        "|`4s` | `return 4 * s`\n",
        "|`println(a, b)` | `print(a, b, sep=\"\")`\n",
        "|`print(a, b)` | `print(a, b, sep=\"\", end=\"\")`\n",
        "|`\"$p\"` | `f\"{p}\"`\n",
        "|`\"$(p - π)\"` | `f\"{p - math.pi}\"`\n",
        "\n",
        "This example shows that:\n",
        "* Julia can be just as concise and readable as Python.\n",
        "* Indentation in Julia is _not_ meaningful like it is in Python. Instead, blocks end with `end`.\n",
        "* Many math features are built in Julia and need no imports.\n",
        "* There's some mathy syntactic sugar, such as `2i` (but you can write `2 * i` if you prefer).\n",
        "* In Julia, the `return` keyword is optional at the end of a function. The result of the last expression is returned (`4s` in this example).\n",
        "* Julia loves Unicode and does not hesitate to use Unicode characters like `π`. However, there are generally plain-ASCII equivalents (e.g., `π == pi`)."
      ]
    },
    {
      "cell_type": "markdown",
      "metadata": {
        "id": "C81648ZjKljL",
        "colab_type": "text"
      },
      "source": [
        "## Typing Unicode Characters"
      ]
    },
    {
      "cell_type": "markdown",
      "metadata": {
        "id": "ceBdy_lFKoFz",
        "colab_type": "text"
      },
      "source": [
        "Typing Unicode characters is easy: for latex symbols like π, just type `\\pi<tab>`. For emojis like 😃, type `\\:smiley:<tab>`.\n",
        "\n",
        "This works in the REPL, in Jupyter, but unfortunately not in Colab (yet?). As a workaround, you can run the following code to print the character you want, then copy/paste it:"
      ]
    },
    {
      "cell_type": "code",
      "metadata": {
        "id": "6nvl3qveKHld",
        "colab_type": "code",
        "colab": {
          "base_uri": "https://localhost:8080/",
          "height": 34
        },
        "outputId": "6f787734-ab3a-4911-d553-7991887257bb"
      },
      "source": [
        "using REPL.REPLCompletions: latex_symbols, emoji_symbols\n",
        "\n",
        "latex_symbols[\"\\\\pi\"]"
      ],
      "execution_count": null,
      "outputs": [
        {
          "output_type": "execute_result",
          "data": {
            "text/plain": [
              "\"π\""
            ]
          },
          "metadata": {
            "tags": []
          },
          "execution_count": 3
        }
      ]
    },
    {
      "cell_type": "code",
      "metadata": {
        "id": "RUHi_sDKLGL5",
        "colab_type": "code",
        "colab": {
          "base_uri": "https://localhost:8080/",
          "height": 34
        },
        "outputId": "3097ec37-e53f-431f-da27-bc6001f61656"
      },
      "source": [
        "emoji_symbols[\"\\\\:smiley:\"]"
      ],
      "execution_count": null,
      "outputs": [
        {
          "output_type": "execute_result",
          "data": {
            "text/plain": [
              "\"😃\""
            ]
          },
          "metadata": {
            "tags": []
          },
          "execution_count": 4
        }
      ]
    },
    {
      "cell_type": "markdown",
      "metadata": {
        "id": "9at61Y3LLJWX",
        "colab_type": "text"
      },
      "source": [
        "In Julia, `using Foo.Bar: a, b` corresponds to running `from foo.bar import a, b` in Python.\n",
        "\n",
        "|Julia|Python\n",
        "|-----|------\n",
        "|`using Foo` | `from foo import *; import foo`\n",
        "|`using Foo.Bar` | `from foo.bar import *; from foo import bar`\n",
        "|`using Foo.Bar: a, b` | `from foo.bar import a, b`\n",
        "|`using Foo: Bar` | `from foo import bar`\n",
        "\n",
        "More on this later."
      ]
    },
    {
      "cell_type": "markdown",
      "metadata": {
        "id": "0CnQq32IaDGD",
        "colab_type": "text"
      },
      "source": [
        "## Running Python code in Julia\n",
        "Julia lets you easily run Python code using the `PyCall` module. We installed it earlier, so we just need to import it:"
      ]
    },
    {
      "cell_type": "code",
      "metadata": {
        "id": "SHCsfibyaBRk",
        "colab_type": "code",
        "colab": {}
      },
      "source": [
        "using PyCall"
      ],
      "execution_count": null,
      "outputs": []
    },
    {
      "cell_type": "markdown",
      "metadata": {
        "id": "x7Qk9ht-d8Vo",
        "colab_type": "text"
      },
      "source": [
        "Now that we have imported `PyCall`, we can use the `pyimport()` function to import a Python module directly in Julia! For example, let's check which Python version we are using:"
      ]
    },
    {
      "cell_type": "code",
      "metadata": {
        "id": "LlB4nMZVeZmY",
        "colab_type": "code",
        "colab": {
          "base_uri": "https://localhost:8080/",
          "height": 34
        },
        "outputId": "edd02ab1-85e5-410b-d03f-d496af242095"
      },
      "source": [
        "sys = pyimport(\"sys\")\n",
        "sys.version"
      ],
      "execution_count": null,
      "outputs": [
        {
          "output_type": "execute_result",
          "data": {
            "text/plain": [
              "\"3.6.9 (default, Apr 18 2020, 01:56:04) \\n[GCC 8.4.0]\""
            ]
          },
          "metadata": {
            "tags": []
          },
          "execution_count": 6
        }
      ]
    },
    {
      "cell_type": "markdown",
      "metadata": {
        "id": "YwM2lGhmjIAA",
        "colab_type": "text"
      },
      "source": [
        "In fact, let's run the Python code we discussed earlier (this will take about 15 seconds to run, because Python is so slow...):"
      ]
    },
    {
      "cell_type": "code",
      "metadata": {
        "id": "MrhaObEaJ_sB",
        "colab_type": "code",
        "colab": {}
      },
      "source": [
        "py\"\"\"\n",
        "import math\n",
        " \n",
        "def estimate_pi(n):\n",
        "    s = 1.0\n",
        "    for i in range(1, n + 1):\n",
        "        s += (-1 if i % 2 else 1) / (2 * i + 1)\n",
        "    return 4 * s\n",
        " \n",
        "p = estimate_pi(100_000_000)\n",
        "print(f\"π ≈ {p}\") # f-strings are available in Python 3.6+\n",
        "print(f\"Error is {p - math.pi}\")\n",
        "\"\"\"\n"
      ],
      "execution_count": null,
      "outputs": []
    },
    {
      "cell_type": "markdown",
      "metadata": {
        "id": "PHemaGjSja7O",
        "colab_type": "text"
      },
      "source": [
        "As you can see, running arbitrary Python code is as simple as using py-strings (`py\"...\"`). Note that py-strings are not part of the Julia language itself: they are defined by the `PyCall` module (we will see how this works later).\n",
        "\n",
        "Unfortunately, Python's `print()` function writes to the standard output, which is not captured by Colab, so we can't see the output of this code. That's okay, we can look at the value of `p`:"
      ]
    },
    {
      "cell_type": "code",
      "metadata": {
        "id": "5z_QlxhJLRJ5",
        "colab_type": "code",
        "colab": {
          "base_uri": "https://localhost:8080/",
          "height": 34
        },
        "outputId": "15a7a13f-f90c-49aa-c85c-4cb01477b8bd"
      },
      "source": [
        "py\"p\""
      ],
      "execution_count": null,
      "outputs": [
        {
          "output_type": "execute_result",
          "data": {
            "text/plain": [
              "3.141592663589326"
            ]
          },
          "metadata": {
            "tags": []
          },
          "execution_count": 8
        }
      ]
    },
    {
      "cell_type": "markdown",
      "metadata": {
        "id": "jBx7UcHtkMa-",
        "colab_type": "text"
      },
      "source": [
        "Let's compare this to the value we calculated above using Julia:"
      ]
    },
    {
      "cell_type": "code",
      "metadata": {
        "id": "sKNlJjjSkIo0",
        "colab_type": "code",
        "colab": {
          "base_uri": "https://localhost:8080/",
          "height": 34
        },
        "outputId": "9d156e2c-b90b-4eb2-def5-e74a13edf843"
      },
      "source": [
        "py\"p\" - p"
      ],
      "execution_count": null,
      "outputs": [
        {
          "output_type": "execute_result",
          "data": {
            "text/plain": [
              "0.0"
            ]
          },
          "metadata": {
            "tags": []
          },
          "execution_count": 9
        }
      ]
    },
    {
      "cell_type": "markdown",
      "metadata": {
        "id": "AOzbgPMMksUb",
        "colab_type": "text"
      },
      "source": [
        "Perfect, they are exactly equal!\n",
        "\n",
        "As you can see, it's very easy to mix Julia and Python code. So if there's a module you really love in Python, you can keep using it as long as you want! For example, let's use NumPy:"
      ]
    },
    {
      "cell_type": "code",
      "metadata": {
        "id": "uXSDig4XrKyS",
        "colab_type": "code",
        "colab": {
          "base_uri": "https://localhost:8080/",
          "height": 68
        },
        "outputId": "1028de77-bbc2-42db-f38b-9c5921eabb7c"
      },
      "source": [
        "np = pyimport(\"numpy\")\n",
        "a = np.random.rand(2, 3)"
      ],
      "execution_count": null,
      "outputs": [
        {
          "output_type": "execute_result",
          "data": {
            "text/plain": [
              "2×3 Array{Float64,2}:\n",
              " 0.20538   0.553661  0.148557\n",
              " 0.245936  0.628167  0.0315877"
            ]
          },
          "metadata": {
            "tags": []
          },
          "execution_count": 10
        }
      ]
    },
    {
      "cell_type": "markdown",
      "metadata": {
        "colab_type": "text",
        "id": "zPMwgIaeyRBh"
      },
      "source": [
        "Notice that `PyCall` automatically converts some Python types to Julia types, including NumPy arrays. That's really quite convenient! Note that Julia supports multi-dimensional arrays (analog to NumPy arrays) out of the box. `Array{Float64, 2}` means that it's a 2-dimensional array of 64-bit floats.\n",
        "\n",
        "`PyCall` also converts Julia arrays to NumPy arrays when needed:"
      ]
    },
    {
      "cell_type": "code",
      "metadata": {
        "id": "aWAC4wxqrxCb",
        "colab_type": "code",
        "colab": {
          "base_uri": "https://localhost:8080/",
          "height": 68
        },
        "outputId": "aa75a07e-76e2-4aee-eebf-28ca905c8837"
      },
      "source": [
        "exp_a = np.exp(a)"
      ],
      "execution_count": null,
      "outputs": [
        {
          "output_type": "execute_result",
          "data": {
            "text/plain": [
              "2×3 Array{Float64,2}:\n",
              " 1.22799  1.73961  1.16016\n",
              " 1.27882  1.87417  1.03209"
            ]
          },
          "metadata": {
            "tags": []
          },
          "execution_count": 11
        }
      ]
    },
    {
      "cell_type": "markdown",
      "metadata": {
        "id": "gy8gZ8pp3Z0n",
        "colab_type": "text"
      },
      "source": [
        "If you want to use some Julia variable in a py-string, for example `exp_a`, you can do so by writing `$exp_a` like this:"
      ]
    },
    {
      "cell_type": "code",
      "metadata": {
        "id": "dxQ25HpJ3oPA",
        "colab_type": "code",
        "colab": {
          "base_uri": "https://localhost:8080/",
          "height": 68
        },
        "outputId": "57b14876-db15-4d3e-ee6f-1c65d283ebb4"
      },
      "source": [
        "py\"\"\"\n",
        "import numpy as np\n",
        "\n",
        "result = np.log($exp_a)\n",
        "\"\"\"\n",
        "\n",
        "py\"result\""
      ],
      "execution_count": null,
      "outputs": [
        {
          "output_type": "execute_result",
          "data": {
            "text/plain": [
              "2×3 Array{Float64,2}:\n",
              " 0.20538   0.553661  0.148557\n",
              " 0.245936  0.628167  0.0315877"
            ]
          },
          "metadata": {
            "tags": []
          },
          "execution_count": 12
        }
      ]
    },
    {
      "cell_type": "markdown",
      "metadata": {
        "id": "jtxk8kebxFdM",
        "colab_type": "text"
      },
      "source": [
        "If you want to keep using Matplotlib, it's best to use the `PyPlot` module (which we installed earlier), rather than trying to use `pyimport(\"matplotlib\")`, as `PyPlot` provides a more straightforward interface with Julia, and it plays nicely with Jupyter and Colab:"
      ]
    },
    {
      "cell_type": "code",
      "metadata": {
        "id": "gyHkEL7ExPg2",
        "colab_type": "code",
        "colab": {
          "base_uri": "https://localhost:8080/",
          "height": 452
        },
        "outputId": "51b1edb3-5dd9-404c-df60-59bf3be46171"
      },
      "source": [
        "using PyPlot\n",
        "\n",
        "x = range(-5π, 5π, length=100)\n",
        "plt.plot(x, sin.(x) ./ x) # we'll discuss this syntax in the next section\n",
        "plt.title(\"sin(x) / x\")\n",
        "plt.grid(\"True\")\n",
        "plt.show()"
      ],
      "execution_count": null,
      "outputs": [
        {
          "output_type": "display_data",
          "data": {
            "image/png": "[encoded data removed]",
            "text/plain": [
              "Figure(PyObject <Figure size 640x480 with 1 Axes>)"
            ]
          },
          "metadata": {
            "tags": []
          }
        }
      ]
    },
    {
      "cell_type": "markdown",
      "metadata": {
        "id": "b42BIiqN6JM_",
        "colab_type": "text"
      },
      "source": [
        "That said, Julia has its own plotting libraries, such as the `Plots` library, which you may want to check out."
      ]
    },
    {
      "cell_type": "markdown",
      "metadata": {
        "id": "FGStdgNK9IG1",
        "colab_type": "text"
      },
      "source": [
        "As you can see, Julia's `range()` function acts much like NumPy's `linspace()` function, when you use the `length` argument. However, it acts like Python's `range()` function when you use the `step` argument instead (except the upper bound is inclusive). Julia's `range()` function returns an object which behaves just like an array, except it doesn't actually use any RAM for its elements, it just stores the range parameters. If you want to collect all of the elements into an array, use the `collect()` function (similar to Python's `list()` function):"
      ]
    },
    {
      "cell_type": "code",
      "metadata": {
        "id": "h728H-f9-rC_",
        "colab_type": "code",
        "colab": {
          "base_uri": "https://localhost:8080/",
          "height": 85
        },
        "outputId": "e3bc46c1-a8bc-4cd8-f085-62fd5148efe1"
      },
      "source": [
        "println(collect(range(10, 80, step=20)))\n",
        "println(collect(10:20:80)) # 10:20:80 is equivalent to the previous range\n",
        "println(collect(range(10, 80, length=5))) # similar to NumPy's linspace()\n",
        "step = (80-10)/(5-1) # 17.5\n",
        "println(collect(10:step:80)) # equivalent to the previous range"
      ],
      "execution_count": null,
      "outputs": [
        {
          "output_type": "stream",
          "text": [
            "[10, 30, 50, 70]\n",
            "[10, 30, 50, 70]\n",
            "[10.0, 27.5, 45.0, 62.5, 80.0]\n",
            "[10.0, 27.5, 45.0, 62.5, 80.0]\n"
          ],
          "name": "stdout"
        }
      ]
    },
    {
      "cell_type": "markdown",
      "metadata": {
        "id": "gAU4t9zl72PW",
        "colab_type": "text"
      },
      "source": [
        "The equivalent Python code is:\n",
        "\n",
        "```python\n",
        "# PYTHON\n",
        "print(list(range(10, 80+1, 20)))\n",
        "# there's no short-hand for range() in Python\n",
        "print(np.linspace(10, 80, 5))\n",
        "step = (80-10)/(5-1) # 17.5\n",
        "print([i*step + 10 for i in range(5)])\n",
        "```"
      ]
    },
    {
      "cell_type": "markdown",
      "metadata": {
        "id": "ucA1zMkw-n_U",
        "colab_type": "text"
      },
      "source": [
        "|Julia|Python\n",
        "|-----|------\n",
        "|`np = pyimport(\"numpy\")` | `import numpy as np`\n",
        "|`using PyPlot` | `from pylab import *`\n",
        "|`1:10` | `range(1, 11)`\n",
        "|`1:2:10`<br />or<br />`range(1, 11, 2)` | `range(1, 11, 2)`\n",
        "|`1.2:0.5:10.3`<br />or<br />`range(1.2, 10.3, step=0.5)` | `np.arange(1.2, 10.3, 0.5)`\n",
        "|`range(1, 10, length=3)` | `np.linspace(1, 10, 3)`\n",
        "|`collect(1:5)`<br />or<br />`[i for i in 1:5]` | `list(range(1, 6))`<br />or<br />`[i for i in range(1, 6)]`\n",
        "\n"
      ]
    },
    {
      "cell_type": "markdown",
      "metadata": {
        "id": "1iiE76xA8pwr",
        "colab_type": "text"
      },
      "source": [
        "## Loop Fusion\n",
        "Did you notice that we wrote `sin.(x) ./ x` (not `sin(x) / x`)? This is equivalent to `[sin(i) / i for i in x]`."
      ]
    },
    {
      "cell_type": "code",
      "metadata": {
        "id": "kjXg63Hmd2ux",
        "colab_type": "code",
        "colab": {}
      },
      "source": [
        "a = sin.(x) ./ x\n",
        "b = [sin(i) / i for i in x]\n",
        "@assert a == b"
      ],
      "execution_count": null,
      "outputs": []
    },
    {
      "cell_type": "markdown",
      "metadata": {
        "id": "wX26wG02d1KI",
        "colab_type": "text"
      },
      "source": [
        " This is not just syntactic sugar: it's actually a very powerful Julia feature. Indeed, notice that the array only gets traversed once. Even if we chained more than two dotted operations, the array would still only get traversed once. This is called _loop fusion_.\n",
        "\n",
        "In contrast, when using NumPy arrays, `sin(x) / x` first computes a temporary array containing `sin(x)` and then it computes the final array. Two loops and two arrays instead of one. NumPy is implemented in C, and has been heavily optimized, but if you chain many operations, it still ends up being slower and using more RAM than Julia.\n",
        "\n",
        "However, all the extra dots can sometimes make the code a bit harder to read. To avoid that, you can write `@.` before an expression: every operation will be \"dotted\" automatically, like this:"
      ]
    },
    {
      "cell_type": "code",
      "metadata": {
        "id": "raOw65bd-Qeg",
        "colab_type": "code",
        "colab": {}
      },
      "source": [
        "a = @. sin(x) / x\n",
        "b = sin.(x) ./ x\n",
        "@assert a == b"
      ],
      "execution_count": null,
      "outputs": []
    },
    {
      "cell_type": "markdown",
      "metadata": {
        "id": "6ys5cFYaogb2",
        "colab_type": "text"
      },
      "source": [
        "**Note**: Julia's `@assert` statement starts with an `@` sign, just like `@.`, which means that they are macros. In Julia, macros are very powerful metaprogramming tools: a macro is evaluated at parse time, and it can inspect the expression that follows it and then transform it, or even replace it. In practice, you will often _use_ macros, but you will rarely _define_ your own. I'll come back to macros later."
      ]
    },
    {
      "cell_type": "markdown",
      "metadata": {
        "id": "MQ1U3aAwk5iD",
        "colab_type": "text"
      },
      "source": [
        "## Julia is fast!\n",
        "Let's compare the Julia and Python implementations of the `estimate_pi()` function:"
      ]
    },
    {
      "cell_type": "code",
      "metadata": {
        "id": "pXQbFKYgk9gG",
        "colab_type": "code",
        "colab": {
          "base_uri": "https://localhost:8080/",
          "height": 34
        },
        "outputId": "f1e98849-b0d4-40cb-8c2c-3af7e5d44fed"
      },
      "source": [
        "@time estimate_pi(100_000_000);"
      ],
      "execution_count": null,
      "outputs": [
        {
          "output_type": "stream",
          "text": [
            "  0.156645 seconds\n"
          ],
          "name": "stdout"
        }
      ]
    },
    {
      "cell_type": "markdown",
      "metadata": {
        "id": "2B7Vu5lepqOW",
        "colab_type": "text"
      },
      "source": [
        "To get a more precise benchmark, it's preferable to use the `BenchmarkTools` module. Just like Python's `timeit` module, it provides tools to benchmark code by running it multiple times. This provides a better estimate of how long each call takes:"
      ]
    },
    {
      "cell_type": "code",
      "metadata": {
        "id": "xK4b8X_cppNQ",
        "colab_type": "code",
        "colab": {
          "base_uri": "https://localhost:8080/",
          "height": 204
        },
        "outputId": "75942489-152b-4b14-a324-8f4df8abde5c"
      },
      "source": [
        "using BenchmarkTools\n",
        "\n",
        "@benchmark estimate_pi(100_000_000)"
      ],
      "execution_count": null,
      "outputs": [
        {
          "output_type": "execute_result",
          "data": {
            "text/plain": [
              "BenchmarkTools.Trial: \n",
              "  memory estimate:  0 bytes\n",
              "  allocs estimate:  0\n",
              "  --------------\n",
              "  minimum time:     156.199 ms (0.00% GC)\n",
              "  median time:      157.386 ms (0.00% GC)\n",
              "  mean time:        157.910 ms (0.00% GC)\n",
              "  maximum time:     162.475 ms (0.00% GC)\n",
              "  --------------\n",
              "  samples:          32\n",
              "  evals/sample:     1"
            ]
          },
          "metadata": {
            "tags": []
          },
          "execution_count": 18
        }
      ]
    },
    {
      "cell_type": "markdown",
      "metadata": {
        "id": "xHsab0EkqObG",
        "colab_type": "text"
      },
      "source": [
        "If this output is too verbose for you, simply use `@btime` instead:"
      ]
    },
    {
      "cell_type": "code",
      "metadata": {
        "id": "FqbViO67qN6E",
        "colab_type": "code",
        "colab": {
          "base_uri": "https://localhost:8080/",
          "height": 51
        },
        "outputId": "c401070d-30a4-454d-a753-ab74db42a195"
      },
      "source": [
        "@btime estimate_pi(100_000_000)"
      ],
      "execution_count": null,
      "outputs": [
        {
          "output_type": "stream",
          "text": [
            "  156.184 ms (0 allocations: 0 bytes)\n"
          ],
          "name": "stdout"
        },
        {
          "output_type": "execute_result",
          "data": {
            "text/plain": [
              "3.141592663589326"
            ]
          },
          "metadata": {
            "tags": []
          },
          "execution_count": 19
        }
      ]
    },
    {
      "cell_type": "markdown",
      "metadata": {
        "id": "JOEUCAn6qghC",
        "colab_type": "text"
      },
      "source": [
        "Now let's time the Python version. Since the call is so slow, we just run it once (it will take about 15 seconds):"
      ]
    },
    {
      "cell_type": "code",
      "metadata": {
        "id": "6dk8QgRL0mzd",
        "colab_type": "code",
        "colab": {
          "base_uri": "https://localhost:8080/",
          "height": 34
        },
        "outputId": "672b282a-7ffa-4137-f5a2-580310da4772"
      },
      "source": [
        "py\"\"\"\n",
        "from timeit import timeit\n",
        "\n",
        "duration = timeit(\"estimate_pi(100_000_000)\", number=1, globals=globals())\n",
        "\"\"\"\n",
        "\n",
        "py\"duration\""
      ],
      "execution_count": null,
      "outputs": [
        {
          "output_type": "execute_result",
          "data": {
            "text/plain": [
              "16.573023504000048"
            ]
          },
          "metadata": {
            "tags": []
          },
          "execution_count": 20
        }
      ]
    },
    {
      "cell_type": "markdown",
      "metadata": {
        "id": "Jqtx4_erlxky",
        "colab_type": "text"
      },
      "source": [
        "It looks like Julia is close to 100 times faster than Python in this case! To be fair, `PyCall` does add some overhead, but even if you run this code in a separate Python shell, you will see that Julia crushes (pure) Python when it comes to speed."
      ]
    },
    {
      "cell_type": "markdown",
      "metadata": {
        "id": "hiVDodlPmzoP",
        "colab_type": "text"
      },
      "source": [
        "So why is Julia so much faster than Python? Well, **Julia compiles the code on the fly as it runs it**."
      ]
    },
    {
      "cell_type": "markdown",
      "metadata": {
        "id": "w-HSoqJ8ts7P",
        "colab_type": "text"
      },
      "source": [
        "Okay, let's summarize what we learned so far: Julia is a dynamic language that looks and feels a lot like Python, you can even execute Python code super easily, and pure Julia code runs much faster than pure Python code, because it is compiled on the fly. I hope this convinces you to read on!\n",
        "\n",
        "Next, let's continue to see how Python's main constructs can be implemented in Julia."
      ]
    },
    {
      "cell_type": "markdown",
      "metadata": {
        "id": "n1exnPNvtsvh",
        "colab_type": "text"
      },
      "source": [
        "# Numbers"
      ]
    },
    {
      "cell_type": "code",
      "metadata": {
        "id": "NKscy9dmtsk8",
        "colab_type": "code",
        "colab": {
          "base_uri": "https://localhost:8080/",
          "height": 34
        },
        "outputId": "81fb36aa-845d-4e9d-9c7d-9282abea7aae"
      },
      "source": [
        "i = 42 # 64-bit integer\n",
        "f = 3.14 # 64-bit float\n",
        "c = 3.4 + 4.5im # 128-bit complex number\n",
        "\n",
        "bi = BigInt(2)^1000 # arbitrarily long integer\n",
        "bf = BigFloat(1) / 7 # arbitrary precision\n",
        "\n",
        "r = 15//6 * 9//20 # rational number"
      ],
      "execution_count": null,
      "outputs": [
        {
          "output_type": "execute_result",
          "data": {
            "text/plain": [
              "9//8"
            ]
          },
          "metadata": {
            "tags": []
          },
          "execution_count": 21
        }
      ]
    },
    {
      "cell_type": "markdown",
      "metadata": {
        "id": "PzLbmPApyPLc",
        "colab_type": "text"
      },
      "source": [
        "And the equivalent Python code:\n",
        "\n",
        "```python\n",
        "# PYTHON\n",
        "i = 42\n",
        "f = 3.14\n",
        "c = 3.4 + 4.5j\n",
        "\n",
        "bi = 2**1000 # integers are seemlessly promoted to long integers\n",
        "from decimal import Decimal\n",
        "bf = Decimal(1) / 7\n",
        "\n",
        "from fractions import Fraction\n",
        "r = Fraction(15, 6) * Fraction(9, 20)\n",
        "```"
      ]
    },
    {
      "cell_type": "markdown",
      "metadata": {
        "id": "obkfXw_LAZ2B",
        "colab_type": "text"
      },
      "source": [
        "Dividing integers gives floats, like in Python:"
      ]
    },
    {
      "cell_type": "code",
      "metadata": {
        "id": "MQ_YTxNgAiLA",
        "colab_type": "code",
        "colab": {
          "base_uri": "https://localhost:8080/",
          "height": 34
        },
        "outputId": "8e552164-0054-4a7a-9906-9772dd0137c2"
      },
      "source": [
        "5 / 2"
      ],
      "execution_count": null,
      "outputs": [
        {
          "output_type": "execute_result",
          "data": {
            "text/plain": [
              "2.5"
            ]
          },
          "metadata": {
            "tags": []
          },
          "execution_count": 22
        }
      ]
    },
    {
      "cell_type": "markdown",
      "metadata": {
        "id": "lqAUqZqNAkhb",
        "colab_type": "text"
      },
      "source": [
        "For integer division, use `÷` or `div()`:"
      ]
    },
    {
      "cell_type": "code",
      "metadata": {
        "id": "xPkuXvQHArxo",
        "colab_type": "code",
        "colab": {
          "base_uri": "https://localhost:8080/",
          "height": 34
        },
        "outputId": "425e88f6-ab02-47a3-c168-9e52c8e85c16"
      },
      "source": [
        "5 ÷ 2"
      ],
      "execution_count": null,
      "outputs": [
        {
          "output_type": "execute_result",
          "data": {
            "text/plain": [
              "2"
            ]
          },
          "metadata": {
            "tags": []
          },
          "execution_count": 23
        }
      ]
    },
    {
      "cell_type": "code",
      "metadata": {
        "id": "Bg26ib-cAtoF",
        "colab_type": "code",
        "colab": {
          "base_uri": "https://localhost:8080/",
          "height": 34
        },
        "outputId": "33931901-5fcc-4a3f-c4d3-a6900bca0102"
      },
      "source": [
        "div(5, 2)"
      ],
      "execution_count": null,
      "outputs": [
        {
          "output_type": "execute_result",
          "data": {
            "text/plain": [
              "2"
            ]
          },
          "metadata": {
            "tags": []
          },
          "execution_count": 24
        }
      ]
    },
    {
      "cell_type": "markdown",
      "metadata": {
        "id": "GwsmLJ4kAvLQ",
        "colab_type": "text"
      },
      "source": [
        "The `%` operator is the remainder, not the modulo like in Python. These differ only for negative numbers:"
      ]
    },
    {
      "cell_type": "code",
      "metadata": {
        "id": "BqYAfPWBA5UZ",
        "colab_type": "code",
        "colab": {
          "base_uri": "https://localhost:8080/",
          "height": 34
        },
        "outputId": "e20fa54d-40f2-48f5-c214-582018db4b73"
      },
      "source": [
        "57 % 10"
      ],
      "execution_count": null,
      "outputs": [
        {
          "output_type": "execute_result",
          "data": {
            "text/plain": [
              "7"
            ]
          },
          "metadata": {
            "tags": []
          },
          "execution_count": 25
        }
      ]
    },
    {
      "cell_type": "code",
      "metadata": {
        "id": "i_0nKGW0A8TZ",
        "colab_type": "code",
        "colab": {
          "base_uri": "https://localhost:8080/",
          "height": 34
        },
        "outputId": "38c796c7-9e43-484b-f9cf-2aa588ffef7d"
      },
      "source": [
        "(-57) % 10"
      ],
      "execution_count": null,
      "outputs": [
        {
          "output_type": "execute_result",
          "data": {
            "text/plain": [
              "-7"
            ]
          },
          "metadata": {
            "tags": []
          },
          "execution_count": 26
        }
      ]
    },
    {
      "cell_type": "markdown",
      "metadata": {
        "id": "5euGtSBl95e_",
        "colab_type": "text"
      },
      "source": [
        "|Julia|Python\n",
        "|-----|------\n",
        "|`3.4 + 4.5im` | `3.4 + 4.5j`\n",
        "|`BigInt(2)^1000` | `2**1000`\n",
        "|`BigFloat(3.14)` | `from decimal import Decimal`<br />`Decimal(3.14)`\n",
        "|`9//8` | `from fractions import Fraction`<br />`Fraction(9, 8)`\n",
        "|`5/2 == 2.5` | `5/2 == 2.5`\n",
        "|`5÷2 == 2`<br />or<br />`div(5, 2)` | `5//2 == 2`\n",
        "|`57%10 == 7` | `57%10 == 7`\n",
        "|`(-57)%10 == -7` | `(-57)%10 == 3`\n"
      ]
    },
    {
      "cell_type": "markdown",
      "metadata": {
        "id": "koGxWy1D1nd2",
        "colab_type": "text"
      },
      "source": [
        "# Strings\n",
        "Julia strings use double quotes `\"` or triple quotes `\"\"\"`, but not single quotes `'`:"
      ]
    },
    {
      "cell_type": "code",
      "metadata": {
        "id": "cAJ5W9PstsbQ",
        "colab_type": "code",
        "colab": {
          "base_uri": "https://localhost:8080/",
          "height": 34
        },
        "outputId": "1fd1fedf-25c9-46d6-b9ac-9101ece04a62"
      },
      "source": [
        "s = \"ångström\" # Julia strings are UTF-8 encoded by default\n",
        "println(s)"
      ],
      "execution_count": null,
      "outputs": [
        {
          "output_type": "stream",
          "text": [
            "ångström\n"
          ],
          "name": "stdout"
        }
      ]
    },
    {
      "cell_type": "code",
      "metadata": {
        "id": "_7bPa-W7c3dZ",
        "colab_type": "code",
        "colab": {
          "base_uri": "https://localhost:8080/",
          "height": 136
        },
        "outputId": "2be11cfe-b578-44cf-d9dc-5580932ebfec"
      },
      "source": [
        "s = \"Julia strings\n",
        "     can span\n",
        "     several lines\\n\\n\n",
        "     and they support the \\\"usual\\\" escapes like\n",
        "     \\x41, \\u5bb6, and \\U0001f60a!\"\n",
        "println(s)"
      ],
      "execution_count": null,
      "outputs": [
        {
          "output_type": "stream",
          "text": [
            "Julia strings\n",
            "     can span\n",
            "     several lines\n",
            "\n",
            "\n",
            "     and they support the \"usual\" escapes like\n",
            "     A, 家, and 😊!\n"
          ],
          "name": "stdout"
        }
      ]
    },
    {
      "cell_type": "markdown",
      "metadata": {
        "id": "Sr6f6JBzfsc_",
        "colab_type": "text"
      },
      "source": [
        "Use `repeat()` instead of `*` to repeat a string, and use `*` instead of `+` for concatenation:"
      ]
    },
    {
      "cell_type": "code",
      "metadata": {
        "id": "R52WXKlMc5h9",
        "colab_type": "code",
        "colab": {
          "base_uri": "https://localhost:8080/",
          "height": 34
        },
        "outputId": "d9fb367f-fb43-455d-9d45-ac6f787e36dc"
      },
      "source": [
        "s = repeat(\"tick, \", 10) * \"BOOM!\"\n",
        "println(s)"
      ],
      "execution_count": null,
      "outputs": [
        {
          "output_type": "stream",
          "text": [
            "tick, tick, tick, tick, tick, tick, tick, tick, tick, tick, BOOM!\n"
          ],
          "name": "stdout"
        }
      ]
    },
    {
      "cell_type": "markdown",
      "metadata": {
        "id": "1QvDoWolgC1v",
        "colab_type": "text"
      },
      "source": [
        "The equivalent Python code is:\n",
        "\n",
        "```python\n",
        "# PYTHON\n",
        "s = \"tick, \" * 10 + \"BOOM!\"\n",
        "print(s)\n",
        "```"
      ]
    },
    {
      "cell_type": "markdown",
      "metadata": {
        "id": "UULsUFcTgPXN",
        "colab_type": "text"
      },
      "source": [
        "Use `join(a, s)` instead of `s.join(a)`:"
      ]
    },
    {
      "cell_type": "code",
      "metadata": {
        "id": "pMZNYWTxd3N2",
        "colab_type": "code",
        "colab": {
          "base_uri": "https://localhost:8080/",
          "height": 34
        },
        "outputId": "f0663f6f-5de1-4588-b577-df3bfc1425ce"
      },
      "source": [
        "s = join([i for i in 1:4], \", \")\n",
        "println(s)"
      ],
      "execution_count": null,
      "outputs": [
        {
          "output_type": "stream",
          "text": [
            "1, 2, 3, 4\n"
          ],
          "name": "stdout"
        }
      ]
    },
    {
      "cell_type": "markdown",
      "metadata": {
        "id": "ejbvMUySgaTn",
        "colab_type": "text"
      },
      "source": [
        "You can also specify a string for the last join:"
      ]
    },
    {
      "cell_type": "code",
      "metadata": {
        "id": "wRx3SN5fdWFf",
        "colab_type": "code",
        "colab": {
          "base_uri": "https://localhost:8080/",
          "height": 34
        },
        "outputId": "1464ba2a-3041-414e-c0e4-8f323290e85c"
      },
      "source": [
        "s = join([i for i in 1:4], \", \", \" and \")"
      ],
      "execution_count": null,
      "outputs": [
        {
          "output_type": "execute_result",
          "data": {
            "text/plain": [
              "\"1, 2, 3 and 4\""
            ]
          },
          "metadata": {
            "tags": []
          },
          "execution_count": 31
        }
      ]
    },
    {
      "cell_type": "markdown",
      "metadata": {
        "id": "GJAbtqLg6T5s",
        "colab_type": "text"
      },
      "source": [
        "`split()` works as you might expect:"
      ]
    },
    {
      "cell_type": "code",
      "metadata": {
        "id": "Kqkgq7IA6FWl",
        "colab_type": "code",
        "colab": {
          "base_uri": "https://localhost:8080/",
          "height": 85
        },
        "outputId": "b9352d18-bb10-45f3-a466-8dd64ccca950"
      },
      "source": [
        "split(\"   one    three     four   \")"
      ],
      "execution_count": null,
      "outputs": [
        {
          "output_type": "execute_result",
          "data": {
            "text/plain": [
              "3-element Array{SubString{String},1}:\n",
              " \"one\"\n",
              " \"three\"\n",
              " \"four\""
            ]
          },
          "metadata": {
            "tags": []
          },
          "execution_count": 32
        }
      ]
    },
    {
      "cell_type": "code",
      "metadata": {
        "id": "3cy_kYpZ6A7U",
        "colab_type": "code",
        "colab": {
          "base_uri": "https://localhost:8080/",
          "height": 102
        },
        "outputId": "de934364-ac32-45b8-d663-816b215b456e"
      },
      "source": [
        "split(\"one,,three,four!\", \",\")"
      ],
      "execution_count": null,
      "outputs": [
        {
          "output_type": "execute_result",
          "data": {
            "text/plain": [
              "4-element Array{SubString{String},1}:\n",
              " \"one\"\n",
              " \"\"\n",
              " \"three\"\n",
              " \"four!\""
            ]
          },
          "metadata": {
            "tags": []
          },
          "execution_count": 33
        }
      ]
    },
    {
      "cell_type": "code",
      "metadata": {
        "id": "gdI7lnQ6n7RD",
        "colab_type": "code",
        "colab": {
          "base_uri": "https://localhost:8080/",
          "height": 34
        },
        "outputId": "a57853b1-d727-4387-b279-347c87f512e6"
      },
      "source": [
        "occursin(\"sip\", \"Mississippi\")"
      ],
      "execution_count": null,
      "outputs": [
        {
          "output_type": "execute_result",
          "data": {
            "text/plain": [
              "true"
            ]
          },
          "metadata": {
            "tags": []
          },
          "execution_count": 34
        }
      ]
    },
    {
      "cell_type": "code",
      "metadata": {
        "id": "gnLjg6UpvKrL",
        "colab_type": "code",
        "colab": {
          "base_uri": "https://localhost:8080/",
          "height": 34
        },
        "outputId": "63599884-04ca-4476-e09d-05fa9e4d7142"
      },
      "source": [
        "replace(\"I like coffee\", \"coffee\" => \"tea\")"
      ],
      "execution_count": null,
      "outputs": [
        {
          "output_type": "execute_result",
          "data": {
            "text/plain": [
              "\"I like tea\""
            ]
          },
          "metadata": {
            "tags": []
          },
          "execution_count": 35
        }
      ]
    },
    {
      "cell_type": "markdown",
      "metadata": {
        "id": "_dMkcaL4gm_n",
        "colab_type": "text"
      },
      "source": [
        "Triple quotes work a bit like in Python, but they also remove indentation and ignore the first line feed:"
      ]
    },
    {
      "cell_type": "code",
      "metadata": {
        "id": "7Qc3Nn81ed3j",
        "colab_type": "code",
        "colab": {
          "base_uri": "https://localhost:8080/",
          "height": 170
        },
        "outputId": "fe44b84c-40ce-453f-d812-102ccbae16ce"
      },
      "source": [
        "s = \"\"\"\n",
        "       1. the first line feed is ignored if it immediately follows \\\"\"\"\n",
        "       2. triple quotes let you use \"quotes\" easily\n",
        "       3. indentation is ignored\n",
        "           - up to left-most character\n",
        "           - ignoring the first line (the one with \\\"\"\")\n",
        "       4. the final line feed it n̲o̲t̲ ignored\n",
        "       \"\"\"\n",
        "println(\"<start>\")\n",
        "println(s)\n",
        "println(\"<end>\")"
      ],
      "execution_count": null,
      "outputs": [
        {
          "output_type": "stream",
          "text": [
            "<start>\n",
            "1. the first line feed is ignored if it immediately follows \"\"\"\n",
            "2. triple quotes let you use \"quotes\" easily\n",
            "3. indentation is ignored\n",
            "    - up to left-most character\n",
            "    - ignoring the first line (the one with \"\"\")\n",
            "4. the final line feed it n̲o̲t̲ ignored\n",
            "\n",
            "<end>\n"
          ],
          "name": "stdout"
        }
      ]
    },
    {
      "cell_type": "markdown",
      "metadata": {
        "id": "T0cx6rWpjIzc",
        "colab_type": "text"
      },
      "source": [
        "## String Interpolation\n",
        "String interpolation uses `$variable` and `$(expression)`:"
      ]
    },
    {
      "cell_type": "code",
      "metadata": {
        "id": "-Nl2AlRvg2c_",
        "colab_type": "code",
        "colab": {
          "base_uri": "https://localhost:8080/",
          "height": 34
        },
        "outputId": "2dd7fe36-a171-4b3e-98c1-7cbe21369b68"
      },
      "source": [
        "total = 1 + 2 + 3\n",
        "s = \"1 + 2 + 3 = $total = $(1 + 2 + 3)\"\n",
        "println(s)"
      ],
      "execution_count": null,
      "outputs": [
        {
          "output_type": "stream",
          "text": [
            "1 + 2 + 3 = 6 = 6\n"
          ],
          "name": "stdout"
        }
      ]
    },
    {
      "cell_type": "markdown",
      "metadata": {
        "id": "NToitF2YjRP1",
        "colab_type": "text"
      },
      "source": [
        "This means you must escape the `$` sign:"
      ]
    },
    {
      "cell_type": "code",
      "metadata": {
        "id": "AUeXBJIdjUmB",
        "colab_type": "code",
        "colab": {
          "base_uri": "https://localhost:8080/",
          "height": 34
        },
        "outputId": "c05c0944-8ec1-4850-bebd-7c8b8b3c7aa9"
      },
      "source": [
        "s = \"The car costs \\$10,000\"\n",
        "println(s)"
      ],
      "execution_count": null,
      "outputs": [
        {
          "output_type": "stream",
          "text": [
            "The car costs $10,000\n"
          ],
          "name": "stdout"
        }
      ]
    },
    {
      "cell_type": "markdown",
      "metadata": {
        "id": "fk8BuKKtjhmo",
        "colab_type": "text"
      },
      "source": [
        "## Raw Strings\n",
        "Raw strings use `raw\"...\"` instead of `r\"...\"`:"
      ]
    },
    {
      "cell_type": "code",
      "metadata": {
        "id": "KQ9U5Ivai86F",
        "colab_type": "code",
        "colab": {
          "base_uri": "https://localhost:8080/",
          "height": 68
        },
        "outputId": "9ba259ac-b6e0-4b3d-fb67-f22719bc378b"
      },
      "source": [
        "s = raw\"In a raw string, you only need to escape quotes \\\", but not\n",
        "        $ or \\. There is one exception, however: the backslash \\\n",
        "        must be escaped if it's just before quotes like \\\\\\\".\"\n",
        "println(s)"
      ],
      "execution_count": null,
      "outputs": [
        {
          "output_type": "stream",
          "text": [
            "In a raw string, you only need to escape quotes \", but not\n",
            "        $ or \\. There is one exception, however: the backslash \\\n",
            "        must be escaped if it's just before quotes like \\\".\n"
          ],
          "name": "stdout"
        }
      ]
    },
    {
      "cell_type": "code",
      "metadata": {
        "id": "0cqdV9lJkclw",
        "colab_type": "code",
        "colab": {
          "base_uri": "https://localhost:8080/",
          "height": 119
        },
        "outputId": "53396836-f171-4d1c-b332-68a812e93c6c"
      },
      "source": [
        "s = raw\"\"\"\n",
        "   Triple quoted raw strings are possible too: $, \\, \\t, \"\n",
        "     - They handle indentation and the first line feed like regular\n",
        "       triple quoted strings.\n",
        "     - You only need to escape triple quotes like \\\"\"\", and the\n",
        "       backslash before quotes like \\\\\\\".\n",
        "   \"\"\"\n",
        "println(s)"
      ],
      "execution_count": null,
      "outputs": [
        {
          "output_type": "stream",
          "text": [
            "Triple quoted raw strings are possible too: $, \\, \\t, \"\n",
            "  - They handle indentation and the first line feed like regular\n",
            "    triple quoted strings.\n",
            "  - You only need to escape triple quotes like \"\"\", and the\n",
            "    backslash before quotes like \\\".\n",
            "\n"
          ],
          "name": "stdout"
        }
      ]
    },
    {
      "cell_type": "markdown",
      "metadata": {
        "id": "U5eOtwDalgw-",
        "colab_type": "text"
      },
      "source": [
        "## Characters\n",
        "Single quotes are used for individual Unicode characters:"
      ]
    },
    {
      "cell_type": "code",
      "metadata": {
        "id": "PnNfVRZx2CsU",
        "colab_type": "code",
        "colab": {
          "base_uri": "https://localhost:8080/",
          "height": 34
        },
        "outputId": "ee30c252-1f8d-4e9d-eae8-9814622f8314"
      },
      "source": [
        "a = 'å' # Unicode code point (single quotes)"
      ],
      "execution_count": null,
      "outputs": [
        {
          "output_type": "execute_result",
          "data": {
            "text/plain": [
              "'å': Unicode U+00E5 (category Ll: Letter, lowercase)"
            ]
          },
          "metadata": {
            "tags": []
          },
          "execution_count": 41
        }
      ]
    },
    {
      "cell_type": "markdown",
      "metadata": {
        "id": "WA5RXfz4mBcE",
        "colab_type": "text"
      },
      "source": [
        "To be more precise:\n",
        "* A Julia \"character\" represents a single Unicode code point (sometimes called a Unicode scalar).\n",
        "* Multiple code points may be required to produce a single _grapheme_, i.e., something that readers would recognize as a single character. Such a sequence of code points is called a \"Grapheme cluster\".\n",
        "\n",
        "For example, the character `é` can be represented either using the single code point `\\u00E9`, or the grapheme cluster `e` + `\\u0301`:"
      ]
    },
    {
      "cell_type": "code",
      "metadata": {
        "id": "liN9OQVClokc",
        "colab_type": "code",
        "colab": {
          "base_uri": "https://localhost:8080/",
          "height": 34
        },
        "outputId": "6dce9985-d25b-4901-f80e-58e95b6951e7"
      },
      "source": [
        "s = \"café\"\n",
        "println(s, \" has \", length(s), \" code points\")"
      ],
      "execution_count": null,
      "outputs": [
        {
          "output_type": "stream",
          "text": [
            "café has 4 code points\n"
          ],
          "name": "stdout"
        }
      ]
    },
    {
      "cell_type": "code",
      "metadata": {
        "id": "CTtCiqN1oCJa",
        "colab_type": "code",
        "colab": {
          "base_uri": "https://localhost:8080/",
          "height": 34
        },
        "outputId": "857fbb39-72a9-4369-eb15-a53de6c0801c"
      },
      "source": [
        "s = \"cafe\\u0301\"\n",
        "println(s, \" has \", length(s), \" code points\")"
      ],
      "execution_count": null,
      "outputs": [
        {
          "output_type": "stream",
          "text": [
            "café has 5 code points\n"
          ],
          "name": "stdout"
        }
      ]
    },
    {
      "cell_type": "code",
      "metadata": {
        "id": "MIBI7ULN2CYI",
        "colab_type": "code",
        "colab": {
          "base_uri": "https://localhost:8080/",
          "height": 102
        },
        "outputId": "997e8511-a2f8-4dcf-bb6e-e08da8b80544"
      },
      "source": [
        "for c in \"cafe\\u0301\"\n",
        "    display(c)\n",
        "end"
      ],
      "execution_count": null,
      "outputs": [
        {
          "output_type": "display_data",
          "data": {
            "text/plain": [
              "'c': ASCII/Unicode U+0063 (category Ll: Letter, lowercase)"
            ]
          },
          "metadata": {
            "tags": []
          }
        },
        {
          "output_type": "display_data",
          "data": {
            "text/plain": [
              "'a': ASCII/Unicode U+0061 (category Ll: Letter, lowercase)"
            ]
          },
          "metadata": {
            "tags": []
          }
        },
        {
          "output_type": "display_data",
          "data": {
            "text/plain": [
              "'f': ASCII/Unicode U+0066 (category Ll: Letter, lowercase)"
            ]
          },
          "metadata": {
            "tags": []
          }
        },
        {
          "output_type": "display_data",
          "data": {
            "text/plain": [
              "'e': ASCII/Unicode U+0065 (category Ll: Letter, lowercase)"
            ]
          },
          "metadata": {
            "tags": []
          }
        },
        {
          "output_type": "display_data",
          "data": {
            "text/plain": [
              "'́': Unicode U+0301 (category Mn: Mark, nonspacing)"
            ]
          },
          "metadata": {
            "tags": []
          }
        }
      ]
    },
    {
      "cell_type": "markdown",
      "metadata": {
        "id": "Oz-6luAbobDe",
        "colab_type": "text"
      },
      "source": [
        "Julia represents any individual character like `'é'` using 32-bits (4 bytes):"
      ]
    },
    {
      "cell_type": "code",
      "metadata": {
        "id": "Iu1otE7omZIy",
        "colab_type": "code",
        "colab": {
          "base_uri": "https://localhost:8080/",
          "height": 34
        },
        "outputId": "c9c477fa-46a7-4176-f642-3463bf0608ca"
      },
      "source": [
        "sizeof('é')"
      ],
      "execution_count": null,
      "outputs": [
        {
          "output_type": "execute_result",
          "data": {
            "text/plain": [
              "4"
            ]
          },
          "metadata": {
            "tags": []
          },
          "execution_count": 45
        }
      ]
    },
    {
      "cell_type": "markdown",
      "metadata": {
        "id": "81XkzaaNmW_4",
        "colab_type": "text"
      },
      "source": [
        "But strings are represented using the UTF-8 encoding. In this encoding, code points 0 to 127 are represented using one byte, but any code point above 127 is represented using 2 to 6 bytes:"
      ]
    },
    {
      "cell_type": "code",
      "metadata": {
        "id": "ZgLS0PdImraY",
        "colab_type": "code",
        "colab": {
          "base_uri": "https://localhost:8080/",
          "height": 34
        },
        "outputId": "1b599d2a-0254-4108-c856-390374192b40"
      },
      "source": [
        "sizeof(\"a\")"
      ],
      "execution_count": null,
      "outputs": [
        {
          "output_type": "execute_result",
          "data": {
            "text/plain": [
              "1"
            ]
          },
          "metadata": {
            "tags": []
          },
          "execution_count": 46
        }
      ]
    },
    {
      "cell_type": "code",
      "metadata": {
        "id": "PSOu8j--mmzO",
        "colab_type": "code",
        "colab": {
          "base_uri": "https://localhost:8080/",
          "height": 34
        },
        "outputId": "aa127a57-89d4-4c39-feab-308488f7ce80"
      },
      "source": [
        "sizeof(\"é\")"
      ],
      "execution_count": null,
      "outputs": [
        {
          "output_type": "execute_result",
          "data": {
            "text/plain": [
              "2"
            ]
          },
          "metadata": {
            "tags": []
          },
          "execution_count": 47
        }
      ]
    },
    {
      "cell_type": "code",
      "metadata": {
        "id": "5UVyrhoKmw1j",
        "colab_type": "code",
        "colab": {
          "base_uri": "https://localhost:8080/",
          "height": 34
        },
        "outputId": "b44fd049-43c5-45f2-a8c1-d0ca547641da"
      },
      "source": [
        "sizeof(\"家\")"
      ],
      "execution_count": null,
      "outputs": [
        {
          "output_type": "execute_result",
          "data": {
            "text/plain": [
              "3"
            ]
          },
          "metadata": {
            "tags": []
          },
          "execution_count": 48
        }
      ]
    },
    {
      "cell_type": "code",
      "metadata": {
        "id": "0HUpcANGnJYA",
        "colab_type": "code",
        "colab": {
          "base_uri": "https://localhost:8080/",
          "height": 34
        },
        "outputId": "afe1c697-7b0b-4c08-8a7b-b0acefea478c"
      },
      "source": [
        "sizeof(\"🏳️‍🌈\") # this is a grapheme with 4 code points of 4 + 3 + 3 + 4 bytes"
      ],
      "execution_count": null,
      "outputs": [
        {
          "output_type": "execute_result",
          "data": {
            "text/plain": [
              "14"
            ]
          },
          "metadata": {
            "tags": []
          },
          "execution_count": 49
        }
      ]
    },
    {
      "cell_type": "code",
      "metadata": {
        "id": "EfBbY0vHpNkG",
        "colab_type": "code",
        "colab": {
          "base_uri": "https://localhost:8080/",
          "height": 102
        },
        "outputId": "45c1478c-5e5b-46d5-fb63-1bb9310a23f5"
      },
      "source": [
        "[sizeof(string(c)) for c in \"🏳️‍🌈\"]"
      ],
      "execution_count": null,
      "outputs": [
        {
          "output_type": "execute_result",
          "data": {
            "text/plain": [
              "4-element Array{Int64,1}:\n",
              " 4\n",
              " 3\n",
              " 3\n",
              " 4"
            ]
          },
          "metadata": {
            "tags": []
          },
          "execution_count": 50
        }
      ]
    },
    {
      "cell_type": "markdown",
      "metadata": {
        "id": "71mBRSnKo_gU",
        "colab_type": "text"
      },
      "source": [
        "You can iterate through graphemes instead of code points:"
      ]
    },
    {
      "cell_type": "code",
      "metadata": {
        "id": "hvHwnu4dnYNx",
        "colab_type": "code",
        "colab": {
          "base_uri": "https://localhost:8080/",
          "height": 51
        },
        "outputId": "ef6ac344-e817-46ab-b6e5-9905c297aa8c"
      },
      "source": [
        "using Unicode\n",
        "\n",
        "for g in graphemes(\"e\\u0301🏳️‍🌈\")\n",
        "  println(g)\n",
        "end"
      ],
      "execution_count": null,
      "outputs": [
        {
          "output_type": "stream",
          "text": [
            "é\n",
            "🏳️‍🌈\n"
          ],
          "name": "stdout"
        }
      ]
    },
    {
      "cell_type": "markdown",
      "metadata": {
        "id": "D52gwsw7mkls",
        "colab_type": "text"
      },
      "source": [
        "## String Indexing\n",
        "Characters in a string are indexed based on the position of their starting byte in the UTF-8 representation. For example, the character `ê` in the string `\"être\"` is located at index 1, but the character `'t'` is located at index 3, since the UTF-8 encoding of `ê` is 2 bytes long:"
      ]
    },
    {
      "cell_type": "code",
      "metadata": {
        "id": "wF-sqnBhobOr",
        "colab_type": "code",
        "colab": {
          "base_uri": "https://localhost:8080/",
          "height": 85
        },
        "outputId": "74b8f3cd-1102-4208-e0e9-05503313cfba"
      },
      "source": [
        "s = \"être\"\n",
        "println(s[1])\n",
        "println(s[3])\n",
        "println(s[4])\n",
        "println(s[5])"
      ],
      "execution_count": null,
      "outputs": [
        {
          "output_type": "stream",
          "text": [
            "ê\n",
            "t\n",
            "r\n",
            "e\n"
          ],
          "name": "stdout"
        }
      ]
    },
    {
      "cell_type": "markdown",
      "metadata": {
        "id": "PTwNWMfywghC",
        "colab_type": "text"
      },
      "source": [
        "If you try to get the character at index 2, you get an exception:\n",
        "\n"
      ]
    },
    {
      "cell_type": "code",
      "metadata": {
        "id": "nVTYypUmobae",
        "colab_type": "code",
        "colab": {
          "base_uri": "https://localhost:8080/",
          "height": 34
        },
        "outputId": "b34b8811-90d3-411f-cc75-a5ccd9c5898c"
      },
      "source": [
        "try\n",
        "    s[2]\n",
        "catch ex\n",
        "    ex\n",
        "end"
      ],
      "execution_count": null,
      "outputs": [
        {
          "output_type": "execute_result",
          "data": {
            "text/plain": [
              "StringIndexError(\"être\", 2)"
            ]
          },
          "metadata": {
            "tags": []
          },
          "execution_count": 53
        }
      ]
    },
    {
      "cell_type": "markdown",
      "metadata": {
        "id": "h27VGo9oB2HD",
        "colab_type": "text"
      },
      "source": [
        "By the way, notice the exception-handling syntax (we'll discuss exceptions later):\n",
        "\n",
        "|Julia|Python\n",
        "|-----|------\n",
        "|`try`<br />&nbsp;&nbsp;&nbsp;&nbsp;`...`<br />`catch ex`<br />&nbsp;&nbsp;&nbsp;&nbsp;`...`<br />`end`|`try`<br />&nbsp;&nbsp;&nbsp;&nbsp;`...`<br />`except Exception as ex`<br />&nbsp;&nbsp;&nbsp;&nbsp;`...`<br />`end`\n",
        "\n"
      ]
    },
    {
      "cell_type": "markdown",
      "metadata": {
        "id": "v519pXuAxhnO",
        "colab_type": "text"
      },
      "source": [
        "You can get a substring easily, using valid character indices:"
      ]
    },
    {
      "cell_type": "code",
      "metadata": {
        "id": "fSYrcLRPxdBv",
        "colab_type": "code",
        "colab": {
          "base_uri": "https://localhost:8080/",
          "height": 34
        },
        "outputId": "07c286f7-adea-4ba9-e2a3-2788fd88f9ef"
      },
      "source": [
        "s[1:3]"
      ],
      "execution_count": null,
      "outputs": [
        {
          "output_type": "execute_result",
          "data": {
            "text/plain": [
              "\"êt\""
            ]
          },
          "metadata": {
            "tags": []
          },
          "execution_count": 54
        }
      ]
    },
    {
      "cell_type": "markdown",
      "metadata": {
        "id": "1aSg-yZExJaj",
        "colab_type": "text"
      },
      "source": [
        "You can iterate through a string, and it will return all the code points:"
      ]
    },
    {
      "cell_type": "code",
      "metadata": {
        "id": "nWzSSfi3obnG",
        "colab_type": "code",
        "colab": {
          "base_uri": "https://localhost:8080/",
          "height": 85
        },
        "outputId": "05b888a4-f21b-4fbf-97f3-7cdfd5fa7499"
      },
      "source": [
        "for c in s\n",
        "    println(c)\n",
        "end"
      ],
      "execution_count": null,
      "outputs": [
        {
          "output_type": "stream",
          "text": [
            "ê\n",
            "t\n",
            "r\n",
            "e\n"
          ],
          "name": "stdout"
        }
      ]
    },
    {
      "cell_type": "markdown",
      "metadata": {
        "id": "P4y_oW-tx1FM",
        "colab_type": "text"
      },
      "source": [
        "Or you can iterate through the valid character indices:"
      ]
    },
    {
      "cell_type": "code",
      "metadata": {
        "id": "Stdn7xZRx5HP",
        "colab_type": "code",
        "colab": {
          "base_uri": "https://localhost:8080/",
          "height": 85
        },
        "outputId": "2635493f-9b99-44e9-b99a-ac3422edb271"
      },
      "source": [
        "for i in eachindex(s)\n",
        "    println(i, \": \", s[i])\n",
        "end"
      ],
      "execution_count": null,
      "outputs": [
        {
          "output_type": "stream",
          "text": [
            "1: ê\n",
            "3: t\n",
            "4: r\n",
            "5: e\n"
          ],
          "name": "stdout"
        }
      ]
    },
    {
      "cell_type": "markdown",
      "metadata": {
        "id": "6vAcDvvgyI2O",
        "colab_type": "text"
      },
      "source": [
        "Benefits of representing strings as UTF-8:\n",
        "* All Unicode characters are supported.\n",
        "* UTF-8 is fairly compact (at least for Latin scripts).\n",
        "* It plays nicely with C libraries which expect ASCII characters only, since ASCII characters correspond to the Unicode code points 0 to 127, which UTF-8 encodes exactly like ASCII.\n",
        "\n",
        "Drawbacks:\n",
        "* UTF-8 uses a variable number of bytes per character, which makes indexing harder.\n",
        "  * However, If the language tried to hide this by making `s[5]` search for the 5th character from the start of the string, then code like `for i in 1:length(s); s[i]; end` would be unexpectedly inefficient, since at each iteration there would be a search from the beginning of the string, leading to O(_n_<sup>2</sup>) performance instead of O(_n_)."
      ]
    },
    {
      "cell_type": "code",
      "metadata": {
        "id": "JhOHqjktdrBV",
        "colab_type": "code",
        "colab": {
          "base_uri": "https://localhost:8080/",
          "height": 34
        },
        "outputId": "66245fa7-7783-40c7-a84c-02c4e0129349"
      },
      "source": [
        "findfirst(isequal('t'), \"être\")"
      ],
      "execution_count": null,
      "outputs": [
        {
          "output_type": "execute_result",
          "data": {
            "text/plain": [
              "3"
            ]
          },
          "metadata": {
            "tags": []
          },
          "execution_count": 57
        }
      ]
    },
    {
      "cell_type": "code",
      "metadata": {
        "id": "PUyEI4dHm-nl",
        "colab_type": "code",
        "colab": {
          "base_uri": "https://localhost:8080/",
          "height": 34
        },
        "outputId": "1c095d42-8251-4309-c141-002dfff3c0fb"
      },
      "source": [
        "findlast(isequal('p'), \"Mississippi\")"
      ],
      "execution_count": null,
      "outputs": [
        {
          "output_type": "execute_result",
          "data": {
            "text/plain": [
              "10"
            ]
          },
          "metadata": {
            "tags": []
          },
          "execution_count": 58
        }
      ]
    },
    {
      "cell_type": "code",
      "metadata": {
        "id": "VA-KDam0nT9z",
        "colab_type": "code",
        "colab": {
          "base_uri": "https://localhost:8080/",
          "height": 34
        },
        "outputId": "cc9c0a7d-e330-4139-963f-3b668d5732c0"
      },
      "source": [
        "findnext(isequal('i'), \"Mississippi\", 2)"
      ],
      "execution_count": null,
      "outputs": [
        {
          "output_type": "execute_result",
          "data": {
            "text/plain": [
              "2"
            ]
          },
          "metadata": {
            "tags": []
          },
          "execution_count": 59
        }
      ]
    },
    {
      "cell_type": "code",
      "metadata": {
        "id": "V-18_V29ny--",
        "colab_type": "code",
        "colab": {
          "base_uri": "https://localhost:8080/",
          "height": 34
        },
        "outputId": "2df096c9-81ae-4ab9-face-29c87825a0cb"
      },
      "source": [
        "findnext(isequal('i'), \"Mississippi\", 2 + 1)"
      ],
      "execution_count": null,
      "outputs": [
        {
          "output_type": "execute_result",
          "data": {
            "text/plain": [
              "5"
            ]
          },
          "metadata": {
            "tags": []
          },
          "execution_count": 60
        }
      ]
    },
    {
      "cell_type": "code",
      "metadata": {
        "id": "rF-0AVyCnoRa",
        "colab_type": "code",
        "colab": {
          "base_uri": "https://localhost:8080/",
          "height": 34
        },
        "outputId": "b4c4792d-ddf6-4511-b93f-41b2240b0bec"
      },
      "source": [
        "findprev(isequal('i'), \"Mississippi\", 5 - 1)"
      ],
      "execution_count": null,
      "outputs": [
        {
          "output_type": "execute_result",
          "data": {
            "text/plain": [
              "2"
            ]
          },
          "metadata": {
            "tags": []
          },
          "execution_count": 61
        }
      ]
    },
    {
      "cell_type": "markdown",
      "metadata": {
        "id": "29n4QUfloQXQ",
        "colab_type": "text"
      },
      "source": [
        "Other useful string functions: `ncodeunits(str)`, `codeunit(str, i)`, `thisind(str, i)`, `nextind(str, i, n=1)`, `prevind(str, i, n=1)`."
      ]
    },
    {
      "cell_type": "markdown",
      "metadata": {
        "id": "v93Xg1E5omZB",
        "colab_type": "text"
      },
      "source": [
        "## Regular Expressions\n",
        "To create a regular expression in Julia, use the `r\"...\"` syntax:"
      ]
    },
    {
      "cell_type": "code",
      "metadata": {
        "id": "LDgR-AwboyDw",
        "colab_type": "code",
        "colab": {
          "base_uri": "https://localhost:8080/",
          "height": 34
        },
        "outputId": "bb560ae0-5c1b-466e-dd58-984c1d750426"
      },
      "source": [
        "regex = r\"c[ao]ff?(?:é|ee)\""
      ],
      "execution_count": null,
      "outputs": [
        {
          "output_type": "execute_result",
          "data": {
            "text/plain": [
              "r\"c[ao]ff?(?:é|ee)\""
            ]
          },
          "metadata": {
            "tags": []
          },
          "execution_count": 62
        }
      ]
    },
    {
      "cell_type": "markdown",
      "metadata": {
        "id": "bKT4fMKMiKWo",
        "colab_type": "text"
      },
      "source": [
        "The expression `r\"...\"` is equivalent to `Regex(\"...\")` except the former is evaluated at parse time, while the latter is evaluated at runtime, so unless you need to construct a Regex dynamically, you should prefer `r\"...\"`."
      ]
    },
    {
      "cell_type": "code",
      "metadata": {
        "id": "222akOU9ox3m",
        "colab_type": "code",
        "colab": {
          "base_uri": "https://localhost:8080/",
          "height": 34
        },
        "outputId": "f621f905-cf54-422e-a2df-1745e9f34bf4"
      },
      "source": [
        "occursin(regex, \"A bit more coffee?\")"
      ],
      "execution_count": null,
      "outputs": [
        {
          "output_type": "execute_result",
          "data": {
            "text/plain": [
              "true"
            ]
          },
          "metadata": {
            "tags": []
          },
          "execution_count": 63
        }
      ]
    },
    {
      "cell_type": "code",
      "metadata": {
        "id": "QCXRSdFuoxqd",
        "colab_type": "code",
        "colab": {
          "base_uri": "https://localhost:8080/",
          "height": 34
        },
        "outputId": "a5e046ca-dc65-4777-9d1b-f50c0e5bec91"
      },
      "source": [
        "m = match(regex, \"A bit more coffee?\")\n",
        "m.match"
      ],
      "execution_count": null,
      "outputs": [
        {
          "output_type": "execute_result",
          "data": {
            "text/plain": [
              "\"coffee\""
            ]
          },
          "metadata": {
            "tags": []
          },
          "execution_count": 64
        }
      ]
    },
    {
      "cell_type": "code",
      "metadata": {
        "id": "lWk0C1iwtegu",
        "colab_type": "code",
        "colab": {
          "base_uri": "https://localhost:8080/",
          "height": 34
        },
        "outputId": "52f16c18-15a3-4aa3-c56d-44b15ca856cb"
      },
      "source": [
        "m.offset"
      ],
      "execution_count": null,
      "outputs": [
        {
          "output_type": "execute_result",
          "data": {
            "text/plain": [
              "12"
            ]
          },
          "metadata": {
            "tags": []
          },
          "execution_count": 65
        }
      ]
    },
    {
      "cell_type": "code",
      "metadata": {
        "id": "Uh1uc34etiN_",
        "colab_type": "code",
        "colab": {
          "base_uri": "https://localhost:8080/",
          "height": 34
        },
        "outputId": "bcfaa359-e3d5-4b82-9ebc-122764d80a5f"
      },
      "source": [
        "m = match(regex, \"A bit more tea?\")\n",
        "isnothing(m) && println(\"I suggest coffee instead\")"
      ],
      "execution_count": null,
      "outputs": [
        {
          "output_type": "stream",
          "text": [
            "I suggest coffee instead\n"
          ],
          "name": "stdout"
        }
      ]
    },
    {
      "cell_type": "code",
      "metadata": {
        "id": "3iOYSQMy0yB3",
        "colab_type": "code",
        "colab": {
          "base_uri": "https://localhost:8080/",
          "height": 51
        },
        "outputId": "e1592326-6068-433e-9110-9ebfa8266372"
      },
      "source": [
        "regex = r\"(.*)#(.+)\"\n",
        "line = \"f(1) # nice comment\"\n",
        "m = match(regex, line)\n",
        "code, comment = m.captures\n",
        "println(\"code: \", repr(code))\n",
        "println(\"comment: \", repr(comment))"
      ],
      "execution_count": null,
      "outputs": [
        {
          "output_type": "stream",
          "text": [
            "code: \"f(1) \"\n",
            "comment: \" nice comment\"\n"
          ],
          "name": "stdout"
        }
      ]
    },
    {
      "cell_type": "code",
      "metadata": {
        "id": "xeq9CVzoueaf",
        "colab_type": "code",
        "colab": {
          "base_uri": "https://localhost:8080/",
          "height": 34
        },
        "outputId": "e9090bf7-4e28-44ba-ab5e-9aadecab1777"
      },
      "source": [
        "m[2]"
      ],
      "execution_count": null,
      "outputs": [
        {
          "output_type": "execute_result",
          "data": {
            "text/plain": [
              "\" nice comment\""
            ]
          },
          "metadata": {
            "tags": []
          },
          "execution_count": 68
        }
      ]
    },
    {
      "cell_type": "code",
      "metadata": {
        "id": "iwUDm5uqtc73",
        "colab_type": "code",
        "colab": {
          "base_uri": "https://localhost:8080/",
          "height": 68
        },
        "outputId": "2c6a89eb-cb7a-40d7-c1fd-7584782ecf99"
      },
      "source": [
        "m.offsets"
      ],
      "execution_count": null,
      "outputs": [
        {
          "output_type": "execute_result",
          "data": {
            "text/plain": [
              "2-element Array{Int64,1}:\n",
              " 1\n",
              " 7"
            ]
          },
          "metadata": {
            "tags": []
          },
          "execution_count": 69
        }
      ]
    },
    {
      "cell_type": "code",
      "metadata": {
        "id": "VnefZenKuMVM",
        "colab_type": "code",
        "colab": {
          "base_uri": "https://localhost:8080/",
          "height": 34
        },
        "outputId": "30351c47-f38d-4069-ac5a-3f76f22f083b"
      },
      "source": [
        "m = match(r\"(?<code>.+)#(?<comment>.+)\", line)\n",
        "m[:comment]"
      ],
      "execution_count": null,
      "outputs": [
        {
          "output_type": "execute_result",
          "data": {
            "text/plain": [
              "\" nice comment\""
            ]
          },
          "metadata": {
            "tags": []
          },
          "execution_count": 70
        }
      ]
    },
    {
      "cell_type": "code",
      "metadata": {
        "id": "HI8hBnXZwLIO",
        "colab_type": "code",
        "colab": {
          "base_uri": "https://localhost:8080/",
          "height": 34
        },
        "outputId": "32b34f6b-22ad-4f0d-fbf3-7aa9de0842c0"
      },
      "source": [
        "replace(\"Want more bread?\", r\"(?<verb>more|some)\" => s\"a little\")"
      ],
      "execution_count": null,
      "outputs": [
        {
          "output_type": "execute_result",
          "data": {
            "text/plain": [
              "\"Want a little bread?\""
            ]
          },
          "metadata": {
            "tags": []
          },
          "execution_count": 71
        }
      ]
    },
    {
      "cell_type": "code",
      "metadata": {
        "id": "7V9msvsWuzSM",
        "colab_type": "code",
        "colab": {
          "base_uri": "https://localhost:8080/",
          "height": 34
        },
        "outputId": "09e8bf88-6e06-48bb-da48-df3d9ba80069"
      },
      "source": [
        "replace(\"Want more bread?\", r\"(?<verb>more|less)\" => s\"\\g<verb> and \\g<verb>\")"
      ],
      "execution_count": null,
      "outputs": [
        {
          "output_type": "execute_result",
          "data": {
            "text/plain": [
              "\"Want more and more bread?\""
            ]
          },
          "metadata": {
            "tags": []
          },
          "execution_count": 72
        }
      ]
    },
    {
      "cell_type": "markdown",
      "metadata": {
        "id": "56GuNuTqaKaX",
        "colab_type": "text"
      },
      "source": [
        "# Control Flow"
      ]
    },
    {
      "cell_type": "markdown",
      "metadata": {
        "id": "AhlyD6rgHM-A",
        "colab_type": "text"
      },
      "source": [
        "## `if` statement\n",
        "\n",
        "Julia's `if` statement works just like in Python, with a few differences:\n",
        "\n",
        "* Julia uses `elseif` instead of Python's `elif`.\n",
        "* Julia's logic operators are just like in C-like languages: `&&` means `and`, `||` means `or`, `!` means `not`, and so on."
      ]
    },
    {
      "cell_type": "code",
      "metadata": {
        "id": "R4CT1_AYLUqo",
        "colab_type": "code",
        "colab": {
          "base_uri": "https://localhost:8080/",
          "height": 34
        },
        "outputId": "73f4d8f5-d5fa-4139-ecd5-6602ea8179d5"
      },
      "source": [
        "a = 1\n",
        "if a == 1\n",
        "    println(\"One\")\n",
        "elseif a == 2\n",
        "    println(\"Two\")\n",
        "else\n",
        "    println(\"Other\")\n",
        "end"
      ],
      "execution_count": null,
      "outputs": [
        {
          "output_type": "stream",
          "text": [
            "One\n"
          ],
          "name": "stdout"
        }
      ]
    },
    {
      "cell_type": "markdown",
      "metadata": {
        "id": "xjjegYr9Koo0",
        "colab_type": "text"
      },
      "source": [
        "Julia also has `⊻` for exclusive or (you can type `\\xor<tab>` to get the ⊻ character):"
      ]
    },
    {
      "cell_type": "code",
      "metadata": {
        "id": "ac0uFmmXLk3n",
        "colab_type": "code",
        "colab": {}
      },
      "source": [
        "@assert false ⊻ false == false\n",
        "@assert false ⊻ true == true\n",
        "@assert true ⊻ false == true\n",
        "@assert true ⊻ true == false"
      ],
      "execution_count": null,
      "outputs": []
    },
    {
      "cell_type": "markdown",
      "metadata": {
        "id": "6k6sjnOWLuFM",
        "colab_type": "text"
      },
      "source": [
        "Oh, and notice that `true` and `false` are all lowercase, unlike Python's `True` and `False`."
      ]
    },
    {
      "cell_type": "markdown",
      "metadata": {
        "id": "57j5Uo_jKq98",
        "colab_type": "text"
      },
      "source": [
        "Since `&&` is lazy (like `and` in Python), `cond && f()` is a common shorthand for `if cond; f(); end`. Think of it as \"_cond then f()_\":"
      ]
    },
    {
      "cell_type": "code",
      "metadata": {
        "id": "TjRz2LF2MC17",
        "colab_type": "code",
        "colab": {
          "base_uri": "https://localhost:8080/",
          "height": 34
        },
        "outputId": "f9394083-dd2f-4362-d2c2-e076b5d26b07"
      },
      "source": [
        "a = 2\n",
        "a == 1 && println(\"One\")\n",
        "a == 2 && println(\"Two\")"
      ],
      "execution_count": null,
      "outputs": [
        {
          "output_type": "stream",
          "text": [
            "Two\n"
          ],
          "name": "stdout"
        }
      ]
    },
    {
      "cell_type": "markdown",
      "metadata": {
        "id": "PoOc99vdMB3r",
        "colab_type": "text"
      },
      "source": [
        "Similarly, `cond || f()` is a common shorthand for `if !cond; f(); end`. Think of it as \"_cond else f()_\":"
      ]
    },
    {
      "cell_type": "code",
      "metadata": {
        "id": "I0vTrqXFMQAp",
        "colab_type": "code",
        "colab": {
          "base_uri": "https://localhost:8080/",
          "height": 34
        },
        "outputId": "ecb275c0-adaf-429d-9083-33cbf83445f1"
      },
      "source": [
        "a = 1\n",
        "a == 1 || println(\"Not one\")\n",
        "a == 2 || println(\"Not two\")"
      ],
      "execution_count": null,
      "outputs": [
        {
          "output_type": "stream",
          "text": [
            "Not two\n"
          ],
          "name": "stdout"
        }
      ]
    },
    {
      "cell_type": "markdown",
      "metadata": {
        "id": "KDHXuzB2tprt",
        "colab_type": "text"
      },
      "source": [
        "All expressions return a value in Julia, including `if` statements. For example:"
      ]
    },
    {
      "cell_type": "code",
      "metadata": {
        "id": "XdbyrVzWtyYS",
        "colab_type": "code",
        "colab": {
          "base_uri": "https://localhost:8080/",
          "height": 34
        },
        "outputId": "63390cf2-ebfe-49ef-f6ef-0453e1d28af0"
      },
      "source": [
        "a = 1\n",
        "result = if a == 1\n",
        "             \"one\"\n",
        "         else\n",
        "             \"two\"\n",
        "         end\n",
        "result"
      ],
      "execution_count": null,
      "outputs": [
        {
          "output_type": "execute_result",
          "data": {
            "text/plain": [
              "\"one\""
            ]
          },
          "metadata": {
            "tags": []
          },
          "execution_count": 77
        }
      ]
    },
    {
      "cell_type": "markdown",
      "metadata": {
        "id": "ouJGQWRluC8r",
        "colab_type": "text"
      },
      "source": [
        "When an expression cannot return anything, it returns `nothing`:"
      ]
    },
    {
      "cell_type": "code",
      "metadata": {
        "id": "FXxf9pNouMUZ",
        "colab_type": "code",
        "colab": {
          "base_uri": "https://localhost:8080/",
          "height": 34
        },
        "outputId": "0df53af2-2b14-410d-afc6-380aa57a7948"
      },
      "source": [
        "a = 1\n",
        "result = if a == 2\n",
        "            \"two\"\n",
        "          end\n",
        "\n",
        "isnothing(result)"
      ],
      "execution_count": null,
      "outputs": [
        {
          "output_type": "execute_result",
          "data": {
            "text/plain": [
              "true"
            ]
          },
          "metadata": {
            "tags": []
          },
          "execution_count": 78
        }
      ]
    },
    {
      "cell_type": "markdown",
      "metadata": {
        "id": "82e9jcH4ukdN",
        "colab_type": "text"
      },
      "source": [
        "`nothing` is the single instance of the type `Nothing`:"
      ]
    },
    {
      "cell_type": "code",
      "metadata": {
        "id": "IU57ogdWuhCi",
        "colab_type": "code",
        "colab": {
          "base_uri": "https://localhost:8080/",
          "height": 34
        },
        "outputId": "527b1c8d-f6e9-43d1-88e9-3ca95d1cb4f1"
      },
      "source": [
        "typeof(nothing)"
      ],
      "execution_count": null,
      "outputs": [
        {
          "output_type": "execute_result",
          "data": {
            "text/plain": [
              "Nothing"
            ]
          },
          "metadata": {
            "tags": []
          },
          "execution_count": 79
        }
      ]
    },
    {
      "cell_type": "markdown",
      "metadata": {
        "id": "m8ghzU9PMifO",
        "colab_type": "text"
      },
      "source": [
        "## `for` loops\n",
        "You can use `for` loops just like in Python, as we saw earlier. However, it's also possible to create nested loops on a single line:"
      ]
    },
    {
      "cell_type": "code",
      "metadata": {
        "id": "LZ-3HDmZM45a",
        "colab_type": "code",
        "colab": {
          "base_uri": "https://localhost:8080/",
          "height": 221
        },
        "outputId": "0af023e4-7cbe-4aad-fa13-9a937e48d568"
      },
      "source": [
        "for a in 1:2, b in 1:3, c in 1:2\n",
        "    println((a, b, c))\n",
        "end"
      ],
      "execution_count": null,
      "outputs": [
        {
          "output_type": "stream",
          "text": [
            "(1, 1, 1)\n",
            "(1, 1, 2)\n",
            "(1, 2, 1)\n",
            "(1, 2, 2)\n",
            "(1, 3, 1)\n",
            "(1, 3, 2)\n",
            "(2, 1, 1)\n",
            "(2, 1, 2)\n",
            "(2, 2, 1)\n",
            "(2, 2, 2)\n",
            "(2, 3, 1)\n",
            "(2, 3, 2)\n"
          ],
          "name": "stdout"
        }
      ]
    },
    {
      "cell_type": "markdown",
      "metadata": {
        "id": "uQRBca7fObQq",
        "colab_type": "text"
      },
      "source": [
        "The corresponding Python code would look like this:\n",
        "\n",
        "```python\n",
        "# PYTHON\n",
        "from itertools import product\n",
        "\n",
        "for a, b, c in product(range(1, 3), range(1, 4), range(1, 3)):\n",
        "    print((a, b, c))\n",
        "```"
      ]
    },
    {
      "cell_type": "markdown",
      "metadata": {
        "id": "JAeag3dfNRB3",
        "colab_type": "text"
      },
      "source": [
        "The `continue` and `break` keywords work just like in Python. Note that in single-line nested loops, `break` will exit all loops, not just the inner loop:"
      ]
    },
    {
      "cell_type": "code",
      "metadata": {
        "id": "MbKmgN-jN2ZQ",
        "colab_type": "code",
        "colab": {
          "base_uri": "https://localhost:8080/",
          "height": 136
        },
        "outputId": "b7231b03-96a7-4907-f6c8-38c4896159c4"
      },
      "source": [
        "for a in 1:2, b in 1:3, c in 1:2\n",
        "    println((a, b, c))\n",
        "    (a, b, c) == (2, 1, 1) && break\n",
        "end"
      ],
      "execution_count": null,
      "outputs": [
        {
          "output_type": "stream",
          "text": [
            "(1, 1, 1)\n",
            "(1, 1, 2)\n",
            "(1, 2, 1)\n",
            "(1, 2, 2)\n",
            "(1, 3, 1)\n",
            "(1, 3, 2)\n",
            "(2, 1, 1)\n"
          ],
          "name": "stdout"
        }
      ]
    },
    {
      "cell_type": "markdown",
      "metadata": {
        "id": "Lf7F9I-6Ue46",
        "colab_type": "text"
      },
      "source": [
        "Julia does not support the equivalent of Python's `for`/`else` construct. You need to write something like this:"
      ]
    },
    {
      "cell_type": "code",
      "metadata": {
        "id": "XltdIGVOUoVS",
        "colab_type": "code",
        "colab": {
          "base_uri": "https://localhost:8080/",
          "height": 85
        },
        "outputId": "d25f8672-6153-4855-ba67-3a84ec1a0a66"
      },
      "source": [
        "found = false\n",
        "for person in [\"Joe\", \"Jane\", \"Wally\", \"Jack\", \"Julia\"] # try removing \"Wally\"\n",
        "    println(\"Looking at $person\")\n",
        "    person == \"Wally\" && (found = true; break)\n",
        "end\n",
        "found || println(\"I did not find Wally.\")"
      ],
      "execution_count": null,
      "outputs": [
        {
          "output_type": "stream",
          "text": [
            "Looking at Joe\n",
            "Looking at Jane\n",
            "Looking at Wally\n"
          ],
          "name": "stdout"
        },
        {
          "output_type": "execute_result",
          "data": {
            "text/plain": [
              "true"
            ]
          },
          "metadata": {
            "tags": []
          },
          "execution_count": 82
        }
      ]
    },
    {
      "cell_type": "markdown",
      "metadata": {
        "id": "ySqtkxpxWH57",
        "colab_type": "text"
      },
      "source": [
        "The equivalent Python code looks like this:\n",
        "\n",
        "```python\n",
        "# PYTHON\n",
        "for person in [\"Joe\", \"Jane\", \"Wally\", \"Jack\", \"Julia\"]: # try removing \"Wally\"\n",
        "    print(f\"Looking at {person}\")\n",
        "    if person == \"Wally\":\n",
        "        break\n",
        "else:\n",
        "    print(\"I did not find Wally.\")\n",
        "```"
      ]
    },
    {
      "cell_type": "markdown",
      "metadata": {
        "id": "gz4fZGxOHLmI",
        "colab_type": "text"
      },
      "source": [
        "\n",
        "\n",
        "|Julia|Python\n",
        "|-----|------\n",
        "|`if cond1`<br />&nbsp;&nbsp;&nbsp;&nbsp;`...`<br/>`elseif cond2`<br />&nbsp;&nbsp;&nbsp;&nbsp;`...`<br/>`else`<br />&nbsp;&nbsp;&nbsp;&nbsp;`...`<br/>`end` |`if cond1:`<br />&nbsp;&nbsp;&nbsp;&nbsp;`...`<br/>`elif cond2:`<br />&nbsp;&nbsp;&nbsp;&nbsp;`...`<br/>`else:`<br />&nbsp;&nbsp;&nbsp;&nbsp;`...`\n",
        "|`&&` | `and`\n",
        "|`\\|\\|` | `or`\n",
        "|`!` | `not`\n",
        "|`⊻` (type `\\xor<tab>`) | `^`\n",
        "|`true` | `True`\n",
        "|`false` | `False`\n",
        "|`cond && f()` | `if cond: f()`\n",
        "|`cond \\|\\| f()` | `if not cond: f()`\n",
        "|`for i in 1:5 ... end` | `for i in range(1, 6): ...`\n",
        "|`for i in 1:5, j in 1:6 ... end` | `from itertools import product`<br />`for i, j in product(range(1, 6), range(1, 7)):`<br />&nbsp;&nbsp;&nbsp;&nbsp;`...`\n",
        "|`while cond ... end` | `while cond: ...`\n",
        "|`continue` | `continue`\n",
        "|`break` | `break`\n"
      ]
    },
    {
      "cell_type": "markdown",
      "metadata": {
        "id": "KZnBWeHcvcDE",
        "colab_type": "text"
      },
      "source": [
        "Now lets looks at data structures, starting with tuples."
      ]
    },
    {
      "cell_type": "markdown",
      "metadata": {
        "id": "ERjZUJYlnMsq",
        "colab_type": "text"
      },
      "source": [
        "# Tuples"
      ]
    },
    {
      "cell_type": "markdown",
      "metadata": {
        "id": "LnIg-YKumD8N",
        "colab_type": "text"
      },
      "source": [
        " Julia has tuples, very much like Python. They can contain anything:"
      ]
    },
    {
      "cell_type": "code",
      "metadata": {
        "id": "SwtMszm6nFmD",
        "colab_type": "code",
        "colab": {
          "base_uri": "https://localhost:8080/",
          "height": 34
        },
        "outputId": "0d66b517-9a1f-4ded-a21e-0de32957112a"
      },
      "source": [
        "t = (1, \"Two\", 3, 4, 5)"
      ],
      "execution_count": null,
      "outputs": [
        {
          "output_type": "execute_result",
          "data": {
            "text/plain": [
              "(1, \"Two\", 3, 4, 5)"
            ]
          },
          "metadata": {
            "tags": []
          },
          "execution_count": 83
        }
      ]
    },
    {
      "cell_type": "markdown",
      "metadata": {
        "id": "YFGgt6ISLBQN",
        "colab_type": "text"
      },
      "source": [
        "Let's look at one element:"
      ]
    },
    {
      "cell_type": "code",
      "metadata": {
        "id": "muUQX9TUnfhh",
        "colab_type": "code",
        "colab": {
          "base_uri": "https://localhost:8080/",
          "height": 34
        },
        "outputId": "1953c142-07a3-456f-f999-a728835f3f48"
      },
      "source": [
        "t[1]"
      ],
      "execution_count": null,
      "outputs": [
        {
          "output_type": "execute_result",
          "data": {
            "text/plain": [
              "1"
            ]
          },
          "metadata": {
            "tags": []
          },
          "execution_count": 84
        }
      ]
    },
    {
      "cell_type": "markdown",
      "metadata": {
        "id": "kxt7Dyujpcto",
        "colab_type": "text"
      },
      "source": [
        "Hey! Did you see that? **Julia is 1-indexed**, like Matlab and other math-oriented programming languages, not 0-indexed like Python and most programming languages. I found it easy to get used to, and in fact I quite like it, but your mileage may vary.\n",
        "\n",
        "Moreover, the indexing bounds are inclusive. In Python, to get the 1st and 2nd elements of a list or tuple, you would write `t[0:2]` (or just `t[:2]`), while in Julia you write `t[1:2]`.\n"
      ]
    },
    {
      "cell_type": "code",
      "metadata": {
        "id": "PSSUDRRtp77N",
        "colab_type": "code",
        "colab": {
          "base_uri": "https://localhost:8080/",
          "height": 34
        },
        "outputId": "2fd6971f-31ff-45c8-ed44-f54ccd91a56e"
      },
      "source": [
        "t[1:2]"
      ],
      "execution_count": null,
      "outputs": [
        {
          "output_type": "execute_result",
          "data": {
            "text/plain": [
              "(1, \"Two\")"
            ]
          },
          "metadata": {
            "tags": []
          },
          "execution_count": 85
        }
      ]
    },
    {
      "cell_type": "markdown",
      "metadata": {
        "id": "gUK1aCRutlul",
        "colab_type": "text"
      },
      "source": [
        "Note that `end` represents the index of the last element in the tuple. So you must write `t[end]` instead of `t[-1]`. Similarly, you must write `t[end - 1]`, not `t[-2]`, and so on."
      ]
    },
    {
      "cell_type": "code",
      "metadata": {
        "id": "7YpghPgLqZmy",
        "colab_type": "code",
        "colab": {
          "base_uri": "https://localhost:8080/",
          "height": 34
        },
        "outputId": "4717d48b-90f8-4f1a-90c5-aa99482d3e11"
      },
      "source": [
        "t[end]"
      ],
      "execution_count": null,
      "outputs": [
        {
          "output_type": "execute_result",
          "data": {
            "text/plain": [
              "5"
            ]
          },
          "metadata": {
            "tags": []
          },
          "execution_count": 86
        }
      ]
    },
    {
      "cell_type": "code",
      "metadata": {
        "id": "3rzqwS7etsyx",
        "colab_type": "code",
        "colab": {
          "base_uri": "https://localhost:8080/",
          "height": 34
        },
        "outputId": "8310295a-8fa3-4124-fb54-b21cdb27317a"
      },
      "source": [
        "t[end - 1:end]"
      ],
      "execution_count": null,
      "outputs": [
        {
          "output_type": "execute_result",
          "data": {
            "text/plain": [
              "(4, 5)"
            ]
          },
          "metadata": {
            "tags": []
          },
          "execution_count": 87
        }
      ]
    },
    {
      "cell_type": "markdown",
      "metadata": {
        "id": "d950dLwB3SeA",
        "colab_type": "text"
      },
      "source": [
        "Like in Python, tuples are immutable:"
      ]
    },
    {
      "cell_type": "code",
      "metadata": {
        "id": "0sLz7J2KmKMi",
        "colab_type": "code",
        "colab": {
          "base_uri": "https://localhost:8080/",
          "height": 34
        },
        "outputId": "1af31104-1d93-4dc2-a390-1fe6b0b5a9cf"
      },
      "source": [
        "try\n",
        "  t[2] = 2\n",
        "catch ex\n",
        "  ex\n",
        "end"
      ],
      "execution_count": null,
      "outputs": [
        {
          "output_type": "execute_result",
          "data": {
            "text/plain": [
              "MethodError(setindex!, ((1, \"Two\", 3, 4, 5), 2, 2), 0x0000000000006cc1)"
            ]
          },
          "metadata": {
            "tags": []
          },
          "execution_count": 88
        }
      ]
    },
    {
      "cell_type": "markdown",
      "metadata": {
        "id": "ia-7dPaYN6o3",
        "colab_type": "text"
      },
      "source": [
        "The syntax for empty and 1-element tuples is the same as in Python:"
      ]
    },
    {
      "cell_type": "code",
      "metadata": {
        "id": "2iz34eBoODk6",
        "colab_type": "code",
        "colab": {
          "base_uri": "https://localhost:8080/",
          "height": 34
        },
        "outputId": "5dfd518e-908f-48c8-e3a0-e74733d3aa91"
      },
      "source": [
        "empty_tuple = ()\n",
        "one_element_tuple = (42,)"
      ],
      "execution_count": null,
      "outputs": [
        {
          "output_type": "execute_result",
          "data": {
            "text/plain": [
              "(42,)"
            ]
          },
          "metadata": {
            "tags": []
          },
          "execution_count": 89
        }
      ]
    },
    {
      "cell_type": "markdown",
      "metadata": {
        "id": "4vgV76ftmMno",
        "colab_type": "text"
      },
      "source": [
        "You can unpack a tuple, just like in Python (it's called \"destructuring\" in Julia):"
      ]
    },
    {
      "cell_type": "code",
      "metadata": {
        "id": "1-RPxSCfn5Zr",
        "colab_type": "code",
        "colab": {
          "base_uri": "https://localhost:8080/",
          "height": 34
        },
        "outputId": "34bb2ce5-4f35-4e37-9942-0b55fbdb6ad1"
      },
      "source": [
        "a, b, c, d, e = (1, \"Two\", 3, 4, 5)\n",
        "println(\"a=$a, b=$b, c=$c, d=$d, e=$e\")"
      ],
      "execution_count": null,
      "outputs": [
        {
          "output_type": "stream",
          "text": [
            "a=1, b=Two, c=3, d=4, e=5\n"
          ],
          "name": "stdout"
        }
      ]
    },
    {
      "cell_type": "markdown",
      "metadata": {
        "id": "I4jsaD4Fq37B",
        "colab_type": "text"
      },
      "source": [
        "It also works with nested tuples, just like in Python:"
      ]
    },
    {
      "cell_type": "code",
      "metadata": {
        "id": "s3S4SAfNq83S",
        "colab_type": "code",
        "colab": {
          "base_uri": "https://localhost:8080/",
          "height": 34
        },
        "outputId": "ed0d8ffb-b6ca-4364-d3ce-5bdffe9f4ac5"
      },
      "source": [
        "(a, (b, c), (d, e)) = (1, (\"Two\", 3), (4, 5))\n",
        "println(\"a=$a, b=$b, c=$c, d=$d, e=$e\")"
      ],
      "execution_count": null,
      "outputs": [
        {
          "output_type": "stream",
          "text": [
            "a=1, b=Two, c=3, d=4, e=5\n"
          ],
          "name": "stdout"
        }
      ]
    },
    {
      "cell_type": "markdown",
      "metadata": {
        "id": "1SC6AVpIrUxa",
        "colab_type": "text"
      },
      "source": [
        "However, consider this example:"
      ]
    },
    {
      "cell_type": "code",
      "metadata": {
        "id": "Wz5cl0_6rj0H",
        "colab_type": "code",
        "colab": {
          "base_uri": "https://localhost:8080/",
          "height": 34
        },
        "outputId": "40078abe-d0ab-4f26-9d55-c685a57f0cb2"
      },
      "source": [
        "a, b, c = (1, \"Two\", 3, 4, 5)\n",
        "println(\"a=$a, b=$b, c=$c\")"
      ],
      "execution_count": null,
      "outputs": [
        {
          "output_type": "stream",
          "text": [
            "a=1, b=Two, c=3\n"
          ],
          "name": "stdout"
        }
      ]
    },
    {
      "cell_type": "markdown",
      "metadata": {
        "id": "ZdZg-xMDrnvK",
        "colab_type": "text"
      },
      "source": [
        "In Python, this would cause a `ValueError: too many values to unpack`. In Julia, the extra values in the tuple are just ignored.\n",
        "\n",
        "If you want to capture the extra values in the variable `c`, you need to do so explicitly:"
      ]
    },
    {
      "cell_type": "code",
      "metadata": {
        "id": "zC8DWzkSsF1i",
        "colab_type": "code",
        "colab": {
          "base_uri": "https://localhost:8080/",
          "height": 34
        },
        "outputId": "d78f5404-f82c-4575-e81e-dc027f36c447"
      },
      "source": [
        "t = (1, \"Two\", 3, 4, 5)\n",
        "a, b = t[1:2]\n",
        "c = t[3:end]\n",
        "println(\"a=$a, b=$b, c=$c\")"
      ],
      "execution_count": null,
      "outputs": [
        {
          "output_type": "stream",
          "text": [
            "a=1, b=Two, c=(3, 4, 5)\n"
          ],
          "name": "stdout"
        }
      ]
    },
    {
      "cell_type": "markdown",
      "metadata": {
        "id": "rOKhLbritHAW",
        "colab_type": "text"
      },
      "source": [
        "Or more concisely:"
      ]
    },
    {
      "cell_type": "code",
      "metadata": {
        "id": "8Pvh4LCytCiq",
        "colab_type": "code",
        "colab": {
          "base_uri": "https://localhost:8080/",
          "height": 34
        },
        "outputId": "d37eba2f-12fb-492a-d31c-d6b0f6b62cec"
      },
      "source": [
        "(a, b), c = t[1:2], t[3:end]\n",
        "println(\"a=$a, b=$b, c=$c\")"
      ],
      "execution_count": null,
      "outputs": [
        {
          "output_type": "stream",
          "text": [
            "a=1, b=Two, c=(3, 4, 5)\n"
          ],
          "name": "stdout"
        }
      ]
    },
    {
      "cell_type": "markdown",
      "metadata": {
        "id": "FbibRKc9sWI_",
        "colab_type": "text"
      },
      "source": [
        "The corresponding Python code is:\n",
        "\n",
        "```python\n",
        "# PYTHON\n",
        "t = (1, \"Two\", 3, 4, 5)\n",
        "a, b, *c = t\n",
        "print(f\"a={a}, b={b}, c={c}\")\n",
        "```"
      ]
    },
    {
      "cell_type": "markdown",
      "metadata": {
        "id": "niHEbUJk5YFn",
        "colab_type": "text"
      },
      "source": [
        "## Named Tuples"
      ]
    },
    {
      "cell_type": "markdown",
      "metadata": {
        "id": "p3yVvsXA52ct",
        "colab_type": "text"
      },
      "source": [
        "Julia supports named tuples:"
      ]
    },
    {
      "cell_type": "code",
      "metadata": {
        "id": "2FJnd4K35aOZ",
        "colab_type": "code",
        "colab": {
          "base_uri": "https://localhost:8080/",
          "height": 34
        },
        "outputId": "facd43e7-a88f-4672-bb74-abc2b853caf7"
      },
      "source": [
        "nt = (name=\"Julia\", category=\"Language\", stars=5)"
      ],
      "execution_count": null,
      "outputs": [
        {
          "output_type": "execute_result",
          "data": {
            "text/plain": [
              "(name = \"Julia\", category = \"Language\", stars = 5)"
            ]
          },
          "metadata": {
            "tags": []
          },
          "execution_count": 95
        }
      ]
    },
    {
      "cell_type": "code",
      "metadata": {
        "id": "xydPCMQZ5sPY",
        "colab_type": "code",
        "colab": {
          "base_uri": "https://localhost:8080/",
          "height": 34
        },
        "outputId": "4669d7f4-7bad-432e-8795-21799ed6b33e"
      },
      "source": [
        "nt.name"
      ],
      "execution_count": null,
      "outputs": [
        {
          "output_type": "execute_result",
          "data": {
            "text/plain": [
              "\"Julia\""
            ]
          },
          "metadata": {
            "tags": []
          },
          "execution_count": 96
        }
      ]
    },
    {
      "cell_type": "code",
      "metadata": {
        "id": "9MeN88AU5w4t",
        "colab_type": "code",
        "colab": {
          "base_uri": "https://localhost:8080/",
          "height": 85
        },
        "outputId": "40639e8e-1830-4ca7-daf1-9b0b7d6842ca"
      },
      "source": [
        "dump(nt)"
      ],
      "execution_count": null,
      "outputs": [
        {
          "output_type": "stream",
          "text": [
            "NamedTuple{(:name, :category, :stars),Tuple{String,String,Int64}}\n",
            "  name: String \"Julia\"\n",
            "  category: String \"Language\"\n",
            "  stars: Int64 5\n"
          ],
          "name": "stdout"
        }
      ]
    },
    {
      "cell_type": "markdown",
      "metadata": {
        "id": "yXYEkJ0G57f2",
        "colab_type": "text"
      },
      "source": [
        "The corresponding Python code is:\n",
        "\n",
        "```python\n",
        "# PYTHON\n",
        "from collections import namedtuple\n",
        "\n",
        "Rating = namedtuple(\"Rating\", [\"name\", \"category\", \"stars\"])\n",
        "nt = Rating(name=\"Julia\", category=\"Language\", stars=5)\n",
        "print(nt.name) # prints: Julia\n",
        "print(nt) # prints: Rating(name='Julia', category='Language', stars=5)\n",
        "```"
      ]
    },
    {
      "cell_type": "markdown",
      "metadata": {
        "id": "MJFUxd06YdqY",
        "colab_type": "text"
      },
      "source": [
        "# Structs\n",
        "Julia supports structs, which hold multiple named fields, a bit like named tuples:"
      ]
    },
    {
      "cell_type": "code",
      "metadata": {
        "id": "WhCs3HtJZK95",
        "colab_type": "code",
        "colab": {}
      },
      "source": [
        "struct Person\n",
        "    name\n",
        "    age\n",
        "end"
      ],
      "execution_count": null,
      "outputs": []
    },
    {
      "cell_type": "markdown",
      "metadata": {
        "id": "G5oQzSt9Zx3L",
        "colab_type": "text"
      },
      "source": [
        "Structs have a default constructor, which expects all the field values, in order:"
      ]
    },
    {
      "cell_type": "code",
      "metadata": {
        "id": "aXISSlv5Z8l6",
        "colab_type": "code",
        "colab": {
          "base_uri": "https://localhost:8080/",
          "height": 34
        },
        "outputId": "ab95ffcd-ecc4-4da8-8d1f-71bc97a859cc"
      },
      "source": [
        "p = Person(\"Mary\", 30)"
      ],
      "execution_count": null,
      "outputs": [
        {
          "output_type": "execute_result",
          "data": {
            "text/plain": [
              "Person(\"Mary\", 30)"
            ]
          },
          "metadata": {
            "tags": []
          },
          "execution_count": 99
        }
      ]
    },
    {
      "cell_type": "code",
      "metadata": {
        "id": "26v5EQ8YZ-JQ",
        "colab_type": "code",
        "colab": {
          "base_uri": "https://localhost:8080/",
          "height": 34
        },
        "outputId": "7a0e9900-1a32-4f3c-e1be-2baa20b530f1"
      },
      "source": [
        "p.age"
      ],
      "execution_count": null,
      "outputs": [
        {
          "output_type": "execute_result",
          "data": {
            "text/plain": [
              "30"
            ]
          },
          "metadata": {
            "tags": []
          },
          "execution_count": 100
        }
      ]
    },
    {
      "cell_type": "markdown",
      "metadata": {
        "id": "Tq30l3f1dHcn",
        "colab_type": "text"
      },
      "source": [
        "You can create other constructors by creating functions with the same name as the struct:"
      ]
    },
    {
      "cell_type": "code",
      "metadata": {
        "id": "oS_GHuHpdPQx",
        "colab_type": "code",
        "colab": {
          "base_uri": "https://localhost:8080/",
          "height": 34
        },
        "outputId": "fa8301e1-ea55-45e1-cc76-05c5c400b6c2"
      },
      "source": [
        "function Person(name)\n",
        "    Person(name, -1)\n",
        "end\n",
        "\n",
        "function Person()\n",
        "    Person(\"no name\")\n",
        "end\n",
        "\n",
        "p = Person()"
      ],
      "execution_count": null,
      "outputs": [
        {
          "output_type": "execute_result",
          "data": {
            "text/plain": [
              "Person(\"no name\", -1)"
            ]
          },
          "metadata": {
            "tags": []
          },
          "execution_count": 101
        }
      ]
    },
    {
      "cell_type": "markdown",
      "metadata": {
        "id": "MhHkPNXzeMwh",
        "colab_type": "text"
      },
      "source": [
        "This creates two constructors: the second calls the first, which calls the default constructor. Notice that you can create multiple functions with the same name but different arguments. We will discuss this later."
      ]
    },
    {
      "cell_type": "markdown",
      "metadata": {
        "id": "C_qV3JIyeial",
        "colab_type": "text"
      },
      "source": [
        "These two constructors are called \"outer constructors\", since they are defined outside of the definition of the struct. You can also define \"inner constructors\":"
      ]
    },
    {
      "cell_type": "code",
      "metadata": {
        "id": "XuGp8ZJJe13y",
        "colab_type": "code",
        "colab": {
          "base_uri": "https://localhost:8080/",
          "height": 34
        },
        "outputId": "3ed31eab-b426-441f-c957-9b77e1fdd97c"
      },
      "source": [
        "struct Person2\n",
        "    name\n",
        "    age\n",
        "    function Person2(name)\n",
        "        new(name, -1)\n",
        "    end\n",
        "end\n",
        "\n",
        "function Person2()\n",
        "    Person2(\"no name\")\n",
        "end\n",
        "\n",
        "p = Person2()"
      ],
      "execution_count": null,
      "outputs": [
        {
          "output_type": "execute_result",
          "data": {
            "text/plain": [
              "Person2(\"no name\", -1)"
            ]
          },
          "metadata": {
            "tags": []
          },
          "execution_count": 102
        }
      ]
    },
    {
      "cell_type": "markdown",
      "metadata": {
        "id": "m5qB9QHf1MMC",
        "colab_type": "text"
      },
      "source": [
        "This time, the outer constructor calls the inner constructor, which calls the `new()` function. This `new()` function only works in inner constructors, and of course it creates an instance of the struct.\n",
        "\n",
        "When you define inner constructors, they replace the default constructor: "
      ]
    },
    {
      "cell_type": "code",
      "metadata": {
        "id": "_xLhbC9q2vC3",
        "colab_type": "code",
        "colab": {
          "base_uri": "https://localhost:8080/",
          "height": 34
        },
        "outputId": "6707be98-66e2-4947-e487-c3fbf687a145"
      },
      "source": [
        "try\n",
        "    Person2(\"Bob\", 40)\n",
        "catch ex\n",
        "    ex\n",
        "end"
      ],
      "execution_count": null,
      "outputs": [
        {
          "output_type": "execute_result",
          "data": {
            "text/plain": [
              "MethodError(Person2, (\"Bob\", 40), 0x0000000000006cc6)"
            ]
          },
          "metadata": {
            "tags": []
          },
          "execution_count": 103
        }
      ]
    },
    {
      "cell_type": "markdown",
      "metadata": {
        "id": "6eSrsaNi_mQ3",
        "colab_type": "text"
      },
      "source": [
        "Structs usually have very few inner constructors (often just one), which do the heavy duty work, and the checks. Then they may have multiple outer constructors which are mostly there for convenience."
      ]
    },
    {
      "cell_type": "markdown",
      "metadata": {
        "id": "HLJWvFSfaAHi",
        "colab_type": "text"
      },
      "source": [
        "By default, structs are immutable:"
      ]
    },
    {
      "cell_type": "code",
      "metadata": {
        "id": "n9hhxkdvaYOY",
        "colab_type": "code",
        "colab": {
          "base_uri": "https://localhost:8080/",
          "height": 34
        },
        "outputId": "30e8cc93-316b-4038-88b9-c4761d8a5066"
      },
      "source": [
        "try\n",
        "    p.name = \"Someone\"\n",
        "catch ex\n",
        "    ex\n",
        "end"
      ],
      "execution_count": null,
      "outputs": [
        {
          "output_type": "execute_result",
          "data": {
            "text/plain": [
              "ErrorException(\"setfield! immutable struct of type Person2 cannot be changed\")"
            ]
          },
          "metadata": {
            "tags": []
          },
          "execution_count": 104
        }
      ]
    },
    {
      "cell_type": "markdown",
      "metadata": {
        "id": "oqY3EFMKa1Px",
        "colab_type": "text"
      },
      "source": [
        "However, it is possible to define a mutable struct:"
      ]
    },
    {
      "cell_type": "code",
      "metadata": {
        "id": "S5cNqzAma5H_",
        "colab_type": "code",
        "colab": {
          "base_uri": "https://localhost:8080/",
          "height": 34
        },
        "outputId": "b37047fa-652d-43c9-e93a-b6cd144b5097"
      },
      "source": [
        "mutable struct Person3\n",
        "    name\n",
        "    age\n",
        "end\n",
        "\n",
        "p = Person3(\"Lucy\", 79)\n",
        "p.age += 1\n",
        "p"
      ],
      "execution_count": null,
      "outputs": [
        {
          "output_type": "execute_result",
          "data": {
            "text/plain": [
              "Person3(\"Lucy\", 80)"
            ]
          },
          "metadata": {
            "tags": []
          },
          "execution_count": 105
        }
      ]
    },
    {
      "cell_type": "markdown",
      "metadata": {
        "id": "XcMyQq4r7eam",
        "colab_type": "text"
      },
      "source": [
        "Structs look a lot like Python classes, with instance variables and constructors, but where are the methods? We will discuss this later, in the \"Methods\" section."
      ]
    },
    {
      "cell_type": "markdown",
      "metadata": {
        "id": "sXEjDf7jBjJi",
        "colab_type": "text"
      },
      "source": [
        "# Arrays\n",
        "\n",
        "Let's create a small array:"
      ]
    },
    {
      "cell_type": "code",
      "metadata": {
        "id": "UFhriSyixCMX",
        "colab_type": "code",
        "colab": {
          "base_uri": "https://localhost:8080/",
          "height": 102
        },
        "outputId": "504ad9b0-0d02-4dcc-9aff-d34ae4d874b9"
      },
      "source": [
        "a = [1, 4, 9, 16]"
      ],
      "execution_count": null,
      "outputs": [
        {
          "output_type": "execute_result",
          "data": {
            "text/plain": [
              "4-element Array{Int64,1}:\n",
              "  1\n",
              "  4\n",
              "  9\n",
              " 16"
            ]
          },
          "metadata": {
            "tags": []
          },
          "execution_count": 106
        }
      ]
    },
    {
      "cell_type": "markdown",
      "metadata": {
        "id": "owVeZ9nLR2on",
        "colab_type": "text"
      },
      "source": [
        "Indexing and assignments work as you would expect:"
      ]
    },
    {
      "cell_type": "code",
      "metadata": {
        "id": "yM4mNBfKR81J",
        "colab_type": "code",
        "colab": {
          "base_uri": "https://localhost:8080/",
          "height": 102
        },
        "outputId": "52580b61-b6d0-4f4c-8f56-ebbba7193b76"
      },
      "source": [
        "a[1] = 10\n",
        "a[2:3] = [20, 30]\n",
        "a"
      ],
      "execution_count": null,
      "outputs": [
        {
          "output_type": "execute_result",
          "data": {
            "text/plain": [
              "4-element Array{Int64,1}:\n",
              " 10\n",
              " 20\n",
              " 30\n",
              " 16"
            ]
          },
          "metadata": {
            "tags": []
          },
          "execution_count": 107
        }
      ]
    },
    {
      "cell_type": "markdown",
      "metadata": {
        "id": "bv_tPMOhxHtK",
        "colab_type": "text"
      },
      "source": [
        "## Element Type\n",
        "Since we used only integers when creating the array, Julia inferred that the array is only meant to hold integers (NumPy arrays behave the same way). Let's try adding a string:"
      ]
    },
    {
      "cell_type": "code",
      "metadata": {
        "id": "XBiagA9b_YPR",
        "colab_type": "code",
        "colab": {
          "base_uri": "https://localhost:8080/",
          "height": 34
        },
        "outputId": "cdac92c6-9673-47a8-d8f0-380846679ec6"
      },
      "source": [
        "try\n",
        "  a[3] = \"Three\"\n",
        "catch ex\n",
        "  ex\n",
        "end"
      ],
      "execution_count": null,
      "outputs": [
        {
          "output_type": "execute_result",
          "data": {
            "text/plain": [
              "MethodError(convert, (Int64, \"Three\"), 0x0000000000006cc7)"
            ]
          },
          "metadata": {
            "tags": []
          },
          "execution_count": 108
        }
      ]
    },
    {
      "cell_type": "markdown",
      "metadata": {
        "id": "T8EJ7y5HAgzz",
        "colab_type": "text"
      },
      "source": [
        "Nope! We get a `MethodError` exception, telling us that Julia could not convert the string `\"Three\"` to a 64-bit integer (we will discuss exceptions later). If we want an array that can hold any type, like Python's lists can, we must prefix the array with `Any`, which is Julia's root type (like `object` in Python):"
      ]
    },
    {
      "cell_type": "code",
      "metadata": {
        "id": "VcsscYgVBX6Z",
        "colab_type": "code",
        "colab": {
          "base_uri": "https://localhost:8080/",
          "height": 102
        },
        "outputId": "51e0cbe3-a6b0-4672-b3a8-218784d18bb6"
      },
      "source": [
        "a = Any[1, 4, 9, 16]\n",
        "a[3] = \"Three\"\n",
        "a"
      ],
      "execution_count": null,
      "outputs": [
        {
          "output_type": "execute_result",
          "data": {
            "text/plain": [
              "4-element Array{Any,1}:\n",
              "  1\n",
              "  4\n",
              "   \"Three\"\n",
              " 16"
            ]
          },
          "metadata": {
            "tags": []
          },
          "execution_count": 109
        }
      ]
    },
    {
      "cell_type": "markdown",
      "metadata": {
        "id": "yekHWpLFPWUO",
        "colab_type": "text"
      },
      "source": [
        "Prefixing with `Float64`, or `String` or any other type works as well:"
      ]
    },
    {
      "cell_type": "code",
      "metadata": {
        "id": "hR9x5VEmPfgO",
        "colab_type": "code",
        "colab": {
          "base_uri": "https://localhost:8080/",
          "height": 102
        },
        "outputId": "2b74ecba-0089-45f8-f288-fb09b5eae8f8"
      },
      "source": [
        "Float64[1, 4, 9, 16]"
      ],
      "execution_count": null,
      "outputs": [
        {
          "output_type": "execute_result",
          "data": {
            "text/plain": [
              "4-element Array{Float64,1}:\n",
              "  1.0\n",
              "  4.0\n",
              "  9.0\n",
              " 16.0"
            ]
          },
          "metadata": {
            "tags": []
          },
          "execution_count": 110
        }
      ]
    },
    {
      "cell_type": "markdown",
      "metadata": {
        "id": "8-2ahduHoiRh",
        "colab_type": "text"
      },
      "source": [
        "An empty array is automatically an `Any` array:"
      ]
    },
    {
      "cell_type": "code",
      "metadata": {
        "id": "eDMPVf5Oolnk",
        "colab_type": "code",
        "colab": {
          "base_uri": "https://localhost:8080/",
          "height": 34
        },
        "outputId": "f37ec654-d7c2-4832-80f8-d047d2671ace"
      },
      "source": [
        "a = []"
      ],
      "execution_count": null,
      "outputs": [
        {
          "output_type": "execute_result",
          "data": {
            "text/plain": [
              "Any[]"
            ]
          },
          "metadata": {
            "tags": []
          },
          "execution_count": 111
        }
      ]
    },
    {
      "cell_type": "markdown",
      "metadata": {
        "id": "zY4m8VX2PmXq",
        "colab_type": "text"
      },
      "source": [
        "You can use the `eltype()` function to get an array's element type (the equivalent of NumPy arrays' `dtype`):"
      ]
    },
    {
      "cell_type": "code",
      "metadata": {
        "id": "zZN9rtpEPvGV",
        "colab_type": "code",
        "colab": {
          "base_uri": "https://localhost:8080/",
          "height": 34
        },
        "outputId": "73eb8a41-f370-450e-c384-cf658396ec62"
      },
      "source": [
        "eltype([1, 4, 9, 16])"
      ],
      "execution_count": null,
      "outputs": [
        {
          "output_type": "execute_result",
          "data": {
            "text/plain": [
              "Int64"
            ]
          },
          "metadata": {
            "tags": []
          },
          "execution_count": 112
        }
      ]
    },
    {
      "cell_type": "markdown",
      "metadata": {
        "id": "RXavtfEvyx-I",
        "colab_type": "text"
      },
      "source": [
        "If you create an array containing objects of different types, Julia will do its best to use a type that can hold all the values as precisely as possible. For example, a mix of integers and floats results in a float array:"
      ]
    },
    {
      "cell_type": "code",
      "metadata": {
        "id": "jovRNC9tzaWj",
        "colab_type": "code",
        "colab": {
          "base_uri": "https://localhost:8080/",
          "height": 102
        },
        "outputId": "9b80c222-7f1c-496b-9d44-d06732cc4d2e"
      },
      "source": [
        "[1, 2, 3.0, 4.0]"
      ],
      "execution_count": null,
      "outputs": [
        {
          "output_type": "execute_result",
          "data": {
            "text/plain": [
              "4-element Array{Float64,1}:\n",
              " 1.0\n",
              " 2.0\n",
              " 3.0\n",
              " 4.0"
            ]
          },
          "metadata": {
            "tags": []
          },
          "execution_count": 113
        }
      ]
    },
    {
      "cell_type": "markdown",
      "metadata": {
        "id": "Z8vqDB0U0A4p",
        "colab_type": "text"
      },
      "source": [
        "This is similar to NumPy's behavior:\n",
        "\n",
        "```python\n",
        "# PYTHON\n",
        "np.array([1, 2, 3.0, 4.0]) # => array([1., 2., 3., 4.])\n",
        "```\n",
        "\n",
        "A mix of unrelated types results in an `Any` array:"
      ]
    },
    {
      "cell_type": "code",
      "metadata": {
        "id": "pgT5mGcV0Rrc",
        "colab_type": "code",
        "colab": {
          "base_uri": "https://localhost:8080/",
          "height": 102
        },
        "outputId": "26f05239-1668-4784-da3b-4701f248c5f1"
      },
      "source": [
        "[1, 2, \"Three\", 4]"
      ],
      "execution_count": null,
      "outputs": [
        {
          "output_type": "execute_result",
          "data": {
            "text/plain": [
              "4-element Array{Any,1}:\n",
              " 1\n",
              " 2\n",
              "  \"Three\"\n",
              " 4"
            ]
          },
          "metadata": {
            "tags": []
          },
          "execution_count": 114
        }
      ]
    },
    {
      "cell_type": "markdown",
      "metadata": {
        "id": "qqUknXIGB2r7",
        "colab_type": "text"
      },
      "source": [
        "If you want to live in a world without type constraints, you can prefix all you arrays with `Any`, and you will feel like you're coding in Python. But I don't recommend it: the compiler can perform a bunch of optimizations when it knows exactly the type and size of the data the program will handle, so it will run much faster. So when you create an empty array but you know the type of the values it will contain, you might as well prefix it with that type (you don't have to, but it will speed up your program)."
      ]
    },
    {
      "cell_type": "markdown",
      "metadata": {
        "id": "3oo7WzpiQB_h",
        "colab_type": "text"
      },
      "source": [
        "## Push and Pop\n",
        "To append elements to an array, use the `push!()` function. By convention, functions whose name ends with a bang `!` may modify their arguments:"
      ]
    },
    {
      "cell_type": "code",
      "metadata": {
        "id": "m2vQfFEVCxII",
        "colab_type": "code",
        "colab": {
          "base_uri": "https://localhost:8080/",
          "height": 102
        },
        "outputId": "047b8a77-94bd-4c9b-910a-ad4c3bfb23b3"
      },
      "source": [
        "a = [1]\n",
        "push!(a, 4)\n",
        "push!(a, 9, 16)"
      ],
      "execution_count": null,
      "outputs": [
        {
          "output_type": "execute_result",
          "data": {
            "text/plain": [
              "4-element Array{Int64,1}:\n",
              "  1\n",
              "  4\n",
              "  9\n",
              " 16"
            ]
          },
          "metadata": {
            "tags": []
          },
          "execution_count": 115
        }
      ]
    },
    {
      "cell_type": "markdown",
      "metadata": {
        "id": "2U8zIXG-cUge",
        "colab_type": "text"
      },
      "source": [
        "This is similar to the following Python code:\n",
        "\n",
        "```python\n",
        "# PYTHON\n",
        "a = [1]\n",
        "a.append(4)\n",
        "a.extend([9, 16]) # or simply a += [9, 16]\n",
        "```"
      ]
    },
    {
      "cell_type": "markdown",
      "metadata": {
        "id": "CCWoFNINU15g",
        "colab_type": "text"
      },
      "source": [
        "And `pop!()` works like in Python:"
      ]
    },
    {
      "cell_type": "code",
      "metadata": {
        "id": "ie0iAIHtSXIW",
        "colab_type": "code",
        "colab": {
          "base_uri": "https://localhost:8080/",
          "height": 34
        },
        "outputId": "9eebaa7d-7a57-4a55-f955-49ab3b9c6ef3"
      },
      "source": [
        "pop!(a)"
      ],
      "execution_count": null,
      "outputs": [
        {
          "output_type": "execute_result",
          "data": {
            "text/plain": [
              "16"
            ]
          },
          "metadata": {
            "tags": []
          },
          "execution_count": 116
        }
      ]
    },
    {
      "cell_type": "markdown",
      "metadata": {
        "id": "0W67Y7JhVA3_",
        "colab_type": "text"
      },
      "source": [
        "Equivalent to:\n",
        "\n",
        "```python\n",
        "# PYTHON\n",
        "a.pop()\n",
        "```"
      ]
    },
    {
      "cell_type": "markdown",
      "metadata": {
        "id": "mY0L1GG_Upxz",
        "colab_type": "text"
      },
      "source": [
        "There are many more functions you can call on an array. We will see later how to find them."
      ]
    },
    {
      "cell_type": "markdown",
      "metadata": {
        "id": "4ZScNi5Rv8cM",
        "colab_type": "text"
      },
      "source": [
        "## Multidimensional Arrays\n",
        "Importantly, NumPy arrays can be multidimensional, just like NumPy arrays:"
      ]
    },
    {
      "cell_type": "code",
      "metadata": {
        "id": "hxfUbTc3wBob",
        "colab_type": "code",
        "colab": {
          "base_uri": "https://localhost:8080/",
          "height": 85
        },
        "outputId": "cec66d3a-e833-4939-f9de-23e1b0caeedb"
      },
      "source": [
        "M = [1   2   3   4\n",
        "     5   6   7   8\n",
        "     9  10  11  12]"
      ],
      "execution_count": null,
      "outputs": [
        {
          "output_type": "execute_result",
          "data": {
            "text/plain": [
              "3×4 Array{Int64,2}:\n",
              " 1   2   3   4\n",
              " 5   6   7   8\n",
              " 9  10  11  12"
            ]
          },
          "metadata": {
            "tags": []
          },
          "execution_count": 117
        }
      ]
    },
    {
      "cell_type": "markdown",
      "metadata": {
        "id": "sFlaq_4kwbde",
        "colab_type": "text"
      },
      "source": [
        "Another syntax for this is:"
      ]
    },
    {
      "cell_type": "code",
      "metadata": {
        "id": "wetBEg8HwhWJ",
        "colab_type": "code",
        "colab": {
          "base_uri": "https://localhost:8080/",
          "height": 85
        },
        "outputId": "446999de-53a9-462c-fe2c-b46f0de45e9b"
      },
      "source": [
        "M = [1 2 3 4; 5 6 7 8; 9 10 11 12]"
      ],
      "execution_count": null,
      "outputs": [
        {
          "output_type": "execute_result",
          "data": {
            "text/plain": [
              "3×4 Array{Int64,2}:\n",
              " 1   2   3   4\n",
              " 5   6   7   8\n",
              " 9  10  11  12"
            ]
          },
          "metadata": {
            "tags": []
          },
          "execution_count": 118
        }
      ]
    },
    {
      "cell_type": "markdown",
      "metadata": {
        "id": "atfjWzUmwIgw",
        "colab_type": "text"
      },
      "source": [
        "You can index them much like NumPy arrays:"
      ]
    },
    {
      "cell_type": "code",
      "metadata": {
        "id": "GhtdjnYQwLka",
        "colab_type": "code",
        "colab": {
          "base_uri": "https://localhost:8080/",
          "height": 68
        },
        "outputId": "46605f81-5c89-43df-bf0c-a47cebf02dba"
      },
      "source": [
        "M[2:3, 3:4]"
      ],
      "execution_count": null,
      "outputs": [
        {
          "output_type": "execute_result",
          "data": {
            "text/plain": [
              "2×2 Array{Int64,2}:\n",
              "  7   8\n",
              " 11  12"
            ]
          },
          "metadata": {
            "tags": []
          },
          "execution_count": 119
        }
      ]
    },
    {
      "cell_type": "markdown",
      "metadata": {
        "id": "4frazS3zXPQT",
        "colab_type": "text"
      },
      "source": [
        "You can transpose a matrix using the \"adjoint\" operator `'`:"
      ]
    },
    {
      "cell_type": "code",
      "metadata": {
        "id": "ydWdJ1eFXVbJ",
        "colab_type": "code",
        "colab": {
          "base_uri": "https://localhost:8080/",
          "height": 102
        },
        "outputId": "a65ba521-4113-4612-aa72-569699cfd6fa"
      },
      "source": [
        "M'"
      ],
      "execution_count": null,
      "outputs": [
        {
          "output_type": "execute_result",
          "data": {
            "text/plain": [
              "4×3 LinearAlgebra.Adjoint{Int64,Array{Int64,2}}:\n",
              " 1  5   9\n",
              " 2  6  10\n",
              " 3  7  11\n",
              " 4  8  12"
            ]
          },
          "metadata": {
            "tags": []
          },
          "execution_count": 120
        }
      ]
    },
    {
      "cell_type": "markdown",
      "metadata": {
        "id": "A032EIww_NsU",
        "colab_type": "text"
      },
      "source": [
        "As you can see, Julia arrays are closer to NumPy arrays than to Python lists.\n"
      ]
    },
    {
      "cell_type": "markdown",
      "metadata": {
        "id": "NnY2DL_YCPmZ",
        "colab_type": "text"
      },
      "source": [
        "Arrays can be concatenated vertically using the `vcat()` function:"
      ]
    },
    {
      "cell_type": "code",
      "metadata": {
        "id": "pTazNcWZ_-8e",
        "colab_type": "code",
        "colab": {
          "base_uri": "https://localhost:8080/",
          "height": 102
        },
        "outputId": "69be96cc-3c81-474d-d42b-f1e3498e660b"
      },
      "source": [
        "M1 = [1 2\n",
        "      3 4]\n",
        "M2 = [5 6\n",
        "      7 8]\n",
        "vcat(M1, M2)"
      ],
      "execution_count": null,
      "outputs": [
        {
          "output_type": "execute_result",
          "data": {
            "text/plain": [
              "4×2 Array{Int64,2}:\n",
              " 1  2\n",
              " 3  4\n",
              " 5  6\n",
              " 7  8"
            ]
          },
          "metadata": {
            "tags": []
          },
          "execution_count": 121
        }
      ]
    },
    {
      "cell_type": "markdown",
      "metadata": {
        "id": "GPjPb-cCCZI5",
        "colab_type": "text"
      },
      "source": [
        "Alternatively, you can use the `[M1; M2]` syntax:"
      ]
    },
    {
      "cell_type": "code",
      "metadata": {
        "id": "DOnN1wVOCp9z",
        "colab_type": "code",
        "colab": {
          "base_uri": "https://localhost:8080/",
          "height": 102
        },
        "outputId": "233de7b9-ef14-4d38-cb8f-0293f1511e89"
      },
      "source": [
        "[M1; M2]"
      ],
      "execution_count": null,
      "outputs": [
        {
          "output_type": "execute_result",
          "data": {
            "text/plain": [
              "4×2 Array{Int64,2}:\n",
              " 1  2\n",
              " 3  4\n",
              " 5  6\n",
              " 7  8"
            ]
          },
          "metadata": {
            "tags": []
          },
          "execution_count": 122
        }
      ]
    },
    {
      "cell_type": "markdown",
      "metadata": {
        "id": "wvq9sUdOCtJR",
        "colab_type": "text"
      },
      "source": [
        "To concatenate arrays horizontally, use `hcat()`:"
      ]
    },
    {
      "cell_type": "code",
      "metadata": {
        "id": "Xj7s5cedCLJy",
        "colab_type": "code",
        "colab": {
          "base_uri": "https://localhost:8080/",
          "height": 68
        },
        "outputId": "2f168765-fc58-4e87-d927-6c0ab6499456"
      },
      "source": [
        "hcat(M1, M2)"
      ],
      "execution_count": null,
      "outputs": [
        {
          "output_type": "execute_result",
          "data": {
            "text/plain": [
              "2×4 Array{Int64,2}:\n",
              " 1  2  5  6\n",
              " 3  4  7  8"
            ]
          },
          "metadata": {
            "tags": []
          },
          "execution_count": 123
        }
      ]
    },
    {
      "cell_type": "markdown",
      "metadata": {
        "id": "ciffAqpeC2dX",
        "colab_type": "text"
      },
      "source": [
        "Or you can use the `[M1 M2]` syntax:"
      ]
    },
    {
      "cell_type": "code",
      "metadata": {
        "id": "XxSWzDXhC08W",
        "colab_type": "code",
        "colab": {
          "base_uri": "https://localhost:8080/",
          "height": 68
        },
        "outputId": "eac009c4-29a2-45c0-9542-96087ef6dac0"
      },
      "source": [
        "[M1 M2]"
      ],
      "execution_count": null,
      "outputs": [
        {
          "output_type": "execute_result",
          "data": {
            "text/plain": [
              "2×4 Array{Int64,2}:\n",
              " 1  2  5  6\n",
              " 3  4  7  8"
            ]
          },
          "metadata": {
            "tags": []
          },
          "execution_count": 124
        }
      ]
    },
    {
      "cell_type": "markdown",
      "metadata": {
        "id": "OhQoXAiyGge9",
        "colab_type": "text"
      },
      "source": [
        "You can combine horizontal and vertical concatenation:"
      ]
    },
    {
      "cell_type": "code",
      "metadata": {
        "id": "ra4Xe-Cv_PKl",
        "colab_type": "code",
        "colab": {
          "base_uri": "https://localhost:8080/",
          "height": 85
        },
        "outputId": "8902133a-8191-4b02-a853-b972d2066089"
      },
      "source": [
        "M3 = [9 10 11 12]\n",
        "[M1 M2; M3]"
      ],
      "execution_count": null,
      "outputs": [
        {
          "output_type": "execute_result",
          "data": {
            "text/plain": [
              "3×4 Array{Int64,2}:\n",
              " 1   2   5   6\n",
              " 3   4   7   8\n",
              " 9  10  11  12"
            ]
          },
          "metadata": {
            "tags": []
          },
          "execution_count": 125
        }
      ]
    },
    {
      "cell_type": "markdown",
      "metadata": {
        "id": "sQllnyjlIBfB",
        "colab_type": "text"
      },
      "source": [
        "Equivalently, you can call the `hvcat()` function. The first argument specifies the number of arguments to concatenate in each block row:"
      ]
    },
    {
      "cell_type": "code",
      "metadata": {
        "id": "Lv63KdpLEN4N",
        "colab_type": "code",
        "colab": {
          "base_uri": "https://localhost:8080/",
          "height": 85
        },
        "outputId": "c09911c7-a04d-4dc5-91e0-947bde7b82ad"
      },
      "source": [
        "hvcat((2, 1), M1, M2, M3)"
      ],
      "execution_count": null,
      "outputs": [
        {
          "output_type": "execute_result",
          "data": {
            "text/plain": [
              "3×4 Array{Int64,2}:\n",
              " 1   2   5   6\n",
              " 3   4   7   8\n",
              " 9  10  11  12"
            ]
          },
          "metadata": {
            "tags": []
          },
          "execution_count": 126
        }
      ]
    },
    {
      "cell_type": "markdown",
      "metadata": {
        "id": "e40Z6cdzWM2K",
        "colab_type": "text"
      },
      "source": [
        "`hvcat()` is useful to create a single cell matrix:"
      ]
    },
    {
      "cell_type": "code",
      "metadata": {
        "id": "KP-WjRlPzzSR",
        "colab_type": "code",
        "colab": {
          "base_uri": "https://localhost:8080/",
          "height": 51
        },
        "outputId": "cc3cab64-adcc-45fc-9000-1c50069fe744"
      },
      "source": [
        "hvcat(1, 42)"
      ],
      "execution_count": null,
      "outputs": [
        {
          "output_type": "execute_result",
          "data": {
            "text/plain": [
              "1×1 Array{Int64,2}:\n",
              " 42"
            ]
          },
          "metadata": {
            "tags": []
          },
          "execution_count": 127
        }
      ]
    },
    {
      "cell_type": "markdown",
      "metadata": {
        "id": "4xWYHOGgzvOr",
        "colab_type": "text"
      },
      "source": [
        " Or a column vector (i.e., an _n_×1 matrix = a matrix with a single column):"
      ]
    },
    {
      "cell_type": "code",
      "metadata": {
        "id": "NhVPed-TWW6b",
        "colab_type": "code",
        "colab": {
          "base_uri": "https://localhost:8080/",
          "height": 85
        },
        "outputId": "fa163989-f89a-46d7-f3d7-dd00f88e0d22"
      },
      "source": [
        "hvcat((1, 1, 1), 10, 11, 12) # a column vector with values 10, 11, 12\n",
        "hvcat(1, 10, 11, 12) # equivalent to the previous line"
      ],
      "execution_count": null,
      "outputs": [
        {
          "output_type": "execute_result",
          "data": {
            "text/plain": [
              "3×1 Array{Int64,2}:\n",
              " 10\n",
              " 11\n",
              " 12"
            ]
          },
          "metadata": {
            "tags": []
          },
          "execution_count": 128
        }
      ]
    },
    {
      "cell_type": "markdown",
      "metadata": {
        "id": "pVTtq2RyWfSD",
        "colab_type": "text"
      },
      "source": [
        "Alternatively, you can transpose a row vector (but `hvcat()` is a bit faster):"
      ]
    },
    {
      "cell_type": "code",
      "metadata": {
        "id": "9d8inKAGWjTr",
        "colab_type": "code",
        "colab": {
          "base_uri": "https://localhost:8080/",
          "height": 85
        },
        "outputId": "ca11957d-ecb4-457b-dc62-9d194539e44f"
      },
      "source": [
        "[10 11 12]'"
      ],
      "execution_count": null,
      "outputs": [
        {
          "output_type": "execute_result",
          "data": {
            "text/plain": [
              "3×1 LinearAlgebra.Adjoint{Int64,Array{Int64,2}}:\n",
              " 10\n",
              " 11\n",
              " 12"
            ]
          },
          "metadata": {
            "tags": []
          },
          "execution_count": 129
        }
      ]
    },
    {
      "cell_type": "markdown",
      "metadata": {
        "id": "f75W5yn5OiEC",
        "colab_type": "text"
      },
      "source": [
        "The REPL and IJulia call `display()` to print the result of the last expression in a cell (except when it is `nothing`). It is fairly verbose:"
      ]
    },
    {
      "cell_type": "code",
      "metadata": {
        "id": "9zTEV0mpOzm9",
        "colab_type": "code",
        "colab": {
          "base_uri": "https://localhost:8080/",
          "height": 102
        },
        "outputId": "493cfdc4-b1a6-4cc1-b75e-2425d3222c9d"
      },
      "source": [
        "display([1, 2, 3, 4])"
      ],
      "execution_count": null,
      "outputs": [
        {
          "output_type": "display_data",
          "data": {
            "text/plain": [
              "4-element Array{Int64,1}:\n",
              " 1\n",
              " 2\n",
              " 3\n",
              " 4"
            ]
          },
          "metadata": {
            "tags": []
          }
        }
      ]
    },
    {
      "cell_type": "markdown",
      "metadata": {
        "id": "gMWooHYTO7NU",
        "colab_type": "text"
      },
      "source": [
        "The `println()` function is more concise, but be careful not to confuse vectors, column vectors and row vectors (printed with commas, semi-colons and spaces, respectively):"
      ]
    },
    {
      "cell_type": "code",
      "metadata": {
        "id": "Xw2He_XbPQbz",
        "colab_type": "code",
        "colab": {
          "base_uri": "https://localhost:8080/",
          "height": 85
        },
        "outputId": "aac1a300-8d05-4b65-a33f-625bcaaef0a2"
      },
      "source": [
        "println(\"Vector: \", [1, 2, 3, 4])\n",
        "println(\"Column vector: \", hvcat(1, 1, 2, 3, 4))\n",
        "println(\"Row vector: \", [1 2 3 4])\n",
        "println(\"Matrix: \", [1 2 3; 4 5 6])"
      ],
      "execution_count": null,
      "outputs": [
        {
          "output_type": "stream",
          "text": [
            "Vector: [1, 2, 3, 4]\n",
            "Column vector: [1; 2; 3; 4]\n",
            "Row vector: [1 2 3 4]\n",
            "Matrix: [1 2 3; 4 5 6]\n"
          ],
          "name": "stdout"
        }
      ]
    },
    {
      "cell_type": "markdown",
      "metadata": {
        "id": "8yjMLNP2M3Ip",
        "colab_type": "text"
      },
      "source": [
        "Although column vectors are printed as `[1; 2; 3; 4]`, evaluating `[1; 2; 3; 4]` will give you a regular vector. That's because `[x;y]` concatenates `x` and `y` vertically, and if `x` and `y` are scalars or vectors, you just get a regular vector."
      ]
    },
    {
      "cell_type": "markdown",
      "metadata": {
        "id": "bdnpqswqyrp8",
        "colab_type": "text"
      },
      "source": [
        "|Julia|Python\n",
        "|-----|------\n",
        "|`a = [1, 2, 3]` | `a = [1, 2, 3]`<br />or<br />`import numpy as np`<br />`np.array([1, 2, 3])`\n",
        "|`a[1]` | `a[0]`\n",
        "|`a[end]` | `a[-1]`\n",
        "|`a[2:end-1]` | `a[1:-1]`\n",
        "|`push!(a, 5)` | `a.append(5)`\n",
        "|`pop!(a)` | `a.pop()`\n",
        "|`M = [1 2 3]` | `np.array([[1, 2, 3]])`\n",
        "|`M = [1 2 3]'` | `np.array([[1, 2, 3]]).T`\n",
        "|`M = hvcat(1,  1, 2, 3)` | `np.array([[1], [2], [3]])`\n",
        "|`M = [1 2 3`<br />&nbsp; &nbsp; &nbsp; &nbsp; &nbsp; &nbsp;`4 5 6]`<br />or<br />`M = [1 2 3; 4 5 6]` | `M = np.array([[1,2,3], [4,5,6]])`\n",
        "|`M[1:2, 2:3]` | `M[0:2, 1:3]`\n",
        "|`[M1; M2]` | `np.r_[M1, M2]`\n",
        "|`[M1  M2]` | `np.c_[M1, M2]`\n",
        "|`[M1 M2; M3]` | `np.r_[np.c_[M1, M2], M3]`\n"
      ]
    },
    {
      "cell_type": "markdown",
      "metadata": {
        "id": "raewgAnU9YIv",
        "colab_type": "text"
      },
      "source": [
        "## Comprehensions\n",
        "List comprehensions are available in Julia, just like in Python (they're usually just called \"comprehensions\" in Julia):"
      ]
    },
    {
      "cell_type": "code",
      "metadata": {
        "id": "H8B6Tk429aTV",
        "colab_type": "code",
        "colab": {
          "base_uri": "https://localhost:8080/",
          "height": 102
        },
        "outputId": "939638d0-3cd1-44f6-96e7-f7cb0bc91d13"
      },
      "source": [
        "a = [x^2 for x in 1:4]"
      ],
      "execution_count": null,
      "outputs": [
        {
          "output_type": "execute_result",
          "data": {
            "text/plain": [
              "4-element Array{Int64,1}:\n",
              "  1\n",
              "  4\n",
              "  9\n",
              " 16"
            ]
          },
          "metadata": {
            "tags": []
          },
          "execution_count": 132
        }
      ]
    },
    {
      "cell_type": "markdown",
      "metadata": {
        "id": "1W4O8W3bQsIn",
        "colab_type": "text"
      },
      "source": [
        "You can filter elements using an `if` clause, just like in Python:"
      ]
    },
    {
      "cell_type": "code",
      "metadata": {
        "id": "pK4bZX6LQzNF",
        "colab_type": "code",
        "colab": {
          "base_uri": "https://localhost:8080/",
          "height": 85
        },
        "outputId": "ed1d013b-9771-41cf-9bd1-a94ecdbb1efc"
      },
      "source": [
        "a = [x^2 for x in 1:5 if x ∉ (2, 4)]"
      ],
      "execution_count": null,
      "outputs": [
        {
          "output_type": "execute_result",
          "data": {
            "text/plain": [
              "3-element Array{Int64,1}:\n",
              "  1\n",
              "  9\n",
              " 25"
            ]
          },
          "metadata": {
            "tags": []
          },
          "execution_count": 133
        }
      ]
    },
    {
      "cell_type": "markdown",
      "metadata": {
        "id": "E6UjXo-wRpdf",
        "colab_type": "text"
      },
      "source": [
        "* `a ∉ b` is equivalent to `!(a in b)` (or `a not in b` in Python). You can type `∉` with `\\notin<tab>`\n",
        "* `a ∈ b` is equivalent to `a in b`. You can type it with `\\notin<tab>`"
      ]
    },
    {
      "cell_type": "markdown",
      "metadata": {
        "id": "6R3umUN4Qq1x",
        "colab_type": "text"
      },
      "source": [
        "In Julia, comprehensions can contain nested loops, just like in Python:"
      ]
    },
    {
      "cell_type": "code",
      "metadata": {
        "id": "o7-yPeiSlY96",
        "colab_type": "code",
        "colab": {
          "base_uri": "https://localhost:8080/",
          "height": 136
        },
        "outputId": "2adc0e0e-ffa5-4525-e525-7e80f66dfac7"
      },
      "source": [
        "a = [(i,j) for i in 1:3 for j in 1:i]"
      ],
      "execution_count": null,
      "outputs": [
        {
          "output_type": "execute_result",
          "data": {
            "text/plain": [
              "6-element Array{Tuple{Int64,Int64},1}:\n",
              " (1, 1)\n",
              " (2, 1)\n",
              " (2, 2)\n",
              " (3, 1)\n",
              " (3, 2)\n",
              " (3, 3)"
            ]
          },
          "metadata": {
            "tags": []
          },
          "execution_count": 134
        }
      ]
    },
    {
      "cell_type": "markdown",
      "metadata": {
        "id": "tgmDLO9-ljg2",
        "colab_type": "text"
      },
      "source": [
        "Here's the corresponding Python code:\n",
        "\n",
        "```python\n",
        "# PYTHON\n",
        "a = [(i, j) for i in range(1, 4) for j in range(1, i+1)]\n",
        "```"
      ]
    },
    {
      "cell_type": "markdown",
      "metadata": {
        "id": "1d06vVpLi9pS",
        "colab_type": "text"
      },
      "source": [
        "Julia comprehensions can also create multi-dimensional arrays (note the different syntax: there is only one `for`):"
      ]
    },
    {
      "cell_type": "code",
      "metadata": {
        "id": "gx9M3oLFjHsp",
        "colab_type": "code",
        "colab": {
          "base_uri": "https://localhost:8080/",
          "height": 85
        },
        "outputId": "d73f10c0-697e-4691-c7d5-e0357214542d"
      },
      "source": [
        "a = [row * col for row in 1:3, col in 1:5]"
      ],
      "execution_count": null,
      "outputs": [
        {
          "output_type": "execute_result",
          "data": {
            "text/plain": [
              "3×5 Array{Int64,2}:\n",
              " 1  2  3   4   5\n",
              " 2  4  6   8  10\n",
              " 3  6  9  12  15"
            ]
          },
          "metadata": {
            "tags": []
          },
          "execution_count": 135
        }
      ]
    },
    {
      "cell_type": "markdown",
      "metadata": {
        "id": "8_MgIEMeg69D",
        "colab_type": "text"
      },
      "source": [
        "# Dictionaries\n",
        "The syntax for dictionaries is a bit different than Python:"
      ]
    },
    {
      "cell_type": "code",
      "metadata": {
        "id": "IwBc2os7g9Yr",
        "colab_type": "code",
        "colab": {
          "base_uri": "https://localhost:8080/",
          "height": 34
        },
        "outputId": "08a69648-fd0b-461f-b186-707e3db6894f"
      },
      "source": [
        "d = Dict(\"tree\"=>\"arbre\", \"love\"=>\"amour\", \"coffee\"=>\"café\")\n",
        "println(d[\"tree\"])"
      ],
      "execution_count": null,
      "outputs": [
        {
          "output_type": "stream",
          "text": [
            "arbre\n"
          ],
          "name": "stdout"
        }
      ]
    },
    {
      "cell_type": "code",
      "metadata": {
        "id": "rZoY383Qhaus",
        "colab_type": "code",
        "colab": {
          "base_uri": "https://localhost:8080/",
          "height": 34
        },
        "outputId": "1d4af197-6f8b-4084-9dac-3a5003c6219c"
      },
      "source": [
        "println(get(d, \"unknown\", \"pardon?\"))"
      ],
      "execution_count": null,
      "outputs": [
        {
          "output_type": "stream",
          "text": [
            "pardon?\n"
          ],
          "name": "stdout"
        }
      ]
    },
    {
      "cell_type": "code",
      "metadata": {
        "id": "GOk28cgEjsjG",
        "colab_type": "code",
        "colab": {
          "base_uri": "https://localhost:8080/",
          "height": 85
        },
        "outputId": "55ab409b-158d-4623-c702-29d2a6a85888"
      },
      "source": [
        "keys(d)"
      ],
      "execution_count": null,
      "outputs": [
        {
          "output_type": "execute_result",
          "data": {
            "text/plain": [
              "Base.KeySet for a Dict{String,String} with 3 entries. Keys:\n",
              "  \"coffee\"\n",
              "  \"tree\"\n",
              "  \"love\""
            ]
          },
          "metadata": {
            "tags": []
          },
          "execution_count": 138
        }
      ]
    },
    {
      "cell_type": "code",
      "metadata": {
        "id": "xrt3-wu7j6TI",
        "colab_type": "code",
        "colab": {
          "base_uri": "https://localhost:8080/",
          "height": 85
        },
        "outputId": "b3cf76f3-24ce-4eca-8201-d3f87bece446"
      },
      "source": [
        "values(d)"
      ],
      "execution_count": null,
      "outputs": [
        {
          "output_type": "execute_result",
          "data": {
            "text/plain": [
              "Base.ValueIterator for a Dict{String,String} with 3 entries. Values:\n",
              "  \"café\"\n",
              "  \"arbre\"\n",
              "  \"amour\""
            ]
          },
          "metadata": {
            "tags": []
          },
          "execution_count": 139
        }
      ]
    },
    {
      "cell_type": "code",
      "metadata": {
        "id": "J2kRT8MGj8Wo",
        "colab_type": "code",
        "colab": {
          "base_uri": "https://localhost:8080/",
          "height": 34
        },
        "outputId": "c2778c92-46ac-4063-98a4-a031a931c28d"
      },
      "source": [
        "haskey(d, \"love\")"
      ],
      "execution_count": null,
      "outputs": [
        {
          "output_type": "execute_result",
          "data": {
            "text/plain": [
              "true"
            ]
          },
          "metadata": {
            "tags": []
          },
          "execution_count": 140
        }
      ]
    },
    {
      "cell_type": "code",
      "metadata": {
        "id": "PABOOmVSkJ6l",
        "colab_type": "code",
        "colab": {
          "base_uri": "https://localhost:8080/",
          "height": 34
        },
        "outputId": "b1f687ad-1e96-48f6-8c3a-57f2265214b6"
      },
      "source": [
        "\"love\" in keys(d) # this is slower than haskey()"
      ],
      "execution_count": null,
      "outputs": [
        {
          "output_type": "execute_result",
          "data": {
            "text/plain": [
              "true"
            ]
          },
          "metadata": {
            "tags": []
          },
          "execution_count": 141
        }
      ]
    },
    {
      "cell_type": "markdown",
      "metadata": {
        "id": "xfL2ZXK6hlEt",
        "colab_type": "text"
      },
      "source": [
        "The equivalent Python code is of course:\n",
        "\n",
        "```python\n",
        "d = {\"tree\": \"arbre\", \"love\": \"amour\", \"coffee\": \"café\"}\n",
        "d[\"tree\"]\n",
        "d.get(\"unknown\", \"pardon?\")\n",
        "d.keys()\n",
        "d.values()\n",
        "\"love\" in d\n",
        "\"love\" in d.keys()\n",
        "```"
      ]
    },
    {
      "cell_type": "markdown",
      "metadata": {
        "id": "8MI_Oti4h2sz",
        "colab_type": "text"
      },
      "source": [
        "Dict comprehensions work as you would expect:"
      ]
    },
    {
      "cell_type": "code",
      "metadata": {
        "id": "ck21M2RIiEWw",
        "colab_type": "code",
        "colab": {
          "base_uri": "https://localhost:8080/",
          "height": 119
        },
        "outputId": "5f46f3f7-d980-4b27-bfe7-b523670ec988"
      },
      "source": [
        "d = Dict(i=>i^2 for i in 1:5)"
      ],
      "execution_count": null,
      "outputs": [
        {
          "output_type": "execute_result",
          "data": {
            "text/plain": [
              "Dict{Int64,Int64} with 5 entries:\n",
              "  4 => 16\n",
              "  2 => 4\n",
              "  3 => 9\n",
              "  5 => 25\n",
              "  1 => 1"
            ]
          },
          "metadata": {
            "tags": []
          },
          "execution_count": 142
        }
      ]
    },
    {
      "cell_type": "markdown",
      "metadata": {
        "id": "yeyP5pbQiK4-",
        "colab_type": "text"
      },
      "source": [
        "Note that the items (aka \"pairs\" in Julia) are shuffled, since dictionaries are hash-based, like in Python (although Python sorts them by key for display).\n",
        "\n",
        "You can easily iterate through the dictionary's pairs like this:"
      ]
    },
    {
      "cell_type": "code",
      "metadata": {
        "id": "GJ1PcdDHiouw",
        "colab_type": "code",
        "colab": {
          "base_uri": "https://localhost:8080/",
          "height": 102
        },
        "outputId": "507866d7-5503-416d-8263-08dc54bb9bf6"
      },
      "source": [
        "for (k, v) in d\n",
        "    println(\"$k maps to $v\")\n",
        "end"
      ],
      "execution_count": null,
      "outputs": [
        {
          "output_type": "stream",
          "text": [
            "4 maps to 16\n",
            "2 maps to 4\n",
            "3 maps to 9\n",
            "5 maps to 25\n",
            "1 maps to 1\n"
          ],
          "name": "stdout"
        }
      ]
    },
    {
      "cell_type": "markdown",
      "metadata": {
        "id": "oSjOvDGxi-DS",
        "colab_type": "text"
      },
      "source": [
        "The equivalent code in Python is:\n",
        "\n",
        "```python\n",
        "# PYTHON\n",
        "d = {i: i**2 for i in range(1, 6)}\n",
        "for k, v in d.items():\n",
        "    print(f\"{k} maps to {v}\")\n",
        "```"
      ]
    },
    {
      "cell_type": "markdown",
      "metadata": {
        "id": "b5Ea2USET5jD",
        "colab_type": "text"
      },
      "source": [
        "And you can merge dictionaries like this:"
      ]
    },
    {
      "cell_type": "code",
      "metadata": {
        "id": "dkNkluLJT7zD",
        "colab_type": "code",
        "colab": {
          "base_uri": "https://localhost:8080/",
          "height": 102
        },
        "outputId": "de6c886a-29c3-46fd-a1fe-232fdcd2af8d"
      },
      "source": [
        "d1 = Dict(\"tree\"=>\"arbre\", \"love\"=>\"amour\", \"coffee\"=>\"café\")\n",
        "d2 = Dict(\"car\"=>\"voiture\", \"love\"=>\"aimer\")\n",
        "\n",
        "d = merge(d1, d2)"
      ],
      "execution_count": null,
      "outputs": [
        {
          "output_type": "execute_result",
          "data": {
            "text/plain": [
              "Dict{String,String} with 4 entries:\n",
              "  \"car\"    => \"voiture\"\n",
              "  \"coffee\" => \"café\"\n",
              "  \"tree\"   => \"arbre\"\n",
              "  \"love\"   => \"aimer\""
            ]
          },
          "metadata": {
            "tags": []
          },
          "execution_count": 144
        }
      ]
    },
    {
      "cell_type": "markdown",
      "metadata": {
        "id": "B1WRTtDXUSCt",
        "colab_type": "text"
      },
      "source": [
        "Notice that the second dictionary has priority in case of conflict (it's `\"love\" => \"aimer\"`, not `\"love\" => \"amour\"`)."
      ]
    },
    {
      "cell_type": "markdown",
      "metadata": {
        "id": "vpIXgc-4Umc8",
        "colab_type": "text"
      },
      "source": [
        "In Python, this would be:\n",
        "\n",
        "```python\n",
        "# PYTHON\n",
        "d1 = {\"tree\": \"arbre\", \"love\": \"amour\", \"coffee\": \"café\"}\n",
        "d2 = {\"car\": \"voiture\", \"love\": \"aimer\"}\n",
        "d = {**d1, **d2}\n",
        "```"
      ]
    },
    {
      "cell_type": "markdown",
      "metadata": {
        "id": "zu39af1MVaKB",
        "colab_type": "text"
      },
      "source": [
        "Or if you want to update the first dictionary instead of creating a new one:"
      ]
    },
    {
      "cell_type": "code",
      "metadata": {
        "id": "5_kcU7WTVhIN",
        "colab_type": "code",
        "colab": {
          "base_uri": "https://localhost:8080/",
          "height": 102
        },
        "outputId": "0936a247-7063-49cb-91cd-0f1357b4b579"
      },
      "source": [
        "merge!(d1, d2)"
      ],
      "execution_count": null,
      "outputs": [
        {
          "output_type": "execute_result",
          "data": {
            "text/plain": [
              "Dict{String,String} with 4 entries:\n",
              "  \"car\"    => \"voiture\"\n",
              "  \"coffee\" => \"café\"\n",
              "  \"tree\"   => \"arbre\"\n",
              "  \"love\"   => \"aimer\""
            ]
          },
          "metadata": {
            "tags": []
          },
          "execution_count": 145
        }
      ]
    },
    {
      "cell_type": "markdown",
      "metadata": {
        "id": "9h_NjAmAVmBd",
        "colab_type": "text"
      },
      "source": [
        "In Python, that's:\n",
        "\n",
        "```python\n",
        "# PYTHON\n",
        "d1.update(d2)\n",
        "```"
      ]
    },
    {
      "cell_type": "markdown",
      "metadata": {
        "id": "6_-ibdMnjP8a",
        "colab_type": "text"
      },
      "source": [
        "In Julia, each pair is an actual `Pair` object:"
      ]
    },
    {
      "cell_type": "code",
      "metadata": {
        "id": "a85m1lmJjVPP",
        "colab_type": "code",
        "colab": {
          "base_uri": "https://localhost:8080/",
          "height": 51
        },
        "outputId": "8996832d-97cd-4966-808c-4d5367bc91cb"
      },
      "source": [
        "p = \"tree\" => \"arbre\"\n",
        "println(typeof(p))\n",
        "k, v = p\n",
        "println(\"$k maps to $v\")"
      ],
      "execution_count": null,
      "outputs": [
        {
          "output_type": "stream",
          "text": [
            "Pair{String,String}\n",
            "tree maps to arbre\n"
          ],
          "name": "stdout"
        }
      ]
    },
    {
      "cell_type": "markdown",
      "metadata": {
        "id": "mOCYFiB3N5s8",
        "colab_type": "text"
      },
      "source": [
        "Note that any object for which a `hash()` method is implemented can be used as a key in a dictionary. This includes all the basic types like integers, floats, as well as string, tuples, etc. But it also includes arrays! In Julia, you have the freedom to use arrays as keys (unlike in Python), but make sure not to mutate these arrays after insertion, or else things will break! Indeed, the pairs will be stored in memory in a location that depends on the hash of the key at insertion time, so if that key changes afterwards, you won't be able to find the pair anymore:"
      ]
    },
    {
      "cell_type": "code",
      "metadata": {
        "id": "0bYNOLHiOgnl",
        "colab_type": "code",
        "colab": {
          "base_uri": "https://localhost:8080/",
          "height": 85
        },
        "outputId": "7fab258d-0ba5-4d8c-9a20-afbdf2c2026d"
      },
      "source": [
        "a = [1, 2, 3]\n",
        "d = Dict(a => \"My array\")\n",
        "println(\"The dictionary is: $d\")\n",
        "println(\"Indexing works fine as long as the array is unchanged: \", d[a])\n",
        "a[1] = 10\n",
        "println(\"This is the dictionary now: $d\")\n",
        "try\n",
        "    println(\"Key changed, indexing is now broken: \", d[a])\n",
        "catch ex\n",
        "    ex\n",
        "end"
      ],
      "execution_count": null,
      "outputs": [
        {
          "output_type": "stream",
          "text": [
            "The dictionary is: Dict([1, 2, 3] => \"My array\")\n",
            "Indexing works fine as long as the array is unchanged: My array\n",
            "This is the dictionary now: Dict([10, 2, 3] => \"My array\")\n"
          ],
          "name": "stdout"
        },
        {
          "output_type": "execute_result",
          "data": {
            "text/plain": [
              "KeyError([10, 2, 3])"
            ]
          },
          "metadata": {
            "tags": []
          },
          "execution_count": 147
        }
      ]
    },
    {
      "cell_type": "markdown",
      "metadata": {
        "id": "zr26SHedQJTE",
        "colab_type": "text"
      },
      "source": [
        "However, it's still possible to iterate through the keys, the values or the pairs:"
      ]
    },
    {
      "cell_type": "code",
      "metadata": {
        "id": "5e6eZEq9QUt4",
        "colab_type": "code",
        "colab": {
          "base_uri": "https://localhost:8080/",
          "height": 34
        },
        "outputId": "ff5ab933-9de8-48cb-d719-a4e783c044b2"
      },
      "source": [
        "for pair in d\n",
        "    println(pair)\n",
        "end"
      ],
      "execution_count": null,
      "outputs": [
        {
          "output_type": "stream",
          "text": [
            "[10, 2, 3] => \"My array\"\n"
          ],
          "name": "stdout"
        }
      ]
    },
    {
      "cell_type": "markdown",
      "metadata": {
        "id": "Ie9QcVsYWDFh",
        "colab_type": "text"
      },
      "source": [
        "|Julia|Python\n",
        "|-----|------\n",
        "|`Dict(\"tree\"=>\"arbre\", \"love\"=>\"amour\")` | `{\"tree\": \"arbre\", \"love\": \"amour\"}`\n",
        "|`d[\"arbre\"]` | `d[\"arbre\"]`\n",
        "|`get(d, \"unknown\", \"default\")` | `d.get(\"unknown\", \"default\")`\n",
        "|`keys(d)` | `d.keys()`\n",
        "|`values(d)` | `d.values()`\n",
        "|`haskey(d, k)` | `k in d`\n",
        "|`Dict(i=>i^2 for i in 1:4)` | `{i: i**2 for i in 1:4}`\n",
        "|`for (k, v) in d` | `for k, v in d.items():`\n",
        "|`merge(d1, d2)` | `{**d1, **d2}`\n",
        "|`merge!(d1, d2)` | `d1.update(d2)`"
      ]
    },
    {
      "cell_type": "markdown",
      "metadata": {
        "id": "rTWmi1P8jlDq",
        "colab_type": "text"
      },
      "source": [
        "# Sets"
      ]
    },
    {
      "cell_type": "markdown",
      "metadata": {
        "id": "WlTKQaxxmLde",
        "colab_type": "text"
      },
      "source": [
        "Let's create a couple sets:"
      ]
    },
    {
      "cell_type": "code",
      "metadata": {
        "id": "sQ_wNw0Mjmqs",
        "colab_type": "code",
        "colab": {
          "base_uri": "https://localhost:8080/",
          "height": 119
        },
        "outputId": "ee9f67f0-9c0f-4b3c-b638-256d6b6985d6"
      },
      "source": [
        "odd = Set([1, 3, 5, 7, 9, 11])\n",
        "prime = Set([2, 3, 5, 7, 11])"
      ],
      "execution_count": null,
      "outputs": [
        {
          "output_type": "execute_result",
          "data": {
            "text/plain": [
              "Set{Int64} with 5 elements:\n",
              "  7\n",
              "  2\n",
              "  3\n",
              "  11\n",
              "  5"
            ]
          },
          "metadata": {
            "tags": []
          },
          "execution_count": 149
        }
      ]
    },
    {
      "cell_type": "markdown",
      "metadata": {
        "id": "w7JZBRWbsqiL",
        "colab_type": "text"
      },
      "source": [
        "The order of sets is not guaranteed, just like in Python."
      ]
    },
    {
      "cell_type": "markdown",
      "metadata": {
        "id": "JEQ96Ljkm_0R",
        "colab_type": "text"
      },
      "source": [
        "Use `in` or `∈` (type `\\in<tab>`) to check whether a set contains a given value:"
      ]
    },
    {
      "cell_type": "code",
      "metadata": {
        "id": "oRd2gpWvm9mF",
        "colab_type": "code",
        "colab": {
          "base_uri": "https://localhost:8080/",
          "height": 34
        },
        "outputId": "352d92ef-0458-4483-fd48-8da9a4685391"
      },
      "source": [
        "5 ∈ odd"
      ],
      "execution_count": null,
      "outputs": [
        {
          "output_type": "execute_result",
          "data": {
            "text/plain": [
              "true"
            ]
          },
          "metadata": {
            "tags": []
          },
          "execution_count": 150
        }
      ]
    },
    {
      "cell_type": "code",
      "metadata": {
        "id": "pRQN8XNWnQgj",
        "colab_type": "code",
        "colab": {
          "base_uri": "https://localhost:8080/",
          "height": 34
        },
        "outputId": "7320821b-f3ac-479a-970f-acbea5ad5b98"
      },
      "source": [
        "5 in odd"
      ],
      "execution_count": null,
      "outputs": [
        {
          "output_type": "execute_result",
          "data": {
            "text/plain": [
              "true"
            ]
          },
          "metadata": {
            "tags": []
          },
          "execution_count": 151
        }
      ]
    },
    {
      "cell_type": "markdown",
      "metadata": {
        "id": "WyBv6ethnRw8",
        "colab_type": "text"
      },
      "source": [
        "Both of these expressions are equivalent to:"
      ]
    },
    {
      "cell_type": "code",
      "metadata": {
        "id": "Twamj50pnXQE",
        "colab_type": "code",
        "colab": {
          "base_uri": "https://localhost:8080/",
          "height": 34
        },
        "outputId": "9a220c7b-e4c7-4e84-b3ae-92e28a93823c"
      },
      "source": [
        "in(5, odd)"
      ],
      "execution_count": null,
      "outputs": [
        {
          "output_type": "execute_result",
          "data": {
            "text/plain": [
              "true"
            ]
          },
          "metadata": {
            "tags": []
          },
          "execution_count": 152
        }
      ]
    },
    {
      "cell_type": "markdown",
      "metadata": {
        "id": "MHQ5qnLZmPhR",
        "colab_type": "text"
      },
      "source": [
        "Now let's get the union of these two sets:"
      ]
    },
    {
      "cell_type": "code",
      "metadata": {
        "id": "mfuMOXDdmGKA",
        "colab_type": "code",
        "colab": {
          "base_uri": "https://localhost:8080/",
          "height": 153
        },
        "outputId": "8cdaa390-b088-4a4a-806d-9bf71a351109"
      },
      "source": [
        "odd ∪ prime"
      ],
      "execution_count": null,
      "outputs": [
        {
          "output_type": "execute_result",
          "data": {
            "text/plain": [
              "Set{Int64} with 7 elements:\n",
              "  7\n",
              "  9\n",
              "  2\n",
              "  3\n",
              "  11\n",
              "  5\n",
              "  1"
            ]
          },
          "metadata": {
            "tags": []
          },
          "execution_count": 153
        }
      ]
    },
    {
      "cell_type": "markdown",
      "metadata": {
        "id": "xS6GLhE5mRbD",
        "colab_type": "text"
      },
      "source": [
        "∪ is the union symbol, not a U. To type this character, type `\\cup<tab>` (it has the shape of a cup). Alternatively, you can just use the `union()` function:"
      ]
    },
    {
      "cell_type": "code",
      "metadata": {
        "id": "G_yju4QvmerU",
        "colab_type": "code",
        "colab": {
          "base_uri": "https://localhost:8080/",
          "height": 153
        },
        "outputId": "767409d7-d2a9-499b-9d47-9193ba2c199f"
      },
      "source": [
        "union(odd, prime)"
      ],
      "execution_count": null,
      "outputs": [
        {
          "output_type": "execute_result",
          "data": {
            "text/plain": [
              "Set{Int64} with 7 elements:\n",
              "  7\n",
              "  9\n",
              "  2\n",
              "  3\n",
              "  11\n",
              "  5\n",
              "  1"
            ]
          },
          "metadata": {
            "tags": []
          },
          "execution_count": 154
        }
      ]
    },
    {
      "cell_type": "markdown",
      "metadata": {
        "id": "Y8l4331img0-",
        "colab_type": "text"
      },
      "source": [
        "Now let's get the intersection using the ∩ symbol (type `\\cap<tab>`):"
      ]
    },
    {
      "cell_type": "code",
      "metadata": {
        "id": "NazqlxbGmkZM",
        "colab_type": "code",
        "colab": {
          "base_uri": "https://localhost:8080/",
          "height": 102
        },
        "outputId": "9c4668dd-abe9-44dd-8774-269a3f74e3a0"
      },
      "source": [
        "odd ∩ prime"
      ],
      "execution_count": null,
      "outputs": [
        {
          "output_type": "execute_result",
          "data": {
            "text/plain": [
              "Set{Int64} with 4 elements:\n",
              "  7\n",
              "  3\n",
              "  11\n",
              "  5"
            ]
          },
          "metadata": {
            "tags": []
          },
          "execution_count": 155
        }
      ]
    },
    {
      "cell_type": "markdown",
      "metadata": {
        "id": "X9-MDgxWmzXl",
        "colab_type": "text"
      },
      "source": [
        "Or use the `intersect()` function:"
      ]
    },
    {
      "cell_type": "code",
      "metadata": {
        "id": "zcEEMfG4m1l9",
        "colab_type": "code",
        "colab": {
          "base_uri": "https://localhost:8080/",
          "height": 102
        },
        "outputId": "5e1fc988-3ac0-49c6-860d-a0a8b3452735"
      },
      "source": [
        "intersect(odd, prime)"
      ],
      "execution_count": null,
      "outputs": [
        {
          "output_type": "execute_result",
          "data": {
            "text/plain": [
              "Set{Int64} with 4 elements:\n",
              "  7\n",
              "  3\n",
              "  11\n",
              "  5"
            ]
          },
          "metadata": {
            "tags": []
          },
          "execution_count": 156
        }
      ]
    },
    {
      "cell_type": "markdown",
      "metadata": {
        "id": "QSMs88owpLb2",
        "colab_type": "text"
      },
      "source": [
        "Next, let's get the [set difference](https://en.wikipedia.org/wiki/Complement_(set_theory)#Relative_complement) and the [symetric difference](https://en.wikipedia.org/wiki/Symmetric_difference) between these two sets:"
      ]
    },
    {
      "cell_type": "code",
      "metadata": {
        "id": "-Tpr5_BBpQH_",
        "colab_type": "code",
        "colab": {
          "base_uri": "https://localhost:8080/",
          "height": 68
        },
        "outputId": "31a4bd07-6441-4d0a-dcca-1f9fdc8ba513"
      },
      "source": [
        "setdiff(odd, prime) # values in odd but not in prime"
      ],
      "execution_count": null,
      "outputs": [
        {
          "output_type": "execute_result",
          "data": {
            "text/plain": [
              "Set{Int64} with 2 elements:\n",
              "  9\n",
              "  1"
            ]
          },
          "metadata": {
            "tags": []
          },
          "execution_count": 157
        }
      ]
    },
    {
      "cell_type": "code",
      "metadata": {
        "id": "of_EQE1CpvpO",
        "colab_type": "code",
        "colab": {
          "base_uri": "https://localhost:8080/",
          "height": 85
        },
        "outputId": "07439188-3794-4718-bb62-105b4aad4727"
      },
      "source": [
        "symdiff(odd, prime) # values that are not in the intersection"
      ],
      "execution_count": null,
      "outputs": [
        {
          "output_type": "execute_result",
          "data": {
            "text/plain": [
              "Set{Int64} with 3 elements:\n",
              "  9\n",
              "  2\n",
              "  1"
            ]
          },
          "metadata": {
            "tags": []
          },
          "execution_count": 158
        }
      ]
    },
    {
      "cell_type": "markdown",
      "metadata": {
        "id": "NH_-NbzPsSQ_",
        "colab_type": "text"
      },
      "source": [
        "Lastly, set comprehensions work just fine:"
      ]
    },
    {
      "cell_type": "code",
      "metadata": {
        "id": "LMIiE-0psXvs",
        "colab_type": "code",
        "colab": {
          "base_uri": "https://localhost:8080/",
          "height": 102
        },
        "outputId": "1919735f-1006-4ff9-a326-c3be51d4ed73"
      },
      "source": [
        "Set([i^2 for i in 1:4])"
      ],
      "execution_count": null,
      "outputs": [
        {
          "output_type": "execute_result",
          "data": {
            "text/plain": [
              "Set{Int64} with 4 elements:\n",
              "  4\n",
              "  9\n",
              "  16\n",
              "  1"
            ]
          },
          "metadata": {
            "tags": []
          },
          "execution_count": 159
        }
      ]
    },
    {
      "cell_type": "markdown",
      "metadata": {
        "id": "DBJ4XaVmoeUY",
        "colab_type": "text"
      },
      "source": [
        "The equivalent Python code is:\n",
        "\n",
        "```python\n",
        "# PYTHON\n",
        "odds = {1, 3, 5, 7, 9, 11}\n",
        "primes = {2, 3, 5, 7, 11}\n",
        "5 in primes\n",
        "odds | primes # union\n",
        "odds.union(primes)\n",
        "odds & primes # intersection\n",
        "odds.intersection(primes)\n",
        "odds - primes # set difference\n",
        "odds.difference(primes)\n",
        "odds ^ primes # symmetric difference\n",
        "odds.symmetric_difference(primes)\n",
        "{i**2 for i in range(1, 5)}\n",
        "```"
      ]
    },
    {
      "cell_type": "markdown",
      "metadata": {
        "id": "vm1zWNsJRcFV",
        "colab_type": "text"
      },
      "source": [
        "Note that you can store any hashable object in a `Set` (i.e., any instance of a type for which the `hash()` method is implemented). This includes arrays, unlike in Python. Just like for dictionary keys, you can add arrays to sets, but make sure not to mutate them after insertion."
      ]
    },
    {
      "cell_type": "markdown",
      "metadata": {
        "id": "nPrJ9Ih9X4ak",
        "colab_type": "text"
      },
      "source": [
        "|Julia|Python\n",
        "|-----|------\n",
        "|`Set([1, 3, 5, 7])` | `{1, 3, 5, 7}`\n",
        "|`5 in odd` | `5 in odd`\n",
        "|`Set([i^2 for i in 1:4])` | `{i**2 for i in range(1, 5)}`\n",
        "|`odd ∪ primes` | `odd | primes`\n",
        "|`union(odd, primes)` | `odd.union(primes)`\n",
        "|`odd ∩ primes` | `odd & primes`\n",
        "|`insersect(odd, primes)` | `odd.intersection(primes)`\n",
        "|`setdiff(odd, primes)` | `odd - primes` or `odd.difference(primes)`\n",
        "|`symdiff(odd, primes)` | `odd ^ primes` or `odd.symmetric_difference(primes)`"
      ]
    },
    {
      "cell_type": "markdown",
      "metadata": {
        "id": "AOfz9B7ZF__1",
        "colab_type": "text"
      },
      "source": [
        "# Enums"
      ]
    },
    {
      "cell_type": "markdown",
      "metadata": {
        "id": "RozBUdxsGgKv",
        "colab_type": "text"
      },
      "source": [
        "To create an enum, use the `@enum` macro:"
      ]
    },
    {
      "cell_type": "code",
      "metadata": {
        "id": "R6HMPDyvGB_k",
        "colab_type": "code",
        "colab": {}
      },
      "source": [
        "@enum Fruit apple=1 banana=2 orange=3"
      ],
      "execution_count": null,
      "outputs": []
    },
    {
      "cell_type": "markdown",
      "metadata": {
        "id": "dxFUJ9boGmkh",
        "colab_type": "text"
      },
      "source": [
        "This creates the `Fruit` enum, with 3 possible values. It also binds the names to the values:"
      ]
    },
    {
      "cell_type": "code",
      "metadata": {
        "id": "czHDZ6MRGUvL",
        "colab_type": "code",
        "colab": {
          "base_uri": "https://localhost:8080/",
          "height": 34
        },
        "outputId": "592c4349-a7c3-4f0b-8d99-c59d64837dac"
      },
      "source": [
        "banana"
      ],
      "execution_count": null,
      "outputs": [
        {
          "output_type": "execute_result",
          "data": {
            "text/plain": [
              "banana::Fruit = 2"
            ]
          },
          "metadata": {
            "tags": []
          },
          "execution_count": 161
        }
      ]
    },
    {
      "cell_type": "markdown",
      "metadata": {
        "id": "7ufyorAsGvzv",
        "colab_type": "text"
      },
      "source": [
        "Or you can get a `Fruit` instance using the value:"
      ]
    },
    {
      "cell_type": "code",
      "metadata": {
        "id": "NVgfYUBWGObS",
        "colab_type": "code",
        "colab": {
          "base_uri": "https://localhost:8080/",
          "height": 34
        },
        "outputId": "8ba20eee-0472-4273-b8d7-23368554dc74"
      },
      "source": [
        "Fruit(2)"
      ],
      "execution_count": null,
      "outputs": [
        {
          "output_type": "execute_result",
          "data": {
            "text/plain": [
              "banana::Fruit = 2"
            ]
          },
          "metadata": {
            "tags": []
          },
          "execution_count": 162
        }
      ]
    },
    {
      "cell_type": "markdown",
      "metadata": {
        "id": "ctxEepMNG_-4",
        "colab_type": "text"
      },
      "source": [
        "And you can get all the instances of the enum easily:"
      ]
    },
    {
      "cell_type": "code",
      "metadata": {
        "id": "yPy9trwtGR1y",
        "colab_type": "code",
        "colab": {
          "base_uri": "https://localhost:8080/",
          "height": 34
        },
        "outputId": "37d7d2ea-bba3-480f-964f-5a186189325b"
      },
      "source": [
        "instances(Fruit)"
      ],
      "execution_count": null,
      "outputs": [
        {
          "output_type": "execute_result",
          "data": {
            "text/plain": [
              "(apple, banana, orange)"
            ]
          },
          "metadata": {
            "tags": []
          },
          "execution_count": 163
        }
      ]
    },
    {
      "cell_type": "markdown",
      "metadata": {
        "id": "bBCsVIXEHD29",
        "colab_type": "text"
      },
      "source": [
        "|Julia|Python\n",
        "|-----|------\n",
        "|`@enum Fruit apple=1 banana=2 orange=3` | `from enum import Enum`<br />`class Fruit(Enum):`<br />&nbsp;&nbsp;&nbsp;&nbsp;`APPLE = 1`<br />&nbsp;&nbsp;&nbsp;&nbsp;`BANANA = 2`<br />&nbsp;&nbsp;&nbsp;&nbsp;`ORANGE = 3`\n",
        "| `Fruit(2) === banana` | `Fruit(2) is Fruit.BANANA`\n",
        "| `instances(Fruit)` | `dir(Fruit)`\n"
      ]
    },
    {
      "cell_type": "markdown",
      "metadata": {
        "id": "7OOe0m7pLj80",
        "colab_type": "text"
      },
      "source": [
        "# Object Identity\n",
        "In the previous example, `Fruit(2)` and `banana` refer to the same object, not just two objects that happen to be equal. You can verify using the `===` operator, which is the equivalent of Python's `is` operator:"
      ]
    },
    {
      "cell_type": "code",
      "metadata": {
        "id": "G6cpTrQcGUP4",
        "colab_type": "code",
        "colab": {
          "base_uri": "https://localhost:8080/",
          "height": 34
        },
        "outputId": "310481d5-1e37-4a96-fa37-31c1116521f6"
      },
      "source": [
        "banana === Fruit(2)"
      ],
      "execution_count": null,
      "outputs": [
        {
          "output_type": "execute_result",
          "data": {
            "text/plain": [
              "true"
            ]
          },
          "metadata": {
            "tags": []
          },
          "execution_count": 164
        }
      ]
    },
    {
      "cell_type": "markdown",
      "metadata": {
        "id": "4QPR-8TeL5Wy",
        "colab_type": "text"
      },
      "source": [
        "You can also check this by looking at their `objectid()`, which is the equivalent of Python's `id()` function:"
      ]
    },
    {
      "cell_type": "code",
      "metadata": {
        "id": "q6qYhWnyMBpf",
        "colab_type": "code",
        "colab": {
          "base_uri": "https://localhost:8080/",
          "height": 34
        },
        "outputId": "a40e3e6c-1c38-4b5a-fe6c-fdec266626c0"
      },
      "source": [
        "objectid(banana)"
      ],
      "execution_count": null,
      "outputs": [
        {
          "output_type": "execute_result",
          "data": {
            "text/plain": [
              "0x00000000a44ca367"
            ]
          },
          "metadata": {
            "tags": []
          },
          "execution_count": 165
        }
      ]
    },
    {
      "cell_type": "code",
      "metadata": {
        "id": "sT3hq8f_MEZN",
        "colab_type": "code",
        "colab": {
          "base_uri": "https://localhost:8080/",
          "height": 34
        },
        "outputId": "417cadc7-daec-4023-a113-48efd7c6166b"
      },
      "source": [
        "objectid(Fruit(2))"
      ],
      "execution_count": null,
      "outputs": [
        {
          "output_type": "execute_result",
          "data": {
            "text/plain": [
              "0x00000000a44ca367"
            ]
          },
          "metadata": {
            "tags": []
          },
          "execution_count": 166
        }
      ]
    },
    {
      "cell_type": "code",
      "metadata": {
        "id": "4ZrS4322MKfN",
        "colab_type": "code",
        "colab": {}
      },
      "source": [
        "a = [1, 2, 4]\n",
        "b = [1, 2, 4]\n",
        "@assert a == b  # a and b are equal\n",
        "@assert a !== b # but they are not the same object"
      ],
      "execution_count": null,
      "outputs": []
    },
    {
      "cell_type": "markdown",
      "metadata": {
        "id": "K3EO6cQmMW0W",
        "colab_type": "text"
      },
      "source": [
        "|Julia|Python\n",
        "|-----|------\n",
        "|`a === b` | `a is b`\n",
        "|`a !== b` | `a is not b`\n",
        "|`objectid(obj)` | `id(obj)`"
      ]
    },
    {
      "cell_type": "markdown",
      "metadata": {
        "id": "d_ATAuXREZx9",
        "colab_type": "text"
      },
      "source": [
        "# Other Collections\n",
        "\n",
        "For the Julia equivalent of Python's other collections, namely `defaultdict`, `deque`, `OrderedDict`, and `Counter`, check out these libraries:\n",
        "\n",
        "* https://github.com/JuliaCollections/DataStructures.jl\n",
        "* https://github.com/JuliaCollections/OrderedCollections.jl\n",
        "* https://github.com/andyferris/Dictionaries.jl"
      ]
    },
    {
      "cell_type": "markdown",
      "metadata": {
        "id": "GBYBDAsF6iDC",
        "colab_type": "text"
      },
      "source": [
        "Now let's looks at various iteration constructs."
      ]
    },
    {
      "cell_type": "markdown",
      "metadata": {
        "id": "jApml2wDacs2",
        "colab_type": "text"
      },
      "source": [
        "# Iteration Tools"
      ]
    },
    {
      "cell_type": "markdown",
      "metadata": {
        "id": "AW2vVurj9E7r",
        "colab_type": "text"
      },
      "source": [
        "## Generator Expressions\n",
        "\n",
        "Just like in Python, a generator expression resembles a list comprehension, but without the square brackets, and it returns a generator instead of a list. Here's a much shorter implementation of the `estimate_pi()` function using a generator expression:"
      ]
    },
    {
      "cell_type": "code",
      "metadata": {
        "id": "7pLMhQjV6z5l",
        "colab_type": "code",
        "colab": {}
      },
      "source": [
        "function estimate_pi2(n)\n",
        "    4 * sum((isodd(i) ? -1 : 1)/(2i+1) for i in 0:n)\n",
        "end\n",
        "\n",
        "@assert estimate_pi(100) == estimate_pi2(100)"
      ],
      "execution_count": null,
      "outputs": []
    },
    {
      "cell_type": "markdown",
      "metadata": {
        "id": "u-WAtc-eDcp9",
        "colab_type": "text"
      },
      "source": [
        "That's very similar to the corresponding Python code:\n",
        "\n",
        "```python\n",
        "# PYTHON\n",
        "def estimate_pi2(n):\n",
        "  return 4 * sum((-1 if i%2==1 else 1)/(2*i+1) for i in range(n+1))\n",
        "\n",
        "assert estimate_pi(100) == estimate_pi2(100)\n",
        "```"
      ]
    },
    {
      "cell_type": "markdown",
      "metadata": {
        "id": "OHaPPceEKO3r",
        "colab_type": "text"
      },
      "source": [
        "## `zip`, `enumerate`, `collect`"
      ]
    },
    {
      "cell_type": "markdown",
      "metadata": {
        "id": "GBj2mvbiI9cP",
        "colab_type": "text"
      },
      "source": [
        "The `zip()` function works much like in Python:"
      ]
    },
    {
      "cell_type": "code",
      "metadata": {
        "id": "-UsOasVeJCWe",
        "colab_type": "code",
        "colab": {
          "base_uri": "https://localhost:8080/",
          "height": 68
        },
        "outputId": "c85d29ff-0fd9-44b9-de53-62d3831252bc"
      },
      "source": [
        "for (i, s) in zip(10:13, [\"Ten\", \"Twelve\", \"Thirteen\"])\n",
        "    println(i, \": \", s)\n",
        "end"
      ],
      "execution_count": null,
      "outputs": [
        {
          "output_type": "stream",
          "text": [
            "10: Ten\n",
            "11: Twelve\n",
            "12: Thirteen\n"
          ],
          "name": "stdout"
        }
      ]
    },
    {
      "cell_type": "markdown",
      "metadata": {
        "id": "hu_eJ7okKolh",
        "colab_type": "text"
      },
      "source": [
        "Notice that the parentheses in `for (i, s)` are required in Julia, as opposed to Python."
      ]
    },
    {
      "cell_type": "markdown",
      "metadata": {
        "id": "3y2q4YhNJOQy",
        "colab_type": "text"
      },
      "source": [
        "The `enumerate()` function also works like in Python, except of course it is 1-indexed:"
      ]
    },
    {
      "cell_type": "code",
      "metadata": {
        "id": "bCTejeu0Ji_8",
        "colab_type": "code",
        "colab": {
          "base_uri": "https://localhost:8080/",
          "height": 68
        },
        "outputId": "f0fc671d-c435-462e-d624-e03f2149d280"
      },
      "source": [
        "for (i, s) in enumerate([\"One\", \"Two\", \"Three\"])\n",
        "    println(i, \": \", s)\n",
        "end"
      ],
      "execution_count": null,
      "outputs": [
        {
          "output_type": "stream",
          "text": [
            "1: One\n",
            "2: Two\n",
            "3: Three\n"
          ],
          "name": "stdout"
        }
      ]
    },
    {
      "cell_type": "markdown",
      "metadata": {
        "id": "vs4_UjWnJy20",
        "colab_type": "text"
      },
      "source": [
        "To pull the values of a generator into an array, use `collect()`:"
      ]
    },
    {
      "cell_type": "code",
      "metadata": {
        "id": "42T1NJKhKD1w",
        "colab_type": "code",
        "colab": {
          "base_uri": "https://localhost:8080/",
          "height": 119
        },
        "outputId": "1715d3e1-b064-417d-97e4-8791b37c5c26"
      },
      "source": [
        "collect(1:5)"
      ],
      "execution_count": null,
      "outputs": [
        {
          "output_type": "execute_result",
          "data": {
            "text/plain": [
              "5-element Array{Int64,1}:\n",
              " 1\n",
              " 2\n",
              " 3\n",
              " 4\n",
              " 5"
            ]
          },
          "metadata": {
            "tags": []
          },
          "execution_count": 171
        }
      ]
    },
    {
      "cell_type": "markdown",
      "metadata": {
        "id": "MQMx3bjkKFpk",
        "colab_type": "text"
      },
      "source": [
        "A shorter syntax for that is:"
      ]
    },
    {
      "cell_type": "code",
      "metadata": {
        "id": "2IEoo_TvKIDm",
        "colab_type": "code",
        "colab": {
          "base_uri": "https://localhost:8080/",
          "height": 119
        },
        "outputId": "e925eb04-9eaf-4bd1-ccef-95f0bf51c133"
      },
      "source": [
        "[1:5;]"
      ],
      "execution_count": null,
      "outputs": [
        {
          "output_type": "execute_result",
          "data": {
            "text/plain": [
              "5-element Array{Int64,1}:\n",
              " 1\n",
              " 2\n",
              " 3\n",
              " 4\n",
              " 5"
            ]
          },
          "metadata": {
            "tags": []
          },
          "execution_count": 172
        }
      ]
    },
    {
      "cell_type": "markdown",
      "metadata": {
        "id": "gbub1jhlKc0V",
        "colab_type": "text"
      },
      "source": [
        "The equivalent Python code is:\n",
        "\n",
        "```python\n",
        "# PYTHON\n",
        "list(range(1, 6))\n",
        "```"
      ]
    },
    {
      "cell_type": "markdown",
      "metadata": {
        "id": "CumclAQ4TTpq",
        "colab_type": "text"
      },
      "source": [
        "## Generators\n",
        "In Python, you can easily write a generator function to create an object that will behave like an iterator. For example, let's create a generator for the Fibonacci sequence (where each number is the sum of the two previous numbers):\n",
        "\n",
        "```python\n",
        "def fibonacci(n):\n",
        "    a, b = 1, 1\n",
        "    for i in range(n):\n",
        "      yield a\n",
        "      a, b = b, a + b\n",
        "\n",
        "for f in fibonacci(10):\n",
        "    print(f)\n",
        "```\n"
      ]
    },
    {
      "cell_type": "markdown",
      "metadata": {
        "id": "bfjsba6gFcMS",
        "colab_type": "text"
      },
      "source": [
        "This is also quite easy in Julia:"
      ]
    },
    {
      "cell_type": "code",
      "metadata": {
        "id": "cQZ0cowPUC8x",
        "colab_type": "code",
        "colab": {
          "base_uri": "https://localhost:8080/",
          "height": 187
        },
        "outputId": "66c9d243-7cb4-4438-b390-0cefec68634a"
      },
      "source": [
        "function fibonacci(n)\n",
        "    Channel() do ch\n",
        "        a, b = 1, 1\n",
        "        for i in 1:n\n",
        "            put!(ch, a)\n",
        "            a, b = b, a + b\n",
        "        end\n",
        "    end\n",
        "end\n",
        "\n",
        "for f in fibonacci(10)\n",
        "    println(f)\n",
        "end"
      ],
      "execution_count": null,
      "outputs": [
        {
          "output_type": "stream",
          "text": [
            "1\n",
            "1\n",
            "2\n",
            "3\n",
            "5\n",
            "8\n",
            "13\n",
            "21\n",
            "34\n",
            "55\n"
          ],
          "name": "stdout"
        }
      ]
    },
    {
      "cell_type": "markdown",
      "metadata": {
        "id": "VWkUE9FRFfQI",
        "colab_type": "text"
      },
      "source": [
        "The `Channel` type is part of the API for tasks and coroutines. We'll discuss these later."
      ]
    },
    {
      "cell_type": "markdown",
      "metadata": {
        "id": "lisTUktNlbQt",
        "colab_type": "text"
      },
      "source": [
        "Now let's take a closer look at functions."
      ]
    },
    {
      "cell_type": "markdown",
      "metadata": {
        "id": "jKpjTHMbao6r",
        "colab_type": "text"
      },
      "source": [
        "# Functions"
      ]
    },
    {
      "cell_type": "markdown",
      "metadata": {
        "id": "k-IIQF4vP7w9",
        "colab_type": "text"
      },
      "source": [
        "## Arguments\n",
        "Julia functions supports positional arguments and default values:"
      ]
    },
    {
      "cell_type": "code",
      "metadata": {
        "id": "BnVg7UKNQQ4M",
        "colab_type": "code",
        "colab": {
          "base_uri": "https://localhost:8080/",
          "height": 34
        },
        "outputId": "88055b97-83b4-4ecc-b9f9-82e970d42eb9"
      },
      "source": [
        "function draw_face(x, y, width=3, height=4)\n",
        "    println(\"x=$x, y=$y, width=$width, height=$height\")\n",
        "end\n",
        "\n",
        "draw_face(10, 20, 30)"
      ],
      "execution_count": null,
      "outputs": [
        {
          "output_type": "stream",
          "text": [
            "x=10, y=20, width=30, height=4\n"
          ],
          "name": "stdout"
        }
      ]
    },
    {
      "cell_type": "markdown",
      "metadata": {
        "id": "AmKSe9fYRMxb",
        "colab_type": "text"
      },
      "source": [
        "However, unlike in Python, positional arguments must not be named when the function is called:"
      ]
    },
    {
      "cell_type": "code",
      "metadata": {
        "id": "fB1flNxMRAo4",
        "colab_type": "code",
        "colab": {
          "base_uri": "https://localhost:8080/",
          "height": 34
        },
        "outputId": "e87792b5-4897-4d75-f00c-517fa715001c"
      },
      "source": [
        "try\n",
        "    draw_face(10, 20, width=30)\n",
        "catch ex\n",
        "    ex\n",
        "end"
      ],
      "execution_count": null,
      "outputs": [
        {
          "output_type": "execute_result",
          "data": {
            "text/plain": [
              "MethodError(var\"#draw_face##kw\"(), ((width = 30,), draw_face, 10, 20), 0x0000000000006cdb)"
            ]
          },
          "metadata": {
            "tags": []
          },
          "execution_count": 175
        }
      ]
    },
    {
      "cell_type": "markdown",
      "metadata": {
        "id": "yBQOd8H6RUJs",
        "colab_type": "text"
      },
      "source": [
        "Julia also supports a variable number of arguments (called \"varargs\") using the syntax `arg...`, which is the equivalent of Python's `*arg`:"
      ]
    },
    {
      "cell_type": "code",
      "metadata": {
        "id": "OS1U6AxeRYyb",
        "colab_type": "code",
        "colab": {
          "base_uri": "https://localhost:8080/",
          "height": 34
        },
        "outputId": "60dfb53c-9704-40ab-d16f-b28e82971d03"
      },
      "source": [
        "function copy_files(target_dir, paths...)\n",
        "    println(\"target_dir=$target_dir, paths=$paths\")\n",
        "end\n",
        "\n",
        "copy_files(\"/tmp\", \"a.txt\", \"b.txt\")"
      ],
      "execution_count": null,
      "outputs": [
        {
          "output_type": "stream",
          "text": [
            "target_dir=/tmp, paths=(\"a.txt\", \"b.txt\")\n"
          ],
          "name": "stdout"
        }
      ]
    },
    {
      "cell_type": "markdown",
      "metadata": {
        "id": "x8lJsP6wQujj",
        "colab_type": "text"
      },
      "source": [
        "Keyword arguments are supported, after a semicolon `;`:"
      ]
    },
    {
      "cell_type": "code",
      "metadata": {
        "id": "R4XDHjftQwel",
        "colab_type": "code",
        "colab": {
          "base_uri": "https://localhost:8080/",
          "height": 34
        },
        "outputId": "a2c1f236-407d-4eba-be43-28dcf901054c"
      },
      "source": [
        "function copy_files2(paths...; confirm=false, target_dir)\n",
        "    println(\"paths=$paths, confirm=$confirm, $target_dir\")\n",
        "end\n",
        "\n",
        "copy_files2(\"a.txt\", \"b.txt\"; target_dir=\"/tmp\")"
      ],
      "execution_count": null,
      "outputs": [
        {
          "output_type": "stream",
          "text": [
            "paths=(\"a.txt\", \"b.txt\"), confirm=false, /tmp\n"
          ],
          "name": "stdout"
        }
      ]
    },
    {
      "cell_type": "markdown",
      "metadata": {
        "id": "katU7ZypHZdc",
        "colab_type": "text"
      },
      "source": [
        "Notes:\n",
        "* `target_dir` has no default value, so it is a required argument.\n",
        "* The order of the keyword arguments does not matter."
      ]
    },
    {
      "cell_type": "markdown",
      "metadata": {
        "id": "c24CyL7PGE35",
        "colab_type": "text"
      },
      "source": [
        "You can have another vararg in the keyword section. It corresponds to Python's `**kwargs`:"
      ]
    },
    {
      "cell_type": "code",
      "metadata": {
        "id": "m-u29GPoGP8l",
        "colab_type": "code",
        "colab": {
          "base_uri": "https://localhost:8080/",
          "height": 51
        },
        "outputId": "9ed96d73-0ac2-4640-e89b-bf50d2017ac5"
      },
      "source": [
        "function copy_files3(paths...; confirm=false, target_dir, options...)\n",
        "    println(\"paths=$paths, confirm=$confirm, $target_dir\")\n",
        "    verbose = options[:verbose]\n",
        "    println(\"verbose=$verbose\")\n",
        "end\n",
        "\n",
        "copy_files3(\"a.txt\", \"b.txt\"; target_dir=\"/tmp\", verbose=true, timeout=60)"
      ],
      "execution_count": null,
      "outputs": [
        {
          "output_type": "stream",
          "text": [
            "paths=(\"a.txt\", \"b.txt\"), confirm=false, /tmp\n",
            "verbose=true\n"
          ],
          "name": "stdout"
        }
      ]
    },
    {
      "cell_type": "markdown",
      "metadata": {
        "id": "UpbuZ0RYGsC2",
        "colab_type": "text"
      },
      "source": [
        "The `options` vararg acts like a dictionary (we will discuss dictionaries later). The keys are **symbols**, e.g., `:verbose`. Symbols are like strings, less flexible but faster. They are typically used as keys or identifiers.\n",
        "\n",
        "|Julia|Python (3.8+ if `/` is used)\n",
        "|-----|------\n",
        "| `function foo(a, b=2, c=3)`<br />&nbsp;&nbsp;&nbsp;&nbsp;`...`<br />`end`<br /><br />`foo(1, 2) # positional only` | `def foo(a, b=2, c=3, /):`<br />&nbsp;&nbsp;&nbsp;&nbsp;`...`<br /><br />`foo(1, 2) # pos only because of /`\n",
        "| `function foo(;a=1, b, c=3)`<br />&nbsp;&nbsp;&nbsp;&nbsp;`...`<br />`end`<br /><br />`foo(c=30, b=2) # keyword only` | `def foo(*, a=1, b, c=3):`<br />&nbsp;&nbsp;&nbsp;&nbsp;`...`<br /><br />`foo(c=30, b=2) # kw only because of *`\n",
        "| `function foo(a, b=2; c=3, d)`<br />&nbsp;&nbsp;&nbsp;&nbsp;`...`<br />`end`<br /><br />`foo(1; d=4) # pos only; then keyword only` | `def foo(a, b=2, /, *, c=3, d):`<br />&nbsp;&nbsp;&nbsp;&nbsp;`...`<br /><br />`foo(1, d=4) # pos only then kw only`\n",
        "| `function foo(a, b=2, c...)`<br />&nbsp;&nbsp;&nbsp;&nbsp;`...`<br />`end`<br /><br />`foo(1, 2, 3, 4) # positional only` | `def foo(a, b=2, /, *c):`<br />&nbsp;&nbsp;&nbsp;&nbsp;`...`<br /><br />`foo(1, 2, 3, 4) # positional only`\n",
        "| `function foo(a, b=1, c...; d=1, e, f...)`<br />&nbsp;&nbsp;&nbsp;&nbsp;`...`<br />`end`<br /><br />`foo(1, 2, 3, 4, e=5, x=10, y=20)`<br /> | `def foo(a, b=1, /, *c, d=1, e, **f):`<br />&nbsp;&nbsp;&nbsp;&nbsp;`...`<br /><br />`foo(1, 2, 3, 4, e=5, x=10, y=20)`\n"
      ]
    },
    {
      "cell_type": "markdown",
      "metadata": {
        "id": "JQsdtaYXDoNm",
        "colab_type": "text"
      },
      "source": [
        "## Concise Functions\n",
        "\n",
        "In Julia, the following definition:"
      ]
    },
    {
      "cell_type": "code",
      "metadata": {
        "id": "PnB4hMDIkd_4",
        "colab_type": "code",
        "colab": {
          "base_uri": "https://localhost:8080/",
          "height": 34
        },
        "outputId": "a7bfc7fe-204a-43e9-a0ce-40eb11267769"
      },
      "source": [
        "square(x) = x^2"
      ],
      "execution_count": null,
      "outputs": [
        {
          "output_type": "execute_result",
          "data": {
            "text/plain": [
              "square (generic function with 1 method)"
            ]
          },
          "metadata": {
            "tags": []
          },
          "execution_count": 179
        }
      ]
    },
    {
      "cell_type": "markdown",
      "metadata": {
        "id": "iXKsRqZUkk9O",
        "colab_type": "text"
      },
      "source": [
        "is equivalent to:"
      ]
    },
    {
      "cell_type": "code",
      "metadata": {
        "id": "iaDlQ7Mzkong",
        "colab_type": "code",
        "colab": {
          "base_uri": "https://localhost:8080/",
          "height": 34
        },
        "outputId": "1f3e339f-c3af-41c8-e04e-f499ba574aa7"
      },
      "source": [
        "function square(x)\n",
        "    x^2\n",
        "end"
      ],
      "execution_count": null,
      "outputs": [
        {
          "output_type": "execute_result",
          "data": {
            "text/plain": [
              "square (generic function with 1 method)"
            ]
          },
          "metadata": {
            "tags": []
          },
          "execution_count": 180
        }
      ]
    },
    {
      "cell_type": "markdown",
      "metadata": {
        "id": "Fjt5CFRfktfK",
        "colab_type": "text"
      },
      "source": [
        "For example, here's a shorter way to define the `estimate_pi()` function in Julia:"
      ]
    },
    {
      "cell_type": "code",
      "metadata": {
        "id": "1_D5M-EFDymm",
        "colab_type": "code",
        "colab": {
          "base_uri": "https://localhost:8080/",
          "height": 34
        },
        "outputId": "365ad25d-47e0-41cb-8868-3d6214ebdca0"
      },
      "source": [
        "estimate_pi3(n) = 4 * sum((isodd(i) ? -1 : 1)/(2i+1) for i in 0:n)"
      ],
      "execution_count": null,
      "outputs": [
        {
          "output_type": "execute_result",
          "data": {
            "text/plain": [
              "estimate_pi3 (generic function with 1 method)"
            ]
          },
          "metadata": {
            "tags": []
          },
          "execution_count": 181
        }
      ]
    },
    {
      "cell_type": "markdown",
      "metadata": {
        "id": "ZGDMqjmBls35",
        "colab_type": "text"
      },
      "source": [
        "To define a function on one line in Python, you need to use a `lambda` (but this is generally frowned upon, since the resulting function's name is `\"<lambda>\"`):\n",
        "\n",
        "```python\n",
        "# PYTHON\n",
        "square = lambda x: x**2\n",
        "assert square.__name__ == \"<lambda>\"\n",
        "```"
      ]
    },
    {
      "cell_type": "markdown",
      "metadata": {
        "id": "pyLBXz8llVhu",
        "colab_type": "text"
      },
      "source": [
        "This leads us to anonymous functions."
      ]
    },
    {
      "cell_type": "markdown",
      "metadata": {
        "id": "UV29B5anEAFF",
        "colab_type": "text"
      },
      "source": [
        "## Anonymous Functions\n",
        "Just like in Python, you can define anonymous functions:"
      ]
    },
    {
      "cell_type": "code",
      "metadata": {
        "id": "VAH0e6BjEJB2",
        "colab_type": "code",
        "colab": {
          "base_uri": "https://localhost:8080/",
          "height": 102
        },
        "outputId": "a690ac0c-89ea-4649-f386-5c2786aa6c44"
      },
      "source": [
        "map(x -> x^2, 1:4)"
      ],
      "execution_count": null,
      "outputs": [
        {
          "output_type": "execute_result",
          "data": {
            "text/plain": [
              "4-element Array{Int64,1}:\n",
              "  1\n",
              "  4\n",
              "  9\n",
              " 16"
            ]
          },
          "metadata": {
            "tags": []
          },
          "execution_count": 182
        }
      ]
    },
    {
      "cell_type": "markdown",
      "metadata": {
        "id": "RLy4-8trawqM",
        "colab_type": "text"
      },
      "source": [
        "Here is the equivalent Python code:\n",
        "\n",
        "```python\n",
        "list(map(lambda x: x**2, range(1, 5)))\n",
        "```\n",
        "\n",
        "Notes:\n",
        "* `map()` returns an array in Julia, instead of an iterator like in Python.\n",
        "* You could use a comprehension instead: `[x^2 for x in 1:4]`."
      ]
    },
    {
      "cell_type": "markdown",
      "metadata": {
        "id": "7RcghJ-EEUjz",
        "colab_type": "text"
      },
      "source": [
        "\n",
        "|Julia|Python\n",
        "|-----|------\n",
        "|`x -> x^2` | `lambda x: x**2`\n",
        "|`(x,y) -> x + y` | `lambda x,y: x + y `\n",
        "|`() -> println(\"yes\")` | `lambda: print(\"yes\")`\n"
      ]
    },
    {
      "cell_type": "markdown",
      "metadata": {
        "id": "jSYEdqYvF6XH",
        "colab_type": "text"
      },
      "source": [
        "In Python, lambda functions must be simple expressions. They cannot contain multiple statements. In Julia, they can be as long as you want. Indeed, you can create a multi-statement block using the syntax `(stmt_1; stmt_2; ...; stmt_n)`. The return value is the output of the last statement. For example:"
      ]
    },
    {
      "cell_type": "code",
      "metadata": {
        "id": "SnuJMFymEbPp",
        "colab_type": "code",
        "colab": {
          "base_uri": "https://localhost:8080/",
          "height": 170
        },
        "outputId": "4ecb1908-0fb3-41df-9f60-91d436f25819"
      },
      "source": [
        "map(x -> (println(\"Number $x\"); x^2), 1:4)"
      ],
      "execution_count": null,
      "outputs": [
        {
          "output_type": "stream",
          "text": [
            "Number 1\n",
            "Number 2\n",
            "Number 3\n",
            "Number 4\n"
          ],
          "name": "stdout"
        },
        {
          "output_type": "execute_result",
          "data": {
            "text/plain": [
              "4-element Array{Int64,1}:\n",
              "  1\n",
              "  4\n",
              "  9\n",
              " 16"
            ]
          },
          "metadata": {
            "tags": []
          },
          "execution_count": 183
        }
      ]
    },
    {
      "cell_type": "markdown",
      "metadata": {
        "id": "k1ztQt-VGz7p",
        "colab_type": "text"
      },
      "source": [
        "This syntax can span multiple lines:"
      ]
    },
    {
      "cell_type": "code",
      "metadata": {
        "id": "H-XL-nysG67t",
        "colab_type": "code",
        "colab": {
          "base_uri": "https://localhost:8080/",
          "height": 170
        },
        "outputId": "b4f4d8f6-9c20-468f-eabe-c613735de8ec"
      },
      "source": [
        "map(x -> (\n",
        "  println(\"Number $x\");\n",
        "  x^2), 1:4)"
      ],
      "execution_count": null,
      "outputs": [
        {
          "output_type": "stream",
          "text": [
            "Number 1\n",
            "Number 2\n",
            "Number 3\n",
            "Number 4\n"
          ],
          "name": "stdout"
        },
        {
          "output_type": "execute_result",
          "data": {
            "text/plain": [
              "4-element Array{Int64,1}:\n",
              "  1\n",
              "  4\n",
              "  9\n",
              " 16"
            ]
          },
          "metadata": {
            "tags": []
          },
          "execution_count": 184
        }
      ]
    },
    {
      "cell_type": "markdown",
      "metadata": {
        "id": "YZUU9OLdHEUX",
        "colab_type": "text"
      },
      "source": [
        "But in this case, it's probably clearer to use the `begin ... end` syntax instead:"
      ]
    },
    {
      "cell_type": "code",
      "metadata": {
        "id": "t3LUgpigHJ3Z",
        "colab_type": "code",
        "colab": {
          "base_uri": "https://localhost:8080/",
          "height": 170
        },
        "outputId": "cca81164-1e8f-4d61-826a-57e6562b70ff"
      },
      "source": [
        "map(x -> begin\n",
        "        println(\"Number $x\")\n",
        "        x^2\n",
        "    end, 1:4)"
      ],
      "execution_count": null,
      "outputs": [
        {
          "output_type": "stream",
          "text": [
            "Number 1\n",
            "Number 2\n",
            "Number 3\n",
            "Number 4\n"
          ],
          "name": "stdout"
        },
        {
          "output_type": "execute_result",
          "data": {
            "text/plain": [
              "4-element Array{Int64,1}:\n",
              "  1\n",
              "  4\n",
              "  9\n",
              " 16"
            ]
          },
          "metadata": {
            "tags": []
          },
          "execution_count": 185
        }
      ]
    },
    {
      "cell_type": "markdown",
      "metadata": {
        "id": "FQ5nX-AHIYUr",
        "colab_type": "text"
      },
      "source": [
        "Notice that this syntax allows you to drop the semicolons `;` at the end of each line in the block.\n",
        "\n",
        "Yet another way to define an anonymous function is using the `function (args) ... end` syntax:"
      ]
    },
    {
      "cell_type": "code",
      "metadata": {
        "id": "vKAR1ucxIQzF",
        "colab_type": "code",
        "colab": {
          "base_uri": "https://localhost:8080/",
          "height": 170
        },
        "outputId": "7cc70332-b128-43ca-c90b-81e71337e5d8"
      },
      "source": [
        "map(function (x)\n",
        "        println(\"Number $x\")\n",
        "        x^2\n",
        "    end, 1:4)"
      ],
      "execution_count": null,
      "outputs": [
        {
          "output_type": "stream",
          "text": [
            "Number 1\n",
            "Number 2\n",
            "Number 3\n",
            "Number 4\n"
          ],
          "name": "stdout"
        },
        {
          "output_type": "execute_result",
          "data": {
            "text/plain": [
              "4-element Array{Int64,1}:\n",
              "  1\n",
              "  4\n",
              "  9\n",
              " 16"
            ]
          },
          "metadata": {
            "tags": []
          },
          "execution_count": 186
        }
      ]
    },
    {
      "cell_type": "markdown",
      "metadata": {
        "id": "SGBwAWJ7HQ78",
        "colab_type": "text"
      },
      "source": [
        "Lastly, if you're passing the anonymous function as the first argument to a function (as is the case in this example), it's usually much preferable to define the anonymous function immediately after the function call, using the `do` syntax, like this:"
      ]
    },
    {
      "cell_type": "code",
      "metadata": {
        "id": "G60xP30UHW5F",
        "colab_type": "code",
        "colab": {
          "base_uri": "https://localhost:8080/",
          "height": 170
        },
        "outputId": "026b6aab-7a71-48b2-e3b1-125335ead9ba"
      },
      "source": [
        "map(1:4) do x\n",
        "  println(\"Number $x\")\n",
        "  x^2\n",
        "end"
      ],
      "execution_count": null,
      "outputs": [
        {
          "output_type": "stream",
          "text": [
            "Number 1\n",
            "Number 2\n",
            "Number 3\n",
            "Number 4\n"
          ],
          "name": "stdout"
        },
        {
          "output_type": "execute_result",
          "data": {
            "text/plain": [
              "4-element Array{Int64,1}:\n",
              "  1\n",
              "  4\n",
              "  9\n",
              " 16"
            ]
          },
          "metadata": {
            "tags": []
          },
          "execution_count": 187
        }
      ]
    },
    {
      "cell_type": "markdown",
      "metadata": {
        "id": "vtsXFsLTJTpD",
        "colab_type": "text"
      },
      "source": [
        "This syntax lets you easily define constructs that feel like language extensions:"
      ]
    },
    {
      "cell_type": "code",
      "metadata": {
        "id": "03Hru6aqIIgY",
        "colab_type": "code",
        "colab": {
          "base_uri": "https://localhost:8080/",
          "height": 85
        },
        "outputId": "18807537-af7e-43d3-e8dd-5f73e3d290dd"
      },
      "source": [
        "function my_for(func, collection)\n",
        "    for i in collection\n",
        "        func(i)\n",
        "    end\n",
        "end\n",
        "\n",
        "my_for(1:4) do i\n",
        "    println(\"The square of $i is $(i^2)\")\n",
        "end"
      ],
      "execution_count": null,
      "outputs": [
        {
          "output_type": "stream",
          "text": [
            "The square of 1 is 1\n",
            "The square of 2 is 4\n",
            "The square of 3 is 9\n",
            "The square of 4 is 16\n"
          ],
          "name": "stdout"
        }
      ]
    },
    {
      "cell_type": "markdown",
      "metadata": {
        "id": "tFWXrW9z9q8f",
        "colab_type": "text"
      },
      "source": [
        "In fact, Julia has a similar `foreach()` function."
      ]
    },
    {
      "cell_type": "markdown",
      "metadata": {
        "id": "XXuNr-9iZJf4",
        "colab_type": "text"
      },
      "source": [
        "The `do` syntax could be used to write a Domain Specific Language (DSL), for example an infrastructure automation DSL:"
      ]
    },
    {
      "cell_type": "code",
      "metadata": {
        "id": "sF1f2HsCZKoT",
        "colab_type": "code",
        "colab": {
          "base_uri": "https://localhost:8080/",
          "height": 68
        },
        "outputId": "8bc6be10-a8f2-4662-c266-623c4a3e847b"
      },
      "source": [
        "function spawn_server(startup_func, server_type)\n",
        "    println(\"Starting $server_type server\")\n",
        "    server_id = 1234\n",
        "    println(\"Configuring server $server_id...\")\n",
        "    startup_func(server_id)\n",
        "end\n",
        "\n",
        "# This is the DSL part\n",
        "spawn_server(\"web\") do server_id\n",
        "    println(\"Creating HTML pages on server $server_id...\")\n",
        "end"
      ],
      "execution_count": null,
      "outputs": [
        {
          "output_type": "stream",
          "text": [
            "Starting web server\n",
            "Configuring server 1234...\n",
            "Creating HTML pages on server 1234...\n"
          ],
          "name": "stdout"
        }
      ]
    },
    {
      "cell_type": "markdown",
      "metadata": {
        "id": "9jRtJFU82wEO",
        "colab_type": "text"
      },
      "source": [
        "It's also quite nice for event-driven code:"
      ]
    },
    {
      "cell_type": "code",
      "metadata": {
        "id": "lU-neWob2_As",
        "colab_type": "code",
        "colab": {
          "base_uri": "https://localhost:8080/",
          "height": 85
        },
        "outputId": "2c11f067-4321-46eb-a250-d67890bca518"
      },
      "source": [
        "handlers = []\n",
        "\n",
        "on_click(handler) = push!(handlers, handler)\n",
        "\n",
        "click(event) = foreach(handler->handler(event), handlers)\n",
        "\n",
        "on_click() do event\n",
        "    println(\"Mouse clicked at $event\")\n",
        "end\n",
        "\n",
        "on_click() do event\n",
        "    println(\"Beep.\")\n",
        "end\n",
        "\n",
        "click((x=50, y=20))\n",
        "click((x=120, y=10))"
      ],
      "execution_count": null,
      "outputs": [
        {
          "output_type": "stream",
          "text": [
            "Mouse clicked at (x = 50, y = 20)\n",
            "Beep.\n",
            "Mouse clicked at (x = 120, y = 10)\n",
            "Beep.\n"
          ],
          "name": "stdout"
        }
      ]
    },
    {
      "cell_type": "markdown",
      "metadata": {
        "id": "VclQwKNzajfP",
        "colab_type": "text"
      },
      "source": [
        "It can also be used to create context managers, for example to automatically close an object after it has been used, even if an exception is raised:"
      ]
    },
    {
      "cell_type": "code",
      "metadata": {
        "id": "_fCFbtHJarew",
        "colab_type": "code",
        "colab": {
          "base_uri": "https://localhost:8080/",
          "height": 68
        },
        "outputId": "77d062a8-f47e-490f-c124-597ede2387e1"
      },
      "source": [
        "function with_database(func, name)\n",
        "    println(\"Opening connection to database $name\")\n",
        "    db = \"a db object for database $name\"\n",
        "    try\n",
        "        func(db)\n",
        "    finally\n",
        "        println(\"Closing connection to database $name\")\n",
        "    end\n",
        "end\n",
        "\n",
        "with_database(\"jobs\") do db\n",
        "    println(\"I'm working with $db\")\n",
        "    #error(\"Oops\") # try uncommenting this line\n",
        "end"
      ],
      "execution_count": null,
      "outputs": [
        {
          "output_type": "stream",
          "text": [
            "Opening connection to database jobs\n",
            "I'm working with a db object for database jobs\n",
            "Closing connection to database jobs\n"
          ],
          "name": "stdout"
        }
      ]
    },
    {
      "cell_type": "markdown",
      "metadata": {
        "id": "D17bqrJwbqS5",
        "colab_type": "text"
      },
      "source": [
        "The equivalent code in Python would look like this:"
      ]
    },
    {
      "cell_type": "markdown",
      "metadata": {
        "id": "YmCiwD0Ubslm",
        "colab_type": "text"
      },
      "source": [
        "```python\n",
        "# PYTHON\n",
        "class Database:\n",
        "    def __init__(self, name):\n",
        "        self.name = name\n",
        "    def __enter__(self):\n",
        "        print(f\"Opening connection to database {self.name}\")\n",
        "        return f\"a db object for database {self.name}\"\n",
        "    def __exit__(self, type, value, traceback):\n",
        "        print(f\"Closing connection to database {self.name}\")\n",
        "\n",
        "with Database(\"jobs\") as db:\n",
        "    print(f\"I'm working with {db}\")\n",
        "    #raise Exception(\"Oops\") # try uncommenting this line\n",
        "```\n",
        "\n",
        "Or you could use `contextlib`:\n",
        "\n",
        "```python\n",
        "from contextlib import contextmanager\n",
        "\n",
        "@contextmanager\n",
        "def database(name):\n",
        "    print(f\"Opening connection to database {name}\")\n",
        "    db = f\"a db object for database {name}\"\n",
        "    try:\n",
        "        yield db\n",
        "    finally:\n",
        "        print(f\"Closing connection to database {name}\")\n",
        "\n",
        "with database(\"jobs\") as db:\n",
        "    print(f\"I'm working with {db}\")\n",
        "    #raise Exception(\"Oops\") # try uncommenting this line\n",
        "```"
      ]
    },
    {
      "cell_type": "code",
      "metadata": {
        "id": "NA9wxvDP444S",
        "colab_type": "code",
        "colab": {}
      },
      "source": [
        ""
      ],
      "execution_count": null,
      "outputs": []
    },
    {
      "cell_type": "markdown",
      "metadata": {
        "id": "scEsYrSt2jpA",
        "colab_type": "text"
      },
      "source": [
        "## Piping\n",
        "If you are used to the Object Oriented syntax `\"a b c\".upper().split()`, you may feel that writing `split(uppercase(\"a b c\"))` is a bit backwards. If so, the piping operation `|>` is for you:"
      ]
    },
    {
      "cell_type": "code",
      "metadata": {
        "id": "wRrmVEWG24_f",
        "colab_type": "code",
        "colab": {
          "base_uri": "https://localhost:8080/",
          "height": 85
        },
        "outputId": "fe577b76-1d9f-4f0b-c9f1-807d84916f8f"
      },
      "source": [
        "\"a b c\" |> uppercase |> split"
      ],
      "execution_count": null,
      "outputs": [
        {
          "output_type": "execute_result",
          "data": {
            "text/plain": [
              "3-element Array{SubString{String},1}:\n",
              " \"A\"\n",
              " \"B\"\n",
              " \"C\""
            ]
          },
          "metadata": {
            "tags": []
          },
          "execution_count": 193
        }
      ]
    },
    {
      "cell_type": "markdown",
      "metadata": {
        "id": "c2Y1HRhG4S47",
        "colab_type": "text"
      },
      "source": [
        "If you want to pass more than one argument to some of the functions, you can use anonymous functions:"
      ]
    },
    {
      "cell_type": "code",
      "metadata": {
        "id": "IzIFbaLQ4UCO",
        "colab_type": "code",
        "colab": {
          "base_uri": "https://localhost:8080/",
          "height": 34
        },
        "outputId": "345e5a3a-614d-44fb-f4ad-c82b7fbe3f1d"
      },
      "source": [
        "\"a b c\" |> uppercase |> split |> tokens->join(tokens, \", \")"
      ],
      "execution_count": null,
      "outputs": [
        {
          "output_type": "execute_result",
          "data": {
            "text/plain": [
              "\"A, B, C\""
            ]
          },
          "metadata": {
            "tags": []
          },
          "execution_count": 194
        }
      ]
    },
    {
      "cell_type": "markdown",
      "metadata": {
        "id": "GcnKoRyHcGC6",
        "colab_type": "text"
      },
      "source": [
        "The dotted version of the pipe operator works as you might expect, applying the _i_<sup>th</sup> function of the right array to the _i_<sup>th</sup> value in the left array:"
      ]
    },
    {
      "cell_type": "code",
      "metadata": {
        "id": "a7LytVDKbL_e",
        "colab_type": "code",
        "colab": {
          "base_uri": "https://localhost:8080/",
          "height": 85
        },
        "outputId": "dd732d8f-d43b-4e2e-906b-5c55b1d073b6"
      },
      "source": [
        "[π/2, \"hello\", 4] .|> [sin, length, x->x^2]"
      ],
      "execution_count": null,
      "outputs": [
        {
          "output_type": "execute_result",
          "data": {
            "text/plain": [
              "3-element Array{Real,1}:\n",
              "  1.0\n",
              "  5\n",
              " 16"
            ]
          },
          "metadata": {
            "tags": []
          },
          "execution_count": 195
        }
      ]
    },
    {
      "cell_type": "markdown",
      "metadata": {
        "id": "Czk5ZFOn3LDi",
        "colab_type": "text"
      },
      "source": [
        "## Composition\n",
        "Julia also lets you compose functions like mathematicians do, using the composition operator ∘ (`\\circ<tab>` in the REPL or Jupyter, but not Colab):"
      ]
    },
    {
      "cell_type": "code",
      "metadata": {
        "id": "iK9UrlF2aU_y",
        "colab_type": "code",
        "colab": {
          "base_uri": "https://localhost:8080/",
          "height": 34
        },
        "outputId": "d5988220-f836-4646-9c43-cd633a6a4c59"
      },
      "source": [
        "f = exp ∘ sin ∘ sqrt\n",
        "f(2.0) == exp(sin(sqrt(2.0)))"
      ],
      "execution_count": null,
      "outputs": [
        {
          "output_type": "execute_result",
          "data": {
            "text/plain": [
              "true"
            ]
          },
          "metadata": {
            "tags": []
          },
          "execution_count": 196
        }
      ]
    },
    {
      "cell_type": "markdown",
      "metadata": {
        "id": "lQJKl9rD-BWj",
        "colab_type": "text"
      },
      "source": [
        "# Methods\n",
        "Earlier, we discussed structs, which look a lot like Python classes, with instance variables and constructors, but they did not contain any methods (just the inner constructors). In Julia, methods are defined separately, like regular functions:"
      ]
    },
    {
      "cell_type": "code",
      "metadata": {
        "id": "axvF_XwJ-DJw",
        "colab_type": "code",
        "colab": {
          "base_uri": "https://localhost:8080/",
          "height": 34
        },
        "outputId": "047ba755-ee27-4480-8aed-86bcb1cbe388"
      },
      "source": [
        "struct Person\n",
        "    name\n",
        "    age\n",
        "end\n",
        "\n",
        "function greetings(greeter)\n",
        "    println(\"Hi, my name is $(greeter.name), I am $(greeter.age) years old.\")\n",
        "end\n",
        "\n",
        "p = Person(\"Alice\", 70)\n",
        "greetings(p)"
      ],
      "execution_count": null,
      "outputs": [
        {
          "output_type": "stream",
          "text": [
            "Hi, my name is Alice, I am 70 years old.\n"
          ],
          "name": "stdout"
        }
      ]
    },
    {
      "cell_type": "markdown",
      "metadata": {
        "id": "ylOha2mhCRgz",
        "colab_type": "text"
      },
      "source": [
        "Since the `greetings()` method in Julia is not bound to any particular type, we can use it with any other type we want, as long as that type has a `name` and an `age` (i.e., if it quacks like a duck):"
      ]
    },
    {
      "cell_type": "code",
      "metadata": {
        "id": "vWkQqaEPCgeY",
        "colab_type": "code",
        "colab": {
          "base_uri": "https://localhost:8080/",
          "height": 34
        },
        "outputId": "d31b6227-0725-49d5-ce73-15735433c14f"
      },
      "source": [
        "struct City\n",
        "    name\n",
        "    country\n",
        "    age\n",
        "end\n",
        "\n",
        "using Dates\n",
        "c = City(\"Auckland\", \"New Zealand\", year(now()) - 1840)\n",
        "\n",
        "greetings(c)"
      ],
      "execution_count": null,
      "outputs": [
        {
          "output_type": "stream",
          "text": [
            "Hi, my name is Auckland, I am 180 years old.\n"
          ],
          "name": "stdout"
        }
      ]
    },
    {
      "cell_type": "markdown",
      "metadata": {
        "id": "sRI9XAbrLA0t",
        "colab_type": "text"
      },
      "source": [
        "You could code this the same way in Python if you wanted to:\n",
        "\n",
        "```python\n",
        "# PYTHON\n",
        "class Person:\n",
        "    def __init__(self, name, age):\n",
        "        self.name = name\n",
        "        self.age = age\n",
        "\n",
        "class City:\n",
        "    def __init__(self, name, country, age):\n",
        "        self.name = name\n",
        "        self.country = country\n",
        "        self.age = age\n",
        "\n",
        "def greetings(greeter):\n",
        "    print(f\"Hi there, my name is {greeter.name}, I am {greeter.age} years old.\")\n",
        "\n",
        "p = Person(\"Lucy\", 70)\n",
        "greetings(p)\n",
        " \n",
        "from datetime import date\n",
        "c = City(\"Auckland\", \"New Zealand\", date.today().year - 1840)\n",
        "greetings(c)\n",
        "```"
      ]
    },
    {
      "cell_type": "markdown",
      "metadata": {
        "id": "qIcoroYhG5_Y",
        "colab_type": "text"
      },
      "source": [
        "However, many Python programmers would use inheritance in this case:\n",
        "\n",
        "```python\n",
        "class Greeter:\n",
        "    def __init__(self, name, age):\n",
        "        self.name = name\n",
        "        self.age = age\n",
        "    def greetings(self):\n",
        "        print(f\"Hi there, my name is {self.name}, I am {self.age} years old.\")\n",
        "\n",
        "class Person(Greeter):\n",
        "    def __init__(self, name, age):\n",
        "        super().__init__(name, age)\n",
        "\n",
        "class City(Greeter):\n",
        "    def __init__(self, name, country, age):\n",
        "        super().__init__(name, age)\n",
        "        self.country = country\n",
        "\n",
        "p = Person(\"Lucy\", 70)\n",
        "p.greetings()\n",
        "\n",
        "from datetime import date\n",
        "c = City(\"Auckland\", \"New Zealand\", date.today().year - 1840)\n",
        "c.greetings()\n",
        "```\n"
      ]
    },
    {
      "cell_type": "markdown",
      "metadata": {
        "id": "iRNLWOyURGGp",
        "colab_type": "text"
      },
      "source": [
        "## Extending a Function\n",
        "One nice thing about having a class hierarchy is that you can override methods in subclasses to get specialized behavior for each class. For example, in Python you could override the `greetings()` method like this:\n",
        "\n",
        "```python\n",
        "# PYTHON\n",
        "class Developer(Person):\n",
        "    def __init__(self, name, age, language):\n",
        "        super().__init__(name, age)\n",
        "        self.language = language\n",
        "    def greetings(self):\n",
        "        print(f\"Hi there, my name is {self.name}, I am {self.age} years old.\")\n",
        "        print(f\"My favorite language is {self.language}.\")\n",
        "\n",
        "d = Developer(\"Amy\", 40, \"Julia\")\n",
        "d.greetings()\n",
        "```\n"
      ]
    },
    {
      "cell_type": "markdown",
      "metadata": {
        "id": "srgbdxLxSWGG",
        "colab_type": "text"
      },
      "source": [
        "Notice that the expression `d.greetings()` will call a different method if `d` is a `Person` or a `Developer`. This is called \"polymorphism\": the same method call behaves differently depending on the type of the object. The language chooses which actual method implementation to call, based on the type of `d`: this is called method \"dispatch\". More specifically, since it only depends on a single variable, it is called \"single dispatch\".\n",
        "\n",
        "The good news is that Julia can do single dispatch as well:"
      ]
    },
    {
      "cell_type": "code",
      "metadata": {
        "id": "j6fIldepUFA1",
        "colab_type": "code",
        "colab": {
          "base_uri": "https://localhost:8080/",
          "height": 51
        },
        "outputId": "7ceb4772-aa9f-4bac-d180-3f516ea49265"
      },
      "source": [
        "struct Developer\n",
        "    name\n",
        "    age\n",
        "    language\n",
        "end\n",
        "\n",
        "function greetings(dev::Developer)\n",
        "    println(\"Hi, my name is $(dev.name), I am $(dev.age) years old.\")\n",
        "    println(\"My favorite language is $(dev.language).\")\n",
        "end\n",
        "\n",
        "d = Developer(\"Amy\", 40, \"Julia\")\n",
        "greetings(d)"
      ],
      "execution_count": null,
      "outputs": [
        {
          "output_type": "stream",
          "text": [
            "Hi, my name is Amy, I am 40 years old.\n",
            "My favorite language is Julia.\n"
          ],
          "name": "stdout"
        }
      ]
    },
    {
      "cell_type": "markdown",
      "metadata": {
        "id": "2ji22KZNVHub",
        "colab_type": "text"
      },
      "source": [
        "Notice that the `dev` argument is followed by `::Developer`, which means that this method will only be called if the argument has that type.\n",
        "\n",
        "We have **extended** the `greetings` **function**, so that it now has two different implementations, called **methods**, each for different argument types: namely, `greetings(dev::Developer)` for arguments of type `Developer`, and `greetings(greeter)` for values of any other type.\n",
        "\n",
        "You can easily get the list of all the methods of a given function:"
      ]
    },
    {
      "cell_type": "code",
      "metadata": {
        "id": "6yQgjmjST2xL",
        "colab_type": "code",
        "colab": {
          "base_uri": "https://localhost:8080/",
          "height": 80
        },
        "outputId": "464db6fb-2606-404b-ff92-0a8e91659cf1"
      },
      "source": [
        "methods(greetings)"
      ],
      "execution_count": null,
      "outputs": [
        {
          "output_type": "execute_result",
          "data": {
            "text/html": [
              "# 2 methods for generic function <b>greetings</b>:<ul><li> greetings(dev::<b>Developer</b>) in Main at In[199]:7</li> <li> greetings(greeter) in Main at In[197]:6</li> </ul>"
            ],
            "text/plain": [
              "# 2 methods for generic function \"greetings\":\n",
              "[1] greetings(dev::Developer) in Main at In[199]:7\n",
              "[2] greetings(greeter) in Main at In[197]:6"
            ]
          },
          "metadata": {
            "tags": []
          },
          "execution_count": 200
        }
      ]
    },
    {
      "cell_type": "markdown",
      "metadata": {
        "id": "iS7Byq8yd8uE",
        "colab_type": "text"
      },
      "source": [
        "You can also get the list of all the methods which take a particular type as argument:"
      ]
    },
    {
      "cell_type": "code",
      "metadata": {
        "id": "ZxFaPzByd0qv",
        "colab_type": "code",
        "colab": {
          "base_uri": "https://localhost:8080/",
          "height": 63
        },
        "outputId": "857e9e9f-1b87-49e0-d417-17335ea138c4"
      },
      "source": [
        "methodswith(Developer)"
      ],
      "execution_count": null,
      "outputs": [
        {
          "output_type": "execute_result",
          "data": {
            "text/html": [
              "1-element Array{Method,1}:<ul><li> greetings(dev::<b>Developer</b>) in Main at In[199]:7</ul>"
            ],
            "text/plain": [
              "[1] greetings(dev::Developer) in Main at In[199]:7"
            ]
          },
          "metadata": {
            "tags": []
          },
          "execution_count": 201
        }
      ]
    },
    {
      "cell_type": "markdown",
      "metadata": {
        "id": "ab4DP1-fT7dE",
        "colab_type": "text"
      },
      "source": [
        "When you call the `greetings()` function, Julia automatically dispatches the call to the appropriate method, depending on the type of the argument. If Julia can determine at compile time what the type of the argument will be, then it optimizes the compiled code so that there's no choice to be made at runtime. This is called **static dispatch**, and it can significantly speed up the program. If the argument's type can't be determined at compile time, then Julia makes the choice at runtime, just like in Python: this is called **dynamic dispatch**."
      ]
    },
    {
      "cell_type": "markdown",
      "metadata": {
        "id": "Y7U4rXr2GnFx",
        "colab_type": "text"
      },
      "source": [
        "## Multiple Dispatch\n",
        "Julia actually looks at the types of _all_ the positional arguments, not just the first one. This is called **multiple dispatch**. For example:"
      ]
    },
    {
      "cell_type": "code",
      "metadata": {
        "id": "YE7pb7tHHEcb",
        "colab_type": "code",
        "colab": {
          "base_uri": "https://localhost:8080/",
          "height": 34
        },
        "outputId": "a6a07adb-a496-4ffd-aaeb-ecd32f3e27cb"
      },
      "source": [
        "multdisp(a::Int64, b::Int64) = 1\n",
        "multdisp(a::Int64, b::Float64) = 2\n",
        "multdisp(a::Float64, b::Int64) = 3\n",
        "multdisp(a::Float64, b::Float64) = 4\n",
        "\n",
        "multdisp(10, 20) # try changing the arguments to get each possible output"
      ],
      "execution_count": null,
      "outputs": [
        {
          "output_type": "execute_result",
          "data": {
            "text/plain": [
              "1"
            ]
          },
          "metadata": {
            "tags": []
          },
          "execution_count": 202
        }
      ]
    },
    {
      "cell_type": "markdown",
      "metadata": {
        "id": "wJtjHEYGJr5B",
        "colab_type": "text"
      },
      "source": [
        "Julia always chooses the most specific method it can, so the following method will only be called if the first argument is neither an `Int64` nor a `Float64`:"
      ]
    },
    {
      "cell_type": "code",
      "metadata": {
        "id": "SrZv6JZBKZGF",
        "colab_type": "code",
        "colab": {
          "base_uri": "https://localhost:8080/",
          "height": 34
        },
        "outputId": "0aad8bdf-4cb5-4cb5-9f94-0ab437d5d99d"
      },
      "source": [
        "multdisp(a::Any, b::Int64) = 5\n",
        "\n",
        "multdisp(10, 20)"
      ],
      "execution_count": null,
      "outputs": [
        {
          "output_type": "execute_result",
          "data": {
            "text/plain": [
              "1"
            ]
          },
          "metadata": {
            "tags": []
          },
          "execution_count": 203
        }
      ]
    },
    {
      "cell_type": "markdown",
      "metadata": {
        "id": "BiwKlUcMKvbr",
        "colab_type": "text"
      },
      "source": [
        "Julia will raise an exception if there is some ambiguity as to which method is the most specific:"
      ]
    },
    {
      "cell_type": "code",
      "metadata": {
        "id": "wnvxky-JJQxU",
        "colab_type": "code",
        "colab": {
          "base_uri": "https://localhost:8080/",
          "height": 34
        },
        "outputId": "9e10ef0f-055e-4112-c040-ce18568c048e"
      },
      "source": [
        "ambig(a::Int64, b) = 1\n",
        "ambig(a, b::Int64) = 2\n",
        "\n",
        "try\n",
        "    ambig(10, 20)\n",
        "catch ex\n",
        "    ex\n",
        "end"
      ],
      "execution_count": null,
      "outputs": [
        {
          "output_type": "execute_result",
          "data": {
            "text/plain": [
              "MethodError(ambig, (10, 20), 0x0000000000006d05)"
            ]
          },
          "metadata": {
            "tags": []
          },
          "execution_count": 204
        }
      ]
    },
    {
      "cell_type": "markdown",
      "metadata": {
        "id": "5Pb7CA7kK8UT",
        "colab_type": "text"
      },
      "source": [
        "To solve this problem, you can explicitely define a method for the ambiguous case:"
      ]
    },
    {
      "cell_type": "code",
      "metadata": {
        "id": "mlr9q0GxLL-q",
        "colab_type": "code",
        "colab": {
          "base_uri": "https://localhost:8080/",
          "height": 34
        },
        "outputId": "69ca3cd8-cc30-4e5a-f571-42adb3a89e42"
      },
      "source": [
        "ambig(a::Int64, b::Int64) = 3\n",
        "ambig(10, 20)"
      ],
      "execution_count": null,
      "outputs": [
        {
          "output_type": "execute_result",
          "data": {
            "text/plain": [
              "3"
            ]
          },
          "metadata": {
            "tags": []
          },
          "execution_count": 205
        }
      ]
    },
    {
      "cell_type": "markdown",
      "metadata": {
        "id": "W19FsOf2GOcF",
        "colab_type": "text"
      },
      "source": [
        "So you can have polymorphism in Julia, just like in Python. This means that you can write your algorithms in a generic way, without having to know the exact types of the values you are manipulating, and it will work fine, as long as these types act in the general way you expect (i.e., if they \"quack like ducks\"). For example:"
      ]
    },
    {
      "cell_type": "code",
      "metadata": {
        "id": "L_i8ksenUoz8",
        "colab_type": "code",
        "colab": {
          "base_uri": "https://localhost:8080/",
          "height": 102
        },
        "outputId": "71b9de40-423b-4ae0-cbc6-f8cb57845593"
      },
      "source": [
        "function how_can_i_help(greeter)\n",
        "    greetings(greeter)\n",
        "    println(\"How can I help?\")\n",
        "end\n",
        "\n",
        "how_can_i_help(p) # called on a Person\n",
        "how_can_i_help(d) # called on a Developer"
      ],
      "execution_count": null,
      "outputs": [
        {
          "output_type": "stream",
          "text": [
            "Hi, my name is Alice, I am 70 years old.\n",
            "How can I help?\n",
            "Hi, my name is Amy, I am 40 years old.\n",
            "My favorite language is Julia.\n",
            "How can I help?\n"
          ],
          "name": "stdout"
        }
      ]
    },
    {
      "cell_type": "markdown",
      "metadata": {
        "id": "jZmax1CvVBKT",
        "colab_type": "text"
      },
      "source": [
        "## Calling `super()`?\n",
        "You may have noticed that the `greetings(dev::Developer)` method could be improved, since it currently duplicates the implementation of the base method `greetings(greeter)`. In Python, you would get rid of this duplication by calling the base class's `greetings()` method, using `super()`:\n",
        "\n",
        "```python\n",
        "# PYTHON\n",
        "class Developer(Person):\n",
        "    def __init__(self, name, age, language):\n",
        "        super().__init__(name, age)\n",
        "        self.language = language\n",
        "    def greetings(self):\n",
        "        super().greetings() # <== THIS!\n",
        "        print(f\"My favorite language is {self.language}.\")\n",
        "\n",
        "d = Developer(\"Amy\", 40, \"Julia\")\n",
        "d.greetings()\n",
        "```\n",
        "\n",
        "In Julia, you can do something pretty similar, although you have to implement your own `super()` function, as it is not part of the language:"
      ]
    },
    {
      "cell_type": "code",
      "metadata": {
        "id": "8Oz-Xe4VmMRr",
        "colab_type": "code",
        "colab": {
          "base_uri": "https://localhost:8080/",
          "height": 51
        },
        "outputId": "60e04aac-b3b0-4ecf-ce9f-97c964c43768"
      },
      "source": [
        "super(dev::Developer) = Person(dev.name, dev.age)\n",
        "\n",
        "function greetings(dev::Developer)\n",
        "    greetings(super(dev))\n",
        "    println(\"My favorite language is $(dev.language).\")\n",
        "end\n",
        "\n",
        "greetings(d)"
      ],
      "execution_count": null,
      "outputs": [
        {
          "output_type": "stream",
          "text": [
            "Hi, my name is Amy, I am 40 years old.\n",
            "My favorite language is Julia.\n"
          ],
          "name": "stdout"
        }
      ]
    },
    {
      "cell_type": "markdown",
      "metadata": {
        "id": "WqtmgScLr3oz",
        "colab_type": "text"
      },
      "source": [
        "However, this implementation creates a new `Person` instance when calling `super(dev)`, copying the `name` and `age` fields. That's okay for small objects, but it's not ideal for larger ones. Instead, you can explicitely call the specific method you want by using the `invoke()` function:"
      ]
    },
    {
      "cell_type": "code",
      "metadata": {
        "id": "XPlSZ5kaqz0l",
        "colab_type": "code",
        "colab": {
          "base_uri": "https://localhost:8080/",
          "height": 51
        },
        "outputId": "5d1e081d-d9a4-4681-e9f2-70bf5458ddb1"
      },
      "source": [
        "function greetings(dev::Developer)\n",
        "    invoke(greetings, Tuple{Any}, dev)\n",
        "    println(\"My favorite language is $(dev.language).\")\n",
        "end\n",
        "\n",
        "greetings(d)"
      ],
      "execution_count": null,
      "outputs": [
        {
          "output_type": "stream",
          "text": [
            "Hi, my name is Amy, I am 40 years old.\n",
            "My favorite language is Julia.\n"
          ],
          "name": "stdout"
        }
      ]
    },
    {
      "cell_type": "markdown",
      "metadata": {
        "id": "Vrf7C_Cgsob2",
        "colab_type": "text"
      },
      "source": [
        "The `invoke()` function expects the following arguments:\n",
        "* The first argument is the function to call.\n",
        "* The second argument is the type of the desired method's arguments tuple: `Tuple{TypeArg1, TypeArg2, etc.}`. In this case we want to call the base function, which takes a single `Any` argument (the `Any` type is implicit when no type is specified).\n",
        "* Lastly, it takes all the arguments to be passed to the method. In this case, there's just one: `dev`."
      ]
    },
    {
      "cell_type": "markdown",
      "metadata": {
        "id": "emqToYz-ypOS",
        "colab_type": "text"
      },
      "source": [
        "As you can see, we managed to get the same advantages Object-Oriented programming offers, without defining classes or using inheritance. This takes a bit of getting used to, but you might come to prefer this style of generic programming. Indeed, OO programming encourage you to bundle data and behavior together, but this is not always a good idea. Let's look at one example:\n",
        "\n",
        "```python\n",
        "# PYTHON\n",
        "class Rectangle:\n",
        "    def __init__(self, height, width):\n",
        "        self.height = height\n",
        "        self.width = width\n",
        "    def area(self):\n",
        "        return self.height * self.width\n",
        "\n",
        "class Square(Rectangle):\n",
        "    def __init__(self, length):\n",
        "        super().__init__(length, length)\n",
        "```\n",
        "\n",
        "It makes sense for the `Square` class to be a subclass of the `Rectangle` class, since a square **is a** special type of rectangle. It also makes sense for the `Square` class to inherit from all of the `Rectangle` class's behavior, such as the `area()` method. However, it does not really make sense for rectangles and squares to have the same memory representation: a `Rectangle` needs two numbers (`height` and `width`), while a `Square` only needs one (`length`).\n",
        "\n",
        "It's possible to work around this issue like this:\n",
        "\n",
        "```python\n",
        "# PYTHON\n",
        "class Rectangle:\n",
        "    def __init__(self, height, width):\n",
        "        self.height = height\n",
        "        self.width = width\n",
        "    def area(self):\n",
        "        return self.height * self.width\n",
        "\n",
        "class Square(Rectangle):\n",
        "    def __init__(self, length):\n",
        "        self.length = length\n",
        "    @property\n",
        "    def width(self):\n",
        "        return self.length\n",
        "    @property\n",
        "    def height(self):\n",
        "        return self.length\n",
        "```\n",
        "\n",
        "That's better: now, each square is only represented using a single number. We've inherited the behavior, but not the data.\n",
        "\n",
        "In Julia, you could code this like so:"
      ]
    },
    {
      "cell_type": "code",
      "metadata": {
        "id": "G7aHm-s_y92c",
        "colab_type": "code",
        "colab": {
          "base_uri": "https://localhost:8080/",
          "height": 34
        },
        "outputId": "cbbcb84c-7681-40d8-c012-770c931fddb9"
      },
      "source": [
        "struct Rectangle\n",
        "    width\n",
        "    height\n",
        "end\n",
        "\n",
        "width(rect::Rectangle) = rect.width\n",
        "height(rect::Rectangle) = rect.height\n",
        "\n",
        "area(rect) = width(rect) * height(rect)\n",
        "\n",
        "struct Square\n",
        "    length\n",
        "end\n",
        "\n",
        "width(sq::Square) = sq.length\n",
        "height(sq::Square) = sq.length"
      ],
      "execution_count": null,
      "outputs": [
        {
          "output_type": "execute_result",
          "data": {
            "text/plain": [
              "height (generic function with 2 methods)"
            ]
          },
          "metadata": {
            "tags": []
          },
          "execution_count": 209
        }
      ]
    },
    {
      "cell_type": "code",
      "metadata": {
        "id": "1Ck-ML8CuOMm",
        "colab_type": "code",
        "colab": {
          "base_uri": "https://localhost:8080/",
          "height": 34
        },
        "outputId": "1d7d3b61-8752-45a9-924d-a174a31f2a17"
      },
      "source": [
        "area(Square(5))"
      ],
      "execution_count": null,
      "outputs": [
        {
          "output_type": "execute_result",
          "data": {
            "text/plain": [
              "25"
            ]
          },
          "metadata": {
            "tags": []
          },
          "execution_count": 210
        }
      ]
    },
    {
      "cell_type": "markdown",
      "metadata": {
        "id": "qUy8eU__-swA",
        "colab_type": "text"
      },
      "source": [
        "Notice that the `area()` function relies on the getters `width()` and `height()`, rather than directly on the fields `width` and `height`. This way, the argument can be of any type at all, as long as it has these getters."
      ]
    },
    {
      "cell_type": "markdown",
      "metadata": {
        "id": "iPtX04AJkXnI",
        "colab_type": "text"
      },
      "source": [
        "## Abstract Types\n",
        "One nice thing about the class hierarchy we defined in Python is that it makes it clear that a square **is a** kind of rectangle. Any new function you define that takes a `Rectangle` as an argument will automatically accept a `Square` as well, but no other non-rectangle type. In contrast, our `area()` function currently accepts anything at all.\n",
        "\n",
        "In Julia, a concrete type like `Square` cannot extend another concrete type like `Rectangle`. However, any type can extend from an abstract type. Let's define some abstract types to create a type hierarchy for our `Square` and `Rectangle` types."
      ]
    },
    {
      "cell_type": "code",
      "metadata": {
        "id": "HgXYu8Y7kFf7",
        "colab_type": "code",
        "colab": {}
      },
      "source": [
        "abstract type AbstractShape end\n",
        "abstract type AbstractRectangle <: AbstractShape end  # <: means \"subtype of\"\n",
        "abstract type AbstractSquare <: AbstractRectangle end"
      ],
      "execution_count": null,
      "outputs": []
    },
    {
      "cell_type": "markdown",
      "metadata": {
        "id": "s9jYhVkntUXo",
        "colab_type": "text"
      },
      "source": [
        "The `<:` operator means \"subtype of\"."
      ]
    },
    {
      "cell_type": "markdown",
      "metadata": {
        "id": "SFoq_2FUtjix",
        "colab_type": "text"
      },
      "source": [
        "Now we can attach the `area()` function to the `AbstractRectangle` type, instead of any type at all:"
      ]
    },
    {
      "cell_type": "code",
      "metadata": {
        "id": "DpCEaRNytYNQ",
        "colab_type": "code",
        "colab": {
          "base_uri": "https://localhost:8080/",
          "height": 34
        },
        "outputId": "082cf604-f78b-47ef-a7d1-bc0a37c69ac7"
      },
      "source": [
        "area(rect::AbstractRectangle) = width(rect) * height(rect)"
      ],
      "execution_count": null,
      "outputs": [
        {
          "output_type": "execute_result",
          "data": {
            "text/plain": [
              "area (generic function with 2 methods)"
            ]
          },
          "metadata": {
            "tags": []
          },
          "execution_count": 212
        }
      ]
    },
    {
      "cell_type": "markdown",
      "metadata": {
        "id": "utwPa8jLt7bF",
        "colab_type": "text"
      },
      "source": [
        "Now we can define the concrete types, as subtypes of `AbstractRectangle` and `AbstractSquare`:"
      ]
    },
    {
      "cell_type": "code",
      "metadata": {
        "id": "cHChkf1Mt0GN",
        "colab_type": "code",
        "colab": {
          "base_uri": "https://localhost:8080/",
          "height": 34
        },
        "outputId": "f74d8ed5-4140-4760-84e5-14fa2bc8bf02"
      },
      "source": [
        "struct Rectangle_v2 <: AbstractRectangle\n",
        "  width\n",
        "  height\n",
        "end\n",
        "\n",
        "width(rect::Rectangle_v2) = rect.width\n",
        "height(rect::Rectangle_v2) = rect.height\n",
        "\n",
        "struct Square_v2 <: AbstractSquare\n",
        "  length\n",
        "end\n",
        "\n",
        "width(sq::Square_v2) = sq.length\n",
        "width(sq::Square_v2) = sq.length"
      ],
      "execution_count": null,
      "outputs": [
        {
          "output_type": "execute_result",
          "data": {
            "text/plain": [
              "width (generic function with 4 methods)"
            ]
          },
          "metadata": {
            "tags": []
          },
          "execution_count": 213
        }
      ]
    },
    {
      "cell_type": "markdown",
      "metadata": {
        "id": "N6JklHCruNkP",
        "colab_type": "text"
      },
      "source": [
        "In short, the Julian approach to type hierarchies looks like this:\n",
        "\n",
        "* Create a hierarchy of abstract types to represent the concepts you want to implement.\n",
        "* Write functions for these abstract types. Much of your implementation can be coded at that level, manipulating abstract concepts.\n",
        "* Lastly, create concrete types, and write the methods needed to give them the behavior that is expected by the generic algorithms you wrote."
      ]
    },
    {
      "cell_type": "markdown",
      "metadata": {
        "id": "GZA6mB9hu3pg",
        "colab_type": "text"
      },
      "source": [
        "This pattern is used everywhere in Julia's standard libraries. For example, here are the supertypes of `Float64` and `Int64`:"
      ]
    },
    {
      "cell_type": "code",
      "metadata": {
        "id": "No9X1dLtu-nj",
        "colab_type": "code",
        "colab": {
          "base_uri": "https://localhost:8080/",
          "height": 34
        },
        "outputId": "878cbd46-fb53-4e63-9da1-c79737923160"
      },
      "source": [
        "Base.show_supertypes(Float64)"
      ],
      "execution_count": null,
      "outputs": [
        {
          "output_type": "stream",
          "text": [
            "Float64 <: AbstractFloat <: Real <: Number <: Any"
          ],
          "name": "stdout"
        }
      ]
    },
    {
      "cell_type": "markdown",
      "metadata": {
        "id": "fTFddfq0CEyy",
        "colab_type": "text"
      },
      "source": [
        "Note: Julia implicitly runs `using Core` and `using Base` when starting the REPL. However, the `show_supertypes()` function is not exported by the `Base` module, thus you cannot access it by just typing `show_supertypes(Float64)`. Instead, you have to specify the module name: `Base.show_supertypes(Float64)`."
      ]
    },
    {
      "cell_type": "markdown",
      "metadata": {
        "id": "K-q4QCgI-rWI",
        "colab_type": "text"
      },
      "source": [
        "And here is the whole hierarchy of `Number` types:"
      ]
    },
    {
      "cell_type": "code",
      "metadata": {
        "id": "6Gtn6IB0vQZv",
        "colab_type": "code",
        "colab": {
          "base_uri": "https://localhost:8080/",
          "height": 510
        },
        "outputId": "db551a8b-62b9-4930-9b73-e0eded7f7af9"
      },
      "source": [
        "function show_hierarchy(root, indent=0)\n",
        "    println(repeat(\" \", indent * 4), root)\n",
        "    for subtype in subtypes(root)\n",
        "        show_hierarchy(subtype, indent + 1)\n",
        "    end\n",
        "end\n",
        "\n",
        "show_hierarchy(Number)"
      ],
      "execution_count": null,
      "outputs": [
        {
          "output_type": "stream",
          "text": [
            "Number\n",
            "    Complex\n",
            "    Real\n",
            "        AbstractFloat\n",
            "            BigFloat\n",
            "            Float16\n",
            "            Float32\n",
            "            Float64\n",
            "        AbstractIrrational\n",
            "            Irrational\n",
            "        FixedPointNumbers.FixedPoint\n",
            "            FixedPointNumbers.Fixed\n",
            "            FixedPointNumbers.Normed\n",
            "        Integer\n",
            "            Bool\n",
            "            Signed\n",
            "                BigInt\n",
            "                Int128\n",
            "                Int16\n",
            "                Int32\n",
            "                Int64\n",
            "                Int8\n",
            "            Unsigned\n",
            "                UInt128\n",
            "                UInt16\n",
            "                UInt32\n",
            "                UInt64\n",
            "                UInt8\n",
            "        Rational\n"
          ],
          "name": "stdout"
        }
      ]
    },
    {
      "cell_type": "markdown",
      "metadata": {
        "id": "NdE0eLaKf_tM",
        "colab_type": "text"
      },
      "source": [
        "## Iterator Interface\n",
        "You will sometimes want to provide a way to iterate over your custom types. In Python, this requires defining the `__iter__()` method which should return an object which implements the `__next__()` method. In Julia, you must define at least two functions:\n",
        "* `iterate(::YourIteratorType)`, which must return either `nothing` if there are no values in the sequence, or `(first_value, iterator_state)`.\n",
        "* `iterate(::YourIteratorType, state)`, which must return either `nothing` if there are no more values, or `(next_value, new_iterator_state)`.\n",
        "\n",
        "For example, let's create a simple iterator for the Fibonacci sequence:"
      ]
    },
    {
      "cell_type": "code",
      "metadata": {
        "id": "baemCHqZde4Y",
        "colab_type": "code",
        "colab": {}
      },
      "source": [
        "struct FibonacciIterator end"
      ],
      "execution_count": null,
      "outputs": []
    },
    {
      "cell_type": "code",
      "metadata": {
        "id": "yidgsJt9eBSk",
        "colab_type": "code",
        "colab": {
          "base_uri": "https://localhost:8080/",
          "height": 34
        },
        "outputId": "c837bc2b-ce64-46c0-921f-19dcdddca00c"
      },
      "source": [
        "import Base.iterate\n",
        "\n",
        "iterate(f::FibonacciIterator) = (1, (1, 1))\n",
        "\n",
        "function iterate(f::FibonacciIterator, state)\n",
        "    new_state = (state[2], state[1] + state[2])\n",
        "    (new_state[1], new_state)\n",
        "end"
      ],
      "execution_count": null,
      "outputs": [
        {
          "output_type": "execute_result",
          "data": {
            "text/plain": [
              "iterate (generic function with 224 methods)"
            ]
          },
          "metadata": {
            "tags": []
          },
          "execution_count": 217
        }
      ]
    },
    {
      "cell_type": "markdown",
      "metadata": {
        "id": "9CORRxR8hYrl",
        "colab_type": "text"
      },
      "source": [
        "Now we can iterate over a `FibonacciIterator` instance:"
      ]
    },
    {
      "cell_type": "code",
      "metadata": {
        "id": "5W0QbY41fJGE",
        "colab_type": "code",
        "colab": {
          "base_uri": "https://localhost:8080/",
          "height": 136
        },
        "outputId": "a955c9d9-29cd-46a7-a480-89f170d2f243"
      },
      "source": [
        "for f in FibonacciIterator()\n",
        "    println(f)\n",
        "    f > 10 && break\n",
        "end"
      ],
      "execution_count": null,
      "outputs": [
        {
          "output_type": "stream",
          "text": [
            "1\n",
            "1\n",
            "2\n",
            "3\n",
            "5\n",
            "8\n",
            "13\n"
          ],
          "name": "stdout"
        }
      ]
    },
    {
      "cell_type": "markdown",
      "metadata": {
        "id": "RjEk9nRIhmwV",
        "colab_type": "text"
      },
      "source": [
        "## Indexing Interface\n",
        "You can also create a type that will be indexable like an array (allowing syntax like `a[5] = 3`). In Python, this requires implementing the `__getitem__()` and `__setitem__()` methods. In Julia, you must implement the `getindex(A::YourType, i)`, `setindex!(A::YourType, v, i)`, `firstindex(A::YourType)` and `lastindex(A::YourType)` methods."
      ]
    },
    {
      "cell_type": "code",
      "metadata": {
        "id": "i-r1StLujBEL",
        "colab_type": "code",
        "colab": {
          "base_uri": "https://localhost:8080/",
          "height": 34
        },
        "outputId": "50f63c0a-f638-4eaf-fd88-d2e0baca3fb1"
      },
      "source": [
        "struct MySquares end\n",
        "\n",
        "import Base.getindex, Base.firstindex\n",
        "\n",
        "getindex(::MySquares, i) = i^2\n",
        "firstindex(::MySquares) = 0\n",
        "\n",
        "S = MySquares()\n",
        "S[10]"
      ],
      "execution_count": null,
      "outputs": [
        {
          "output_type": "execute_result",
          "data": {
            "text/plain": [
              "100"
            ]
          },
          "metadata": {
            "tags": []
          },
          "execution_count": 219
        }
      ]
    },
    {
      "cell_type": "code",
      "metadata": {
        "id": "p8zfJLvDjpSP",
        "colab_type": "code",
        "colab": {
          "base_uri": "https://localhost:8080/",
          "height": 34
        },
        "outputId": "ba0e2f2e-796a-464e-95ae-4df2bb73877a"
      },
      "source": [
        "S[begin]"
      ],
      "execution_count": null,
      "outputs": [
        {
          "output_type": "execute_result",
          "data": {
            "text/plain": [
              "0"
            ]
          },
          "metadata": {
            "tags": []
          },
          "execution_count": 220
        }
      ]
    },
    {
      "cell_type": "code",
      "metadata": {
        "id": "n9y4Y2r2jzTG",
        "colab_type": "code",
        "colab": {
          "base_uri": "https://localhost:8080/",
          "height": 34
        },
        "outputId": "81c9e886-78f6-40c5-87b4-81c29ce0af6f"
      },
      "source": [
        "getindex(S::MySquares, r::UnitRange) = [S[i] for i in r]"
      ],
      "execution_count": null,
      "outputs": [
        {
          "output_type": "execute_result",
          "data": {
            "text/plain": [
              "getindex (generic function with 228 methods)"
            ]
          },
          "metadata": {
            "tags": []
          },
          "execution_count": 221
        }
      ]
    },
    {
      "cell_type": "code",
      "metadata": {
        "id": "vk-gqI08jrQo",
        "colab_type": "code",
        "colab": {
          "base_uri": "https://localhost:8080/",
          "height": 102
        },
        "outputId": "299f1102-7a20-4ecd-b726-f074b6eeabc1"
      },
      "source": [
        "S[1:4]"
      ],
      "execution_count": null,
      "outputs": [
        {
          "output_type": "execute_result",
          "data": {
            "text/plain": [
              "4-element Array{Int64,1}:\n",
              "  1\n",
              "  4\n",
              "  9\n",
              " 16"
            ]
          },
          "metadata": {
            "tags": []
          },
          "execution_count": 222
        }
      ]
    },
    {
      "cell_type": "markdown",
      "metadata": {
        "id": "1j3qxO4TkoVm",
        "colab_type": "text"
      },
      "source": [
        "For more details on these interfaces, and to learn how to build full-blown array types with broadcasting and more, check out [this page](https://docs.julialang.org/en/v1/manual/interfaces/)."
      ]
    },
    {
      "cell_type": "markdown",
      "metadata": {
        "id": "bD9gzH2XDlGL",
        "colab_type": "text"
      },
      "source": [
        "## Creating a Number Type\n",
        "Let's create a `MyRational` struct and try to make it mimic the built-in `Rational` type:"
      ]
    },
    {
      "cell_type": "code",
      "metadata": {
        "id": "nwEtMyR1PB3C",
        "colab_type": "code",
        "colab": {}
      },
      "source": [
        "struct MyRational <: Real\n",
        "    num # numerator\n",
        "    den # denominator\n",
        "end"
      ],
      "execution_count": null,
      "outputs": []
    },
    {
      "cell_type": "code",
      "metadata": {
        "id": "cwCpLCW6PePs",
        "colab_type": "code",
        "colab": {
          "base_uri": "https://localhost:8080/",
          "height": 34
        },
        "outputId": "83b07abe-51a6-484d-d8ee-bc387accd9bd"
      },
      "source": [
        "MyRational(2, 3)"
      ],
      "execution_count": null,
      "outputs": [
        {
          "output_type": "execute_result",
          "data": {
            "text/plain": [
              "MyRational(2, 3)"
            ]
          },
          "metadata": {
            "tags": []
          },
          "execution_count": 224
        }
      ]
    },
    {
      "cell_type": "markdown",
      "metadata": {
        "id": "vbIz77VzST24",
        "colab_type": "text"
      },
      "source": [
        "It would be more convenient and readable if we could type `2 ⨸ 3` to create a `MyRational`:"
      ]
    },
    {
      "cell_type": "code",
      "metadata": {
        "id": "VuitXq8eTL4G",
        "colab_type": "code",
        "colab": {
          "base_uri": "https://localhost:8080/",
          "height": 34
        },
        "outputId": "935d750c-0b62-4b4a-90d6-52f3b8be0d8c"
      },
      "source": [
        "function ⨸(num, den)\n",
        "    MyRational(num, den)\n",
        "end"
      ],
      "execution_count": null,
      "outputs": [
        {
          "output_type": "execute_result",
          "data": {
            "text/plain": [
              "⨸ (generic function with 1 method)"
            ]
          },
          "metadata": {
            "tags": []
          },
          "execution_count": 225
        }
      ]
    },
    {
      "cell_type": "code",
      "metadata": {
        "id": "isQcJMAeTRi-",
        "colab_type": "code",
        "colab": {
          "base_uri": "https://localhost:8080/",
          "height": 34
        },
        "outputId": "452737a5-79a2-4f84-e240-008e7e13563e"
      },
      "source": [
        "2 ⨸ 3"
      ],
      "execution_count": null,
      "outputs": [
        {
          "output_type": "execute_result",
          "data": {
            "text/plain": [
              "MyRational(2, 3)"
            ]
          },
          "metadata": {
            "tags": []
          },
          "execution_count": 226
        }
      ]
    },
    {
      "cell_type": "markdown",
      "metadata": {
        "id": "g594gvCpTTYB",
        "colab_type": "text"
      },
      "source": [
        "I chose `⨸` because it's a symbol that Julia's parser treats as a binary operator, but which is otherwise not used by Julia (see the full [list of parsed symbols](https://github.com/JuliaLang/julia/blob/master/src/julia-parser.scm) and their priorities). This particular symbol will have the same priority as multiplication and division."
      ]
    },
    {
      "cell_type": "markdown",
      "metadata": {
        "id": "3DKaUnqsUG0L",
        "colab_type": "text"
      },
      "source": [
        "If you want to know how to type it and check that it is unused, type `?⨸` (copy/paste the symbol):"
      ]
    },
    {
      "cell_type": "code",
      "metadata": {
        "id": "km3KccbsUTnQ",
        "colab_type": "code",
        "colab": {
          "base_uri": "https://localhost:8080/",
          "height": 171
        },
        "outputId": "5d09a4bc-0eb4-4d87-f7c2-f1dbd0cb33dc"
      },
      "source": [
        "?⨸"
      ],
      "execution_count": null,
      "outputs": [
        {
          "output_type": "stream",
          "text": [
            "\"\u001b[36m⨸\u001b[39m\" can be typed by \u001b[36m\\odiv<tab>\u001b[39m\n",
            "\n",
            "search: \u001b[0m\u001b[1m⨸\u001b[22m\n",
            "\n"
          ],
          "name": "stdout"
        },
        {
          "output_type": "execute_result",
          "data": {
            "text/latex": "No documentation found.\n\n\\texttt{⨸} is a \\texttt{Function}.\n\n\\begin{verbatim}\n# 1 method for generic function \"⨸\":\n[1] ⨸(num, den) in Main at In[225]:1\n\\end{verbatim}\n",
            "text/markdown": "No documentation found.\n\n`⨸` is a `Function`.\n\n```\n# 1 method for generic function \"⨸\":\n[1] ⨸(num, den) in Main at In[225]:1\n```\n",
            "text/plain": [
              "  No documentation found.\n",
              "\n",
              "  \u001b[36m⨸\u001b[39m is a \u001b[36mFunction\u001b[39m.\n",
              "\n",
              "\u001b[36m  # 1 method for generic function \"⨸\":\u001b[39m\n",
              "\u001b[36m  [1] ⨸(num, den) in Main at In[225]:1\u001b[39m"
            ]
          },
          "metadata": {
            "tags": []
          },
          "execution_count": 227
        }
      ]
    },
    {
      "cell_type": "markdown",
      "metadata": {
        "id": "eWzNstBqQckD",
        "colab_type": "text"
      },
      "source": [
        "Now let's make it possible to add two `MyRational` values. We want it to be possible for our `MyRational` type to be used in existing algorithms which rely on `+`, so we must create a new method for the `Base.+` function:"
      ]
    },
    {
      "cell_type": "code",
      "metadata": {
        "id": "2T7MyjE2RhUW",
        "colab_type": "code",
        "colab": {
          "base_uri": "https://localhost:8080/",
          "height": 34
        },
        "outputId": "93425b6c-8393-471f-ef9a-ad754554c863"
      },
      "source": [
        "import Base.+\n",
        "\n",
        "function +(r1::MyRational, r2::MyRational)\n",
        "    (r1.num * r2.den + r1.den * r2.num) ⨸ (r1.den * r2.den)\n",
        "end"
      ],
      "execution_count": null,
      "outputs": [
        {
          "output_type": "execute_result",
          "data": {
            "text/plain": [
              "+ (generic function with 191 methods)"
            ]
          },
          "metadata": {
            "tags": []
          },
          "execution_count": 228
        }
      ]
    },
    {
      "cell_type": "code",
      "metadata": {
        "id": "aFtoPHZRSNoU",
        "colab_type": "code",
        "colab": {
          "base_uri": "https://localhost:8080/",
          "height": 34
        },
        "outputId": "9bf6429b-c122-4a17-f22e-6276ac17432c"
      },
      "source": [
        "2 ⨸ 3 + 3 ⨸ 5"
      ],
      "execution_count": null,
      "outputs": [
        {
          "output_type": "execute_result",
          "data": {
            "text/plain": [
              "MyRational(19, 15)"
            ]
          },
          "metadata": {
            "tags": []
          },
          "execution_count": 229
        }
      ]
    },
    {
      "cell_type": "markdown",
      "metadata": {
        "id": "8--bQ8izR7_I",
        "colab_type": "text"
      },
      "source": [
        "It's important to import `Base.+` first, or else you would just be defining a new `+` function in the current module (`Main`), which would not be called by existing algorithms."
      ]
    },
    {
      "cell_type": "markdown",
      "metadata": {
        "id": "x79nFEHQYFfU",
        "colab_type": "text"
      },
      "source": [
        "You can easily implement `*`, `^` and so on, in much the same way."
      ]
    },
    {
      "cell_type": "markdown",
      "metadata": {
        "id": "GGTgc07sSR4w",
        "colab_type": "text"
      },
      "source": [
        "Let's change the way `MyRational` values are printed, to make them look a bit nicer. For this, we must create a new method for the `Base.show(io::IO, x)` function:"
      ]
    },
    {
      "cell_type": "code",
      "metadata": {
        "id": "KQN5IqLxVzLF",
        "colab_type": "code",
        "colab": {
          "base_uri": "https://localhost:8080/",
          "height": 34
        },
        "outputId": "c1951ca7-0795-40fd-abf1-2bc65c925d4e"
      },
      "source": [
        "import Base.show\n",
        "\n",
        "function show(io::IO, r::MyRational)\n",
        "    print(io, \"$(r.num) ⨸ $(r.den)\")\n",
        "end\n",
        "\n",
        "2 ⨸ 3 + 3 ⨸ 5"
      ],
      "execution_count": null,
      "outputs": [
        {
          "output_type": "execute_result",
          "data": {
            "text/plain": [
              "19 ⨸ 15"
            ]
          },
          "metadata": {
            "tags": []
          },
          "execution_count": 230
        }
      ]
    },
    {
      "cell_type": "markdown",
      "metadata": {
        "id": "rJg_-ZYOXS4m",
        "colab_type": "text"
      },
      "source": [
        "We can expand the `show()` function so it can provide an HTML representation for `MyRational` values. This will be called by the `display()` function in Jupyter or Colab:"
      ]
    },
    {
      "cell_type": "code",
      "metadata": {
        "id": "h6smoUzBWkNB",
        "colab_type": "code",
        "colab": {
          "base_uri": "https://localhost:8080/",
          "height": 40
        },
        "outputId": "662a9b10-d8da-46a9-8a70-b1ad33f7fe8f"
      },
      "source": [
        "function show(io::IO, ::MIME\"text/html\", r::MyRational)\n",
        "    print(io, \"<sup><b>$(r.num)</b></sup>&frasl;<sub><b>$(r.den)</b></sub>\")\n",
        "end\n",
        "\n",
        "2 ⨸ 3 + 3 ⨸ 5"
      ],
      "execution_count": null,
      "outputs": [
        {
          "output_type": "execute_result",
          "data": {
            "text/html": [
              "<sup><b>19</b></sup>&frasl;<sub><b>15</b></sub>"
            ],
            "text/plain": [
              "19 ⨸ 15"
            ]
          },
          "metadata": {
            "tags": []
          },
          "execution_count": 231
        }
      ]
    },
    {
      "cell_type": "markdown",
      "metadata": {
        "id": "5bOKggSjX7hM",
        "colab_type": "text"
      },
      "source": [
        "Next, we want to be able to perform any operation involving `MyRational` values and values of other `Number` types. For example, we may want to multiply integers and `MyRational` values. One option is to define a new method like this:"
      ]
    },
    {
      "cell_type": "code",
      "metadata": {
        "id": "dlW_pbUPZL_0",
        "colab_type": "code",
        "colab": {
          "base_uri": "https://localhost:8080/",
          "height": 40
        },
        "outputId": "c35f0b3b-3cc4-4190-91d9-882b31ff34dd"
      },
      "source": [
        "import Base.*\n",
        "\n",
        "function *(r::MyRational, i::Integer)\n",
        "    (r.num * i) ⨸ r.den\n",
        "end\n",
        "\n",
        "2 ⨸ 3 * 5"
      ],
      "execution_count": null,
      "outputs": [
        {
          "output_type": "execute_result",
          "data": {
            "text/html": [
              "<sup><b>10</b></sup>&frasl;<sub><b>3</b></sub>"
            ],
            "text/plain": [
              "10 ⨸ 3"
            ]
          },
          "metadata": {
            "tags": []
          },
          "execution_count": 232
        }
      ]
    },
    {
      "cell_type": "markdown",
      "metadata": {
        "id": "3Xr--hB-ZlDm",
        "colab_type": "text"
      },
      "source": [
        "Since multiplication is commutative, we need the reverse method as well:"
      ]
    },
    {
      "cell_type": "code",
      "metadata": {
        "id": "3DkeVGqaZtNv",
        "colab_type": "code",
        "colab": {
          "base_uri": "https://localhost:8080/",
          "height": 40
        },
        "outputId": "71a381e7-ca2c-45e4-99f5-2b2ed8082f85"
      },
      "source": [
        "function *(i::Integer, r::MyRational)\n",
        "    r * i # this will call the previous method\n",
        "end\n",
        "\n",
        "5 * (2 ⨸ 3) # we need the parentheses since * and ⨸ have the same priority"
      ],
      "execution_count": null,
      "outputs": [
        {
          "output_type": "execute_result",
          "data": {
            "text/html": [
              "<sup><b>10</b></sup>&frasl;<sub><b>3</b></sub>"
            ],
            "text/plain": [
              "10 ⨸ 3"
            ]
          },
          "metadata": {
            "tags": []
          },
          "execution_count": 233
        }
      ]
    },
    {
      "cell_type": "markdown",
      "metadata": {
        "id": "hzW07JkXggLo",
        "colab_type": "text"
      },
      "source": [
        "It's cumbersome to have to define these methods for every operation. There's a better way, which we will explore in the next two sections."
      ]
    },
    {
      "cell_type": "markdown",
      "metadata": {
        "id": "TWXZrND8N-nR",
        "colab_type": "text"
      },
      "source": [
        "## Conversion\n",
        "It is possible to provide a way for integers to be automatically converted to `MyRational` values:"
      ]
    },
    {
      "cell_type": "code",
      "metadata": {
        "id": "SFIenX2Og0qY",
        "colab_type": "code",
        "colab": {
          "base_uri": "https://localhost:8080/",
          "height": 40
        },
        "outputId": "bc79a788-72e2-4a4d-90ed-fcd290b87cee"
      },
      "source": [
        "import Base.convert\n",
        "\n",
        "MyRational(x::Integer) = MyRational(x, 1)\n",
        "\n",
        "convert(::Type{MyRational}, x::Integer) = MyRational(x)\n",
        "\n",
        "convert(MyRational, 42)"
      ],
      "execution_count": null,
      "outputs": [
        {
          "output_type": "execute_result",
          "data": {
            "text/html": [
              "<sup><b>42</b></sup>&frasl;<sub><b>1</b></sub>"
            ],
            "text/plain": [
              "42 ⨸ 1"
            ]
          },
          "metadata": {
            "tags": []
          },
          "execution_count": 234
        }
      ]
    },
    {
      "cell_type": "markdown",
      "metadata": {
        "id": "n_gGRgRSwrkS",
        "colab_type": "text"
      },
      "source": [
        "The `Type{MyRational}` type is a special type which has a single instance: the `MyRational` type itself. So this `convert()` method only accepts `MyRational` itself as its first argument (and we don't actually use the first argument, so we don't even need to give it a name in the function declaration)."
      ]
    },
    {
      "cell_type": "markdown",
      "metadata": {
        "id": "5B9cNbV5lbHm",
        "colab_type": "text"
      },
      "source": [
        "Now integers will be automatically converted to `MyRational` values when you assign them to an array whose element type if `MyRational`:"
      ]
    },
    {
      "cell_type": "code",
      "metadata": {
        "id": "YWdijh_2k7LU",
        "colab_type": "code",
        "colab": {
          "base_uri": "https://localhost:8080/",
          "height": 34
        },
        "outputId": "49d1543b-7f3b-46e4-a6d2-4d9cd618fe97"
      },
      "source": [
        "a = [2 ⨸ 3] # the element type is MyRational\n",
        "a[1] = 5    # convert(MyRational, 5) is called automatically\n",
        "push!(a, 6) # convert(MyRational, 6) is called automatically\n",
        "println(a)"
      ],
      "execution_count": null,
      "outputs": [
        {
          "output_type": "stream",
          "text": [
            "MyRational[5 ⨸ 1, 6 ⨸ 1]\n"
          ],
          "name": "stdout"
        }
      ]
    },
    {
      "cell_type": "markdown",
      "metadata": {
        "id": "ESWblH5olvOY",
        "colab_type": "text"
      },
      "source": [
        "Conversion will also occur automatically in these cases:\n",
        "* `r::MyRational = 42`: assigning an integer to `r` where `r` is a local variable with a declared type of `MyRational`.\n",
        "* `s.b = 42` if `s` is a struct and `b` is a field of type `MyRational` (also when calling `new(42)` on that struct, assuming `b` is the first field).\n",
        "* `return 42` if the return type is declared as `MyRational` (e.g., `function f(x)::MyRational ... end`)."
      ]
    },
    {
      "cell_type": "markdown",
      "metadata": {
        "id": "kIulkBomd5hy",
        "colab_type": "text"
      },
      "source": [
        "However, there is no automatic conversion when calling functions:"
      ]
    },
    {
      "cell_type": "code",
      "metadata": {
        "id": "7Jf6rT8uhAtU",
        "colab_type": "code",
        "colab": {
          "base_uri": "https://localhost:8080/",
          "height": 34
        },
        "outputId": "b212a7db-bf22-451e-b750-a32fcdcc86b6"
      },
      "source": [
        "function for_my_rationals_only(x::MyRational)\n",
        "    println(\"It works:\", x)\n",
        "end\n",
        "\n",
        "try\n",
        "    for_my_rationals_only(42)\n",
        "catch ex\n",
        "    ex\n",
        "end"
      ],
      "execution_count": null,
      "outputs": [
        {
          "output_type": "execute_result",
          "data": {
            "text/plain": [
              "MethodError(for_my_rationals_only, (42,), 0x0000000000006d2c)"
            ]
          },
          "metadata": {
            "tags": []
          },
          "execution_count": 236
        }
      ]
    },
    {
      "cell_type": "markdown",
      "metadata": {
        "id": "KhtxelSROzU_",
        "colab_type": "text"
      },
      "source": [
        "## Promotion\n",
        "The `Base` functions `+`, `-`, `*`, `/`, `^`, etc. all use a \"promotion\" algorithm to convert the arguments to the appropriate type. For example, adding an integer and a float promotes the integer to a float before the addition takes place. These functions use the `promote()` function for this. For example, given several integers and a float, all integers get promoted to floats:"
      ]
    },
    {
      "cell_type": "code",
      "metadata": {
        "id": "BEa8TRPuokYN",
        "colab_type": "code",
        "colab": {
          "base_uri": "https://localhost:8080/",
          "height": 34
        },
        "outputId": "4941c5d9-65f5-46f0-8d37-8d1d5e6102ad"
      },
      "source": [
        "promote(1, 2, 3, 4.0)"
      ],
      "execution_count": null,
      "outputs": [
        {
          "output_type": "execute_result",
          "data": {
            "text/plain": [
              "(1.0, 2.0, 3.0, 4.0)"
            ]
          },
          "metadata": {
            "tags": []
          },
          "execution_count": 237
        }
      ]
    },
    {
      "cell_type": "markdown",
      "metadata": {
        "id": "wDpLvwpMPP59",
        "colab_type": "text"
      },
      "source": [
        "This is why a sum of integers and floats results in a float:"
      ]
    },
    {
      "cell_type": "code",
      "metadata": {
        "id": "grWU-hHHPI7v",
        "colab_type": "code",
        "colab": {
          "base_uri": "https://localhost:8080/",
          "height": 34
        },
        "outputId": "264c1e2b-ba5c-4a88-b2b9-c09b23dc0d8e"
      },
      "source": [
        "1 + 2 + 3 + 4.0"
      ],
      "execution_count": null,
      "outputs": [
        {
          "output_type": "execute_result",
          "data": {
            "text/plain": [
              "10.0"
            ]
          },
          "metadata": {
            "tags": []
          },
          "execution_count": 238
        }
      ]
    },
    {
      "cell_type": "markdown",
      "metadata": {
        "id": "pkrDanbRO7b2",
        "colab_type": "text"
      },
      "source": [
        "The `promote()` function is also called when creating an array. For example, the following array is a `Float64` array:"
      ]
    },
    {
      "cell_type": "code",
      "metadata": {
        "id": "AeDsWTZjO-4d",
        "colab_type": "code",
        "colab": {
          "base_uri": "https://localhost:8080/",
          "height": 102
        },
        "outputId": "56c391bf-e1ad-41bb-8ebd-8200451f0d29"
      },
      "source": [
        "a = [1, 2, 3, 4.0]"
      ],
      "execution_count": null,
      "outputs": [
        {
          "output_type": "execute_result",
          "data": {
            "text/plain": [
              "4-element Array{Float64,1}:\n",
              " 1.0\n",
              " 2.0\n",
              " 3.0\n",
              " 4.0"
            ]
          },
          "metadata": {
            "tags": []
          },
          "execution_count": 239
        }
      ]
    },
    {
      "cell_type": "markdown",
      "metadata": {
        "id": "JCdZ4NhMo505",
        "colab_type": "text"
      },
      "source": [
        "What about the `MyRational` type? Rather than create new methods for the `promote()` function, the recommended approach is to create a new method for the `promote_rule()` function. It takes two types and returns the type to convert to:"
      ]
    },
    {
      "cell_type": "code",
      "metadata": {
        "id": "3xJTjr7XPgtx",
        "colab_type": "code",
        "colab": {
          "base_uri": "https://localhost:8080/",
          "height": 34
        },
        "outputId": "be4250f1-5a29-46f9-d9e3-4c59ddbbbf2e"
      },
      "source": [
        "promote_rule(Float64, Int64)"
      ],
      "execution_count": null,
      "outputs": [
        {
          "output_type": "execute_result",
          "data": {
            "text/plain": [
              "Float64"
            ]
          },
          "metadata": {
            "tags": []
          },
          "execution_count": 240
        }
      ]
    },
    {
      "cell_type": "markdown",
      "metadata": {
        "id": "W68U2_SjPt_T",
        "colab_type": "text"
      },
      "source": [
        "Let's implement a new method for this function, to make sure that any subtype of the `Integer` type will be promoted to `MyRational`:"
      ]
    },
    {
      "cell_type": "code",
      "metadata": {
        "id": "wjK9_3Bierna",
        "colab_type": "code",
        "colab": {
          "base_uri": "https://localhost:8080/",
          "height": 34
        },
        "outputId": "0fb75f0d-8540-4176-895b-700585fdc618"
      },
      "source": [
        "import Base.promote_rule\n",
        "\n",
        "promote_rule(::Type{MyRational}, ::Type{T}) where {T <: Integer} = MyRational"
      ],
      "execution_count": null,
      "outputs": [
        {
          "output_type": "execute_result",
          "data": {
            "text/plain": [
              "promote_rule (generic function with 141 methods)"
            ]
          },
          "metadata": {
            "tags": []
          },
          "execution_count": 241
        }
      ]
    },
    {
      "cell_type": "markdown",
      "metadata": {
        "id": "OSXo1GaxwU9F",
        "colab_type": "text"
      },
      "source": [
        "This method definition uses **parametric types**: the type `T` can be any type at all, as long as it is a subtype of the `Integer` abstract type. If you tried to define the method `promote_rule(::Type{MyRational}, ::Type{Integer})`, it would expect the type `Integer` itself as the second argument, which would not work, since the `promote_rule()` function will usually be called with concrete types like `Int64` as its arguments."
      ]
    },
    {
      "cell_type": "markdown",
      "metadata": {
        "id": "Cn7m2aTTrC6X",
        "colab_type": "text"
      },
      "source": [
        "Let's check that it works:"
      ]
    },
    {
      "cell_type": "code",
      "metadata": {
        "id": "bD7p0DHFfaCg",
        "colab_type": "code",
        "colab": {
          "base_uri": "https://localhost:8080/",
          "height": 34
        },
        "outputId": "aae0da7e-3033-4b92-d39f-500c21f18aab"
      },
      "source": [
        "promote(5, 2 ⨸ 3)"
      ],
      "execution_count": null,
      "outputs": [
        {
          "output_type": "execute_result",
          "data": {
            "text/plain": [
              "(5 ⨸ 1, 2 ⨸ 3)"
            ]
          },
          "metadata": {
            "tags": []
          },
          "execution_count": 242
        }
      ]
    },
    {
      "cell_type": "markdown",
      "metadata": {
        "id": "WVRYV79ErH81",
        "colab_type": "text"
      },
      "source": [
        "Yep! Now whenever we call `+`, `-`, etc., with an integer and a `MyRational` value, the integer will get automatically promoted to a `MyRational` value:"
      ]
    },
    {
      "cell_type": "code",
      "metadata": {
        "id": "lmjjo9lSegy9",
        "colab_type": "code",
        "colab": {
          "base_uri": "https://localhost:8080/",
          "height": 40
        },
        "outputId": "51710447-53cb-4121-ed7a-cf6106ffb3ea"
      },
      "source": [
        "5 + 2 ⨸ 3"
      ],
      "execution_count": null,
      "outputs": [
        {
          "output_type": "execute_result",
          "data": {
            "text/html": [
              "<sup><b>17</b></sup>&frasl;<sub><b>3</b></sub>"
            ],
            "text/plain": [
              "17 ⨸ 3"
            ]
          },
          "metadata": {
            "tags": []
          },
          "execution_count": 243
        }
      ]
    },
    {
      "cell_type": "markdown",
      "metadata": {
        "id": "B6jVZiYXxuPJ",
        "colab_type": "text"
      },
      "source": [
        "Under the hood:\n",
        "* this called `+(5, 2 ⨸ 3)`,\n",
        "  * which called the `+(::Number, ::Number)` method (thanks to multiple dispatch),\n",
        "    * which called `promote(5, 2 ⨸ 3)`,\n",
        "      * which called `promote_rule(Int64, MyRational)`,\n",
        "        * which called `promote_rule(::MyRational, ::T) where {T <: Integer}`,\n",
        "          * which returned `MyRational`,\n",
        "    * then the `+(::Number, ::Number)` method called `convert(MyRational, 5)`,\n",
        "      * which called `MyRational(5)`,\n",
        "        * which returned `MyRational(5, 1)`,\n",
        "    * and finally `+(::Number, ::Number)` called `+(MyRational(5, 1), MyRational(2, 3))`,\n",
        "      * which returned `MyRational(17, 3)`."
      ]
    },
    {
      "cell_type": "markdown",
      "metadata": {
        "id": "d30Q7aANrik5",
        "colab_type": "text"
      },
      "source": [
        "The benefit of this approach is that we only need to implement the `+`, `-`, etc. functions for pairs of `MyRational` values, not with all combinations of `MyRational` values and integers."
      ]
    },
    {
      "cell_type": "markdown",
      "metadata": {
        "id": "GftnTFTyLchM",
        "colab_type": "text"
      },
      "source": [
        "If your head hurts, it's perfectly normal. ;-) Writing a new type that is easy to use, flexible and plays nicely with existing types takes a bit of planning and work, but the point is that you will not write these every day, and once you have, they will make your life much easier."
      ]
    },
    {
      "cell_type": "markdown",
      "metadata": {
        "id": "GSVv5YNisaxJ",
        "colab_type": "text"
      },
      "source": [
        "Now let's handle the case where we want to execute operations with `MyRational` values and floats. In this case, we naturally want to promote the `MyRational` value to a float. We first need to define how to convert a `MyRational` value to any subtype of `AbstractFloat`:"
      ]
    },
    {
      "cell_type": "code",
      "metadata": {
        "id": "DZSFfORzrx4I",
        "colab_type": "code",
        "colab": {
          "base_uri": "https://localhost:8080/",
          "height": 34
        },
        "outputId": "4f6e0aa3-9c71-463c-8263-1bcf7fb2cf5b"
      },
      "source": [
        "convert(::Type{T}, x::MyRational) where {T <: AbstractFloat} = T(x.num / x.den)"
      ],
      "execution_count": null,
      "outputs": [
        {
          "output_type": "execute_result",
          "data": {
            "text/plain": [
              "convert (generic function with 246 methods)"
            ]
          },
          "metadata": {
            "tags": []
          },
          "execution_count": 244
        }
      ]
    },
    {
      "cell_type": "markdown",
      "metadata": {
        "id": "XC5z7YxcMjJN",
        "colab_type": "text"
      },
      "source": [
        "This `convert()` works with any type `T` which is a subtype of `AbstractFloat`. It just computes `x.num / x.den` and converts the result to type `T`. Let's try it:"
      ]
    },
    {
      "cell_type": "code",
      "metadata": {
        "id": "LxPjD04VMBXg",
        "colab_type": "code",
        "colab": {
          "base_uri": "https://localhost:8080/",
          "height": 34
        },
        "outputId": "3c8e9080-aae2-4689-b343-19b52c93b459"
      },
      "source": [
        "convert(Float64, 3 ⨸ 2)"
      ],
      "execution_count": null,
      "outputs": [
        {
          "output_type": "execute_result",
          "data": {
            "text/plain": [
              "1.5"
            ]
          },
          "metadata": {
            "tags": []
          },
          "execution_count": 245
        }
      ]
    },
    {
      "cell_type": "markdown",
      "metadata": {
        "id": "Iity08_TMyLa",
        "colab_type": "text"
      },
      "source": [
        "Now let's define a `promote_rule()` method which will work for any type `T` which is a subtype of `AbstractFloat`, and which will give priority to `T` over `MyRational`:"
      ]
    },
    {
      "cell_type": "code",
      "metadata": {
        "id": "S2xlgBf8MGa8",
        "colab_type": "code",
        "colab": {
          "base_uri": "https://localhost:8080/",
          "height": 34
        },
        "outputId": "88276622-bba5-4e20-87c7-7543a4d7ba25"
      },
      "source": [
        "promote_rule(::Type{MyRational}, ::Type{T}) where {T <: AbstractFloat} = T"
      ],
      "execution_count": null,
      "outputs": [
        {
          "output_type": "execute_result",
          "data": {
            "text/plain": [
              "promote_rule (generic function with 142 methods)"
            ]
          },
          "metadata": {
            "tags": []
          },
          "execution_count": 246
        }
      ]
    },
    {
      "cell_type": "code",
      "metadata": {
        "id": "5Xe9_k_GQZw0",
        "colab_type": "code",
        "colab": {
          "base_uri": "https://localhost:8080/",
          "height": 34
        },
        "outputId": "649d1817-9361-4956-9718-47e8424aa603"
      },
      "source": [
        "promote(1 ⨸ 2, 4.0)"
      ],
      "execution_count": null,
      "outputs": [
        {
          "output_type": "execute_result",
          "data": {
            "text/plain": [
              "(0.5, 4.0)"
            ]
          },
          "metadata": {
            "tags": []
          },
          "execution_count": 247
        }
      ]
    },
    {
      "cell_type": "markdown",
      "metadata": {
        "id": "ZRQrziIuNONH",
        "colab_type": "text"
      },
      "source": [
        "Now we can combine floats and `MyRational` values easily:"
      ]
    },
    {
      "cell_type": "code",
      "metadata": {
        "id": "ncZJSLjTsMsG",
        "colab_type": "code",
        "colab": {
          "base_uri": "https://localhost:8080/",
          "height": 34
        },
        "outputId": "177b5d96-a973-4289-c756-25d7d3736201"
      },
      "source": [
        "2.25 ^ (1 ⨸ 2)"
      ],
      "execution_count": null,
      "outputs": [
        {
          "output_type": "execute_result",
          "data": {
            "text/plain": [
              "1.5"
            ]
          },
          "metadata": {
            "tags": []
          },
          "execution_count": 248
        }
      ]
    },
    {
      "cell_type": "markdown",
      "metadata": {
        "id": "p6msWOnrRwTO",
        "colab_type": "text"
      },
      "source": [
        "## Parametric Types and Functions"
      ]
    },
    {
      "cell_type": "markdown",
      "metadata": {
        "id": "6aNBefNARChe",
        "colab_type": "text"
      },
      "source": [
        "Julia's `Rational` type is actually a **parametric type** which ensures that the numerator and denominator have the same type `T`, subtype of `Integer`. Here's a new version of our rational struct which enforces the same constraint:"
      ]
    },
    {
      "cell_type": "code",
      "metadata": {
        "id": "I0Vyf_ogRdy0",
        "colab_type": "code",
        "colab": {}
      },
      "source": [
        "struct MyRational2{T <: Integer}\n",
        "    num::T\n",
        "    den::T\n",
        "end"
      ],
      "execution_count": null,
      "outputs": []
    },
    {
      "cell_type": "markdown",
      "metadata": {
        "id": "SHdhiFdlSwOd",
        "colab_type": "text"
      },
      "source": [
        "To instantiate this type, we can specify the type `T`:"
      ]
    },
    {
      "cell_type": "code",
      "metadata": {
        "id": "FTfSXjQ4RseZ",
        "colab_type": "code",
        "colab": {
          "base_uri": "https://localhost:8080/",
          "height": 34
        },
        "outputId": "67555c44-adbc-4962-cfde-a546cb65049a"
      },
      "source": [
        "MyRational2{BigInt}(2, 3)"
      ],
      "execution_count": null,
      "outputs": [
        {
          "output_type": "execute_result",
          "data": {
            "text/plain": [
              "MyRational2{BigInt}(2, 3)"
            ]
          },
          "metadata": {
            "tags": []
          },
          "execution_count": 250
        }
      ]
    },
    {
      "cell_type": "markdown",
      "metadata": {
        "id": "_dFuAINiTboo",
        "colab_type": "text"
      },
      "source": [
        "Alternatively, we can use the `MyRational2` type's default constructor, with two integers of the same type:"
      ]
    },
    {
      "cell_type": "code",
      "metadata": {
        "id": "8Q8RWIB8Toq7",
        "colab_type": "code",
        "colab": {
          "base_uri": "https://localhost:8080/",
          "height": 34
        },
        "outputId": "1dcf90c3-a73b-4502-dfba-171da7fcf712"
      },
      "source": [
        "MyRational2(2, 3)"
      ],
      "execution_count": null,
      "outputs": [
        {
          "output_type": "execute_result",
          "data": {
            "text/plain": [
              "MyRational2{Int64}(2, 3)"
            ]
          },
          "metadata": {
            "tags": []
          },
          "execution_count": 251
        }
      ]
    },
    {
      "cell_type": "markdown",
      "metadata": {
        "id": "8hhYRFcWXKkG",
        "colab_type": "text"
      },
      "source": [
        "If we want to be able to construct a `MyRational2` with integers of different types, we must write an appropriate constructor which handles the promotion rule:"
      ]
    },
    {
      "cell_type": "code",
      "metadata": {
        "id": "BdRaOp44XS-I",
        "colab_type": "code",
        "colab": {
          "base_uri": "https://localhost:8080/",
          "height": 34
        },
        "outputId": "caf6f013-b742-493b-8485-4dcd24760612"
      },
      "source": [
        "function MyRational2(num::Integer, den::Integer)\n",
        "    MyRational2(promote(num, den)...)\n",
        "end"
      ],
      "execution_count": null,
      "outputs": [
        {
          "output_type": "execute_result",
          "data": {
            "text/plain": [
              "MyRational2"
            ]
          },
          "metadata": {
            "tags": []
          },
          "execution_count": 252
        }
      ]
    },
    {
      "cell_type": "markdown",
      "metadata": {
        "id": "F1-HWooSXwRj",
        "colab_type": "text"
      },
      "source": [
        "This constructor accepts two integers of potentially different types, and promotes them to the same type. Then it calls the default `MyRational2` constructor which expects two arguments of the same type. The syntax `f(args...)` is analog to Python's `f(*args)`."
      ]
    },
    {
      "cell_type": "markdown",
      "metadata": {
        "id": "ui3Oe7CHYhKs",
        "colab_type": "text"
      },
      "source": [
        "Let's see if this works:"
      ]
    },
    {
      "cell_type": "code",
      "metadata": {
        "id": "55PS-B4kXsMv",
        "colab_type": "code",
        "colab": {
          "base_uri": "https://localhost:8080/",
          "height": 34
        },
        "outputId": "c78ca0b1-cefa-4a0b-dc2a-c6db8fbc843e"
      },
      "source": [
        "MyRational2(2, BigInt(3))"
      ],
      "execution_count": null,
      "outputs": [
        {
          "output_type": "execute_result",
          "data": {
            "text/plain": [
              "MyRational2{BigInt}(2, 3)"
            ]
          },
          "metadata": {
            "tags": []
          },
          "execution_count": 253
        }
      ]
    },
    {
      "cell_type": "markdown",
      "metadata": {
        "id": "FYBh3sMgXvIy",
        "colab_type": "text"
      },
      "source": [
        "Great!"
      ]
    },
    {
      "cell_type": "markdown",
      "metadata": {
        "id": "TFB6iS8cYuwk",
        "colab_type": "text"
      },
      "source": [
        "Note that all parametrized types such as `MyRational2{Int64}` or `MyRational2{BigInt}` are subtypes of `MyRational2`. So if a function accepts a `MyRational2` argument, you can pass it an instance of any specific, parametrized type:"
      ]
    },
    {
      "cell_type": "code",
      "metadata": {
        "id": "Xoe56vbfZXr8",
        "colab_type": "code",
        "colab": {
          "base_uri": "https://localhost:8080/",
          "height": 51
        },
        "outputId": "b1b22a5d-fd7f-4c87-d1c1-9e2511b2b0ae"
      },
      "source": [
        "function for_any_my_rational2(x::MyRational2)\n",
        "    println(x)\n",
        "end\n",
        "\n",
        "for_any_my_rational2(MyRational2{BigInt}(1, 2))\n",
        "for_any_my_rational2(MyRational2{Int64}(1, 2))"
      ],
      "execution_count": null,
      "outputs": [
        {
          "output_type": "stream",
          "text": [
            "MyRational2{BigInt}(1, 2)\n",
            "MyRational2{Int64}(1, 2)\n"
          ],
          "name": "stdout"
        }
      ]
    },
    {
      "cell_type": "markdown",
      "metadata": {
        "id": "KK02R7mAazjo",
        "colab_type": "text"
      },
      "source": [
        "A more explicit (but verbose) syntax for this function is:"
      ]
    },
    {
      "cell_type": "code",
      "metadata": {
        "id": "w9wLF0uYa377",
        "colab_type": "code",
        "colab": {
          "base_uri": "https://localhost:8080/",
          "height": 34
        },
        "outputId": "8141475c-0747-43ab-f651-2205114682d1"
      },
      "source": [
        "function for_any_my_rational2(x::MyRational2{T}) where {T <: Integer}\n",
        "    println(x)\n",
        "end"
      ],
      "execution_count": null,
      "outputs": [
        {
          "output_type": "execute_result",
          "data": {
            "text/plain": [
              "for_any_my_rational2 (generic function with 1 method)"
            ]
          },
          "metadata": {
            "tags": []
          },
          "execution_count": 255
        }
      ]
    },
    {
      "cell_type": "markdown",
      "metadata": {
        "id": "HzrkuhIMT3rq",
        "colab_type": "text"
      },
      "source": [
        "It's useful to think of types as sets. For example, the `Int64` type represents the set of all 64-bit integer values, so `42 isa Int64`:\n",
        "* When `x` is an instance of some type `T`, it is an element of the set `T` represents, and `x isa T`.\n",
        "* When `U` is a subtype of `V`, `U` is a subset of `V`, and `U <: V`.\n",
        "\n",
        "The `MyRational2` type itself (without any parameter) represents the set of all values of `MyRational2{T}` for all subtypes `T` of `Integer`. In other words, it is the union of all the `MyRational2{T}` types. This is called a `UnionAll` type, and indeed the type `MyRational2` itself is an instance of the `UnionAll` type:"
      ]
    },
    {
      "cell_type": "code",
      "metadata": {
        "id": "hGKucwR4Z78q",
        "colab_type": "code",
        "colab": {}
      },
      "source": [
        "@assert MyRational2{BigInt}(2, 3) isa MyRational2{BigInt}\n",
        "@assert MyRational2{BigInt}(2, 3) isa MyRational2\n",
        "@assert MyRational2 === (MyRational2{T} where {T <: Integer})\n",
        "@assert MyRational2{BigInt} <: MyRational2\n",
        "@assert MyRational2 isa UnionAll"
      ],
      "execution_count": null,
      "outputs": []
    },
    {
      "cell_type": "markdown",
      "metadata": {
        "id": "Tv483WelU4It",
        "colab_type": "text"
      },
      "source": [
        "If we dump the `MyRational2` type, we can see that it is a `UnionAll` instance, with a parameter type `T`, constrained to a subtype of the `Integer` type (since the upper bound `ub` is `Integer`):"
      ]
    },
    {
      "cell_type": "code",
      "metadata": {
        "id": "6Xzox_pwU1AA",
        "colab_type": "code",
        "colab": {
          "base_uri": "https://localhost:8080/",
          "height": 153
        },
        "outputId": "e66ab6be-6e43-470c-8409-aad9c22a6ed2"
      },
      "source": [
        "dump(MyRational2)"
      ],
      "execution_count": null,
      "outputs": [
        {
          "output_type": "stream",
          "text": [
            "UnionAll\n",
            "  var: TypeVar\n",
            "    name: Symbol T\n",
            "    lb: Union{}\n",
            "    ub: Integer <: Real\n",
            "  body: MyRational2{T<:Integer} <: Any\n",
            "    num::T\n",
            "    den::T\n"
          ],
          "name": "stdout"
        }
      ]
    },
    {
      "cell_type": "markdown",
      "metadata": {
        "id": "eEpPNFJBcoag",
        "colab_type": "text"
      },
      "source": [
        "There's a lot more to learn about Julia types. When you feel ready to explore this in more depth, check out [this page](https://docs.julialang.org/en/v1.4/manual/types/). You can also take a look at the [source code of Julia's rationals](https://github.com/JuliaLang/julia/blob/master/base/rational.jl)."
      ]
    },
    {
      "cell_type": "markdown",
      "metadata": {
        "id": "KmT7ZJEMJ2Vv",
        "colab_type": "text"
      },
      "source": [
        "# Writing/Reading Files\n",
        "The `do` syntax we saw earlier is helpful when using the `open()` function:\n"
      ]
    },
    {
      "cell_type": "code",
      "metadata": {
        "id": "oGW3LMvkJ6JM",
        "colab_type": "code",
        "colab": {
          "base_uri": "https://localhost:8080/",
          "height": 51
        },
        "outputId": "ac6c1448-e7a5-48bc-d840-1d960e6bcc88"
      },
      "source": [
        "open(\"test.txt\", \"w\") do f\n",
        "    write(f, \"This is a test.\\n\")\n",
        "    write(f, \"I repeat, this is a test.\\n\")\n",
        "end\n",
        "\n",
        "open(\"test.txt\") do f\n",
        "    for line in eachline(f)\n",
        "        println(\"[$line]\")\n",
        "    end\n",
        "end"
      ],
      "execution_count": null,
      "outputs": [
        {
          "output_type": "stream",
          "text": [
            "[This is a test.]\n",
            "[I repeat, this is a test.]\n"
          ],
          "name": "stdout"
        }
      ]
    },
    {
      "cell_type": "markdown",
      "metadata": {
        "id": "f6XIenvgKdzR",
        "colab_type": "text"
      },
      "source": [
        "The `open()` function automatically closes the file at the end of the block. Notice that the line feeds `\\n` at the end of each line are not returned by the `eachline()` function. So the equivalent Python code is:\n",
        "\n",
        "```python\n",
        "# PYTHON\n",
        "with open(\"test.txt\", \"w\") as f:\n",
        "    f.write(\"This is a test.\\n\")\n",
        "    f.write(\"I repeat, this is a test.\\n\")\n",
        "\n",
        "with open(\"test.txt\") as f:\n",
        "    for line in f.readlines():\n",
        "        line = line.rstrip(\"\\n\")\n",
        "        print(f\"[{line}]\")\n",
        "```"
      ]
    },
    {
      "cell_type": "markdown",
      "metadata": {
        "id": "SQg2lDpRW_2R",
        "colab_type": "text"
      },
      "source": [
        "Alternatively, you can read the whole file into a string:"
      ]
    },
    {
      "cell_type": "code",
      "metadata": {
        "id": "FKRtde6dXDpe",
        "colab_type": "code",
        "colab": {
          "base_uri": "https://localhost:8080/",
          "height": 34
        },
        "outputId": "ed8d2cb7-a9c5-4bd9-98ea-c788a4830114"
      },
      "source": [
        "open(\"test.txt\") do f\n",
        "    s = read(f, String)\n",
        "end"
      ],
      "execution_count": null,
      "outputs": [
        {
          "output_type": "execute_result",
          "data": {
            "text/plain": [
              "\"This is a test.\\nI repeat, this is a test.\\n\""
            ]
          },
          "metadata": {
            "tags": []
          },
          "execution_count": 259
        }
      ]
    },
    {
      "cell_type": "markdown",
      "metadata": {
        "id": "5vxOQnwucbIW",
        "colab_type": "text"
      },
      "source": [
        "Or more concisely:"
      ]
    },
    {
      "cell_type": "code",
      "metadata": {
        "id": "2s-SRVw7cc5G",
        "colab_type": "code",
        "colab": {
          "base_uri": "https://localhost:8080/",
          "height": 34
        },
        "outputId": "d5fe0622-25e4-4817-cae0-bb0f1399cc8a"
      },
      "source": [
        "read(\"test.txt\", String)"
      ],
      "execution_count": null,
      "outputs": [
        {
          "output_type": "execute_result",
          "data": {
            "text/plain": [
              "\"This is a test.\\nI repeat, this is a test.\\n\""
            ]
          },
          "metadata": {
            "tags": []
          },
          "execution_count": 260
        }
      ]
    },
    {
      "cell_type": "markdown",
      "metadata": {
        "id": "dHb_f2lWXM0Z",
        "colab_type": "text"
      },
      "source": [
        "The Python equivalent is:\n",
        "\n",
        "```python\n",
        "# PYTHON\n",
        "with open(\"test.txt\") as f:\n",
        "    s = f.read()\n",
        "```"
      ]
    },
    {
      "cell_type": "markdown",
      "metadata": {
        "id": "EmBI1zY8DAvT",
        "colab_type": "text"
      },
      "source": [
        "# Exceptions\n",
        "\n",
        "Julia's exceptions behave very much like in Python:"
      ]
    },
    {
      "cell_type": "code",
      "metadata": {
        "id": "z-dXwra9cvYD",
        "colab_type": "code",
        "colab": {
          "base_uri": "https://localhost:8080/",
          "height": 34
        },
        "outputId": "3ebe715c-24db-444d-9b0a-09e754f380d2"
      },
      "source": [
        "a = [1]\n",
        "try\n",
        "    push!(a, 2)\n",
        "    #throw(\"Oops\") # try uncommenting this line\n",
        "    push!(a, 3)\n",
        "catch ex\n",
        "    println(ex)\n",
        "    push!(a, 4)\n",
        "finally\n",
        "    push!(a, 5)\n",
        "end\n",
        "println(a)"
      ],
      "execution_count": null,
      "outputs": [
        {
          "output_type": "stream",
          "text": [
            "[1, 2, 3, 5]\n"
          ],
          "name": "stdout"
        }
      ]
    },
    {
      "cell_type": "markdown",
      "metadata": {
        "id": "kt2mWkKFfd8I",
        "colab_type": "text"
      },
      "source": [
        "The equivalent Python code is:\n",
        "\n",
        "```python\n",
        "# PYTHON\n",
        "a = [1]\n",
        "try:\n",
        "    a.append(2)\n",
        "    #raise Exception(\"Oops\") # try uncommenting this line\n",
        "    a.append(3)\n",
        "except Exception as ex:\n",
        "    print(ex)\n",
        "    a.append(4)\n",
        "finally:\n",
        "    a.append(5)\n",
        "\n",
        "print(a)\n",
        "```"
      ]
    },
    {
      "cell_type": "markdown",
      "metadata": {
        "id": "19zE5t7nhtCJ",
        "colab_type": "text"
      },
      "source": [
        "There is a whole hierarchy of standard exceptions which can be thrown, just like in Python. For example:"
      ]
    },
    {
      "cell_type": "code",
      "metadata": {
        "id": "71J-OuM5h9cr",
        "colab_type": "code",
        "colab": {
          "base_uri": "https://localhost:8080/",
          "height": 34
        },
        "outputId": "dbad4a7a-f888-449a-ca82-6763cd21909b"
      },
      "source": [
        "choice = 1 # try changing this value (from 1 to 4)\n",
        "try\n",
        "    choice == 1 && open(\"/foo/bar/i_dont_exist.txt\")\n",
        "    choice == 2 && sqrt(-1)\n",
        "    choice == 3 && push!(a, \"Oops\")\n",
        "    println(\"Everything worked like a charm\")\n",
        "catch ex\n",
        "    if ex isa SystemError\n",
        "        println(\"Oops. System error #$(ex.errnum) ($(ex.prefix))\")\n",
        "    elseif ex isa DomainError\n",
        "        println(\"Oh no, I could not compute sqrt(-1)\")\n",
        "    else\n",
        "        println(\"I got an unexpected error: $ex\")\n",
        "    end\n",
        "end"
      ],
      "execution_count": null,
      "outputs": [
        {
          "output_type": "stream",
          "text": [
            "Oops. System error #2 (opening file \"/foo/bar/i_dont_exist.txt\")\n"
          ],
          "name": "stdout"
        }
      ]
    },
    {
      "cell_type": "markdown",
      "metadata": {
        "id": "0IegY5XckWET",
        "colab_type": "text"
      },
      "source": [
        "Compare this with Python's equivalent code:\n",
        "\n",
        "```python\n",
        "# PYTHON\n",
        "choice = 3 # try changing this value (from 1 to 4)\n",
        "try:\n",
        "  if choice == 1:\n",
        "      open(\"/foo/bar/i_dont_exist.txt\")\n",
        "  if choice == 2:\n",
        "      math.sqrt(-1)\n",
        "  if choice == 3:\n",
        "      #a.append(\"Ok\") # this would actually work\n",
        "      raise TypeError(\"Oops\") # so let's fail manually\n",
        "  print(\"Everything worked like a charm\")\n",
        "except OSError as ex:\n",
        "    print(f\"Oops. OS error (#{ex.errno} ({ex.strerror})\")\n",
        "except ValueError:\n",
        "    print(\"Oh no, I could not compute sqrt(-1)\")\n",
        "except Exception as ex:\n",
        "    print(f\"I got an unexpected error: {ex}\")\n",
        "```\n"
      ]
    },
    {
      "cell_type": "markdown",
      "metadata": {
        "id": "jD6j5HsCHXzo",
        "colab_type": "text"
      },
      "source": [
        "A few things to note here:\n",
        "\n",
        "* Julia only allows a single `catch` block which handles all possible exceptions.\n",
        "* `obj isa SomeClass` is a shorthand for `isa(obj, SomeClass)` which is equivalent to Python's `isinstance(obj, SomeClass)`.\n",
        "\n",
        "|Julia|Python\n",
        "|-----|------\n",
        "|`try`<br />&nbsp;&nbsp;&nbsp;&nbsp;`...`<br />`catch ex`<br />&nbsp;&nbsp;&nbsp;&nbsp;`if ex isa SomeError`<br />&nbsp;&nbsp;&nbsp;&nbsp;&nbsp;&nbsp;&nbsp;&nbsp;`...`<br />&nbsp;&nbsp;&nbsp;&nbsp;`else`<br />&nbsp;&nbsp;&nbsp;&nbsp;&nbsp;&nbsp;&nbsp;&nbsp;`...`<br />&nbsp;&nbsp;&nbsp;&nbsp;`end`<br />`finally`<br />&nbsp;&nbsp;&nbsp;&nbsp;`...`<br />`end` | `try:`<br />&nbsp;&nbsp;&nbsp;&nbsp;`...`<br />`except SomeException as ex:`<br />&nbsp;&nbsp;&nbsp;&nbsp;`...`<br />`except Exception as ex:`<br />&nbsp;&nbsp;&nbsp;&nbsp;`...`<br />`finally:`<br />&nbsp;&nbsp;&nbsp;&nbsp;`...`\n",
        "|`throw any_value` | `raise SomeException(...)`\n",
        "| `obj isa SomeType`<br />or<br /> `isa(obj, SomeType`) | `isinstance(obj, SomeType)`"
      ]
    },
    {
      "cell_type": "markdown",
      "metadata": {
        "id": "lFGQZmkfQg6K",
        "colab_type": "text"
      },
      "source": [
        "Note that Julia does not support the equivalent of Python's `try / catch / else` construct. You need to write something like this:"
      ]
    },
    {
      "cell_type": "code",
      "metadata": {
        "id": "P2qPhf-EQ4WW",
        "colab_type": "code",
        "colab": {
          "base_uri": "https://localhost:8080/",
          "height": 85
        },
        "outputId": "2c613d88-4730-4e91-c016-4bb472530a94"
      },
      "source": [
        "catch_exception = true\n",
        "try\n",
        "    println(\"Try something\")\n",
        "    #error(\"ERROR: Catch me!\") # try uncommenting this line\n",
        "    catch_exception = false\n",
        "    #error(\"ERROR: Don't catch me!\") # try uncommenting this line\n",
        "    println(\"No error occurred\")\n",
        "catch ex\n",
        "    if catch_exception\n",
        "        println(\"I caught this exception: $ex\")\n",
        "    else\n",
        "        throw(ex)\n",
        "    end\n",
        "finally\n",
        "    println(\"The end\")\n",
        "end\n",
        "println(\"After the end\")"
      ],
      "execution_count": null,
      "outputs": [
        {
          "output_type": "stream",
          "text": [
            "Try something\n",
            "No error occurred\n",
            "The end\n",
            "After the end\n"
          ],
          "name": "stdout"
        }
      ]
    },
    {
      "cell_type": "markdown",
      "metadata": {
        "id": "XNyuFEVER7-p",
        "colab_type": "text"
      },
      "source": [
        "The equivalent Python code is shorter, but it's fairly uncommon:\n",
        "\n",
        "```python\n",
        "# PYTHON\n",
        "try:\n",
        "    print(\"Try something\")\n",
        "    raise Exception(\"Catch me!\") # try uncommenting this line\n",
        "except Exception as ex:\n",
        "    print(f\"I caught this exception: {ex}\")\n",
        "else:\n",
        "    raise Exception(\"Don't catch me!\") # try uncommenting this line\n",
        "    print(\"No error occured\")\n",
        "finally:\n",
        "    print(\"The end\")\n",
        "\n",
        "print(\"After the end\")\n",
        "```"
      ]
    },
    {
      "cell_type": "markdown",
      "metadata": {
        "id": "Ieqz4vrxEAQb",
        "colab_type": "text"
      },
      "source": [
        "# Docstrings\n",
        "It's good practice to add docstrings to every function you export. The docstring is placed just _before_ the definition of the function:"
      ]
    },
    {
      "cell_type": "code",
      "metadata": {
        "id": "OgwehsQjNj8Y",
        "colab_type": "code",
        "colab": {
          "base_uri": "https://localhost:8080/",
          "height": 34
        },
        "outputId": "a281f957-935b-41a1-95ac-d308d792a1d9"
      },
      "source": [
        "\"Compute the square of number x\"\n",
        "square(x::Number) = x^2"
      ],
      "execution_count": null,
      "outputs": [
        {
          "output_type": "execute_result",
          "data": {
            "text/plain": [
              "square"
            ]
          },
          "metadata": {
            "tags": []
          },
          "execution_count": 264
        }
      ]
    },
    {
      "cell_type": "markdown",
      "metadata": {
        "id": "B9vmLpLpO6ix",
        "colab_type": "text"
      },
      "source": [
        "You can retrieve a function's docstring using the `@doc` macro:"
      ]
    },
    {
      "cell_type": "code",
      "metadata": {
        "id": "rYR63pL1NsWU",
        "colab_type": "code",
        "colab": {
          "base_uri": "https://localhost:8080/",
          "height": 46
        },
        "outputId": "7b18a13a-bd5b-442f-a980-b8e028d2ff01"
      },
      "source": [
        "@doc square"
      ],
      "execution_count": null,
      "outputs": [
        {
          "output_type": "execute_result",
          "data": {
            "text/latex": "Compute the square of number x\n\n",
            "text/markdown": "Compute the square of number x\n",
            "text/plain": [
              "  Compute the square of number x"
            ]
          },
          "metadata": {
            "tags": []
          },
          "execution_count": 265
        }
      ]
    },
    {
      "cell_type": "markdown",
      "metadata": {
        "id": "HcKzENGnO-8z",
        "colab_type": "text"
      },
      "source": [
        "The docstring is displayed when asking for help:"
      ]
    },
    {
      "cell_type": "code",
      "metadata": {
        "id": "O9xkw7uvNw9A",
        "colab_type": "code",
        "colab": {
          "base_uri": "https://localhost:8080/",
          "height": 80
        },
        "outputId": "b2fe5e21-94e3-46a6-9b51-8dbd9f7dba43"
      },
      "source": [
        "?square"
      ],
      "execution_count": null,
      "outputs": [
        {
          "output_type": "stream",
          "text": [
            "search: \u001b[0m\u001b[1ms\u001b[22m\u001b[0m\u001b[1mq\u001b[22m\u001b[0m\u001b[1mu\u001b[22m\u001b[0m\u001b[1ma\u001b[22m\u001b[0m\u001b[1mr\u001b[22m\u001b[0m\u001b[1me\u001b[22m \u001b[0m\u001b[1mS\u001b[22m\u001b[0m\u001b[1mq\u001b[22m\u001b[0m\u001b[1mu\u001b[22m\u001b[0m\u001b[1ma\u001b[22m\u001b[0m\u001b[1mr\u001b[22m\u001b[0m\u001b[1me\u001b[22m \u001b[0m\u001b[1mS\u001b[22m\u001b[0m\u001b[1mq\u001b[22m\u001b[0m\u001b[1mu\u001b[22m\u001b[0m\u001b[1ma\u001b[22m\u001b[0m\u001b[1mr\u001b[22m\u001b[0m\u001b[1me\u001b[22m_v2 My\u001b[0m\u001b[1mS\u001b[22m\u001b[0m\u001b[1mq\u001b[22m\u001b[0m\u001b[1mu\u001b[22m\u001b[0m\u001b[1ma\u001b[22m\u001b[0m\u001b[1mr\u001b[22m\u001b[0m\u001b[1me\u001b[22ms Ab\u001b[0m\u001b[1ms\u001b[22mtractS\u001b[0m\u001b[1mq\u001b[22m\u001b[0m\u001b[1mu\u001b[22m\u001b[0m\u001b[1ma\u001b[22m\u001b[0m\u001b[1mr\u001b[22m\u001b[0m\u001b[1me\u001b[22m la\u001b[0m\u001b[1ms\u001b[22mtdayof\u001b[0m\u001b[1mq\u001b[22m\u001b[0m\u001b[1mu\u001b[22m\u001b[0m\u001b[1ma\u001b[22m\u001b[0m\u001b[1mr\u001b[22mt\u001b[0m\u001b[1me\u001b[22mr\n",
            "\n"
          ],
          "name": "stdout"
        },
        {
          "output_type": "execute_result",
          "data": {
            "text/latex": "Compute the square of number x\n\n",
            "text/markdown": "Compute the square of number x\n",
            "text/plain": [
              "  Compute the square of number x"
            ]
          },
          "metadata": {
            "tags": []
          },
          "execution_count": 266
        }
      ]
    },
    {
      "cell_type": "markdown",
      "metadata": {
        "id": "wte1Y76jPKpd",
        "colab_type": "text"
      },
      "source": [
        "Docstrings follow the [Markdown format](https://en.wikipedia.org/wiki/Markdown#:~:text=Markdown%20is%20a%20lightweight%20markup,using%20a%20plain%20text%20editor.).\n",
        "A typical docstring starts with the signature of the function, indented by 4 spaces, so it will get syntax highlighted as Julia code.\n",
        "It also includes an `Examples` section with Julia REPL outputs:"
      ]
    },
    {
      "cell_type": "code",
      "metadata": {
        "id": "xucdR5ywNzTf",
        "colab_type": "code",
        "colab": {
          "base_uri": "https://localhost:8080/",
          "height": 34
        },
        "outputId": "316c8343-33aa-4e98-d846-b74491058ad4"
      },
      "source": [
        "\"\"\"\n",
        "    cube(x::Number)\n",
        "\n",
        "Compute the cube of `x`.\n",
        "\n",
        "# Examples\n",
        "```julia-repl\n",
        "julia> cube(5)\n",
        "125\n",
        "julia> cube(im)\n",
        "0 - 1im\n",
        "```\n",
        "\"\"\"\n",
        "cube(x) = x^3"
      ],
      "execution_count": null,
      "outputs": [
        {
          "output_type": "execute_result",
          "data": {
            "text/plain": [
              "cube"
            ]
          },
          "metadata": {
            "tags": []
          },
          "execution_count": 267
        }
      ]
    },
    {
      "cell_type": "markdown",
      "metadata": {
        "id": "b2aSKGYkaN7D",
        "colab_type": "text"
      },
      "source": [
        "Instead of using `julia-repl` code blocks for the examples, you can use `jldoctest` to mark these examples as doctests (similar to Python's doctests)."
      ]
    },
    {
      "cell_type": "markdown",
      "metadata": {
        "id": "gJt_pU7oQFzT",
        "colab_type": "text"
      },
      "source": [
        "The help gets nicely formatted:"
      ]
    },
    {
      "cell_type": "code",
      "metadata": {
        "id": "FolAC9NdOYlH",
        "colab_type": "code",
        "colab": {
          "base_uri": "https://localhost:8080/",
          "height": 216
        },
        "outputId": "bf6e281e-6edb-4ab6-cc62-3724a3e5c5c4"
      },
      "source": [
        "?cube"
      ],
      "execution_count": null,
      "outputs": [
        {
          "output_type": "stream",
          "text": [
            "search: \u001b[0m\u001b[1mc\u001b[22m\u001b[0m\u001b[1mu\u001b[22m\u001b[0m\u001b[1mb\u001b[22m\u001b[0m\u001b[1me\u001b[22m \u001b[0m\u001b[1mC\u001b[22mdo\u001b[0m\u001b[1mu\u001b[22m\u001b[0m\u001b[1mb\u001b[22ml\u001b[0m\u001b[1me\u001b[22m\n",
            "\n"
          ],
          "name": "stdout"
        },
        {
          "output_type": "execute_result",
          "data": {
            "text/latex": "\\begin{verbatim}\ncube(x::Number)\n\\end{verbatim}\nCompute the cube of \\texttt{x}.\n\n\\section{Examples}\n\\begin{verbatim}\njulia> cube(5)\n125\njulia> cube(im)\n0 - 1im\n\\end{verbatim}\n",
            "text/markdown": "```\ncube(x::Number)\n```\n\nCompute the cube of `x`.\n\n# Examples\n\n```julia-repl\njulia> cube(5)\n125\njulia> cube(im)\n0 - 1im\n```\n",
            "text/plain": [
              "\u001b[36m  cube(x::Number)\u001b[39m\n",
              "\n",
              "  Compute the cube of \u001b[36mx\u001b[39m.\n",
              "\n",
              "\u001b[1m  Examples\u001b[22m\n",
              "\u001b[1m  ≡≡≡≡≡≡≡≡≡≡\u001b[22m\n",
              "\n",
              "\u001b[36m  julia> cube(5)\u001b[39m\n",
              "\u001b[36m  125\u001b[39m\n",
              "\u001b[36m  julia> cube(im)\u001b[39m\n",
              "\u001b[36m  0 - 1im\u001b[39m"
            ]
          },
          "metadata": {
            "tags": []
          },
          "execution_count": 268
        }
      ]
    },
    {
      "cell_type": "markdown",
      "metadata": {
        "id": "bT28xCa9QMcq",
        "colab_type": "text"
      },
      "source": [
        "When there are several methods for a given function, it is common to give general information about the function in the first method (usually the most generic), and only add docstrings to other methods if they add useful information (without repeating the general info).\n",
        "\n",
        "Alternatively, you may attach the general information to the function itself:"
      ]
    },
    {
      "cell_type": "code",
      "metadata": {
        "id": "mi3rw1dYQmkT",
        "colab_type": "code",
        "colab": {
          "base_uri": "https://localhost:8080/",
          "height": 34
        },
        "outputId": "dd4360aa-097d-481d-f0a6-ec588c4c655b"
      },
      "source": [
        "\"\"\"\n",
        "    foo(x)\n",
        "\n",
        "Compute the foo of the bar\n",
        "\"\"\"\n",
        "function foo end  # declares the foo function\n",
        "\n",
        "# foo(x::Number) behaves normally, no need for a docstring\n",
        "foo(x::Number) = \"baz\"\n",
        "\n",
        "\"\"\"\n",
        "    foo(x::String)\n",
        "\n",
        "For strings, compute the qux of the bar instead.\n",
        "\"\"\"\n",
        "foo(x::String) = \"qux\""
      ],
      "execution_count": null,
      "outputs": [
        {
          "output_type": "execute_result",
          "data": {
            "text/plain": [
              "foo"
            ]
          },
          "metadata": {
            "tags": []
          },
          "execution_count": 269
        }
      ]
    },
    {
      "cell_type": "code",
      "metadata": {
        "id": "ffQK0fnPTXsH",
        "colab_type": "code",
        "colab": {
          "base_uri": "https://localhost:8080/",
          "height": 153
        },
        "outputId": "9c1b7c7c-1a21-4bf5-bb5b-3366084b6f17"
      },
      "source": [
        "?foo"
      ],
      "execution_count": null,
      "outputs": [
        {
          "output_type": "stream",
          "text": [
            "search: \u001b[0m\u001b[1mf\u001b[22m\u001b[0m\u001b[1mo\u001b[22m\u001b[0m\u001b[1mo\u001b[22m \u001b[0m\u001b[1mf\u001b[22ml\u001b[0m\u001b[1mo\u001b[22m\u001b[0m\u001b[1mo\u001b[22mr pointer_\u001b[0m\u001b[1mf\u001b[22mr\u001b[0m\u001b[1mo\u001b[22mm_\u001b[0m\u001b[1mo\u001b[22mbjref wait\u001b[0m\u001b[1mf\u001b[22m\u001b[0m\u001b[1mo\u001b[22mrbutt\u001b[0m\u001b[1mo\u001b[22mnpress Over\u001b[0m\u001b[1mf\u001b[22ml\u001b[0m\u001b[1mo\u001b[22mwErr\u001b[0m\u001b[1mo\u001b[22mr\n",
            "\n"
          ],
          "name": "stdout"
        },
        {
          "output_type": "execute_result",
          "data": {
            "text/latex": "\\begin{verbatim}\nfoo(x)\n\\end{verbatim}\nCompute the foo of the bar\n\n\\rule{\\textwidth}{1pt}\n\\begin{verbatim}\nfoo(x::String)\n\\end{verbatim}\nFor strings, compute the qux of the bar instead.\n\n",
            "text/markdown": "```\nfoo(x)\n```\n\nCompute the foo of the bar\n\n---\n\n```\nfoo(x::String)\n```\n\nFor strings, compute the qux of the bar instead.\n",
            "text/plain": [
              "\u001b[36m  foo(x)\u001b[39m\n",
              "\n",
              "  Compute the foo of the bar\n",
              "\n",
              "  ────────────────────────────────────────────────────────────────────────────\n",
              "\n",
              "\u001b[36m  foo(x::String)\u001b[39m\n",
              "\n",
              "  For strings, compute the qux of the bar instead."
            ]
          },
          "metadata": {
            "tags": []
          },
          "execution_count": 270
        }
      ]
    },
    {
      "cell_type": "code",
      "metadata": {
        "id": "Be3ZNSthij3t",
        "colab_type": "code",
        "colab": {
          "base_uri": "https://localhost:8080/",
          "height": 85
        },
        "outputId": "a5ecb9d9-3cdb-4244-89d9-709372359902"
      },
      "source": [
        "dump(SystemError)"
      ],
      "execution_count": null,
      "outputs": [
        {
          "output_type": "stream",
          "text": [
            "SystemError <: Exception\n",
            "  prefix::AbstractString\n",
            "  errnum::Int32\n",
            "  extrainfo::Any\n"
          ],
          "name": "stdout"
        }
      ]
    },
    {
      "cell_type": "markdown",
      "metadata": {
        "id": "K80HBr5oGzo7",
        "colab_type": "text"
      },
      "source": [
        "# Macros"
      ]
    },
    {
      "cell_type": "markdown",
      "metadata": {
        "id": "QObp7sGRu6UJ",
        "colab_type": "text"
      },
      "source": [
        "We have seen a few macros already: `@which`, `@assert`, `@time`, `@benchmark`, `@btime` and `@doc`. You guessed it: all macros start with an `@` sign.\n",
        "\n",
        "What is a macro? It is a function which can fully inspect the expression that follows it, and apply any transformation to that code at parse time, before compilation.\n",
        "\n",
        "This makes it possible for anyone to effectively extend the language in any way they please. Whereas C/C++ macros just do simple text replacement, **Julia macros are powerful meta-programming tools**.\n",
        "\n",
        "On the flip side, this also means that **each macro has its own syntax and behavior**.\n",
        "\n",
        "**A personal opinion**: in my experience, languages that provide great flexibility typically attract a community of programmers with a tinkering mindset, who will _love_ to experiment with all the fun features the language has to offer. This is great for creativity, but it can also be a nuisance if the community ends up producing too much experimental code, without much care for code reliability, API stability, or even for simplicity. By all means, let's be creative, let's experiment, but _with great power comes great responsibility_: let's also value reliability, stability and simplicity.\n",
        "\n",
        "That said, to give you an idea of what macro definitions look like in Julia, here's a simple toy macro that replaces `a + b` expressions with `a - b`, and leaves other expressions alone."
      ]
    },
    {
      "cell_type": "code",
      "metadata": {
        "id": "piHUqhKBZGqu",
        "colab_type": "code",
        "colab": {
          "base_uri": "https://localhost:8080/",
          "height": 34
        },
        "outputId": "9aa52e16-ac32-4b69-853c-9b1f03055ed1"
      },
      "source": [
        "macro addtosub(x)\n",
        "  if x.head == :call && x.args[1] == :+ && length(x.args) == 3\n",
        "    Expr(:call, :-, x.args[2], x.args[3])\n",
        "  else\n",
        "    x\n",
        "  end\n",
        "end\n",
        "\n",
        "@addtosub 10 + 2"
      ],
      "execution_count": null,
      "outputs": [
        {
          "output_type": "execute_result",
          "data": {
            "text/plain": [
              "8"
            ]
          },
          "metadata": {
            "tags": []
          },
          "execution_count": 272
        }
      ]
    },
    {
      "cell_type": "markdown",
      "metadata": {
        "id": "7rJOpjunbOFk",
        "colab_type": "text"
      },
      "source": [
        "In this macro definition, `:call`, `:+` and `:-` are **symbols**. These are similar to strings, only more efficient and less flexible. They are typically used as identifiers, such as keys in dictionaries."
      ]
    },
    {
      "cell_type": "markdown",
      "metadata": {
        "id": "MaXNB30jZ0o9",
        "colab_type": "text"
      },
      "source": [
        "If you're curious, the macro works because the parser converts `10 + 2` to `Expr(:call, :+, 10, 2)` and passes this expression to the macro (before compilation). The `if` statement checks that the expression is a function call, where the called function is the `+` function, with two arguments. If so, then the macro returns a new expression, corresponding to a call to the `-` function, with the same arguments. So `a + b` becomes `a - b`."
      ]
    },
    {
      "cell_type": "markdown",
      "metadata": {
        "id": "tDEx5z5thmJG",
        "colab_type": "text"
      },
      "source": [
        "For more info, check out [this page](https://docs.julialang.org/en/v1/manual/metaprogramming/)."
      ]
    },
    {
      "cell_type": "markdown",
      "metadata": {
        "id": "MKMAu-SPGaEp",
        "colab_type": "text"
      },
      "source": [
        "## Special Prefixed Strings"
      ]
    },
    {
      "cell_type": "markdown",
      "metadata": {
        "id": "RiczKNd3Evgz",
        "colab_type": "text"
      },
      "source": [
        "`py\"...\"` strings are defined by the `PyCall` module. Writing `py\"something\"` is equivalent to writing `@py_str \"something\"`. In other words, anyone can write a macro that defines a new kind of prefixed string. For example, if you write the `@ok_str` macro, it will be called when you write `ok\"something\"`.\n",
        "\n",
        "Another example is the `Pkg` module which defines the `@pkg_str` macro: this is why you can use `pkg\"...\"` to interact with the `Pkg` module. This is how `pkg\"add PyCall; precompile;\"` worked (at the end of the very first cell). This downloaded, installed and precompiled the `PyCall` module."
      ]
    },
    {
      "cell_type": "markdown",
      "metadata": {
        "id": "V2DqnxfIS47B",
        "colab_type": "text"
      },
      "source": [
        "# Modules\n",
        "In Python, a module must be defined in a dedicated file. In Julia, modules are independent from the file system. You can define several modules per file, or define one module across multiple files, it's up to you. Let's create a simple module containing two submodules, each containing a variable and a function:"
      ]
    },
    {
      "cell_type": "code",
      "metadata": {
        "id": "u9tQpD0JS_gm",
        "colab_type": "code",
        "colab": {
          "base_uri": "https://localhost:8080/",
          "height": 34
        },
        "outputId": "78e69779-292d-4941-bab3-f0f664e87f67"
      },
      "source": [
        "module ModA\n",
        "    pi = 3.14\n",
        "    square(x) = x^2\n",
        "\n",
        "    module ModB\n",
        "        e = 2.718\n",
        "        cube(x) = x^3\n",
        "    end\n",
        "\n",
        "    module ModC\n",
        "        root2 = √2\n",
        "        relu(x) = max(0, x)\n",
        "    end\n",
        "end"
      ],
      "execution_count": null,
      "outputs": [
        {
          "output_type": "execute_result",
          "data": {
            "text/plain": [
              "Main.ModA"
            ]
          },
          "metadata": {
            "tags": []
          },
          "execution_count": 273
        }
      ]
    },
    {
      "cell_type": "markdown",
      "metadata": {
        "id": "olgUIIbvYBQq",
        "colab_type": "text"
      },
      "source": [
        "The default module is `Main`, so whatever we define is put in this module (except when defining a package, as we will see). This is why the `ModA`'s full name is `Main.ModA`."
      ]
    },
    {
      "cell_type": "markdown",
      "metadata": {
        "id": "bnP_rALhVlw3",
        "colab_type": "text"
      },
      "source": [
        "We can now access the contents of these modules by providing the full paths:"
      ]
    },
    {
      "cell_type": "code",
      "metadata": {
        "id": "IFOTvRKXXVNr",
        "colab_type": "code",
        "colab": {
          "base_uri": "https://localhost:8080/",
          "height": 34
        },
        "outputId": "be6fed17-611f-4b81-ea86-e66951a32492"
      },
      "source": [
        "Main.ModA.ModC.root2"
      ],
      "execution_count": null,
      "outputs": [
        {
          "output_type": "execute_result",
          "data": {
            "text/plain": [
              "1.4142135623730951"
            ]
          },
          "metadata": {
            "tags": []
          },
          "execution_count": 274
        }
      ]
    },
    {
      "cell_type": "markdown",
      "metadata": {
        "id": "Z-ooQk9zYY1N",
        "colab_type": "text"
      },
      "source": [
        "Since our code runs in the `Main` module, we can leave out the `Main.` part:"
      ]
    },
    {
      "cell_type": "code",
      "metadata": {
        "id": "JnnhVg1eYhLz",
        "colab_type": "code",
        "colab": {
          "base_uri": "https://localhost:8080/",
          "height": 34
        },
        "outputId": "18b233a0-e2f8-404c-c4ba-1ba73296cf76"
      },
      "source": [
        "ModA.ModC.root2"
      ],
      "execution_count": null,
      "outputs": [
        {
          "output_type": "execute_result",
          "data": {
            "text/plain": [
              "1.4142135623730951"
            ]
          },
          "metadata": {
            "tags": []
          },
          "execution_count": 275
        }
      ]
    },
    {
      "cell_type": "markdown",
      "metadata": {
        "id": "7liRTwI2Xd5e",
        "colab_type": "text"
      },
      "source": [
        "Alternatively, you can use `import`:"
      ]
    },
    {
      "cell_type": "code",
      "metadata": {
        "id": "DxT44ZvnXoGN",
        "colab_type": "code",
        "colab": {
          "base_uri": "https://localhost:8080/",
          "height": 34
        },
        "outputId": "05b0ea22-e493-4422-c35c-a93e4fb12ed1"
      },
      "source": [
        "import Main.ModA.ModC.root2\n",
        "\n",
        "root2"
      ],
      "execution_count": null,
      "outputs": [
        {
          "output_type": "execute_result",
          "data": {
            "text/plain": [
              "1.4142135623730951"
            ]
          },
          "metadata": {
            "tags": []
          },
          "execution_count": 276
        }
      ]
    },
    {
      "cell_type": "markdown",
      "metadata": {
        "id": "TpOjKGi8Ymmu",
        "colab_type": "text"
      },
      "source": [
        "Or we can use `import` with a relative path. In this case, we need to prefix `ModA` with a dot `.` to indicate that we want the module `ModA` located in the current module:"
      ]
    },
    {
      "cell_type": "code",
      "metadata": {
        "id": "9kqmiNNTYpQY",
        "colab_type": "code",
        "colab": {
          "base_uri": "https://localhost:8080/",
          "height": 34
        },
        "outputId": "6c01278c-4aca-48c0-83d4-dfd325443351"
      },
      "source": [
        "import .ModA.ModC.root2\n",
        "\n",
        "root2"
      ],
      "execution_count": null,
      "outputs": [
        {
          "output_type": "execute_result",
          "data": {
            "text/plain": [
              "1.4142135623730951"
            ]
          },
          "metadata": {
            "tags": []
          },
          "execution_count": 277
        }
      ]
    },
    {
      "cell_type": "markdown",
      "metadata": {
        "id": "U1jBsBSyYshg",
        "colab_type": "text"
      },
      "source": [
        "Alternatively, we can `import` the submodule:"
      ]
    },
    {
      "cell_type": "code",
      "metadata": {
        "id": "5Xui2RQEZROC",
        "colab_type": "code",
        "colab": {
          "base_uri": "https://localhost:8080/",
          "height": 34
        },
        "outputId": "9e4013a3-acf8-45b9-8834-24fb7772457a"
      },
      "source": [
        "import .ModA.ModC\n",
        "\n",
        "ModC.root2"
      ],
      "execution_count": null,
      "outputs": [
        {
          "output_type": "execute_result",
          "data": {
            "text/plain": [
              "1.4142135623730951"
            ]
          },
          "metadata": {
            "tags": []
          },
          "execution_count": 278
        }
      ]
    },
    {
      "cell_type": "markdown",
      "metadata": {
        "id": "8mz_KKlAZXPH",
        "colab_type": "text"
      },
      "source": [
        "When you want to import more than one name from a module, you can use this syntax:"
      ]
    },
    {
      "cell_type": "code",
      "metadata": {
        "id": "qtmDevYgZh5I",
        "colab_type": "code",
        "colab": {}
      },
      "source": [
        "import .ModA.ModC: root2, relu"
      ],
      "execution_count": null,
      "outputs": []
    },
    {
      "cell_type": "markdown",
      "metadata": {
        "id": "T1nyVSefZotn",
        "colab_type": "text"
      },
      "source": [
        "This is equivalent to this more verbose syntax:"
      ]
    },
    {
      "cell_type": "code",
      "metadata": {
        "id": "s-i-7QIGZrQn",
        "colab_type": "code",
        "colab": {}
      },
      "source": [
        "import .ModA.ModC.root2, .ModA.ModC.relu"
      ],
      "execution_count": null,
      "outputs": []
    },
    {
      "cell_type": "markdown",
      "metadata": {
        "id": "rJSA9aljZ3BN",
        "colab_type": "text"
      },
      "source": [
        "Nested modules do <u>not</u> automatically have access to names in enclosing modules. To import names from a parent module, use `..x`. From a grand-parent module, use `...x`, and so on."
      ]
    },
    {
      "cell_type": "code",
      "metadata": {
        "id": "NvRtf5SWZ_Wk",
        "colab_type": "code",
        "colab": {
          "base_uri": "https://localhost:8080/",
          "height": 85
        },
        "outputId": "687fdb4c-8756-4b97-f763-b4feee4eafcb"
      },
      "source": [
        "module ModD\n",
        "    d = 1\n",
        "    module ModE\n",
        "        try\n",
        "            println(d)\n",
        "        catch ex\n",
        "            println(ex)\n",
        "        end\n",
        "    end\n",
        "    module ModF\n",
        "        f = 2\n",
        "        module ModG\n",
        "            import ..f\n",
        "            import ...d\n",
        "            println(f)\n",
        "            println(d)\n",
        "        end\n",
        "    end\n",
        "end"
      ],
      "execution_count": null,
      "outputs": [
        {
          "output_type": "stream",
          "text": [
            "UndefVarError(:d)\n",
            "2\n",
            "1\n"
          ],
          "name": "stdout"
        },
        {
          "output_type": "execute_result",
          "data": {
            "text/plain": [
              "Main.ModD"
            ]
          },
          "metadata": {
            "tags": []
          },
          "execution_count": 281
        }
      ]
    },
    {
      "cell_type": "markdown",
      "metadata": {
        "id": "y_YxkO1ebZEb",
        "colab_type": "text"
      },
      "source": [
        "Instead of `import`, you can use `using`. It is analog to Python's `from foo import *`. It only gives access to names which were explicitly exported using `export` (similar to the way `from foo import *` in Python only imports names listed in the module's `__all__` list):"
      ]
    },
    {
      "cell_type": "code",
      "metadata": {
        "id": "CNDHFWv2blSk",
        "colab_type": "code",
        "colab": {
          "base_uri": "https://localhost:8080/",
          "height": 34
        },
        "outputId": "e7c91182-ccf6-4675-ec3b-194145851ab3"
      },
      "source": [
        "module ModH\n",
        "    h1 = 1\n",
        "    h2 = 2\n",
        "    export h1\n",
        "end"
      ],
      "execution_count": null,
      "outputs": [
        {
          "output_type": "execute_result",
          "data": {
            "text/plain": [
              "Main.ModH"
            ]
          },
          "metadata": {
            "tags": []
          },
          "execution_count": 282
        }
      ]
    },
    {
      "cell_type": "code",
      "metadata": {
        "id": "TrlkNAZjcDpv",
        "colab_type": "code",
        "colab": {
          "base_uri": "https://localhost:8080/",
          "height": 51
        },
        "outputId": "0c18cf66-57f9-4447-94d2-74c418bd5ea2"
      },
      "source": [
        "using .ModH\n",
        "\n",
        "println(h1)\n",
        "\n",
        "try\n",
        "    println(h2)\n",
        "catch ex\n",
        "    ex\n",
        "end"
      ],
      "execution_count": null,
      "outputs": [
        {
          "output_type": "stream",
          "text": [
            "1\n"
          ],
          "name": "stdout"
        },
        {
          "output_type": "execute_result",
          "data": {
            "text/plain": [
              "UndefVarError(:h2)"
            ]
          },
          "metadata": {
            "tags": []
          },
          "execution_count": 283
        }
      ]
    },
    {
      "cell_type": "markdown",
      "metadata": {
        "id": "XA-8xz9XBkFr",
        "colab_type": "text"
      },
      "source": [
        "Note that `using Foo` not only imports all exported names (like Python's `from foo import *`), it also imports `Foo` itself (similarly, `using Foo.Bar` imports `Bar` itself):\n"
      ]
    },
    {
      "cell_type": "code",
      "metadata": {
        "id": "b2j0lGheB4DK",
        "colab_type": "code",
        "colab": {
          "base_uri": "https://localhost:8080/",
          "height": 34
        },
        "outputId": "44337bc8-6b9f-41a0-fa59-925440d23de2"
      },
      "source": [
        "ModH"
      ],
      "execution_count": null,
      "outputs": [
        {
          "output_type": "execute_result",
          "data": {
            "text/plain": [
              "Main.ModH"
            ]
          },
          "metadata": {
            "tags": []
          },
          "execution_count": 284
        }
      ]
    },
    {
      "cell_type": "markdown",
      "metadata": {
        "id": "ZJr74QBRzuEo",
        "colab_type": "text"
      },
      "source": [
        "Even if a name is not exported, you can always access it using its full path, or using `import`:"
      ]
    },
    {
      "cell_type": "code",
      "metadata": {
        "id": "yjCkh4voz44p",
        "colab_type": "code",
        "colab": {
          "base_uri": "https://localhost:8080/",
          "height": 34
        },
        "outputId": "0ee8fb36-4f33-4c6f-95e1-780272f34245"
      },
      "source": [
        "ModH.h2"
      ],
      "execution_count": null,
      "outputs": [
        {
          "output_type": "execute_result",
          "data": {
            "text/plain": [
              "2"
            ]
          },
          "metadata": {
            "tags": []
          },
          "execution_count": 285
        }
      ]
    },
    {
      "cell_type": "code",
      "metadata": {
        "id": "SAL1D1dRz7oy",
        "colab_type": "code",
        "colab": {
          "base_uri": "https://localhost:8080/",
          "height": 34
        },
        "outputId": "362cb6ae-fda5-45f6-d048-ab78cce8307a"
      },
      "source": [
        "import .ModH.h2\n",
        "\n",
        "h2"
      ],
      "execution_count": null,
      "outputs": [
        {
          "output_type": "execute_result",
          "data": {
            "text/plain": [
              "2"
            ]
          },
          "metadata": {
            "tags": []
          },
          "execution_count": 286
        }
      ]
    },
    {
      "cell_type": "markdown",
      "metadata": {
        "id": "1UfcZp6fcNdT",
        "colab_type": "text"
      },
      "source": [
        "You can also import individual names like this:"
      ]
    },
    {
      "cell_type": "code",
      "metadata": {
        "id": "fQPAWJMRzOmj",
        "colab_type": "code",
        "colab": {
          "base_uri": "https://localhost:8080/",
          "height": 51
        },
        "outputId": "92dc7788-997c-4af5-85f5-b65f9d28cb4a"
      },
      "source": [
        "module ModG\n",
        "    g1 = 1\n",
        "    g2 = 2\n",
        "    export g2\n",
        "end\n",
        "\n",
        "using .ModG: g1, g2\n",
        "\n",
        "println(g1)\n",
        "println(g2)"
      ],
      "execution_count": null,
      "outputs": [
        {
          "output_type": "stream",
          "text": [
            "1\n",
            "2\n"
          ],
          "name": "stdout"
        }
      ]
    },
    {
      "cell_type": "markdown",
      "metadata": {
        "id": "Y5ToJpN_0RMa",
        "colab_type": "text"
      },
      "source": [
        "Notice that this syntax gives you access to any name you want, whether or not it was exported. In other words, whether a name is exported or not only affects the `using Foo` syntax."
      ]
    },
    {
      "cell_type": "markdown",
      "metadata": {
        "id": "yzXfmlAg0diH",
        "colab_type": "text"
      },
      "source": [
        "Importantly, when you want to expand a function which is defined in a module, you must import the function using `import`, or you must specify the function's path:"
      ]
    },
    {
      "cell_type": "code",
      "metadata": {
        "id": "BfOgteoF0m4X",
        "colab_type": "code",
        "colab": {
          "base_uri": "https://localhost:8080/",
          "height": 102
        },
        "outputId": "f343509b-2241-49fb-89c6-3e11a3b4e449"
      },
      "source": [
        "module ModH\n",
        "    double(x) = x * 2\n",
        "    triple(x) = x * 3\n",
        "end\n",
        "\n",
        "import .ModH: double\n",
        "double(x::AbstractString) = repeat(x, 2)\n",
        "\n",
        "ModH.triple(x::AbstractString) = repeat(x, 3)\n",
        "\n",
        "println(double(2))\n",
        "println(double(\"Two\"))\n",
        "\n",
        "println(ModH.triple(3))\n",
        "println(ModH.triple(\"Three\"))"
      ],
      "execution_count": null,
      "outputs": [
        {
          "output_type": "stream",
          "text": [
            "4\n",
            "TwoTwo\n",
            "9\n",
            "ThreeThreeThree\n"
          ],
          "name": "stdout"
        },
        {
          "output_type": "stream",
          "text": [
            "WARNING: replacing module ModH.\n"
          ],
          "name": "stderr"
        }
      ]
    },
    {
      "cell_type": "markdown",
      "metadata": {
        "id": "c4c2yTaS7fvj",
        "colab_type": "text"
      },
      "source": [
        "You must never extend a function imported with `using`, unless you provide the function's path:"
      ]
    },
    {
      "cell_type": "code",
      "metadata": {
        "id": "18mmhRsP18o_",
        "colab_type": "code",
        "colab": {
          "base_uri": "https://localhost:8080/",
          "height": 51
        },
        "outputId": "2ccaff91-3598-4153-f5db-17f487db7695"
      },
      "source": [
        "module ModI\n",
        "    quadruple(x) = x * 4\n",
        "    export quadruple\n",
        "end\n",
        "\n",
        "using .ModI\n",
        "ModI.quadruple(x::AbstractString) = repeat(x, 4) # OK\n",
        "println(quadruple(4))\n",
        "println(quadruple(\"Four\"))\n",
        "\n",
        "#quadruple(x::AbstractString) = repeat(x, 4) # uncomment to see the error"
      ],
      "execution_count": null,
      "outputs": [
        {
          "output_type": "stream",
          "text": [
            "16\n",
            "FourFourFourFour\n"
          ],
          "name": "stdout"
        }
      ]
    },
    {
      "cell_type": "markdown",
      "metadata": {
        "id": "0gwWiNqfD-Pp",
        "colab_type": "text"
      },
      "source": [
        "There is no equivalent of Python's `import foo as x` ([yet](https://github.com/JuliaLang/julia/issues/1255)), but you can do something like this:"
      ]
    },
    {
      "cell_type": "code",
      "metadata": {
        "id": "2eGsfHqkEViW",
        "colab_type": "code",
        "colab": {
          "base_uri": "https://localhost:8080/",
          "height": 34
        },
        "outputId": "17caac66-2233-456c-8143-c24385a41425"
      },
      "source": [
        "import .ModI: quadruple\n",
        "x = quadruple"
      ],
      "execution_count": null,
      "outputs": [
        {
          "output_type": "execute_result",
          "data": {
            "text/plain": [
              "quadruple (generic function with 2 methods)"
            ]
          },
          "metadata": {
            "tags": []
          },
          "execution_count": 290
        }
      ]
    },
    {
      "cell_type": "markdown",
      "metadata": {
        "id": "pB4HxazHyNiF",
        "colab_type": "text"
      },
      "source": [
        "In general, a module named `Foo` will be defined in a file named `Foo.jl` (along with its submodules). However, if the module becomes too big for a single file, you can split it into multiple files and include these files in `Foo.jl` using the `include()` function.\n",
        "\n",
        "For example, let's create three files: `Awesome.jl`, `great.jl` and `amazing/Fantastic.jl`, where:\n",
        "* `Awesome.jl` defines the `Awesome` module and includes the other two files\n",
        "* `great.jl` just defines a function\n",
        "* `amazing/Fantastic.jl` defines the `Fantastic` submodule"
      ]
    },
    {
      "cell_type": "code",
      "metadata": {
        "id": "A9iOU4XWundK",
        "colab_type": "code",
        "colab": {
          "base_uri": "https://localhost:8080/",
          "height": 34
        },
        "outputId": "59c7b9c7-3436-481c-a54c-2fd8a90fa685"
      },
      "source": [
        "code_awesome = \"\"\"\n",
        "module Awesome\n",
        "include(\"great.jl\")\n",
        "include(\"amazing/Fantastic.jl\")\n",
        "end\n",
        "\"\"\"\n",
        "\n",
        "code_great = \"\"\"\n",
        "great() = \"This is great!\"\n",
        "\"\"\"\n",
        "\n",
        "code_fantastic = \"\"\"\n",
        "module Fantastic\n",
        "fantastic = true\n",
        "end\n",
        "\"\"\"\n",
        "\n",
        "open(f->write(f, code_awesome), \"Awesome.jl\", \"w\")\n",
        "open(f->write(f, code_great), \"great.jl\", \"w\")\n",
        "mkdir(\"amazing\")\n",
        "open(f->write(f, code_fantastic), \"amazing/Fantastic.jl\", \"w\")"
      ],
      "execution_count": null,
      "outputs": [
        {
          "output_type": "execute_result",
          "data": {
            "text/plain": [
              "38"
            ]
          },
          "metadata": {
            "tags": []
          },
          "execution_count": 291
        }
      ]
    },
    {
      "cell_type": "markdown",
      "metadata": {
        "id": "3OYEv-P-xGHg",
        "colab_type": "text"
      },
      "source": [
        "If we try to execute `import Awesome` now, it won't work since Julia does not search in the current directory by default. Let's change this:"
      ]
    },
    {
      "cell_type": "code",
      "metadata": {
        "id": "Zz-JHOzXxZj5",
        "colab_type": "code",
        "colab": {
          "base_uri": "https://localhost:8080/",
          "height": 102
        },
        "outputId": "82d3ba96-c2ee-479c-b8b1-4add64d6eead"
      },
      "source": [
        "pushfirst!(LOAD_PATH, \".\")"
      ],
      "execution_count": null,
      "outputs": [
        {
          "output_type": "execute_result",
          "data": {
            "text/plain": [
              "4-element Array{String,1}:\n",
              " \".\"\n",
              " \"@\"\n",
              " \"@v#.#\"\n",
              " \"@stdlib\""
            ]
          },
          "metadata": {
            "tags": []
          },
          "execution_count": 292
        }
      ]
    },
    {
      "cell_type": "markdown",
      "metadata": {
        "id": "L8H2XLMAww7g",
        "colab_type": "text"
      },
      "source": [
        "Now when we import the `Awesome` module, Julia will look for a file named `Awesome.jl` in the current directory, or for `Awesome/src/Awesome.jl`, or for `Awesome.jl/src/Awesome.jl`. If it does not find any of these, it will look in the other places listed in the `LOAD_PATH` array (we will discuss this in more details in the \"Package Management\" section)."
      ]
    },
    {
      "cell_type": "code",
      "metadata": {
        "id": "V4crjErQvuYf",
        "colab_type": "code",
        "colab": {
          "base_uri": "https://localhost:8080/",
          "height": 85
        },
        "outputId": "49223c47-9703-4330-c702-6495db85c951"
      },
      "source": [
        "import Awesome\n",
        "println(Awesome.great())\n",
        "println(\"Is fantastic? \", Awesome.Fantastic.fantastic)"
      ],
      "execution_count": null,
      "outputs": [
        {
          "output_type": "stream",
          "text": [
            "┌ Info: Precompiling Awesome [top-level]\n",
            "└ @ Base loading.jl:1278\n"
          ],
          "name": "stderr"
        },
        {
          "output_type": "stream",
          "text": [
            "This is great!\n",
            "Is fantastic? true\n"
          ],
          "name": "stdout"
        }
      ]
    },
    {
      "cell_type": "markdown",
      "metadata": {
        "id": "zpLsSNQbttj1",
        "colab_type": "text"
      },
      "source": [
        "Let's restore the original `LOAD_PATH`:"
      ]
    },
    {
      "cell_type": "code",
      "metadata": {
        "id": "zV4wd4Natxw7",
        "colab_type": "code",
        "colab": {
          "base_uri": "https://localhost:8080/",
          "height": 34
        },
        "outputId": "ef8459ee-938e-4246-d8c3-412d5f23d6a4"
      },
      "source": [
        "popfirst!(LOAD_PATH)"
      ],
      "execution_count": null,
      "outputs": [
        {
          "output_type": "execute_result",
          "data": {
            "text/plain": [
              "\".\""
            ]
          },
          "metadata": {
            "tags": []
          },
          "execution_count": 294
        }
      ]
    },
    {
      "cell_type": "markdown",
      "metadata": {
        "id": "Jz7_FaJcaZn-",
        "colab_type": "text"
      },
      "source": [
        "In short:\n",
        "\n",
        "|Julia | Python\n",
        "|------|-------\n",
        "|`import Foo` | `import foo`\n",
        "|`import Foo.Bar` | `from foo import bar`\n",
        "|`import Foo.Bar: a, b` | `from foo.bar import a, b`\n",
        "|`import Foo.Bar.a, Foo.Bar.b` | `from foo.bar import a, b`\n",
        "|`import .Foo` | `import .foo`\n",
        "|`import ..Foo.Bar` | `from ..foo import bar`\n",
        "|`import ...Foo.Bar` | `from ...foo import bar`\n",
        "|`import .Foo: a, b` | `from .foo import a, b`\n",
        "||\n",
        "|`using Foo` | `from foo import *; import foo`\n",
        "|`using Foo.Bar` | `from foo.bar import *; from foo import bar `\n",
        "|`using Foo.Bar: a, b` | `from foo.bar import a, b`\n",
        "\n",
        "|Extending function `Foo.f()` | Result\n",
        "|-----------------------------|--------\n",
        "|`import Foo.f  # or Foo: f` <br />`f(x::Int64) = ...`  | OK\n",
        "|`import Foo`<br />`Foo.f(x::Int64) = ...` | OK\n",
        "|`using Foo`<br />`Foo.f(x::Int64) = ...` | OK\n",
        "|`import Foo.f # or Foo: f`<br />`Foo.f(x::Int64) = ...` | `ERROR: Foo not defined`\n",
        "|`using Foo`<br />`f(x::Int64) = ...` | `ERROR: Foo.f must be explicitly imported`\n",
        "|`using Foo: f`<br />`f(x::Int64) = ...` | `ERROR: Foo.f must be explicitly imported`"
      ]
    },
    {
      "cell_type": "markdown",
      "metadata": {
        "id": "Inpk8qS3HL_u",
        "colab_type": "text"
      },
      "source": [
        "# Scopes\n",
        "Julia has two types of scopes: global and local.\n",
        "\n",
        "Every module has its own global scope, independent from all other global scopes. There is no overarching global scope.\n",
        "\n",
        "Modules, macros and types (including structs) can only be defined in a global scope.\n",
        "\n",
        "Most code blocks, including `function`, `struct`, `for`, `while`, etc., have their own local scope. For example:"
      ]
    },
    {
      "cell_type": "code",
      "metadata": {
        "id": "q3Lm3T1DG6St",
        "colab_type": "code",
        "colab": {
          "base_uri": "https://localhost:8080/",
          "height": 85
        },
        "outputId": "bbc8380c-fb29-42a8-c692-d0dc04aadd30"
      },
      "source": [
        "for q in 1:3\n",
        "    println(q)\n",
        "end\n",
        "\n",
        "try\n",
        "    println(q) # q is not available here\n",
        "catch ex\n",
        "    ex\n",
        "end"
      ],
      "execution_count": null,
      "outputs": [
        {
          "output_type": "stream",
          "text": [
            "1\n",
            "2\n",
            "3\n"
          ],
          "name": "stdout"
        },
        {
          "output_type": "execute_result",
          "data": {
            "text/plain": [
              "UndefVarError(:q)"
            ]
          },
          "metadata": {
            "tags": []
          },
          "execution_count": 295
        }
      ]
    },
    {
      "cell_type": "markdown",
      "metadata": {
        "id": "Wh6xa4fyJLYY",
        "colab_type": "text"
      },
      "source": [
        "A local scope inherits from its parent scope:"
      ]
    },
    {
      "cell_type": "code",
      "metadata": {
        "id": "IeLfjf4ZJQ41",
        "colab_type": "code",
        "colab": {
          "base_uri": "https://localhost:8080/",
          "height": 68
        },
        "outputId": "42be3d7f-c388-4130-d80b-ff45589621ca"
      },
      "source": [
        "z = 5\n",
        "for i in 1:3\n",
        "    w = 10\n",
        "    println(i * w * z) # i and w are local, z is from the parent scope\n",
        "end"
      ],
      "execution_count": null,
      "outputs": [
        {
          "output_type": "stream",
          "text": [
            "50\n",
            "100\n",
            "150\n"
          ],
          "name": "stdout"
        }
      ]
    },
    {
      "cell_type": "markdown",
      "metadata": {
        "id": "OQLfwoD3NoC_",
        "colab_type": "text"
      },
      "source": [
        "An inner scope can assign to a variable in the parent scope, if the parent scope is not global:"
      ]
    },
    {
      "cell_type": "code",
      "metadata": {
        "id": "fwN1C2BhNxyZ",
        "colab_type": "code",
        "colab": {
          "base_uri": "https://localhost:8080/",
          "height": 68
        },
        "outputId": "8d3f23a8-95be-4814-9801-ea6d01377408"
      },
      "source": [
        "for i in 1:3\n",
        "    s = 0\n",
        "    for j in 1:5\n",
        "        s = j # variable s is from the parent scope\n",
        "    end\n",
        "    println(s)\n",
        "end"
      ],
      "execution_count": null,
      "outputs": [
        {
          "output_type": "stream",
          "text": [
            "5\n",
            "5\n",
            "5\n"
          ],
          "name": "stdout"
        }
      ]
    },
    {
      "cell_type": "markdown",
      "metadata": {
        "id": "0m3aoj8UKxS4",
        "colab_type": "text"
      },
      "source": [
        "You can force a variable to be local by using the `local` keyword:"
      ]
    },
    {
      "cell_type": "code",
      "metadata": {
        "id": "hlireAo6K3eS",
        "colab_type": "code",
        "colab": {
          "base_uri": "https://localhost:8080/",
          "height": 68
        },
        "outputId": "96b62d7a-cefe-49ad-c9ec-9abdeb1c8613"
      },
      "source": [
        "for i in 1:3\n",
        "    s = 0\n",
        "    for j in 1:5\n",
        "        local s = j # variable s is local now\n",
        "    end\n",
        "    println(s)\n",
        "end"
      ],
      "execution_count": null,
      "outputs": [
        {
          "output_type": "stream",
          "text": [
            "0\n",
            "0\n",
            "0\n"
          ],
          "name": "stdout"
        }
      ]
    },
    {
      "cell_type": "markdown",
      "metadata": {
        "id": "qwo2DWNIN8oR",
        "colab_type": "text"
      },
      "source": [
        "To assign to a global variable, you must declare the variable as `global` in the local scope:"
      ]
    },
    {
      "cell_type": "code",
      "metadata": {
        "id": "rPnibZjLOFHv",
        "colab_type": "code",
        "colab": {
          "base_uri": "https://localhost:8080/",
          "height": 34
        },
        "outputId": "e72f5153-450a-4eeb-b21b-aad8af4ed857"
      },
      "source": [
        "for i in 1:3\n",
        "    global p\n",
        "    p = i\n",
        "end\n",
        "p"
      ],
      "execution_count": null,
      "outputs": [
        {
          "output_type": "execute_result",
          "data": {
            "text/plain": [
              "3"
            ]
          },
          "metadata": {
            "tags": []
          },
          "execution_count": 299
        }
      ]
    },
    {
      "cell_type": "markdown",
      "metadata": {
        "id": "tL5AgzVjOKuo",
        "colab_type": "text"
      },
      "source": [
        "There is one exception to this rule: when executing code directly in the REPL (since Julia 1.5) or in IJulia, you do not need to declare a variable as `global` if the global variable already exists:"
      ]
    },
    {
      "cell_type": "code",
      "metadata": {
        "id": "PKZPY8XOOlT9",
        "colab_type": "code",
        "colab": {
          "base_uri": "https://localhost:8080/",
          "height": 34
        },
        "outputId": "8ec185b6-e6cc-4d02-a914-a98dc53dd7be"
      },
      "source": [
        "s = 0\n",
        "for i in 1:3\n",
        "    s = i # implicitly global s: only in REPL Julia 1.5+ or IJulia\n",
        "end\n",
        "s"
      ],
      "execution_count": null,
      "outputs": [
        {
          "output_type": "execute_result",
          "data": {
            "text/plain": [
              "3"
            ]
          },
          "metadata": {
            "tags": []
          },
          "execution_count": 300
        }
      ]
    },
    {
      "cell_type": "markdown",
      "metadata": {
        "id": "Ne7zn3qgPo6M",
        "colab_type": "text"
      },
      "source": [
        "In functions, assigning to a variable which is not explicitly declared as global always makes it local (even in the REPL and IJulia):"
      ]
    },
    {
      "cell_type": "code",
      "metadata": {
        "id": "RJgKv_6oPhH2",
        "colab_type": "code",
        "colab": {
          "base_uri": "https://localhost:8080/",
          "height": 51
        },
        "outputId": "e48200be-4770-456c-8728-fea4f24f8424"
      },
      "source": [
        "s, t = 1, 2 # globals\n",
        "\n",
        "function foo()\n",
        "   s = 10 * t # s is local, t is global\n",
        "end\n",
        "\n",
        "println(foo())\n",
        "println(s)"
      ],
      "execution_count": null,
      "outputs": [
        {
          "output_type": "stream",
          "text": [
            "20\n",
            "1\n"
          ],
          "name": "stdout"
        }
      ]
    },
    {
      "cell_type": "markdown",
      "metadata": {
        "id": "DhnbEml6SiTG",
        "colab_type": "text"
      },
      "source": [
        "Just like in Python, functions can capture variables from the enclosing scope (not from the scope the function is called from):"
      ]
    },
    {
      "cell_type": "code",
      "metadata": {
        "id": "B1lAq94XS6yX",
        "colab_type": "code",
        "colab": {
          "base_uri": "https://localhost:8080/",
          "height": 34
        },
        "outputId": "801dc260-715e-4019-904b-d07dab865efe"
      },
      "source": [
        "t = 1\n",
        "\n",
        "foo() = t # foo() captures t from the global scope\n",
        "\n",
        "function bar()\n",
        "    t = 5 # this is a new local variable\n",
        "    println(foo()) # foo() still uses t from the global scope\n",
        "end\n",
        "\n",
        "bar()"
      ],
      "execution_count": null,
      "outputs": [
        {
          "output_type": "stream",
          "text": [
            "1\n"
          ],
          "name": "stdout"
        }
      ]
    },
    {
      "cell_type": "code",
      "metadata": {
        "id": "a460UCKFTXt7",
        "colab_type": "code",
        "colab": {
          "base_uri": "https://localhost:8080/",
          "height": 34
        },
        "outputId": "086d6f86-f637-4c80-b761-df99c3410914"
      },
      "source": [
        "function quz()\n",
        "    global t\n",
        "    t = 5 # we change the global t\n",
        "    println(foo()) # and this affects foo()\n",
        "end\n",
        "\n",
        "quz()"
      ],
      "execution_count": null,
      "outputs": [
        {
          "output_type": "stream",
          "text": [
            "5\n"
          ],
          "name": "stdout"
        }
      ]
    },
    {
      "cell_type": "markdown",
      "metadata": {
        "id": "MKsqCB48UxiU",
        "colab_type": "text"
      },
      "source": [
        "Closures work much like in Python:"
      ]
    },
    {
      "cell_type": "code",
      "metadata": {
        "id": "CvyNc-ksT22C",
        "colab_type": "code",
        "colab": {
          "base_uri": "https://localhost:8080/",
          "height": 34
        },
        "outputId": "03051778-f98a-468a-cb12-9d604322e1c0"
      },
      "source": [
        "function create_multiplier(n)\n",
        "    function mul(x)\n",
        "        x * n # variable n is captured from the parent scope\n",
        "    end\n",
        "end\n",
        "\n",
        "mul2 = create_multiplier(2)\n",
        "mul2(5)"
      ],
      "execution_count": null,
      "outputs": [
        {
          "output_type": "execute_result",
          "data": {
            "text/plain": [
              "10"
            ]
          },
          "metadata": {
            "tags": []
          },
          "execution_count": 304
        }
      ]
    },
    {
      "cell_type": "markdown",
      "metadata": {
        "id": "5qAMInDsUtJN",
        "colab_type": "text"
      },
      "source": [
        "An inner function can modify variables from its parent scope:"
      ]
    },
    {
      "cell_type": "code",
      "metadata": {
        "id": "s0JpWoqcU9-P",
        "colab_type": "code",
        "colab": {
          "base_uri": "https://localhost:8080/",
          "height": 51
        },
        "outputId": "91b2deab-0199-4850-9441-43e8f20f343f"
      },
      "source": [
        "function create_counter()\n",
        "    c = 0\n",
        "    inc() = c += 1 # this inner function modifies the c from the outer function\n",
        "end\n",
        "\n",
        "cnt = create_counter()\n",
        "println(cnt())\n",
        "println(cnt())"
      ],
      "execution_count": null,
      "outputs": [
        {
          "output_type": "stream",
          "text": [
            "1\n",
            "2\n"
          ],
          "name": "stdout"
        }
      ]
    },
    {
      "cell_type": "markdown",
      "metadata": {
        "id": "4ai7b0ZAlrjT",
        "colab_type": "text"
      },
      "source": [
        "Consider the following code, and see if you can figure out why it prints the same result multiple times:"
      ]
    },
    {
      "cell_type": "code",
      "metadata": {
        "id": "eEe2LtvSl0Ea",
        "colab_type": "code",
        "colab": {
          "base_uri": "https://localhost:8080/",
          "height": 102
        },
        "outputId": "9f6fd4bd-472f-4f46-ba28-b693e1ef5409"
      },
      "source": [
        "funcs = []\n",
        "i = 1\n",
        "while i ≤ 5\n",
        "    push!(funcs, ()->i^2)\n",
        "    global i += 1\n",
        "end\n",
        "for fn in funcs\n",
        "    println(fn())\n",
        "end"
      ],
      "execution_count": null,
      "outputs": [
        {
          "output_type": "stream",
          "text": [
            "36\n",
            "36\n",
            "36\n",
            "36\n",
            "36\n"
          ],
          "name": "stdout"
        }
      ]
    },
    {
      "cell_type": "markdown",
      "metadata": {
        "id": "ryvtm8pImQlB",
        "colab_type": "text"
      },
      "source": [
        "The answer is that there is a single variable `i`, which is captured by all 5 closures. By the time these closures are executed, the value of `i` is 6, so the square is 36, for every closure."
      ]
    },
    {
      "cell_type": "markdown",
      "metadata": {
        "id": "PWkRl2Yfm4A8",
        "colab_type": "text"
      },
      "source": [
        "If we use a `for` loop, we don't have this problem, since a new local variable is created at every iteration:"
      ]
    },
    {
      "cell_type": "code",
      "metadata": {
        "id": "zRrKzMHjnBD_",
        "colab_type": "code",
        "colab": {
          "base_uri": "https://localhost:8080/",
          "height": 102
        },
        "outputId": "86bc45ae-f4fa-4a2c-b576-9d01155c6694"
      },
      "source": [
        "funcs = []\n",
        "for i in 1:5\n",
        "    push!(funcs, ()->i^2)\n",
        "end\n",
        "for fn in funcs\n",
        "    println(fn())\n",
        "end"
      ],
      "execution_count": null,
      "outputs": [
        {
          "output_type": "stream",
          "text": [
            "1\n",
            "4\n",
            "9\n",
            "16\n",
            "25\n"
          ],
          "name": "stdout"
        }
      ]
    },
    {
      "cell_type": "markdown",
      "metadata": {
        "id": "URV8meLypzMG",
        "colab_type": "text"
      },
      "source": [
        "Any local variable created within a `for` loop, a `while` loop or a comprehension also get a new copy at each iteration. So we could code the above example like this:"
      ]
    },
    {
      "cell_type": "code",
      "metadata": {
        "id": "xjXXASVEqBim",
        "colab_type": "code",
        "colab": {
          "base_uri": "https://localhost:8080/",
          "height": 102
        },
        "outputId": "81a56127-2b37-4f37-937b-39b28f8c1d1e"
      },
      "source": [
        "funcs = []\n",
        "i = 1\n",
        "while i ≤ 5  # since we are in a while loop...\n",
        "    global i\n",
        "    local j = i # ...and j is created here, it's a new `j` at each iteration\n",
        "    push!(funcs, ()->j^2)\n",
        "    i += 1\n",
        "end\n",
        "for fn in funcs\n",
        "    println(fn())\n",
        "end"
      ],
      "execution_count": null,
      "outputs": [
        {
          "output_type": "stream",
          "text": [
            "1\n",
            "4\n",
            "9\n",
            "16\n",
            "25\n"
          ],
          "name": "stdout"
        }
      ]
    },
    {
      "cell_type": "markdown",
      "metadata": {
        "id": "Vazl0dRDnLpk",
        "colab_type": "text"
      },
      "source": [
        "Another way to get the same result is to use a `let` block, which also creates a new local variable every time it is executed:"
      ]
    },
    {
      "cell_type": "code",
      "metadata": {
        "id": "X-HuxLIdnSgB",
        "colab_type": "code",
        "colab": {
          "base_uri": "https://localhost:8080/",
          "height": 102
        },
        "outputId": "7ebc0478-d6dc-4068-aca0-dae08f1cb52a"
      },
      "source": [
        "funcs = []\n",
        "i = 0\n",
        "while i < 5\n",
        "    let i=i\n",
        "        push!(funcs, ()->i^2)\n",
        "    end\n",
        "    global i += 1\n",
        "end\n",
        "for fn in funcs\n",
        "    println(fn())\n",
        "end"
      ],
      "execution_count": null,
      "outputs": [
        {
          "output_type": "stream",
          "text": [
            "0\n",
            "1\n",
            "4\n",
            "9\n",
            "16\n"
          ],
          "name": "stdout"
        }
      ]
    },
    {
      "cell_type": "markdown",
      "metadata": {
        "id": "fXEf0zs0no--",
        "colab_type": "text"
      },
      "source": [
        "This `let i=i` block defines a new local variable `i` at every iteration, and initializes it with the value of `i` from the parent scope. Therefore each closure captures a different local variable `i`."
      ]
    },
    {
      "cell_type": "markdown",
      "metadata": {
        "id": "TKWWfJacoDU0",
        "colab_type": "text"
      },
      "source": [
        "Variables in a `let` block are initialized from left to right, so they can access variables on their left:"
      ]
    },
    {
      "cell_type": "code",
      "metadata": {
        "id": "HPXugdyUoH6R",
        "colab_type": "code",
        "colab": {
          "base_uri": "https://localhost:8080/",
          "height": 34
        },
        "outputId": "a8c67b00-4934-40a2-cb9e-1276d9483a5d"
      },
      "source": [
        "a = 1\n",
        "let a=a+1, b=a\n",
        "    println(\"a=$a, b=$b\")\n",
        "end"
      ],
      "execution_count": null,
      "outputs": [
        {
          "output_type": "stream",
          "text": [
            "a=2, b=2\n"
          ],
          "name": "stdout"
        }
      ]
    },
    {
      "cell_type": "markdown",
      "metadata": {
        "id": "S9-frzGloRln",
        "colab_type": "text"
      },
      "source": [
        "In this example, the local variable `a` is initialized with the value of `a + 1`, where `a` comes from the parent scope (i.e., it's the global `a` in this case). However, `b` is initialized with the value of the local `a`, since it now hides the variable `a` from the parent scope."
      ]
    },
    {
      "cell_type": "markdown",
      "metadata": {
        "id": "SEI5E2xbgYHl",
        "colab_type": "text"
      },
      "source": [
        "Default values in function arguments also have this left-to-right scoping logic:"
      ]
    },
    {
      "cell_type": "code",
      "metadata": {
        "id": "S-E8aGtPgBCx",
        "colab_type": "code",
        "colab": {
          "base_uri": "https://localhost:8080/",
          "height": 34
        },
        "outputId": "5d2c84aa-eeff-42b5-b933-11ad72996d69"
      },
      "source": [
        "a = 1\n",
        "foo(a=a+1, b=a) = println(\"a=$a, b=$b\")\n",
        "foo()\n",
        "foo(5)"
      ],
      "execution_count": null,
      "outputs": [
        {
          "output_type": "execute_result",
          "data": {
            "text/plain": [
              "\"baz\""
            ]
          },
          "metadata": {
            "tags": []
          },
          "execution_count": 311
        }
      ]
    },
    {
      "cell_type": "markdown",
      "metadata": {
        "id": "PzqwY5FngkML",
        "colab_type": "text"
      },
      "source": [
        "In this example, the first argument's default value is `a + 1`, where `a` comes from the parent scope (i.e., the global `a` in this case). However, the second argument's default value is `a`, where `a` in this case is the value of the first argument (<u>not</u> the parent scope's `a`)."
      ]
    },
    {
      "cell_type": "markdown",
      "metadata": {
        "id": "Au3RUzMsHWw8",
        "colab_type": "text"
      },
      "source": [
        "Note that `if` blocks and `begin` blocks do <u>not</u> have their own local scope, they just use the parent scope:"
      ]
    },
    {
      "cell_type": "code",
      "metadata": {
        "id": "iARzIFgtpOfB",
        "colab_type": "code",
        "colab": {
          "base_uri": "https://localhost:8080/",
          "height": 34
        },
        "outputId": "c43cfd70-eec8-4769-8a82-699a7a0dd49b"
      },
      "source": [
        "a = 1\n",
        "if true\n",
        "    a = 2 # same `a` as above\n",
        "end\n",
        "a"
      ],
      "execution_count": null,
      "outputs": [
        {
          "output_type": "execute_result",
          "data": {
            "text/plain": [
              "2"
            ]
          },
          "metadata": {
            "tags": []
          },
          "execution_count": 312
        }
      ]
    },
    {
      "cell_type": "code",
      "metadata": {
        "id": "kO5v8sfCHogx",
        "colab_type": "code",
        "colab": {
          "base_uri": "https://localhost:8080/",
          "height": 34
        },
        "outputId": "74b565af-fd82-444f-f9bb-037178a75f9a"
      },
      "source": [
        "a = 1\n",
        "begin\n",
        "    a = 2  # same `a` as above\n",
        "end\n",
        "a"
      ],
      "execution_count": null,
      "outputs": [
        {
          "output_type": "execute_result",
          "data": {
            "text/plain": [
              "2"
            ]
          },
          "metadata": {
            "tags": []
          },
          "execution_count": 313
        }
      ]
    },
    {
      "cell_type": "markdown",
      "metadata": {
        "id": "2ME2_ryels7L",
        "colab_type": "text"
      },
      "source": [
        "# Package Management\n"
      ]
    },
    {
      "cell_type": "markdown",
      "metadata": {
        "id": "hsT_nU1gB6-r",
        "colab_type": "text"
      },
      "source": [
        "## Basic Workflow\n",
        "The simplest way to write a Julia program is to create a `.jl` file somewhere and run it using `julia`. You would usually do this with your favorite editor, but in this notebook we must do this programmatically. For example:"
      ]
    },
    {
      "cell_type": "code",
      "metadata": {
        "id": "sRL8oZDaC0PX",
        "colab_type": "code",
        "colab": {
          "base_uri": "https://localhost:8080/",
          "height": 34
        },
        "outputId": "4c7c9149-2359-4934-e30b-90ae07f0716a"
      },
      "source": [
        "code = \"\"\"\n",
        "println(\"Hello world\")\n",
        "\"\"\"\n",
        "\n",
        "open(f->write(f, code), \"my_program1.jl\", \"w\")"
      ],
      "execution_count": null,
      "outputs": [
        {
          "output_type": "execute_result",
          "data": {
            "text/plain": [
              "23"
            ]
          },
          "metadata": {
            "tags": []
          },
          "execution_count": 314
        }
      ]
    },
    {
      "cell_type": "markdown",
      "metadata": {
        "id": "I3LsIKh47R99",
        "colab_type": "text"
      },
      "source": [
        "Then let's run the program using a shell command:"
      ]
    },
    {
      "cell_type": "code",
      "metadata": {
        "id": "UvfGZxERDv6c",
        "colab_type": "code",
        "colab": {
          "base_uri": "https://localhost:8080/",
          "height": 34
        },
        "outputId": "f19c6007-3d1b-493f-b310-774b3dc70b46"
      },
      "source": [
        ";julia my_program1.jl"
      ],
      "execution_count": null,
      "outputs": [
        {
          "output_type": "stream",
          "text": [
            "Hello world\n"
          ],
          "name": "stdout"
        }
      ]
    },
    {
      "cell_type": "markdown",
      "metadata": {
        "id": "KmDPtknrD0Al",
        "colab_type": "text"
      },
      "source": [
        "If you need to use a package which is not part of the standard library, such as `PyCall`, you first need to install it using Julia's package manager `Pkg`:"
      ]
    },
    {
      "cell_type": "code",
      "metadata": {
        "id": "doKyY1qWEMZV",
        "colab_type": "code",
        "colab": {
          "base_uri": "https://localhost:8080/",
          "height": 85
        },
        "outputId": "6748eeb6-21ce-4ea2-ea6d-72f6eef3b862"
      },
      "source": [
        "using Pkg\n",
        "Pkg.add(\"PyCall\")"
      ],
      "execution_count": null,
      "outputs": [
        {
          "output_type": "stream",
          "text": [
            "\u001b[32m\u001b[1m   Updating\u001b[22m\u001b[39m registry at `~/.julia/registries/General`\n",
            "\u001b[32m\u001b[1m  Resolving\u001b[22m\u001b[39m package versions...\n",
            "\u001b[32m\u001b[1mNo Changes\u001b[22m\u001b[39m to `~/.julia/environments/v1.5/Project.toml`\n",
            "\u001b[32m\u001b[1mNo Changes\u001b[22m\u001b[39m to `~/.julia/environments/v1.5/Manifest.toml`\n"
          ],
          "name": "stderr"
        }
      ]
    },
    {
      "cell_type": "markdown",
      "metadata": {
        "id": "iQj8OgUKERBz",
        "colab_type": "text"
      },
      "source": [
        "Alternatively, in interactive mode, you can enter the `Pkg` mode by typing `]`, then type a command:"
      ]
    },
    {
      "cell_type": "code",
      "metadata": {
        "id": "KGyakk8GEf84",
        "colab_type": "code",
        "colab": {
          "base_uri": "https://localhost:8080/",
          "height": 68
        },
        "outputId": "3f2c45f0-ace9-4793-a92a-8d04f9e76101"
      },
      "source": [
        "]add PyCall"
      ],
      "execution_count": null,
      "outputs": [
        {
          "output_type": "stream",
          "text": [
            "\u001b[32m\u001b[1m  Resolving\u001b[22m\u001b[39m package versions...\n",
            "\u001b[32m\u001b[1mNo Changes\u001b[22m\u001b[39m to `~/.julia/environments/v1.5/Project.toml`\n",
            "\u001b[32m\u001b[1mNo Changes\u001b[22m\u001b[39m to `~/.julia/environments/v1.5/Manifest.toml`\n"
          ],
          "name": "stderr"
        }
      ]
    },
    {
      "cell_type": "markdown",
      "metadata": {
        "id": "AsGGVOPzEkj9",
        "colab_type": "text"
      },
      "source": [
        "You can also precompile the new package to avoid the compilation delay when the package is first used:"
      ]
    },
    {
      "cell_type": "code",
      "metadata": {
        "id": "GqYovSwVEihb",
        "colab_type": "code",
        "colab": {
          "base_uri": "https://localhost:8080/",
          "height": 85
        },
        "outputId": "1309cf4a-c4b8-42fd-b98f-1eafa9ea4c49"
      },
      "source": [
        "]add PyCall; precompile;"
      ],
      "execution_count": null,
      "outputs": [
        {
          "output_type": "stream",
          "text": [
            "\u001b[32m\u001b[1m  Resolving\u001b[22m\u001b[39m package versions...\n",
            "\u001b[32m\u001b[1mNo Changes\u001b[22m\u001b[39m to `~/.julia/environments/v1.5/Project.toml`\n",
            "\u001b[32m\u001b[1mNo Changes\u001b[22m\u001b[39m to `~/.julia/environments/v1.5/Manifest.toml`\n",
            "\u001b[32m\u001b[1mPrecompiling\u001b[22m\u001b[39m project...\n"
          ],
          "name": "stderr"
        }
      ]
    },
    {
      "cell_type": "markdown",
      "metadata": {
        "id": "JMwXNbzGExCn",
        "colab_type": "text"
      },
      "source": [
        "One last alternative is to use `pkg\"...\"` strings to run commands in your programs:"
      ]
    },
    {
      "cell_type": "code",
      "metadata": {
        "id": "tx5hdeO9E71F",
        "colab_type": "code",
        "colab": {
          "base_uri": "https://localhost:8080/",
          "height": 85
        },
        "outputId": "34ea117e-19a0-4b41-988a-9edee151022f"
      },
      "source": [
        "pkg\"add PyCall; precompile;\""
      ],
      "execution_count": null,
      "outputs": [
        {
          "output_type": "stream",
          "text": [
            "\u001b[32m\u001b[1m  Resolving\u001b[22m\u001b[39m package versions...\n",
            "\u001b[32m\u001b[1mNo Changes\u001b[22m\u001b[39m to `~/.julia/environments/v1.5/Project.toml`\n",
            "\u001b[32m\u001b[1mNo Changes\u001b[22m\u001b[39m to `~/.julia/environments/v1.5/Manifest.toml`\n",
            "\u001b[32m\u001b[1mPrecompiling\u001b[22m\u001b[39m project...\n"
          ],
          "name": "stderr"
        }
      ]
    },
    {
      "cell_type": "markdown",
      "metadata": {
        "id": "fEIWFBgnFC6c",
        "colab_type": "text"
      },
      "source": [
        "Now you can import `PyCall` in any of your Julia programs:"
      ]
    },
    {
      "cell_type": "code",
      "metadata": {
        "id": "9kTp497AFJuT",
        "colab_type": "code",
        "colab": {
          "base_uri": "https://localhost:8080/",
          "height": 34
        },
        "outputId": "d9774098-126a-4497-b080-d0d900d4e580"
      },
      "source": [
        "code = \"\"\"\n",
        "using PyCall\n",
        "py\"print('1 + 2 =', 1 + 2)\"\n",
        "\"\"\"\n",
        "\n",
        "open(f->write(f, code), \"my_program2.jl\", \"w\")"
      ],
      "execution_count": null,
      "outputs": [
        {
          "output_type": "execute_result",
          "data": {
            "text/plain": [
              "41"
            ]
          },
          "metadata": {
            "tags": []
          },
          "execution_count": 320
        }
      ]
    },
    {
      "cell_type": "code",
      "metadata": {
        "id": "unfHQR31FVf1",
        "colab_type": "code",
        "colab": {
          "base_uri": "https://localhost:8080/",
          "height": 34
        },
        "outputId": "79feae7c-a522-44a4-9035-a764faa31fbd"
      },
      "source": [
        ";julia my_program2.jl"
      ],
      "execution_count": null,
      "outputs": [
        {
          "output_type": "stream",
          "text": [
            "1 + 2 = 3\n"
          ],
          "name": "stdout"
        }
      ]
    },
    {
      "cell_type": "markdown",
      "metadata": {
        "id": "7Cd3wPG9PH-p",
        "colab_type": "text"
      },
      "source": [
        "You can also add packages by providing their URL (typically on github). This is useful when you want to use a package which is not in the [official Julia Package registry](https://github.com/JuliaRegistries/General), or when you want the very latest version of a package:"
      ]
    },
    {
      "cell_type": "code",
      "metadata": {
        "id": "cW6k8F91PT23",
        "colab_type": "code",
        "colab": {
          "base_uri": "https://localhost:8080/",
          "height": 136
        },
        "outputId": "b5e13d84-c5fd-4d80-ae8a-06d6d6145fc3"
      },
      "source": [
        "]add https://github.com/JuliaLang/Example.jl"
      ],
      "execution_count": null,
      "outputs": [
        {
          "output_type": "stream",
          "text": [
            "\u001b[?25l    "
          ],
          "name": "stdout"
        },
        {
          "output_type": "stream",
          "text": [
            "\u001b[32m\u001b[1m    Cloning\u001b[22m\u001b[39m git-repo `https://github.com/JuliaLang/Example.jl`\n"
          ],
          "name": "stderr"
        },
        {
          "output_type": "stream",
          "text": [
            "\u001b[2K\u001b[?25h\u001b[?25l    "
          ],
          "name": "stdout"
        },
        {
          "output_type": "stream",
          "text": [
            "\u001b[32m\u001b[1m   Updating\u001b[22m\u001b[39m git-repo `https://github.com/JuliaLang/Example.jl`\n"
          ],
          "name": "stderr"
        },
        {
          "output_type": "stream",
          "text": [
            "\u001b[2K\u001b[?25h"
          ],
          "name": "stdout"
        },
        {
          "output_type": "stream",
          "text": [
            "\u001b[32m\u001b[1m  Resolving\u001b[22m\u001b[39m package versions...\n",
            "\u001b[32m\u001b[1mUpdating\u001b[22m\u001b[39m `~/.julia/environments/v1.5/Project.toml`\n",
            " \u001b[90m [7876af07] \u001b[39m\u001b[92m+ Example v0.5.4 `https://github.com/JuliaLang/Example.jl#master`\u001b[39m\n",
            "\u001b[32m\u001b[1mUpdating\u001b[22m\u001b[39m `~/.julia/environments/v1.5/Manifest.toml`\n",
            " \u001b[90m [7876af07] \u001b[39m\u001b[92m+ Example v0.5.4 `https://github.com/JuliaLang/Example.jl#master`\u001b[39m\n"
          ],
          "name": "stderr"
        }
      ]
    },
    {
      "cell_type": "markdown",
      "metadata": {
        "id": "HtRAtwWkD3Ao",
        "colab_type": "text"
      },
      "source": [
        "You can install a specific package version like this:"
      ]
    },
    {
      "cell_type": "code",
      "metadata": {
        "id": "CceFEwcTCAWG",
        "colab_type": "code",
        "colab": {
          "base_uri": "https://localhost:8080/",
          "height": 136
        },
        "outputId": "f0cadc00-de44-4dc0-84d1-83d562ac2744"
      },
      "source": [
        "]add PyCall@1.91.3"
      ],
      "execution_count": null,
      "outputs": [
        {
          "output_type": "stream",
          "text": [
            "\u001b[32m\u001b[1m  Resolving\u001b[22m\u001b[39m package versions...\n",
            "\u001b[32m\u001b[1m  Installed\u001b[22m\u001b[39m PyCall ─ v1.91.3\n",
            "\u001b[32m\u001b[1mUpdating\u001b[22m\u001b[39m `~/.julia/environments/v1.5/Project.toml`\n",
            " \u001b[90m [438e738f] \u001b[39m\u001b[95m↓ PyCall v1.91.4 ⇒ v1.91.3\u001b[39m\n",
            "\u001b[32m\u001b[1mUpdating\u001b[22m\u001b[39m `~/.julia/environments/v1.5/Manifest.toml`\n",
            " \u001b[90m [438e738f] \u001b[39m\u001b[95m↓ PyCall v1.91.4 ⇒ v1.91.3\u001b[39m\n",
            "\u001b[32m\u001b[1m   Building\u001b[22m\u001b[39m PyCall → `~/.julia/packages/PyCall/kAhnQ/deps/build.log`\n"
          ],
          "name": "stderr"
        }
      ]
    },
    {
      "cell_type": "markdown",
      "metadata": {
        "id": "AlN_f9jpGPO1",
        "colab_type": "text"
      },
      "source": [
        "If you only specify version `1` or version `1.91`, Julia will get the latest version with that prefix. For example, `]add PyCall@0.91` would install the latest version `0.91.x`."
      ]
    },
    {
      "cell_type": "markdown",
      "metadata": {
        "id": "TDixUMn7DDri",
        "colab_type": "text"
      },
      "source": [
        "You can also update a package to its latest version:"
      ]
    },
    {
      "cell_type": "code",
      "metadata": {
        "id": "0EQofpkzD4xq",
        "colab_type": "code",
        "colab": {
          "base_uri": "https://localhost:8080/",
          "height": 102
        },
        "outputId": "1b7bbdd5-38bf-4fe0-e98d-a50a5fe53deb"
      },
      "source": [
        "]update PyCall"
      ],
      "execution_count": null,
      "outputs": [
        {
          "output_type": "stream",
          "text": [
            "\u001b[32m\u001b[1m   Updating\u001b[22m\u001b[39m registry at `~/.julia/registries/General`\n",
            "\u001b[32m\u001b[1mUpdating\u001b[22m\u001b[39m `~/.julia/environments/v1.5/Project.toml`\n",
            " \u001b[90m [438e738f] \u001b[39m\u001b[93m↑ PyCall v1.91.3 ⇒ v1.91.4\u001b[39m\n",
            "\u001b[32m\u001b[1mUpdating\u001b[22m\u001b[39m `~/.julia/environments/v1.5/Manifest.toml`\n",
            " \u001b[90m [438e738f] \u001b[39m\u001b[93m↑ PyCall v1.91.3 ⇒ v1.91.4\u001b[39m\n"
          ],
          "name": "stderr"
        }
      ]
    },
    {
      "cell_type": "markdown",
      "metadata": {
        "id": "lgeDVp26DI7_",
        "colab_type": "text"
      },
      "source": [
        "You can update all packages to their latest versions:"
      ]
    },
    {
      "cell_type": "code",
      "metadata": {
        "id": "S3Mi-zgLDOVw",
        "colab_type": "code",
        "colab": {
          "base_uri": "https://localhost:8080/",
          "height": 85
        },
        "outputId": "d93f5433-900c-4248-cd7a-a8cceb3bd5b9"
      },
      "source": [
        "]update"
      ],
      "execution_count": null,
      "outputs": [
        {
          "output_type": "stream",
          "text": [
            "\u001b[32m\u001b[1m   Updating\u001b[22m\u001b[39m registry at `~/.julia/registries/General`\n"
          ],
          "name": "stderr"
        },
        {
          "output_type": "stream",
          "text": [
            "\u001b[?25l\u001b[2K"
          ],
          "name": "stdout"
        },
        {
          "output_type": "stream",
          "text": [
            "\u001b[32m\u001b[1m   Updating\u001b[22m\u001b[39m git-repo `https://github.com/JuliaLang/Example.jl`\n"
          ],
          "name": "stderr"
        },
        {
          "output_type": "stream",
          "text": [
            "\u001b[?25h"
          ],
          "name": "stdout"
        },
        {
          "output_type": "stream",
          "text": [
            "\u001b[32m\u001b[1mNo Changes\u001b[22m\u001b[39m to `~/.julia/environments/v1.5/Project.toml`\n",
            "\u001b[32m\u001b[1mNo Changes\u001b[22m\u001b[39m to `~/.julia/environments/v1.5/Manifest.toml`\n"
          ],
          "name": "stderr"
        }
      ]
    },
    {
      "cell_type": "markdown",
      "metadata": {
        "id": "1C6nNERsDa_M",
        "colab_type": "text"
      },
      "source": [
        "If you don't want a particular package to be updated the next time you call `]update`, you can pin it:"
      ]
    },
    {
      "cell_type": "code",
      "metadata": {
        "id": "Nht6o2uCDiiL",
        "colab_type": "code",
        "colab": {
          "base_uri": "https://localhost:8080/",
          "height": 102
        },
        "outputId": "4f92bd22-be09-4893-a847-b9bd794eb845"
      },
      "source": [
        "]pin PyCall"
      ],
      "execution_count": null,
      "outputs": [
        {
          "output_type": "stream",
          "text": [
            "\u001b[32m\u001b[1m  Resolving\u001b[22m\u001b[39m package versions...\n",
            "\u001b[32m\u001b[1mUpdating\u001b[22m\u001b[39m `~/.julia/environments/v1.5/Project.toml`\n",
            " \u001b[90m [438e738f] \u001b[39m\u001b[95m↓ PyCall v1.91.4 ⇒ v1.91.4 ⚲\u001b[39m\n",
            "\u001b[32m\u001b[1mUpdating\u001b[22m\u001b[39m `~/.julia/environments/v1.5/Manifest.toml`\n",
            " \u001b[90m [438e738f] \u001b[39m\u001b[95m↓ PyCall v1.91.4 ⇒ v1.91.4 ⚲\u001b[39m\n"
          ],
          "name": "stderr"
        }
      ]
    },
    {
      "cell_type": "markdown",
      "metadata": {
        "id": "Qp9v2d7tDxjH",
        "colab_type": "text"
      },
      "source": [
        "To unpin the package:"
      ]
    },
    {
      "cell_type": "code",
      "metadata": {
        "id": "3i9JoQimDl7I",
        "colab_type": "code",
        "colab": {
          "base_uri": "https://localhost:8080/",
          "height": 85
        },
        "outputId": "d92a3c85-3617-47ff-adcf-1fa4657b007e"
      },
      "source": [
        "]free PyCall"
      ],
      "execution_count": null,
      "outputs": [
        {
          "output_type": "stream",
          "text": [
            "\u001b[32m\u001b[1mUpdating\u001b[22m\u001b[39m `~/.julia/environments/v1.5/Project.toml`\n",
            " \u001b[90m [438e738f] \u001b[39m\u001b[95m↓ PyCall v1.91.4 ⚲ ⇒ v1.91.4\u001b[39m\n",
            "\u001b[32m\u001b[1mUpdating\u001b[22m\u001b[39m `~/.julia/environments/v1.5/Manifest.toml`\n",
            " \u001b[90m [438e738f] \u001b[39m\u001b[95m↓ PyCall v1.91.4 ⚲ ⇒ v1.91.4\u001b[39m\n"
          ],
          "name": "stderr"
        }
      ]
    },
    {
      "cell_type": "markdown",
      "metadata": {
        "id": "Asr1snFp609f",
        "colab_type": "text"
      },
      "source": [
        "You can also run the tests defined in a package:"
      ]
    },
    {
      "cell_type": "code",
      "metadata": {
        "id": "XlmKnEvf67zi",
        "colab_type": "code",
        "colab": {
          "base_uri": "https://localhost:8080/",
          "height": 289
        },
        "outputId": "5e7bff14-2a33-4ee3-a696-8a19db0a430d"
      },
      "source": [
        "]test Example"
      ],
      "execution_count": null,
      "outputs": [
        {
          "output_type": "stream",
          "text": [
            "\u001b[32m\u001b[1m    Testing\u001b[22m\u001b[39m Example\n",
            "\u001b[32m\u001b[1mStatus\u001b[22m\u001b[39m `/tmp/jl_uCeHuE/Project.toml`\n",
            " \u001b[90m [7876af07] \u001b[39m\u001b[37mExample v0.5.4 `https://github.com/JuliaLang/Example.jl#master`\u001b[39m\n",
            " \u001b[90m [8dfed614] \u001b[39m\u001b[37mTest\u001b[39m\n",
            "\u001b[32m\u001b[1mStatus\u001b[22m\u001b[39m `/tmp/jl_uCeHuE/Manifest.toml`\n",
            " \u001b[90m [7876af07] \u001b[39m\u001b[37mExample v0.5.4 `https://github.com/JuliaLang/Example.jl#master`\u001b[39m\n",
            " \u001b[90m [2a0f44e3] \u001b[39m\u001b[37mBase64\u001b[39m\n",
            " \u001b[90m [8ba89e20] \u001b[39m\u001b[37mDistributed\u001b[39m\n",
            " \u001b[90m [b77e0a4c] \u001b[39m\u001b[37mInteractiveUtils\u001b[39m\n",
            " \u001b[90m [56ddb016] \u001b[39m\u001b[37mLogging\u001b[39m\n",
            " \u001b[90m [d6f4376e] \u001b[39m\u001b[37mMarkdown\u001b[39m\n",
            " \u001b[90m [9a3f8284] \u001b[39m\u001b[37mRandom\u001b[39m\n",
            " \u001b[90m [9e88b42a] \u001b[39m\u001b[37mSerialization\u001b[39m\n",
            " \u001b[90m [6462fe0b] \u001b[39m\u001b[37mSockets\u001b[39m\n",
            " \u001b[90m [8dfed614] \u001b[39m\u001b[37mTest\u001b[39m\n",
            "\u001b[32m\u001b[1m    Testing\u001b[22m\u001b[39m Example tests passed \n"
          ],
          "name": "stderr"
        }
      ]
    },
    {
      "cell_type": "markdown",
      "metadata": {
        "id": "lHAXzij6ZPPs",
        "colab_type": "text"
      },
      "source": [
        "Of course, you can remove a package:"
      ]
    },
    {
      "cell_type": "code",
      "metadata": {
        "id": "2fuEjhjzZROg",
        "colab_type": "code",
        "colab": {
          "base_uri": "https://localhost:8080/",
          "height": 85
        },
        "outputId": "5b33d185-876b-49e5-b1d0-19cf1e31d870"
      },
      "source": [
        "]rm Example"
      ],
      "execution_count": null,
      "outputs": [
        {
          "output_type": "stream",
          "text": [
            "\u001b[32m\u001b[1mUpdating\u001b[22m\u001b[39m `~/.julia/environments/v1.5/Project.toml`\n",
            " \u001b[90m [7876af07] \u001b[39m\u001b[91m- Example v0.5.4 `https://github.com/JuliaLang/Example.jl#master`\u001b[39m\n",
            "\u001b[32m\u001b[1mUpdating\u001b[22m\u001b[39m `~/.julia/environments/v1.5/Manifest.toml`\n",
            " \u001b[90m [7876af07] \u001b[39m\u001b[91m- Example v0.5.4 `https://github.com/JuliaLang/Example.jl#master`\u001b[39m\n"
          ],
          "name": "stderr"
        }
      ]
    },
    {
      "cell_type": "markdown",
      "metadata": {
        "id": "eeTA6D33CHTv",
        "colab_type": "text"
      },
      "source": [
        "Lastly, you can check which packages are installed using `]status` (or `]st` for short):"
      ]
    },
    {
      "cell_type": "code",
      "metadata": {
        "id": "lSqzm_yECL6Y",
        "colab_type": "code",
        "colab": {
          "base_uri": "https://localhost:8080/",
          "height": 102
        },
        "outputId": "a0a24d5e-684e-4ead-e818-2c30622ddbb3"
      },
      "source": [
        "]st"
      ],
      "execution_count": null,
      "outputs": [
        {
          "output_type": "stream",
          "text": [
            "\u001b[32m\u001b[1mStatus\u001b[22m\u001b[39m `~/.julia/environments/v1.5/Project.toml`\n",
            " \u001b[90m [6e4b80f9] \u001b[39m\u001b[37mBenchmarkTools v0.5.0\u001b[39m\n",
            " \u001b[90m [7073ff75] \u001b[39m\u001b[37mIJulia v1.21.2\u001b[39m\n",
            " \u001b[90m [438e738f] \u001b[39m\u001b[37mPyCall v1.91.4\u001b[39m\n",
            " \u001b[90m [d330b81b] \u001b[39m\u001b[37mPyPlot v2.9.0\u001b[39m\n"
          ],
          "name": "stdout"
        }
      ]
    },
    {
      "cell_type": "markdown",
      "metadata": {
        "id": "VVwtyjNJlL5j",
        "colab_type": "text"
      },
      "source": [
        "For more `Pkg` commands, type `]help`."
      ]
    },
    {
      "cell_type": "markdown",
      "metadata": {
        "id": "rQY6BRiBvdbU",
        "colab_type": "text"
      },
      "source": [
        "|Julia (in interactive mode) | Python (in a terminal)\n",
        "|-----|------\n",
        "|`]status` | `pip freeze`<br />or<br />`conda list`\n",
        "|`]add Foo` | `pip install foo`<br />or<br />`conda install foo`\n",
        "|`]add Foo@1.2` | `pip install foo==1.2`<br />or<br />`conda install foo=1.2`\n",
        "|`]update Foo` | `pip install --upgrade foo`<br />or<br />`conda update foo`\n",
        "|`]pin Foo` | `foo==<version>` in `requirements.txt`<br /> or<br />`foo=<version>` in `environment.yml`\n",
        "|`]free Foo` | `foo` in `requirements.txt`<br />or<br />`foo` in `environment.yml`\n",
        "|`]test Foo` | `python -m unittest foo`\n",
        "|`]rm Foo` | `pip uninstall foo`<br />or<br />`conda remove foo`\n",
        "|`]help` | `pip --help`\n"
      ]
    },
    {
      "cell_type": "markdown",
      "metadata": {
        "id": "o6KvuaMcFx2N",
        "colab_type": "text"
      },
      "source": [
        "This workflow is fairly simple, but it means that all of your programs will be using the same version of each package. This is analog to installing packages using `pip install` without using virtual environments."
      ]
    },
    {
      "cell_type": "markdown",
      "metadata": {
        "id": "CaJvX0RcqukU",
        "colab_type": "text"
      },
      "source": [
        "\n",
        "## Projects\n",
        "\n",
        "If you want to have multiple projects, each with different libraries and library versions, you should define **projects**. These are analog to Python virtual environments.\n",
        "\n",
        "A project is just a directory containing a `Project.toml` file and a `Manifest.toml` file:\n",
        "\n",
        "```\n",
        "my_project/\n",
        "    Project.toml\n",
        "    Manifest.toml\n",
        "```\n",
        "\n",
        "* `Project.toml` is similar to a `requirements.txt` file (for pip) or `environment.yml` (for conda): it lists the dependencies of the project, and compatibility constraints (e.g., `SomeDependency = 2.5`).\n",
        "* `Manifest.toml` is an automatically generated file which lists the exact versions and unique IDs (UUIDs) of all the packages that Julia found, based on `Project.toml`. It includes all the implicit dependencies of the project's packages. This is useful to reproduce an environment precisely. Analog to the output of `pip --freeze`.\n",
        "\n",
        "By default, the active project is located in `~/.julia/environments/v#.#` (where `#.#` is the Julia version you are using, such as 1.4). You can set a different project when starting Julia:\n",
        "\n",
        "```bash\n",
        "# BASH\n",
        "julia --project=/path/to/my_project\n",
        "```\n",
        "\n",
        "Or you can set the `JULIA_PROJECT` environment variable:\n",
        "\n",
        "```bash\n",
        "# BASH\n",
        "export JULIA_PROJECT=/path/to/my_project\n",
        "julia\n",
        "```"
      ]
    },
    {
      "cell_type": "markdown",
      "metadata": {
        "id": "84iGO38zM3Cz",
        "colab_type": "text"
      },
      "source": [
        "Or you can just activate a project directly in Julia (this is analog to running `source my_project/env/bin/activate` when using virtualenv):"
      ]
    },
    {
      "cell_type": "code",
      "metadata": {
        "id": "tuXofzisM-bW",
        "colab_type": "code",
        "colab": {
          "base_uri": "https://localhost:8080/",
          "height": 34
        },
        "outputId": "82bf7133-c5fd-4a79-a540-532aef6525de"
      },
      "source": [
        "Pkg.activate(\"my_project\")"
      ],
      "execution_count": null,
      "outputs": [
        {
          "output_type": "stream",
          "text": [
            "\u001b[32m\u001b[1m Activating\u001b[22m\u001b[39m new environment at `/content/my_project/Project.toml`\n"
          ],
          "name": "stderr"
        }
      ]
    },
    {
      "cell_type": "markdown",
      "metadata": {
        "id": "wOPtEC3UNTsh",
        "colab_type": "text"
      },
      "source": [
        "The `my_project` directory does not exist yet, but it gets created automatically, along with the `Project.toml` and `Manifest.toml` files, when you first add a package:"
      ]
    },
    {
      "cell_type": "code",
      "metadata": {
        "id": "yLuWH7U8g84W",
        "colab_type": "code",
        "colab": {
          "base_uri": "https://localhost:8080/",
          "height": 442
        },
        "outputId": "c9ccf2e9-a046-45fc-cf68-968e4c8f880a"
      },
      "source": [
        "]add PyCall"
      ],
      "execution_count": null,
      "outputs": [
        {
          "output_type": "stream",
          "text": [
            "\u001b[32m\u001b[1m  Resolving\u001b[22m\u001b[39m package versions...\n",
            "\u001b[32m\u001b[1mUpdating\u001b[22m\u001b[39m `/content/my_project/Project.toml`\n",
            " \u001b[90m [438e738f] \u001b[39m\u001b[92m+ PyCall v1.91.4\u001b[39m\n",
            "\u001b[32m\u001b[1mUpdating\u001b[22m\u001b[39m `/content/my_project/Manifest.toml`\n",
            " \u001b[90m [8f4d0f93] \u001b[39m\u001b[92m+ Conda v1.4.1\u001b[39m\n",
            " \u001b[90m [682c06a0] \u001b[39m\u001b[92m+ JSON v0.21.0\u001b[39m\n",
            " \u001b[90m [1914dd2f] \u001b[39m\u001b[92m+ MacroTools v0.5.5\u001b[39m\n",
            " \u001b[90m [69de0a69] \u001b[39m\u001b[92m+ Parsers v1.0.6\u001b[39m\n",
            " \u001b[90m [438e738f] \u001b[39m\u001b[92m+ PyCall v1.91.4\u001b[39m\n",
            " \u001b[90m [81def892] \u001b[39m\u001b[92m+ VersionParsing v1.2.0\u001b[39m\n",
            " \u001b[90m [2a0f44e3] \u001b[39m\u001b[92m+ Base64\u001b[39m\n",
            " \u001b[90m [ade2ca70] \u001b[39m\u001b[92m+ Dates\u001b[39m\n",
            " \u001b[90m [8ba89e20] \u001b[39m\u001b[92m+ Distributed\u001b[39m\n",
            " \u001b[90m [b77e0a4c] \u001b[39m\u001b[92m+ InteractiveUtils\u001b[39m\n",
            " \u001b[90m [8f399da3] \u001b[39m\u001b[92m+ Libdl\u001b[39m\n",
            " \u001b[90m [37e2e46d] \u001b[39m\u001b[92m+ LinearAlgebra\u001b[39m\n",
            " \u001b[90m [56ddb016] \u001b[39m\u001b[92m+ Logging\u001b[39m\n",
            " \u001b[90m [d6f4376e] \u001b[39m\u001b[92m+ Markdown\u001b[39m\n",
            " \u001b[90m [a63ad114] \u001b[39m\u001b[92m+ Mmap\u001b[39m\n",
            " \u001b[90m [de0858da] \u001b[39m\u001b[92m+ Printf\u001b[39m\n",
            " \u001b[90m [9a3f8284] \u001b[39m\u001b[92m+ Random\u001b[39m\n",
            " \u001b[90m [9e88b42a] \u001b[39m\u001b[92m+ Serialization\u001b[39m\n",
            " \u001b[90m [6462fe0b] \u001b[39m\u001b[92m+ Sockets\u001b[39m\n",
            " \u001b[90m [8dfed614] \u001b[39m\u001b[92m+ Test\u001b[39m\n",
            " \u001b[90m [4ec0a83e] \u001b[39m\u001b[92m+ Unicode\u001b[39m\n"
          ],
          "name": "stderr"
        }
      ]
    },
    {
      "cell_type": "markdown",
      "metadata": {
        "id": "KS6OJjVpTcKX",
        "colab_type": "text"
      },
      "source": [
        "You can also add a package via its URL:"
      ]
    },
    {
      "cell_type": "code",
      "metadata": {
        "id": "ydZSoyULOlwV",
        "colab_type": "code",
        "colab": {
          "base_uri": "https://localhost:8080/",
          "height": 119
        },
        "outputId": "0347c37d-e015-44cc-c7b5-ddc4c63df8cd"
      },
      "source": [
        "]add https://github.com/JuliaLang/Example.jl"
      ],
      "execution_count": null,
      "outputs": [
        {
          "output_type": "stream",
          "text": [
            "\u001b[?25l\u001b[2K"
          ],
          "name": "stdout"
        },
        {
          "output_type": "stream",
          "text": [
            "\u001b[32m\u001b[1m   Updating\u001b[22m\u001b[39m git-repo `https://github.com/JuliaLang/Example.jl`\n"
          ],
          "name": "stderr"
        },
        {
          "output_type": "stream",
          "text": [
            "\u001b[?25h"
          ],
          "name": "stdout"
        },
        {
          "output_type": "stream",
          "text": [
            "\u001b[32m\u001b[1m  Resolving\u001b[22m\u001b[39m package versions...\n",
            "\u001b[32m\u001b[1mUpdating\u001b[22m\u001b[39m `/content/my_project/Project.toml`\n",
            " \u001b[90m [7876af07] \u001b[39m\u001b[92m+ Example v0.5.4 `https://github.com/JuliaLang/Example.jl#master`\u001b[39m\n",
            "\u001b[32m\u001b[1mUpdating\u001b[22m\u001b[39m `/content/my_project/Manifest.toml`\n",
            " \u001b[90m [7876af07] \u001b[39m\u001b[92m+ Example v0.5.4 `https://github.com/JuliaLang/Example.jl#master`\u001b[39m\n"
          ],
          "name": "stderr"
        }
      ]
    },
    {
      "cell_type": "markdown",
      "metadata": {
        "id": "JKr9G4fDGGLv",
        "colab_type": "text"
      },
      "source": [
        "Let's also add a package with a specific version:"
      ]
    },
    {
      "cell_type": "code",
      "metadata": {
        "id": "xM8l4uR2GJsM",
        "colab_type": "code",
        "colab": {
          "base_uri": "https://localhost:8080/",
          "height": 119
        },
        "outputId": "6cefe335-3cc9-4fa8-d436-eab4f9d0237e"
      },
      "source": [
        "]add Example@0.3"
      ],
      "execution_count": null,
      "outputs": [
        {
          "output_type": "stream",
          "text": [
            "\u001b[32m\u001b[1m  Resolving\u001b[22m\u001b[39m package versions...\n",
            "\u001b[32m\u001b[1m  Installed\u001b[22m\u001b[39m Example ─ v0.3.3\n",
            "\u001b[32m\u001b[1mUpdating\u001b[22m\u001b[39m `/content/my_project/Project.toml`\n",
            " \u001b[90m [7876af07] \u001b[39m\u001b[93m~ Example v0.5.4 `https://github.com/JuliaLang/Example.jl#master` ⇒ v0.3.3\u001b[39m\n",
            "\u001b[32m\u001b[1mUpdating\u001b[22m\u001b[39m `/content/my_project/Manifest.toml`\n",
            " \u001b[90m [7876af07] \u001b[39m\u001b[93m~ Example v0.5.4 `https://github.com/JuliaLang/Example.jl#master` ⇒ v0.3.3\u001b[39m\n"
          ],
          "name": "stderr"
        }
      ]
    },
    {
      "cell_type": "markdown",
      "metadata": {
        "id": "RCZ-eWicTmVx",
        "colab_type": "text"
      },
      "source": [
        "Now the `Project.toml` and `Manifest.toml` files were created:"
      ]
    },
    {
      "cell_type": "code",
      "metadata": {
        "id": "CPbncHi09yFJ",
        "colab_type": "code",
        "colab": {
          "base_uri": "https://localhost:8080/",
          "height": 68
        },
        "outputId": "1d4de13b-282d-4d2d-b20e-cd2da4178471"
      },
      "source": [
        ";find my_project"
      ],
      "execution_count": null,
      "outputs": [
        {
          "output_type": "stream",
          "text": [
            "my_project\n",
            "my_project/Manifest.toml\n",
            "my_project/Project.toml\n"
          ],
          "name": "stdout"
        }
      ]
    },
    {
      "cell_type": "markdown",
      "metadata": {
        "id": "Jw-VCU41Ua7A",
        "colab_type": "text"
      },
      "source": [
        "Notice that the packages we added to the project were _not_ placed in the `my_project` directory itself. They were saved in the `~/.julia/packages` directory, the compiled files were placed in `~/.julia/compiled` director, logs were written to `~/.julia/logs` and so on.\n",
        "\n",
        "If several projects use the same package, it will only be downloaded and built once (well, once per version). The `~/.julia/packages` directory can hold multiple versions of the same package, so it's fine if different projects use different versions of the same package. There will be no conflict, no \"dependency hell\".\n"
      ]
    },
    {
      "cell_type": "markdown",
      "metadata": {
        "id": "o9yjyihUisIK",
        "colab_type": "text"
      },
      "source": [
        "The `Project.toml` just says that the project depends on `PyCall` and `Example`, and it specifies the UUID of this package:"
      ]
    },
    {
      "cell_type": "code",
      "metadata": {
        "id": "Gz8KscpIhIX4",
        "colab_type": "code",
        "colab": {
          "base_uri": "https://localhost:8080/",
          "height": 68
        },
        "outputId": "3e068373-955d-460a-80db-2261f27a0e6c"
      },
      "source": [
        "print(read(\"my_project/Project.toml\", String))"
      ],
      "execution_count": null,
      "outputs": [
        {
          "output_type": "stream",
          "text": [
            "[deps]\n",
            "Example = \"7876af07-990d-54b4-ab0e-23690620f79a\"\n",
            "PyCall = \"438e738f-606a-5dbb-bf0a-cddfbfd45ab0\"\n"
          ],
          "name": "stdout"
        }
      ]
    },
    {
      "cell_type": "markdown",
      "metadata": {
        "id": "IpxulMt32SFf",
        "colab_type": "text"
      },
      "source": [
        "UUIDs are useful to avoid name conflicts. If several people name their package `CoolStuff`, then the UUID will clarify which one we are referring to."
      ]
    },
    {
      "cell_type": "markdown",
      "metadata": {
        "id": "-_mbX8HUi7Qg",
        "colab_type": "text"
      },
      "source": [
        "The `Manifest.toml` file is much longer, since it contains all the packages which `PyCall` and `Example` depend on, along with their versions (except for the standard library packages), and the dependency graph. This file should never be modified manually:\n"
      ]
    },
    {
      "cell_type": "code",
      "metadata": {
        "id": "28qXSoSwhOgm",
        "colab_type": "code",
        "colab": {
          "base_uri": "https://localhost:8080/",
          "height": 1000
        },
        "outputId": "c74d3c31-e844-4907-f947-c31e838efdb8"
      },
      "source": [
        "print(read(\"my_project/Manifest.toml\", String))"
      ],
      "execution_count": null,
      "outputs": [
        {
          "output_type": "stream",
          "text": [
            "# This file is machine-generated - editing it directly is not advised\n",
            "\n",
            "[[Base64]]\n",
            "uuid = \"2a0f44e3-6c83-55bd-87e4-b1978d98bd5f\"\n",
            "\n",
            "[[Conda]]\n",
            "deps = [\"JSON\", \"VersionParsing\"]\n",
            "git-tree-sha1 = \"7a58bb32ce5d85f8bf7559aa7c2842f9aecf52fc\"\n",
            "uuid = \"8f4d0f93-b110-5947-807f-2305c1781a2d\"\n",
            "version = \"1.4.1\"\n",
            "\n",
            "[[Dates]]\n",
            "deps = [\"Printf\"]\n",
            "uuid = \"ade2ca70-3891-5945-98fb-dc099432e06a\"\n",
            "\n",
            "[[Distributed]]\n",
            "deps = [\"Random\", \"Serialization\", \"Sockets\"]\n",
            "uuid = \"8ba89e20-285c-5b6f-9357-94700520ee1b\"\n",
            "\n",
            "[[Example]]\n",
            "git-tree-sha1 = \"276fa06109ac5c80035cff711b0a18ad5b3117cc\"\n",
            "uuid = \"7876af07-990d-54b4-ab0e-23690620f79a\"\n",
            "version = \"0.3.3\"\n",
            "\n",
            "[[InteractiveUtils]]\n",
            "deps = [\"Markdown\"]\n",
            "uuid = \"b77e0a4c-d291-57a0-90e8-8db25a27a240\"\n",
            "\n",
            "[[JSON]]\n",
            "deps = [\"Dates\", \"Mmap\", \"Parsers\", \"Unicode\"]\n",
            "git-tree-sha1 = \"b34d7cef7b337321e97d22242c3c2b91f476748e\"\n",
            "uuid = \"682c06a0-de6a-54ab-a142-c8b1cf79cde6\"\n",
            "version = \"0.21.0\"\n",
            "\n",
            "[[Libdl]]\n",
            "uuid = \"8f399da3-3557-5675-b5ff-fb832c97cbdb\"\n",
            "\n",
            "[[LinearAlgebra]]\n",
            "deps = [\"Libdl\"]\n",
            "uuid = \"37e2e46d-f89d-539d-b4ee-838fcccc9c8e\"\n",
            "\n",
            "[[Logging]]\n",
            "uuid = \"56ddb016-857b-54e1-b83d-db4d58db5568\"\n",
            "\n",
            "[[MacroTools]]\n",
            "deps = [\"Markdown\", \"Random\"]\n",
            "git-tree-sha1 = \"f7d2e3f654af75f01ec49be82c231c382214223a\"\n",
            "uuid = \"1914dd2f-81c6-5fcd-8719-6d5c9610ff09\"\n",
            "version = \"0.5.5\"\n",
            "\n",
            "[[Markdown]]\n",
            "deps = [\"Base64\"]\n",
            "uuid = \"d6f4376e-aef5-505a-96c1-9c027394607a\"\n",
            "\n",
            "[[Mmap]]\n",
            "uuid = \"a63ad114-7e13-5084-954f-fe012c677804\"\n",
            "\n",
            "[[Parsers]]\n",
            "deps = [\"Dates\", \"Test\"]\n",
            "git-tree-sha1 = \"20ef902ea02f7000756a4bc19f7b9c24867c6211\"\n",
            "uuid = \"69de0a69-1ddd-5017-9359-2bf0b02dc9f0\"\n",
            "version = \"1.0.6\"\n",
            "\n",
            "[[Printf]]\n",
            "deps = [\"Unicode\"]\n",
            "uuid = \"de0858da-6303-5e67-8744-51eddeeeb8d7\"\n",
            "\n",
            "[[PyCall]]\n",
            "deps = [\"Conda\", \"Dates\", \"Libdl\", \"LinearAlgebra\", \"MacroTools\", \"Serialization\", \"VersionParsing\"]\n",
            "git-tree-sha1 = \"3a3fdb9000d35958c9ba2323ca7c4958901f115d\"\n",
            "uuid = \"438e738f-606a-5dbb-bf0a-cddfbfd45ab0\"\n",
            "version = \"1.91.4\"\n",
            "\n",
            "[[Random]]\n",
            "deps = [\"Serialization\"]\n",
            "uuid = \"9a3f8284-a2c9-5f02-9a11-845980a1fd5c\"\n",
            "\n",
            "[[Serialization]]\n",
            "uuid = \"9e88b42a-f829-5b0c-bbe9-9e923198166b\"\n",
            "\n",
            "[[Sockets]]\n",
            "uuid = \"6462fe0b-24de-5631-8697-dd941f90decc\"\n",
            "\n",
            "[[Test]]\n",
            "deps = [\"Distributed\", \"InteractiveUtils\", \"Logging\", \"Random\"]\n",
            "uuid = \"8dfed614-e22c-5e08-85e1-65c5234f0b40\"\n",
            "\n",
            "[[Unicode]]\n",
            "uuid = \"4ec0a83e-493e-50e2-b9ac-8f72acf5a8f5\"\n",
            "\n",
            "[[VersionParsing]]\n",
            "git-tree-sha1 = \"80229be1f670524750d905f8fc8148e5a8c4537f\"\n",
            "uuid = \"81def892-9a0e-5fdd-b105-ffc91e053289\"\n",
            "version = \"1.2.0\"\n"
          ],
          "name": "stdout"
        }
      ]
    },
    {
      "cell_type": "markdown",
      "metadata": {
        "id": "P1JJXmuz1LPl",
        "colab_type": "text"
      },
      "source": [
        "Note that `Manifest.toml` contains the precise version of the `Example` package that was installed, but the `Project.toml` file does not specify that version `0.3` is required. That's because Julia cannot know whether your project is supposed to work only with any version `0.3.x`, or whether it could work with other versions as well. So if you want to specify a version constraint for the `Example` package, you must add it manually in `Project.toml`. You would normally use your favorite editor to do this, but in this notebook we'll update `Project.toml` programmatically:"
      ]
    },
    {
      "cell_type": "code",
      "metadata": {
        "id": "tgddc3M_1iyG",
        "colab_type": "code",
        "colab": {
          "base_uri": "https://localhost:8080/",
          "height": 34
        },
        "outputId": "ed70fa25-ad5e-47cc-a0c7-8202b36612c4"
      },
      "source": [
        "append_config = \"\"\"\n",
        "\n",
        "[compat]\n",
        "Example = \"0.3\"\n",
        "\"\"\"\n",
        "\n",
        "open(f->write(f, append_config), \"my_project/Project.toml\", \"a\")"
      ],
      "execution_count": null,
      "outputs": [
        {
          "output_type": "execute_result",
          "data": {
            "text/plain": [
              "26"
            ]
          },
          "metadata": {
            "tags": []
          },
          "execution_count": 338
        }
      ]
    },
    {
      "cell_type": "markdown",
      "metadata": {
        "id": "BD4rgzAT2GGs",
        "colab_type": "text"
      },
      "source": [
        "Here is the updated `Project.toml` file:"
      ]
    },
    {
      "cell_type": "code",
      "metadata": {
        "id": "XNAC8q0H17mI",
        "colab_type": "code",
        "colab": {
          "base_uri": "https://localhost:8080/",
          "height": 119
        },
        "outputId": "71619ffc-76d4-47a4-9b51-de4754dece62"
      },
      "source": [
        "print(read(\"my_project/Project.toml\", String))"
      ],
      "execution_count": null,
      "outputs": [
        {
          "output_type": "stream",
          "text": [
            "[deps]\n",
            "Example = \"7876af07-990d-54b4-ab0e-23690620f79a\"\n",
            "PyCall = \"438e738f-606a-5dbb-bf0a-cddfbfd45ab0\"\n",
            "\n",
            "[compat]\n",
            "Example = \"0.3\"\n"
          ],
          "name": "stdout"
        }
      ]
    },
    {
      "cell_type": "markdown",
      "metadata": {
        "id": "VyWAJoEq6GZs",
        "colab_type": "text"
      },
      "source": [
        "Now if we try to replace `Example` 0.3 with version 0.2, we get an error:"
      ]
    },
    {
      "cell_type": "code",
      "metadata": {
        "id": "qgBa7Y0x6NUm",
        "colab_type": "code",
        "colab": {
          "base_uri": "https://localhost:8080/",
          "height": 51
        },
        "outputId": "b044fd4b-23c3-496e-eb46-b858f3b1c166"
      },
      "source": [
        "try\n",
        "    pkg\"add Example@0.2\"\n",
        "catch ex\n",
        "    ex\n",
        "end"
      ],
      "execution_count": null,
      "outputs": [
        {
          "output_type": "stream",
          "text": [
            "\u001b[32m\u001b[1m  Resolving\u001b[22m\u001b[39m package versions...\n"
          ],
          "name": "stderr"
        },
        {
          "output_type": "execute_result",
          "data": {
            "text/plain": [
              "Pkg.Resolve.ResolverError(\"empty intersection between Example@0.2 and project compatibility 0.3\", nothing)"
            ]
          },
          "metadata": {
            "tags": []
          },
          "execution_count": 340
        }
      ]
    },
    {
      "cell_type": "markdown",
      "metadata": {
        "id": "R3zvTUWSH4Sa",
        "colab_type": "text"
      },
      "source": [
        "Now you can run a program based on this project, and it will have the possibility to use all the packages which have been added to this project, with their specific versions. If you import a package which was not explicitly added to this project, Julia will fallback to the default project:"
      ]
    },
    {
      "cell_type": "code",
      "metadata": {
        "id": "XnSjhJSyISzT",
        "colab_type": "code",
        "colab": {
          "base_uri": "https://localhost:8080/",
          "height": 34
        },
        "outputId": "041b2345-ccb7-45a1-be6d-748e379621ef"
      },
      "source": [
        "code = \"\"\"\n",
        "import PyCall # found in the project\n",
        "import PyPlot # not found, so falls back to default project\n",
        "println(\"Success!\")\n",
        "\"\"\"\n",
        "\n",
        "open(f->write(f, code), \"my_program3.jl\", \"w\")"
      ],
      "execution_count": null,
      "outputs": [
        {
          "output_type": "execute_result",
          "data": {
            "text/plain": [
              "117"
            ]
          },
          "metadata": {
            "tags": []
          },
          "execution_count": 341
        }
      ]
    },
    {
      "cell_type": "code",
      "metadata": {
        "id": "eM4yXtogIc5d",
        "colab_type": "code",
        "colab": {
          "base_uri": "https://localhost:8080/",
          "height": 34
        },
        "outputId": "d027d280-69d5-43c0-bb57-16fed6c64473"
      },
      "source": [
        ";julia --project=my_project my_program3.jl"
      ],
      "execution_count": null,
      "outputs": [
        {
          "output_type": "stream",
          "text": [
            "Success!\n"
          ],
          "name": "stdout"
        }
      ]
    },
    {
      "cell_type": "markdown",
      "metadata": {
        "id": "U3C_z11CDXzJ",
        "colab_type": "text"
      },
      "source": [
        "## Packages\n",
        "Falling back to the default project is fine, as long as you run the code on your own machine, but if you want to share your code with other people, it would be brittle to count on packages installed in _their_ default project. Instead, if you plan to share your code, you should clearly specify which packages it depends on, and use only these packages. Such a shareable project is called a **package**."
      ]
    },
    {
      "cell_type": "markdown",
      "metadata": {
        "id": "7cLqsDTlMRM9",
        "colab_type": "text"
      },
      "source": [
        "A package is a regular project (as defined above), but with a few extras:\n",
        "* the `Project.toml` file must specify a `name`, a `version` and a `uuid`.\n",
        "* there must be a `src/PackageName.jl` file containing a module named `PackageName`.\n",
        "* you generally want to specify the `authors` and `description`, and maybe also the `license`, `repository` (e.g., the package's github URL), and some `keywords`, but all of these are optional.\n",
        "\n",
        "It is very easy to create a new package using the `]generate` command. To define the `authors` field, `Pkg` will look up the `user.name` and `user.email` git config entries, so let's define them before we generate the package:"
      ]
    },
    {
      "cell_type": "code",
      "metadata": {
        "id": "-lrw9Diey5Jw",
        "colab_type": "code",
        "colab": {}
      },
      "source": [
        ";git config --global user.name \"Alice Bob\""
      ],
      "execution_count": null,
      "outputs": []
    },
    {
      "cell_type": "code",
      "metadata": {
        "id": "jHImoacOzHyR",
        "colab_type": "code",
        "colab": {}
      },
      "source": [
        ";git config --global user.email \"alice.bob@example.com\""
      ],
      "execution_count": null,
      "outputs": []
    },
    {
      "cell_type": "code",
      "metadata": {
        "id": "bTw_L-4-ls4H",
        "colab_type": "code",
        "colab": {
          "base_uri": "https://localhost:8080/",
          "height": 68
        },
        "outputId": "2fefa85f-8939-497a-d8cb-1be0415acb60"
      },
      "source": [
        "]generate MyPackages/Hello"
      ],
      "execution_count": null,
      "outputs": [
        {
          "output_type": "stream",
          "text": [
            "\u001b[32m\u001b[1m Generating\u001b[22m\u001b[39m  project Hello:\n",
            "    MyPackages/Hello/Project.toml\n",
            "    MyPackages/Hello/src/Hello.jl\n"
          ],
          "name": "stderr"
        }
      ]
    },
    {
      "cell_type": "markdown",
      "metadata": {
        "id": "_OvnM3tBpW9X",
        "colab_type": "text"
      },
      "source": [
        "This generated the `MyPackages/Hello/Project.toml` file (along with the enclosing directories) and the `MyPackages/Hello/src/Hello.jl` file. Let's take a look at the `Project.toml` file:"
      ]
    },
    {
      "cell_type": "code",
      "metadata": {
        "id": "wQqVtTh5qkhm",
        "colab_type": "code",
        "colab": {
          "base_uri": "https://localhost:8080/",
          "height": 85
        },
        "outputId": "e4c8b732-ccc2-4991-9ee6-0a1aad2a961c"
      },
      "source": [
        "print(read(\"MyPackages/Hello/Project.toml\", String))"
      ],
      "execution_count": null,
      "outputs": [
        {
          "output_type": "stream",
          "text": [
            "name = \"Hello\"\n",
            "uuid = \"af56466f-1913-4e08-986f-df61398f7ceb\"\n",
            "authors = [\"Alice Bob <alice.bob@example.com>\"]\n",
            "version = \"0.1.0\"\n"
          ],
          "name": "stdout"
        }
      ]
    },
    {
      "cell_type": "markdown",
      "metadata": {
        "id": "j1IL7fuyiAtb",
        "colab_type": "text"
      },
      "source": [
        "Notice that the project has no dependencies yet, but it has a name, a unique UUID, and a version (plus an author)."
      ]
    },
    {
      "cell_type": "markdown",
      "metadata": {
        "id": "Pgs4xop1qr1z",
        "colab_type": "text"
      },
      "source": [
        "Note: if `Pkg` does not find a your name or email in the git config, it falls back to environment variables (`GIT_AUTHOR_NAME`, `GIT_COMMITTER_NAME`, `USER`, `USERNAME`, `NAME` and `GIT_AUTHOR_EMAIL`, `GIT_COMMITTER_EMAIL`, `EMAIL`)."
      ]
    },
    {
      "cell_type": "markdown",
      "metadata": {
        "id": "VSyvL2-I0S_t",
        "colab_type": "text"
      },
      "source": [
        "And let's look at the `src/Hello.jl` file:"
      ]
    },
    {
      "cell_type": "code",
      "metadata": {
        "id": "Y4DvJfrC0W_u",
        "colab_type": "code",
        "colab": {
          "base_uri": "https://localhost:8080/",
          "height": 102
        },
        "outputId": "afca0a30-3da7-4337-9b53-2e92ea6863df"
      },
      "source": [
        "print(read(\"MyPackages/Hello/src/Hello.jl\", String))"
      ],
      "execution_count": null,
      "outputs": [
        {
          "output_type": "stream",
          "text": [
            "module Hello\n",
            "\n",
            "greet() = print(\"Hello World!\")\n",
            "\n",
            "end # module\n"
          ],
          "name": "stdout"
        }
      ]
    },
    {
      "cell_type": "markdown",
      "metadata": {
        "id": "6orcK-WH1dv8",
        "colab_type": "text"
      },
      "source": [
        "Let's try to use the `greet()` function from the `Hello` package:"
      ]
    },
    {
      "cell_type": "code",
      "metadata": {
        "id": "9ASQUXed1jR9",
        "colab_type": "code",
        "colab": {
          "base_uri": "https://localhost:8080/",
          "height": 54
        },
        "outputId": "2c8e912f-408d-4535-b129-99d079a415f4"
      },
      "source": [
        "try\n",
        "    import Hello\n",
        "    Hello.greet()\n",
        "catch ex\n",
        "    ex\n",
        "end"
      ],
      "execution_count": null,
      "outputs": [
        {
          "output_type": "execute_result",
          "data": {
            "text/plain": [
              "ArgumentError(\"Package Hello not found in current path:\\n- Run `import Pkg; Pkg.add(\\\"Hello\\\")` to install the Hello package.\\n\")"
            ]
          },
          "metadata": {
            "tags": []
          },
          "execution_count": 348
        }
      ]
    },
    {
      "cell_type": "markdown",
      "metadata": {
        "id": "Ehdlz0d51pRY",
        "colab_type": "text"
      },
      "source": [
        "Julia could not find the `Hello` package. When you're working on a package, don't forget to activate it first!"
      ]
    },
    {
      "cell_type": "code",
      "metadata": {
        "id": "geOkTHsh10es",
        "colab_type": "code",
        "colab": {
          "base_uri": "https://localhost:8080/",
          "height": 34
        },
        "outputId": "fbfe8ef0-d384-4f01-890e-374051a8f96f"
      },
      "source": [
        "]activate MyPackages/Hello"
      ],
      "execution_count": null,
      "outputs": [
        {
          "output_type": "stream",
          "text": [
            "\u001b[32m\u001b[1m Activating\u001b[22m\u001b[39m environment at `/content/MyPackages/Hello/Project.toml`\n"
          ],
          "name": "stderr"
        }
      ]
    },
    {
      "cell_type": "code",
      "metadata": {
        "id": "aN3bg65b137-",
        "colab_type": "code",
        "colab": {
          "base_uri": "https://localhost:8080/",
          "height": 68
        },
        "outputId": "f8b9928e-b9c9-4d08-dd1e-ee751c5e0009"
      },
      "source": [
        "import Hello\n",
        "Hello.greet()"
      ],
      "execution_count": null,
      "outputs": [
        {
          "output_type": "stream",
          "text": [
            "┌ Info: Precompiling Hello [af56466f-1913-4e08-986f-df61398f7ceb]\n",
            "└ @ Base loading.jl:1278\n"
          ],
          "name": "stderr"
        },
        {
          "output_type": "stream",
          "text": [
            "Hello World!"
          ],
          "name": "stdout"
        }
      ]
    },
    {
      "cell_type": "markdown",
      "metadata": {
        "id": "WxXCSYwIE9Eo",
        "colab_type": "text"
      },
      "source": [
        "It works!\n",
        "\n",
        "If the `Hello` package depends on other packages, we must add them:"
      ]
    },
    {
      "cell_type": "code",
      "metadata": {
        "id": "cZfLcJO3-m9D",
        "colab_type": "code",
        "colab": {
          "base_uri": "https://localhost:8080/",
          "height": 493
        },
        "outputId": "cb4d0b64-f2df-4389-edb6-1f09097dadd1"
      },
      "source": [
        "]add PyCall Example"
      ],
      "execution_count": null,
      "outputs": [
        {
          "output_type": "stream",
          "text": [
            "\u001b[32m\u001b[1m  Resolving\u001b[22m\u001b[39m package versions...\n",
            "\u001b[32m\u001b[1m  Installed\u001b[22m\u001b[39m Example ─ v0.5.3\n",
            "\u001b[32m\u001b[1mUpdating\u001b[22m\u001b[39m `/content/MyPackages/Hello/Project.toml`\n",
            " \u001b[90m [7876af07] \u001b[39m\u001b[92m+ Example v0.5.3\u001b[39m\n",
            " \u001b[90m [438e738f] \u001b[39m\u001b[92m+ PyCall v1.91.4\u001b[39m\n",
            "\u001b[32m\u001b[1mUpdating\u001b[22m\u001b[39m `/content/MyPackages/Hello/Manifest.toml`\n",
            " \u001b[90m [8f4d0f93] \u001b[39m\u001b[92m+ Conda v1.4.1\u001b[39m\n",
            " \u001b[90m [7876af07] \u001b[39m\u001b[92m+ Example v0.5.3\u001b[39m\n",
            " \u001b[90m [682c06a0] \u001b[39m\u001b[92m+ JSON v0.21.0\u001b[39m\n",
            " \u001b[90m [1914dd2f] \u001b[39m\u001b[92m+ MacroTools v0.5.5\u001b[39m\n",
            " \u001b[90m [69de0a69] \u001b[39m\u001b[92m+ Parsers v1.0.6\u001b[39m\n",
            " \u001b[90m [438e738f] \u001b[39m\u001b[92m+ PyCall v1.91.4\u001b[39m\n",
            " \u001b[90m [81def892] \u001b[39m\u001b[92m+ VersionParsing v1.2.0\u001b[39m\n",
            " \u001b[90m [2a0f44e3] \u001b[39m\u001b[92m+ Base64\u001b[39m\n",
            " \u001b[90m [ade2ca70] \u001b[39m\u001b[92m+ Dates\u001b[39m\n",
            " \u001b[90m [8ba89e20] \u001b[39m\u001b[92m+ Distributed\u001b[39m\n",
            " \u001b[90m [b77e0a4c] \u001b[39m\u001b[92m+ InteractiveUtils\u001b[39m\n",
            " \u001b[90m [8f399da3] \u001b[39m\u001b[92m+ Libdl\u001b[39m\n",
            " \u001b[90m [37e2e46d] \u001b[39m\u001b[92m+ LinearAlgebra\u001b[39m\n",
            " \u001b[90m [56ddb016] \u001b[39m\u001b[92m+ Logging\u001b[39m\n",
            " \u001b[90m [d6f4376e] \u001b[39m\u001b[92m+ Markdown\u001b[39m\n",
            " \u001b[90m [a63ad114] \u001b[39m\u001b[92m+ Mmap\u001b[39m\n",
            " \u001b[90m [de0858da] \u001b[39m\u001b[92m+ Printf\u001b[39m\n",
            " \u001b[90m [9a3f8284] \u001b[39m\u001b[92m+ Random\u001b[39m\n",
            " \u001b[90m [9e88b42a] \u001b[39m\u001b[92m+ Serialization\u001b[39m\n",
            " \u001b[90m [6462fe0b] \u001b[39m\u001b[92m+ Sockets\u001b[39m\n",
            " \u001b[90m [8dfed614] \u001b[39m\u001b[92m+ Test\u001b[39m\n",
            " \u001b[90m [4ec0a83e] \u001b[39m\u001b[92m+ Unicode\u001b[39m\n"
          ],
          "name": "stderr"
        }
      ]
    },
    {
      "cell_type": "markdown",
      "metadata": {
        "id": "IcipxHQW91lp",
        "colab_type": "text"
      },
      "source": [
        "You must not use any package which has not been added to the project. If you do, you will get a warning."
      ]
    },
    {
      "cell_type": "markdown",
      "metadata": {
        "id": "9MyUldzLAFZn",
        "colab_type": "text"
      },
      "source": [
        "Once you are happy with your package, you can deploy it to github (or anywhere else). Then you can add it to your own projects just like any other package.\n",
        "\n",
        "If you want to make your package available to the world via the official Julia registry, you just need to send a Pull Request to https://github.com/JuliaRegistries/General. However, it's highly recommended to automate this using the [Registrator.jl](https://github.com/JuliaRegistries/Registrator.jl) github app.\n",
        "\n",
        "If you want to use other registries (including private registries), check out [this page](https://julialang.github.io/Pkg.jl/v1.4/registries/#)."
      ]
    },
    {
      "cell_type": "markdown",
      "metadata": {
        "id": "nNd3-22NIkfB",
        "colab_type": "text"
      },
      "source": [
        "Also check out the [`PkgTemplate`](https://github.com/invenia/PkgTemplates.jl) package, which provides more sophisticated templates for creating new packages, for example with continuous integration, code coverage tests, etc."
      ]
    },
    {
      "cell_type": "markdown",
      "metadata": {
        "id": "NeVc0WCoJ_yl",
        "colab_type": "text"
      },
      "source": [
        "## Fixing Issues in a Dependency\n",
        "Sometimes you may run into an issue inside one of the packages your project depends on. When this happens, you can use `Pkg`'s `dev` command to fix the issue. For example, let's pretend the `Example` package has a bug:"
      ]
    },
    {
      "cell_type": "code",
      "metadata": {
        "id": "HwIRORxQKcxn",
        "colab_type": "code",
        "colab": {
          "base_uri": "https://localhost:8080/",
          "height": 119
        },
        "outputId": "c524ecd4-6ec3-4dfb-d795-909a0e694c77"
      },
      "source": [
        "]dev Example"
      ],
      "execution_count": null,
      "outputs": [
        {
          "output_type": "stream",
          "text": [
            "\u001b[?25l    "
          ],
          "name": "stdout"
        },
        {
          "output_type": "stream",
          "text": [
            "\u001b[32m\u001b[1m    Cloning\u001b[22m\u001b[39m git-repo `https://github.com/JuliaLang/Example.jl.git`\n"
          ],
          "name": "stderr"
        },
        {
          "output_type": "stream",
          "text": [
            "\u001b[2K\u001b[?25h"
          ],
          "name": "stdout"
        },
        {
          "output_type": "stream",
          "text": [
            "\u001b[32m\u001b[1m  Resolving\u001b[22m\u001b[39m package versions...\n",
            "\u001b[32m\u001b[1mUpdating\u001b[22m\u001b[39m `/content/MyPackages/Hello/Project.toml`\n",
            " \u001b[90m [7876af07] \u001b[39m\u001b[93m~ Example v0.5.3 ⇒ v0.5.4 `~/.julia/dev/Example`\u001b[39m\n",
            "\u001b[32m\u001b[1mUpdating\u001b[22m\u001b[39m `/content/MyPackages/Hello/Manifest.toml`\n",
            " \u001b[90m [7876af07] \u001b[39m\u001b[93m~ Example v0.5.3 ⇒ v0.5.4 `~/.julia/dev/Example`\u001b[39m\n"
          ],
          "name": "stderr"
        }
      ]
    },
    {
      "cell_type": "markdown",
      "metadata": {
        "id": "7e63oY5HKgVD",
        "colab_type": "text"
      },
      "source": [
        "This command cloned the repo into `~/.julia/dev/Example`:"
      ]
    },
    {
      "cell_type": "code",
      "metadata": {
        "id": "WV77BYAPK-ff",
        "colab_type": "code",
        "colab": {
          "base_uri": "https://localhost:8080/",
          "height": 51
        },
        "outputId": "9fab0bea-4022-47ec-95c3-36db31a3c7e5"
      },
      "source": [
        ";ls -l \"~/.julia/dev\""
      ],
      "execution_count": null,
      "outputs": [
        {
          "output_type": "stream",
          "text": [
            "total 4\n",
            "drwxr-xr-x 7 root root 4096 Jun 29 11:07 Example\n"
          ],
          "name": "stdout"
        }
      ]
    },
    {
      "cell_type": "markdown",
      "metadata": {
        "id": "pB4nAoM2MmlI",
        "colab_type": "text"
      },
      "source": [
        "It also updated the `Hello` package's `Manifest.toml` file to ensure the package now uses the `Example` clone. You can see this using `]status`:"
      ]
    },
    {
      "cell_type": "code",
      "metadata": {
        "id": "UldZNewDMYaf",
        "colab_type": "code",
        "colab": {
          "base_uri": "https://localhost:8080/",
          "height": 85
        },
        "outputId": "f998eff3-34bc-40ed-cf3d-54bdc3da0526"
      },
      "source": [
        "]st"
      ],
      "execution_count": null,
      "outputs": [
        {
          "output_type": "stream",
          "text": [
            "\u001b[36m\u001b[1mProject \u001b[22m\u001b[39mHello v0.1.0\n",
            "\u001b[32m\u001b[1mStatus\u001b[22m\u001b[39m `/content/MyPackages/Hello/Project.toml`\n",
            " \u001b[90m [7876af07] \u001b[39m\u001b[37mExample v0.5.4 `~/.julia/dev/Example`\u001b[39m\n",
            " \u001b[90m [438e738f] \u001b[39m\u001b[37mPyCall v1.91.4\u001b[39m\n"
          ],
          "name": "stdout"
        }
      ]
    },
    {
      "cell_type": "markdown",
      "metadata": {
        "id": "OY080wXKK85W",
        "colab_type": "text"
      },
      "source": [
        "So you would now go ahead and edit the clone and fix the bug. Of course, you would also want to send a PR to the package's owners so the source package gets fixed. Once that happens, you can go back to the official `Example` package easily:"
      ]
    },
    {
      "cell_type": "code",
      "metadata": {
        "id": "6Ju_ehk6K4fi",
        "colab_type": "code",
        "colab": {
          "base_uri": "https://localhost:8080/",
          "height": 102
        },
        "outputId": "32ede8ef-4811-4448-f8ec-562b93c46f60"
      },
      "source": [
        "]free Example"
      ],
      "execution_count": null,
      "outputs": [
        {
          "output_type": "stream",
          "text": [
            "\u001b[32m\u001b[1m  Resolving\u001b[22m\u001b[39m package versions...\n",
            "\u001b[32m\u001b[1mUpdating\u001b[22m\u001b[39m `/content/MyPackages/Hello/Project.toml`\n",
            " \u001b[90m [7876af07] \u001b[39m\u001b[93m~ Example v0.5.4 `~/.julia/dev/Example` ⇒ v0.5.3\u001b[39m\n",
            "\u001b[32m\u001b[1mUpdating\u001b[22m\u001b[39m `/content/MyPackages/Hello/Manifest.toml`\n",
            " \u001b[90m [7876af07] \u001b[39m\u001b[93m~ Example v0.5.4 `~/.julia/dev/Example` ⇒ v0.5.3\u001b[39m\n"
          ],
          "name": "stderr"
        }
      ]
    },
    {
      "cell_type": "code",
      "metadata": {
        "id": "gZNtvkp0NdQt",
        "colab_type": "code",
        "colab": {
          "base_uri": "https://localhost:8080/",
          "height": 85
        },
        "outputId": "e02860db-49c9-48ca-bf1a-4bb9e0280eea"
      },
      "source": [
        "]st"
      ],
      "execution_count": null,
      "outputs": [
        {
          "output_type": "stream",
          "text": [
            "\u001b[36m\u001b[1mProject \u001b[22m\u001b[39mHello v0.1.0\n",
            "\u001b[32m\u001b[1mStatus\u001b[22m\u001b[39m `/content/MyPackages/Hello/Project.toml`\n",
            " \u001b[90m [7876af07] \u001b[39m\u001b[37mExample v0.5.3\u001b[39m\n",
            " \u001b[90m [438e738f] \u001b[39m\u001b[37mPyCall v1.91.4\u001b[39m\n"
          ],
          "name": "stdout"
        }
      ]
    },
    {
      "cell_type": "markdown",
      "metadata": {
        "id": "bjk0y4x4X3OC",
        "colab_type": "text"
      },
      "source": [
        "## Instantiating a Project\n",
        "If you want to run someone else's project and you want to make sure you are using the exact same package versions, you can clone the project, and assuming it has a `Manifest.toml` file, you can activate the project and run `]instantiate` to install all the appropriate packages. For example, let's instantiate the `Registrator.jl` project:"
      ]
    },
    {
      "cell_type": "code",
      "metadata": {
        "id": "ukq2x0oKYUzv",
        "colab_type": "code",
        "colab": {
          "base_uri": "https://localhost:8080/",
          "height": 34
        },
        "outputId": "e12fa76c-c980-4ba4-f5ca-8a68fa765c38"
      },
      "source": [
        ";git clone https://github.com/JuliaRegistries/Registrator.jl"
      ],
      "execution_count": null,
      "outputs": [
        {
          "output_type": "stream",
          "text": [
            "Cloning into 'Registrator.jl'...\n"
          ],
          "name": "stderr"
        }
      ]
    },
    {
      "cell_type": "code",
      "metadata": {
        "id": "eP8xWq-lYqIe",
        "colab_type": "code",
        "colab": {
          "base_uri": "https://localhost:8080/",
          "height": 34
        },
        "outputId": "618329ff-b9e3-48f6-f49f-58cb3fb15249"
      },
      "source": [
        "]activate Registrator.jl"
      ],
      "execution_count": null,
      "outputs": [
        {
          "output_type": "stream",
          "text": [
            "\u001b[32m\u001b[1m Activating\u001b[22m\u001b[39m environment at `/content/Registrator.jl/Project.toml`\n"
          ],
          "name": "stderr"
        }
      ]
    },
    {
      "cell_type": "code",
      "metadata": {
        "id": "mWTuYYjPYtRV",
        "colab_type": "code",
        "colab": {
          "base_uri": "https://localhost:8080/",
          "height": 459
        },
        "outputId": "243e5b57-4f2c-4d3f-fed6-5bebe9a033b2"
      },
      "source": [
        "]instantiate"
      ],
      "execution_count": null,
      "outputs": [
        {
          "output_type": "stream",
          "text": [
            "\u001b[32m\u001b[1m  Installed\u001b[22m\u001b[39m IteratorInterfaceExtensions ─ v1.0.0\n",
            "\u001b[32m\u001b[1m  Installed\u001b[22m\u001b[39m Hiccup ────────────────────── v0.2.2\n",
            "\u001b[32m\u001b[1m  Installed\u001b[22m\u001b[39m Mustache ──────────────────── v1.0.2\n",
            "\u001b[32m\u001b[1m  Installed\u001b[22m\u001b[39m DataAPI ───────────────────── v1.2.0\n",
            "\u001b[32m\u001b[1m  Installed\u001b[22m\u001b[39m JSON2 ─────────────────────── v0.3.1\n",
            "\u001b[32m\u001b[1m  Installed\u001b[22m\u001b[39m Parsers ───────────────────── v1.0.2\n",
            "\u001b[32m\u001b[1m  Installed\u001b[22m\u001b[39m Tables ────────────────────── v1.0.4\n",
            "\u001b[32m\u001b[1m  Installed\u001b[22m\u001b[39m GitForge ──────────────────── v0.1.5\n",
            "\u001b[32m\u001b[1m  Installed\u001b[22m\u001b[39m DataValueInterfaces ───────── v1.0.0\n",
            "\u001b[32m\u001b[1m  Installed\u001b[22m\u001b[39m TimeToLive ────────────────── v0.3.0\n",
            "\u001b[32m\u001b[1m  Installed\u001b[22m\u001b[39m ZMQ ───────────────────────── v1.2.0\n",
            "\u001b[32m\u001b[1m  Installed\u001b[22m\u001b[39m Lazy ──────────────────────── v0.14.0\n",
            "\u001b[32m\u001b[1m  Installed\u001b[22m\u001b[39m Mux ───────────────────────── v0.7.1\n",
            "\u001b[32m\u001b[1m  Installed\u001b[22m\u001b[39m Pidfile ───────────────────── v1.1.0\n",
            "\u001b[32m\u001b[1m  Installed\u001b[22m\u001b[39m RegistryTools ─────────────── v1.5.0\n",
            "\u001b[32m\u001b[1m  Installed\u001b[22m\u001b[39m MbedTLS_jll ───────────────── v2.16.0+2\n",
            "\u001b[32m\u001b[1m  Installed\u001b[22m\u001b[39m HTTP ──────────────────────── v0.8.14\n",
            "\u001b[32m\u001b[1m  Installed\u001b[22m\u001b[39m ZeroMQ_jll ────────────────── v4.3.2+2\n",
            "\u001b[32m\u001b[1m  Installed\u001b[22m\u001b[39m IniFile ───────────────────── v0.5.0\n",
            "\u001b[32m\u001b[1m  Installed\u001b[22m\u001b[39m GitHub ────────────────────── v5.1.5\n",
            "\u001b[32m\u001b[1m  Installed\u001b[22m\u001b[39m TableTraits ───────────────── v1.0.0\n",
            "\u001b[32m\u001b[1m  Installed\u001b[22m\u001b[39m AutoHashEquals ────────────── v0.2.0\n",
            "\u001b[32m\u001b[1m  Installed\u001b[22m\u001b[39m AssetRegistry ─────────────── v0.1.0\n",
            "\u001b[32m\u001b[1m  Installed\u001b[22m\u001b[39m WebSockets ────────────────── v1.5.2\n",
            "######################################################################### 100.0%\n",
            "######################################################################### 100.0%\n"
          ],
          "name": "stderr"
        }
      ]
    },
    {
      "cell_type": "markdown",
      "metadata": {
        "id": "UoMg99bTtFDp",
        "colab_type": "text"
      },
      "source": [
        "Usually, that's all you need to know about projects and packages, but let's look at bit under the hood, so you can handle less common cases."
      ]
    },
    {
      "cell_type": "markdown",
      "metadata": {
        "id": "V8Y6A_IuepPI",
        "colab_type": "text"
      },
      "source": [
        "## Load Path\n",
        "When you import a package, Julia searches for it in the environments listed in the `LOAD_PATH` array. An **environment** can be a project or a directory containing a bunch of packages directly. By default, the `LOAD_PATH` array contains three elements:"
      ]
    },
    {
      "cell_type": "code",
      "metadata": {
        "id": "wpSWi2epgdpk",
        "colab_type": "code",
        "colab": {
          "base_uri": "https://localhost:8080/",
          "height": 85
        },
        "outputId": "92511911-476d-4080-bbc4-5df62bec8aba"
      },
      "source": [
        "LOAD_PATH"
      ],
      "execution_count": null,
      "outputs": [
        {
          "output_type": "execute_result",
          "data": {
            "text/plain": [
              "3-element Array{String,1}:\n",
              " \"@\"\n",
              " \"@v#.#\"\n",
              " \"@stdlib\""
            ]
          },
          "metadata": {
            "tags": []
          },
          "execution_count": 360
        }
      ]
    },
    {
      "cell_type": "markdown",
      "metadata": {
        "id": "hH-S7BL9iuN4",
        "colab_type": "text"
      },
      "source": [
        "Here's what these elements mean:\n",
        "* `\"@\"` represents the active project, if any: that's the project activated via `--project`, `JULIA_PROJECT`, `]activate` or `Pkg.activate()`.\n",
        "* `\"@v#.#\"` represents the default shared project for the version of Julia we are running. That's why it is used by default when there is no active project.\n",
        "* `\"@stdlib\"` represents the standard library. This is not a project: it's a directory containing many packages."
      ]
    },
    {
      "cell_type": "markdown",
      "metadata": {
        "id": "QHbG_HsOP8O7",
        "colab_type": "text"
      },
      "source": [
        "If you want to see the actual paths, you can call `Base.load_path()`:"
      ]
    },
    {
      "cell_type": "code",
      "metadata": {
        "id": "oGya8XxwQDJz",
        "colab_type": "code",
        "colab": {
          "base_uri": "https://localhost:8080/",
          "height": 85
        },
        "outputId": "52d932a7-e44f-4262-f5d2-ec9ce7e42c64"
      },
      "source": [
        "Base.load_path()"
      ],
      "execution_count": null,
      "outputs": [
        {
          "output_type": "execute_result",
          "data": {
            "text/plain": [
              "3-element Array{String,1}:\n",
              " \"/content/Registrator.jl/Project.toml\"\n",
              " \"/root/.julia/environments/v1.5/Project.toml\"\n",
              " \"/usr/local/share/julia/stdlib/v1.5\""
            ]
          },
          "metadata": {
            "tags": []
          },
          "execution_count": 361
        }
      ]
    },
    {
      "cell_type": "markdown",
      "metadata": {
        "id": "ZaIw9vRxLVVt",
        "colab_type": "text"
      },
      "source": [
        "You can change the load path if you want to. For example, if you want Julia to look only in the active project and in the standard library, without looking in the default project, then you can set the `JULIA_LOAD_PATH` environment variable to `\"@:@stdlib\"`."
      ]
    },
    {
      "cell_type": "markdown",
      "metadata": {
        "id": "8EScSOrdb3ha",
        "colab_type": "text"
      },
      "source": [
        "If you try to run `my_program3.jl` this way, it will successfully import `PyCall`, but it will fail to import `PyPlot`, since it is not listed in `Project.toml` (however, it would successfully import any package from the standard library):"
      ]
    },
    {
      "cell_type": "code",
      "metadata": {
        "id": "sN2NunpdLgKR",
        "colab_type": "code",
        "colab": {
          "base_uri": "https://localhost:8080/",
          "height": 204
        },
        "outputId": "b65b7d74-dcdc-4b90-cb5d-55e1a18938bc"
      },
      "source": [
        "try\n",
        "    withenv(\"JULIA_LOAD_PATH\"=>\"@:@stdlib\") do\n",
        "        run(`julia --project=my_project my_program3.jl`)\n",
        "    end\n",
        "catch ex\n",
        "    ex\n",
        "end"
      ],
      "execution_count": null,
      "outputs": [
        {
          "output_type": "stream",
          "text": [
            "ERROR: LoadError: ArgumentError: Package PyPlot not found in current path:\n",
            "- Run `import Pkg; Pkg.add(\"PyPlot\")` to install the PyPlot package.\n",
            "\n",
            "Stacktrace:\n",
            " [1] require(::Module, ::Symbol) at ./loading.jl:893\n",
            " [2] include(::Function, ::Module, ::String) at ./Base.jl:380\n",
            " [3] include(::Module, ::String) at ./Base.jl:368\n",
            " [4] exec_options(::Base.JLOptions) at ./client.jl:296\n",
            " [5] _start() at ./client.jl:506\n",
            "in expression starting at /content/my_program3.jl:2\n"
          ],
          "name": "stderr"
        },
        {
          "output_type": "execute_result",
          "data": {
            "text/plain": [
              "ProcessFailedException(Base.Process[Process(`\u001b[4mjulia\u001b[24m \u001b[4m--project=my_project\u001b[24m \u001b[4mmy_program3.jl\u001b[24m`, ProcessExited(1))])"
            ]
          },
          "metadata": {
            "tags": []
          },
          "execution_count": 362
        }
      ]
    },
    {
      "cell_type": "markdown",
      "metadata": {
        "id": "FrLpiVS2UG9S",
        "colab_type": "text"
      },
      "source": [
        "You can also modify the `LOAD_PATH` array programmatically, for example to make all the packages in the `my_packages/` directory available to the project:"
      ]
    },
    {
      "cell_type": "code",
      "metadata": {
        "id": "8kGSkqsVULfC",
        "colab_type": "code",
        "colab": {
          "base_uri": "https://localhost:8080/",
          "height": 102
        },
        "outputId": "85f54947-6259-42fa-b2c9-be92c7357760"
      },
      "source": [
        "push!(LOAD_PATH, \"my_packages\")"
      ],
      "execution_count": null,
      "outputs": [
        {
          "output_type": "execute_result",
          "data": {
            "text/plain": [
              "4-element Array{String,1}:\n",
              " \"@\"\n",
              " \"@v#.#\"\n",
              " \"@stdlib\"\n",
              " \"my_packages\""
            ]
          },
          "metadata": {
            "tags": []
          },
          "execution_count": 363
        }
      ]
    },
    {
      "cell_type": "markdown",
      "metadata": {
        "id": "1_fpeCNoRARJ",
        "colab_type": "text"
      },
      "source": [
        "Now any package added to this directory will be directly available to us:"
      ]
    },
    {
      "cell_type": "code",
      "metadata": {
        "id": "3C42rrfKQ01y",
        "colab_type": "code",
        "colab": {
          "base_uri": "https://localhost:8080/",
          "height": 68
        },
        "outputId": "2f7e8d22-63ce-4bb5-e2fa-e65f3c74f598"
      },
      "source": [
        "]generate my_packages/Hello2"
      ],
      "execution_count": null,
      "outputs": [
        {
          "output_type": "stream",
          "text": [
            "\u001b[32m\u001b[1m Generating\u001b[22m\u001b[39m  project Hello2:\n",
            "    my_packages/Hello2/Project.toml\n",
            "    my_packages/Hello2/src/Hello2.jl\n"
          ],
          "name": "stderr"
        }
      ]
    },
    {
      "cell_type": "code",
      "metadata": {
        "id": "ClgC-rhWQ9XP",
        "colab_type": "code",
        "colab": {
          "base_uri": "https://localhost:8080/",
          "height": 68
        },
        "outputId": "130994f5-85dd-476a-be41-4ec4e636170e"
      },
      "source": [
        "using Hello2\n",
        "Hello2.greet()"
      ],
      "execution_count": null,
      "outputs": [
        {
          "output_type": "stream",
          "text": [
            "┌ Info: Precompiling Hello2 [e93599c0-5e35-43cf-bd09-67148cbd0395]\n",
            "└ @ Base loading.jl:1278\n"
          ],
          "name": "stderr"
        },
        {
          "output_type": "stream",
          "text": [
            "Hello World!"
          ],
          "name": "stdout"
        }
      ]
    },
    {
      "cell_type": "markdown",
      "metadata": {
        "id": "-kkX-WKARP0l",
        "colab_type": "text"
      },
      "source": [
        "This is a convenience for development, as we didn't have to push this package to a repository or even add it to the project. However, it's just for development: once you're happy with your package, make sure to push it to a repo, and add it to the project normally."
      ]
    },
    {
      "cell_type": "markdown",
      "metadata": {
        "id": "C1V5pYziAzWG",
        "colab_type": "text"
      },
      "source": [
        "## Depots\n",
        "As we saw earlier, new packages you add to a project are placed in the `~/.julia/packages` directory, logs are placed in `~/.julia/logs`, and so on.\n",
        "\n",
        "A directory like `~/.julia` which contains `Pkg` related content is called a **depot**. Julia installs all new packages in the default depot, which is the first directory in the `DEPOT_PATH` array (this array can be modified manually in Julia, or set via the `JULIA_DEPOT_PATH` environment variable):"
      ]
    },
    {
      "cell_type": "code",
      "metadata": {
        "id": "r4y3Uarp-VXi",
        "colab_type": "code",
        "colab": {
          "base_uri": "https://localhost:8080/",
          "height": 85
        },
        "outputId": "ca7d2c2e-9357-4645-9e33-bbfcb3660975"
      },
      "source": [
        "DEPOT_PATH"
      ],
      "execution_count": null,
      "outputs": [
        {
          "output_type": "execute_result",
          "data": {
            "text/plain": [
              "3-element Array{String,1}:\n",
              " \"/root/.julia\"\n",
              " \"/usr/local/local/share/julia\"\n",
              " \"/usr/local/share/julia\""
            ]
          },
          "metadata": {
            "tags": []
          },
          "execution_count": 366
        }
      ]
    },
    {
      "cell_type": "markdown",
      "metadata": {
        "id": "pg_JLf9R-geB",
        "colab_type": "text"
      },
      "source": [
        "The default depot needs to be writeable for the current user, since that's where new packages will be written to (as well as logs and other stuff). The other depots can be read-only: they're typically used for private package registries."
      ]
    },
    {
      "cell_type": "markdown",
      "metadata": {
        "id": "lAJBZg_RXUqj",
        "colab_type": "text"
      },
      "source": [
        "You can occasionally run the `]gc` command, which will remove all unused package versions (`Pkg` will use the logs to located existing projects)."
      ]
    },
    {
      "cell_type": "markdown",
      "metadata": {
        "id": "1uhHgsN2WUG_",
        "colab_type": "text"
      },
      "source": [
        "In summary: when some code runs `using Foo` or `import Foo`, the `LOAD_PATH` is used to determine _which_ specific package `Foo` refers to, while the `DEPOT_PATH` is used to determine _where_ it is. The exception is when the `LOAD_PATH` contains directories which directly contain packages: for these packages, the `DEPOT_PATH` is not used."
      ]
    },
    {
      "cell_type": "markdown",
      "metadata": {
        "id": "jgeH4A06IIX4",
        "colab_type": "text"
      },
      "source": [
        "# Parallel Computing\n",
        "Julia supports coroutines (aka green threads), multithreading (without a [GIL](https://en.wikipedia.org/wiki/Global_interpreter_lock#:~:text=A%20global%20interpreter%20lock%20(GIL,on%20a%20multi%2Dcore%20processor.) like CPython!), multiprocessing and distributed computing."
      ]
    },
    {
      "cell_type": "markdown",
      "metadata": {
        "id": "oVCHhzbYFUv5",
        "colab_type": "text"
      },
      "source": [
        "## Coroutines\n",
        "Let's go back to the `fibonacci()` generator function:"
      ]
    },
    {
      "cell_type": "code",
      "metadata": {
        "id": "LHQ6czbxItEw",
        "colab_type": "code",
        "colab": {
          "base_uri": "https://localhost:8080/",
          "height": 187
        },
        "outputId": "07dd8887-28d9-494a-cada-b033d419ec8f"
      },
      "source": [
        "function fibonacci(n)\n",
        "    Channel() do ch\n",
        "        a, b = 1, 1\n",
        "        for i in 1:n\n",
        "            put!(ch, a)\n",
        "            a, b = b, a + b\n",
        "        end\n",
        "    end\n",
        "end\n",
        "\n",
        "for f in fibonacci(10)\n",
        "    println(f)\n",
        "end"
      ],
      "execution_count": null,
      "outputs": [
        {
          "output_type": "stream",
          "text": [
            "1\n",
            "1\n",
            "2\n",
            "3\n",
            "5\n",
            "8\n",
            "13\n",
            "21\n",
            "34\n",
            "55\n"
          ],
          "name": "stdout"
        }
      ]
    },
    {
      "cell_type": "markdown",
      "metadata": {
        "id": "mgDS2AjiVljr",
        "colab_type": "text"
      },
      "source": [
        "Under the hood, `Channel() do ... end` creates a `Channel` object, and spawns an asynchronous `Task` to execute the code in the `do ... end` block. The task is scheduled to execute immediately, but when it calls the `put!()` function on the channel to yield a value, it blocks until another task calls the `take!()` function to grab that value. You do not see the `take!()` function explicitly in this code example, since it is executed automatically in the `for` loop, in the main task. To demonstrate this, we can just call the `take!()` function 10 times to get all the items from the channel:"
      ]
    },
    {
      "cell_type": "code",
      "metadata": {
        "id": "-tff7DpqbK-J",
        "colab_type": "code",
        "colab": {
          "base_uri": "https://localhost:8080/",
          "height": 187
        },
        "outputId": "3f8c8dee-aa61-48a1-cb75-1d6b08abd248"
      },
      "source": [
        "ch = fibonacci(10)\n",
        "for i in 1:10\n",
        "    println(take!(ch))\n",
        "end"
      ],
      "execution_count": null,
      "outputs": [
        {
          "output_type": "stream",
          "text": [
            "1\n",
            "1\n",
            "2\n",
            "3\n",
            "5\n",
            "8\n",
            "13\n",
            "21\n",
            "34\n",
            "55\n"
          ],
          "name": "stdout"
        }
      ]
    },
    {
      "cell_type": "markdown",
      "metadata": {
        "id": "pUZjr1wHdc5y",
        "colab_type": "text"
      },
      "source": [
        "This channel is bound to the task, therefore it is automatically closed when the task ends. So if we try to get one more element, we will get an exception:"
      ]
    },
    {
      "cell_type": "code",
      "metadata": {
        "id": "9eJjrbrHdU33",
        "colab_type": "code",
        "colab": {
          "base_uri": "https://localhost:8080/",
          "height": 34
        },
        "outputId": "578b3b16-36ca-43a9-f2aa-1b696c233df5"
      },
      "source": [
        "try\n",
        "    take!(ch)\n",
        "catch ex\n",
        "    ex\n",
        "end"
      ],
      "execution_count": null,
      "outputs": [
        {
          "output_type": "execute_result",
          "data": {
            "text/plain": [
              "InvalidStateException(\"Channel is closed.\", :closed)"
            ]
          },
          "metadata": {
            "tags": []
          },
          "execution_count": 369
        }
      ]
    },
    {
      "cell_type": "markdown",
      "metadata": {
        "id": "VLvvfxZznXps",
        "colab_type": "text"
      },
      "source": [
        "Here is a more explicit version of the `fibonacci()` function:"
      ]
    },
    {
      "cell_type": "code",
      "metadata": {
        "id": "FSP1vZjheZDJ",
        "colab_type": "code",
        "colab": {
          "base_uri": "https://localhost:8080/",
          "height": 34
        },
        "outputId": "a43c7ba2-6623-49b3-c5ca-455f5880cf13"
      },
      "source": [
        "function fibonacci(n)\n",
        "  function generator_func(ch, n)\n",
        "    a, b = 1, 1\n",
        "    for i in 1:n\n",
        "        put!(ch, a)\n",
        "        a, b = b, a + b\n",
        "    end\n",
        "  end\n",
        "  ch = Channel()\n",
        "  task = @task generator_func(ch, n) # creates a task without starting it\n",
        "  bind(ch, task) # the channel will be closed when the task ends\n",
        "  schedule(task) # start running the task asynchronously\n",
        "  ch\n",
        "end"
      ],
      "execution_count": null,
      "outputs": [
        {
          "output_type": "execute_result",
          "data": {
            "text/plain": [
              "fibonacci (generic function with 1 method)"
            ]
          },
          "metadata": {
            "tags": []
          },
          "execution_count": 370
        }
      ]
    },
    {
      "cell_type": "markdown",
      "metadata": {
        "id": "-KnzQbUGonIJ",
        "colab_type": "text"
      },
      "source": [
        "And here is a more explicit version of the `for` loop:"
      ]
    },
    {
      "cell_type": "code",
      "metadata": {
        "id": "ir3FUJAEoD5j",
        "colab_type": "code",
        "colab": {
          "base_uri": "https://localhost:8080/",
          "height": 187
        },
        "outputId": "9a65723e-55a9-406e-c540-af978cfc7704"
      },
      "source": [
        "ch = fibonacci(10)\n",
        "while isopen(ch)\n",
        "  value = take!(ch)\n",
        "  println(value)\n",
        "end"
      ],
      "execution_count": null,
      "outputs": [
        {
          "output_type": "stream",
          "text": [
            "1\n",
            "1\n",
            "2\n",
            "3\n",
            "5\n",
            "8\n",
            "13\n",
            "21\n",
            "34\n",
            "55\n"
          ],
          "name": "stdout"
        }
      ]
    },
    {
      "cell_type": "markdown",
      "metadata": {
        "id": "YTwMO7gxpCSa",
        "colab_type": "text"
      },
      "source": [
        "Note that asynchronous tasks (also called \"coroutines\" or \"green threads\") are not actually run in parallel: they cooperate to alternate execution. Some functions, such as `put!()`, `take!()`, and many I/O functions, interrupt the current task's execution, at which point it lets Julia's scheduler decide which task should resume its execution. This is just like Python's coroutines."
      ]
    },
    {
      "cell_type": "markdown",
      "metadata": {
        "id": "yTiiI6ZfbKKQ",
        "colab_type": "text"
      },
      "source": [
        "For more details on coroutines and tasks, see [the manual](https://docs.julialang.org/en/v1/manual/control-flow/#man-tasks-1)."
      ]
    },
    {
      "cell_type": "markdown",
      "metadata": {
        "id": "N9dzuKC2qFRL",
        "colab_type": "text"
      },
      "source": [
        "## Multithreading\n",
        "Julia also supports multithreading. Currently, you need to specify the number of O.S. threads upon startup, by setting the `JULIA_NUM_THREADS` environment variable (or setting the `-t` argument in Julia 1.5+). In the first cell, we configured the IJulia kernel so that set environment variable is set:"
      ]
    },
    {
      "cell_type": "code",
      "metadata": {
        "id": "mBYUWpQpDBzS",
        "colab_type": "code",
        "colab": {
          "base_uri": "https://localhost:8080/",
          "height": 34
        },
        "outputId": "dcb40252-34bf-4f7f-9099-456d74f28d83"
      },
      "source": [
        "ENV[\"JULIA_NUM_THREADS\"]"
      ],
      "execution_count": null,
      "outputs": [
        {
          "output_type": "execute_result",
          "data": {
            "text/plain": [
              "\"4\""
            ]
          },
          "metadata": {
            "tags": []
          },
          "execution_count": 372
        }
      ]
    },
    {
      "cell_type": "markdown",
      "metadata": {
        "id": "8AK8aRLqEhJt",
        "colab_type": "text"
      },
      "source": [
        "The actual number of threads started by Julia may be lower than that, as it is limited to the number of available cores on the machine (thanks to hyperthreading, each physical core may run two threads). Here is the number of threads that were actually started:"
      ]
    },
    {
      "cell_type": "code",
      "metadata": {
        "id": "KjEv4FOwEQhl",
        "colab_type": "code",
        "colab": {
          "base_uri": "https://localhost:8080/",
          "height": 34
        },
        "outputId": "47fb4519-a80e-49cf-e2cc-96c2788b59a2"
      },
      "source": [
        "using Base.Threads\n",
        "nthreads()"
      ],
      "execution_count": null,
      "outputs": [
        {
          "output_type": "execute_result",
          "data": {
            "text/plain": [
              "2"
            ]
          },
          "metadata": {
            "tags": []
          },
          "execution_count": 373
        }
      ]
    },
    {
      "cell_type": "markdown",
      "metadata": {
        "id": "tc3bXp57DINZ",
        "colab_type": "text"
      },
      "source": [
        "Now let's run 10 tasks across these threads:"
      ]
    },
    {
      "cell_type": "code",
      "metadata": {
        "id": "ic1ecJ-1qatN",
        "colab_type": "code",
        "colab": {
          "base_uri": "https://localhost:8080/",
          "height": 357
        },
        "outputId": "a08c623e-c678-44e8-954f-c30155131cb1"
      },
      "source": [
        "@threads for i in 1:10\n",
        "    println(\"thread #\", threadid(), \" is starting task #$i\")\n",
        "    sleep(rand()) # pretend we're actually working\n",
        "    println(\"thread #\", threadid(), \" is finished\")\n",
        "end"
      ],
      "execution_count": null,
      "outputs": [
        {
          "output_type": "stream",
          "text": [
            "thread #1 is starting task #1\n",
            "thread #2 is starting task #6\n",
            "thread #1 is finished\n",
            "thread #1 is starting task #2\n",
            "thread #1 is finished\n",
            "thread #1 is starting task #3\n",
            "thread #2 is finished\n",
            "thread #2 is starting task #7\n",
            "thread #1 is finished\n",
            "thread #1 is starting task #4\n",
            "thread #2 is finished\n",
            "thread #2 is starting task #8\n",
            "thread #1 is finished\n",
            "thread #1 is starting task #5\n",
            "thread #1 is finished\n",
            "thread #2 is finished\n",
            "thread #2 is starting task #9\n",
            "thread #2 is finished\n",
            "thread #2 is starting task #10\n",
            "thread #2 is finished\n"
          ],
          "name": "stdout"
        }
      ]
    },
    {
      "cell_type": "markdown",
      "metadata": {
        "id": "SHpLG3h7LVMm",
        "colab_type": "text"
      },
      "source": [
        "Here is a multithreaded version of the `estimate_pi()` function. Each thread computes part of the sum, and the parts are added at the end:"
      ]
    },
    {
      "cell_type": "code",
      "metadata": {
        "id": "mDHzyNqdJswG",
        "colab_type": "code",
        "colab": {
          "base_uri": "https://localhost:8080/",
          "height": 51
        },
        "outputId": "5302ca91-a022-42f1-d87a-c5ddd99b3347"
      },
      "source": [
        "function parallel_estimate_pi(n)\n",
        "    s = zeros(nthreads())\n",
        "    nt = n ÷ nthreads()\n",
        "    @threads for t in 1:nthreads()\n",
        "        for i in (1:nt) .+ nt*(t - 1)\n",
        "          @inbounds s[t] += (isodd(i) ? -1 : 1) / (2i + 1)\n",
        "        end\n",
        "    end\n",
        "    return 4.0 * (1.0 + sum(s))\n",
        "end\n",
        "\n",
        "@btime parallel_estimate_pi(100_000_000)"
      ],
      "execution_count": null,
      "outputs": [
        {
          "output_type": "stream",
          "text": [
            "  151.840 ms (14 allocations: 1.67 KiB)\n"
          ],
          "name": "stdout"
        },
        {
          "output_type": "execute_result",
          "data": {
            "text/plain": [
              "3.1415926635894196"
            ]
          },
          "metadata": {
            "tags": []
          },
          "execution_count": 375
        }
      ]
    },
    {
      "cell_type": "markdown",
      "metadata": {
        "id": "3Ql0KLRNSqNg",
        "colab_type": "text"
      },
      "source": [
        "The `@inbounds` macro is an optimization: it tells the Julia compiler not to add any bounds check when accessing the array. It's safe in this case since the `s` array has one element per thread, and `t` varies from `1` to `nthreads()`, so there is no risk for `s[t]` to be out of bounds."
      ]
    },
    {
      "cell_type": "markdown",
      "metadata": {
        "id": "tVftN7gXQCOh",
        "colab_type": "text"
      },
      "source": [
        "Let's compare this with the single-threaded implementation:"
      ]
    },
    {
      "cell_type": "code",
      "metadata": {
        "id": "F2Yfz67kK2xX",
        "colab_type": "code",
        "colab": {
          "base_uri": "https://localhost:8080/",
          "height": 51
        },
        "outputId": "5ce8f3d3-2251-46ea-ba57-9e55fee4a470"
      },
      "source": [
        "@btime estimate_pi(100_000_000)"
      ],
      "execution_count": null,
      "outputs": [
        {
          "output_type": "stream",
          "text": [
            "  156.204 ms (0 allocations: 0 bytes)\n"
          ],
          "name": "stdout"
        },
        {
          "output_type": "execute_result",
          "data": {
            "text/plain": [
              "3.141592663589326"
            ]
          },
          "metadata": {
            "tags": []
          },
          "execution_count": 376
        }
      ]
    },
    {
      "cell_type": "markdown",
      "metadata": {
        "id": "BnOKCxlNQX01",
        "colab_type": "text"
      },
      "source": [
        "If you are running this notebook on Colab, the parallel implementation is probably no faster than the single-threaded one. That's because the Colab Runtime only has a single CPU, so there is no benefit from multithreading (plus there is a bit of overhead for managing threads). However, on my 8-core machine, using 16 threads, the parallel implementation is about 6 times faster than the single-threaded one."
      ]
    },
    {
      "cell_type": "markdown",
      "metadata": {
        "id": "nOUeRI6DRbmo",
        "colab_type": "text"
      },
      "source": [
        "Julia has a `mapreduce()` function which makes it easy to implement functions like `parallel_estimate_pi()`:"
      ]
    },
    {
      "cell_type": "code",
      "metadata": {
        "id": "c04i5fsvO5m5",
        "colab_type": "code",
        "colab": {
          "base_uri": "https://localhost:8080/",
          "height": 34
        },
        "outputId": "d8a8283d-c029-4dca-f024-91ca51767f5d"
      },
      "source": [
        "function parallel_estimate_pi2(n)\n",
        "    4.0 * mapreduce(i -> (isodd(i) ? -1 : 1) / (2i + 1), +, 0:n)\n",
        "end"
      ],
      "execution_count": null,
      "outputs": [
        {
          "output_type": "execute_result",
          "data": {
            "text/plain": [
              "parallel_estimate_pi2 (generic function with 1 method)"
            ]
          },
          "metadata": {
            "tags": []
          },
          "execution_count": 377
        }
      ]
    },
    {
      "cell_type": "code",
      "metadata": {
        "id": "ZHKduTA-PW5T",
        "colab_type": "code",
        "colab": {
          "base_uri": "https://localhost:8080/",
          "height": 51
        },
        "outputId": "f992352c-e0ff-4c40-91dd-bd45807905ed"
      },
      "source": [
        "@btime parallel_estimate_pi2(100_000_000)"
      ],
      "execution_count": null,
      "outputs": [
        {
          "output_type": "stream",
          "text": [
            "  134.066 ms (0 allocations: 0 bytes)\n"
          ],
          "name": "stdout"
        },
        {
          "output_type": "execute_result",
          "data": {
            "text/plain": [
              "3.1415926635897917"
            ]
          },
          "metadata": {
            "tags": []
          },
          "execution_count": 378
        }
      ]
    },
    {
      "cell_type": "markdown",
      "metadata": {
        "id": "1Lwb_H7vTeCg",
        "colab_type": "text"
      },
      "source": [
        "The `mapreduce()` function is well optimized, so it's about twice faster than `parallel_estimate_pi()`."
      ]
    },
    {
      "cell_type": "markdown",
      "metadata": {
        "id": "g0PXPosbamtW",
        "colab_type": "text"
      },
      "source": [
        "You can also spawn a task using `Threads.@spawn`. It will get executed on any one of the running threads (it will not start a new thread):"
      ]
    },
    {
      "cell_type": "code",
      "metadata": {
        "id": "w2YYrw3IYX4v",
        "colab_type": "code",
        "colab": {
          "base_uri": "https://localhost:8080/",
          "height": 85
        },
        "outputId": "f7848b8f-8bf0-4179-b606-94c964559fad"
      },
      "source": [
        "task = Threads.@spawn begin\n",
        "    println(\"Thread starting\")\n",
        "    sleep(1)\n",
        "    println(\"Thread stopping\")\n",
        "    42 # result\n",
        "end\n",
        "\n",
        "println(\"Hello!\")\n",
        "\n",
        "println(\"The result is: \", fetch(task))\n"
      ],
      "execution_count": null,
      "outputs": [
        {
          "output_type": "stream",
          "text": [
            "Hello!\n",
            "Thread starting\n",
            "Thread stopping\n",
            "The result is: 42\n"
          ],
          "name": "stdout"
        }
      ]
    },
    {
      "cell_type": "markdown",
      "metadata": {
        "id": "pbv40Ib7bF7v",
        "colab_type": "text"
      },
      "source": [
        "The `fetch()` function waits for the thread to finish, and fetches the result. You can also just call `wait()` if you don't need the result."
      ]
    },
    {
      "cell_type": "markdown",
      "metadata": {
        "id": "OsK9bt-Hb2IS",
        "colab_type": "text"
      },
      "source": [
        "Last but not least, you can use channels to synchronize and communicate across tasks, even if they are running across separate threads:"
      ]
    },
    {
      "cell_type": "code",
      "metadata": {
        "id": "sgdNzgkaceEz",
        "colab_type": "code",
        "colab": {
          "base_uri": "https://localhost:8080/",
          "height": 136
        },
        "outputId": "2298da41-0e19-4a0a-eda3-1846c3203195"
      },
      "source": [
        "ch = Channel()\n",
        "task1 = Threads.@spawn begin\n",
        "    for i in 1:5\n",
        "        sleep(rand())\n",
        "        put!(ch, i^2)\n",
        "    end\n",
        "    println(\"Finished sending!\")\n",
        "    close(ch)\n",
        "end\n",
        "\n",
        "task2 = Threads.@spawn begin\n",
        "    foreach(v->println(\"Received $v\"), ch)\n",
        "    println(\"Finished receiving!\")\n",
        "end\n",
        "\n",
        "wait(task2)"
      ],
      "execution_count": null,
      "outputs": [
        {
          "output_type": "stream",
          "text": [
            "Received 1\n",
            "Received 4\n",
            "Received 9\n",
            "Received 16\n",
            "Received 25\n",
            "Finished sending!\n",
            "Finished receiving!\n"
          ],
          "name": "stdout"
        }
      ]
    },
    {
      "cell_type": "markdown",
      "metadata": {
        "id": "eLOdUrTcV1Lh",
        "colab_type": "text"
      },
      "source": [
        "For more details about multithreading, check out [this page](https://docs.julialang.org/en/v1/manual/parallel-computing/#man-multithreading-1)."
      ]
    },
    {
      "cell_type": "markdown",
      "metadata": {
        "id": "0JfyJjTXX1AM",
        "colab_type": "text"
      },
      "source": [
        "## Multiprocessing & Distributed Programming\n",
        "Julia can spawn multiple Julia processes upon startup if you specify the number of processes via the `-p` argument. You can also spawn extra processes from Julia itself:"
      ]
    },
    {
      "cell_type": "code",
      "metadata": {
        "id": "JtqG4qIhX5Sw",
        "colab_type": "code",
        "colab": {
          "base_uri": "https://localhost:8080/",
          "height": 102
        },
        "outputId": "7c908a66-cd64-4cc4-ba38-61656cbcddaf"
      },
      "source": [
        "using Distributed\n",
        "addprocs(4)\n",
        "workers() # array of worker process ids"
      ],
      "execution_count": null,
      "outputs": [
        {
          "output_type": "execute_result",
          "data": {
            "text/plain": [
              "4-element Array{Int64,1}:\n",
              " 2\n",
              " 3\n",
              " 4\n",
              " 5"
            ]
          },
          "metadata": {
            "tags": []
          },
          "execution_count": 381
        }
      ]
    },
    {
      "cell_type": "markdown",
      "metadata": {
        "id": "WD9hcmhGfraw",
        "colab_type": "text"
      },
      "source": [
        "The main process has id 1:"
      ]
    },
    {
      "cell_type": "code",
      "metadata": {
        "id": "TlsjSMFZe3Ae",
        "colab_type": "code",
        "colab": {
          "base_uri": "https://localhost:8080/",
          "height": 34
        },
        "outputId": "b78c3663-5ac5-4797-ad2a-3e0c5555e255"
      },
      "source": [
        "myid()"
      ],
      "execution_count": null,
      "outputs": [
        {
          "output_type": "execute_result",
          "data": {
            "text/plain": [
              "1"
            ]
          },
          "metadata": {
            "tags": []
          },
          "execution_count": 382
        }
      ]
    },
    {
      "cell_type": "markdown",
      "metadata": {
        "id": "lAS3Q8ohfvwg",
        "colab_type": "text"
      },
      "source": [
        "The `@everywhere` macro lets you run any code on all workers:"
      ]
    },
    {
      "cell_type": "code",
      "metadata": {
        "id": "lmhHLhtbenY5",
        "colab_type": "code",
        "colab": {
          "base_uri": "https://localhost:8080/",
          "height": 102
        },
        "outputId": "698d87f2-e544-44b1-d8b9-9cacea5267e3"
      },
      "source": [
        "@everywhere println(\"Hi! I'm worker $(myid())\")"
      ],
      "execution_count": null,
      "outputs": [
        {
          "output_type": "stream",
          "text": [
            "Hi! I'm worker 1\n",
            "      From worker 4:\tHi! I'm worker 4\n",
            "      From worker 3:\tHi! I'm worker 3\n",
            "      From worker 5:\tHi! I'm worker 5\n",
            "      From worker 2:\tHi! I'm worker 2\n"
          ],
          "name": "stdout"
        }
      ]
    },
    {
      "cell_type": "markdown",
      "metadata": {
        "id": "cyQQ0Td2hAuQ",
        "colab_type": "text"
      },
      "source": [
        "You can also execute code on a particular worker by using `@spawnat <worker id> <statement>`:"
      ]
    },
    {
      "cell_type": "code",
      "metadata": {
        "id": "Mmc1-zfBgsur",
        "colab_type": "code",
        "colab": {
          "base_uri": "https://localhost:8080/",
          "height": 34
        },
        "outputId": "f615b276-1da1-4292-942f-68306b1b29e2"
      },
      "source": [
        "@spawnat 3 println(\"Hi! I'm worker $(myid())\")"
      ],
      "execution_count": null,
      "outputs": [
        {
          "output_type": "execute_result",
          "data": {
            "text/plain": [
              "Future(3, 1, 14, nothing)"
            ]
          },
          "metadata": {
            "tags": []
          },
          "execution_count": 384
        }
      ]
    },
    {
      "cell_type": "markdown",
      "metadata": {
        "id": "nZaV4ptbk4sB",
        "colab_type": "text"
      },
      "source": [
        "If you specify `:any` instead of a worker id, Julia chooses the worker for you:"
      ]
    },
    {
      "cell_type": "code",
      "metadata": {
        "id": "i6C7ydoBkyln",
        "colab_type": "code",
        "colab": {
          "base_uri": "https://localhost:8080/",
          "height": 34
        },
        "outputId": "3fbea762-a8dd-4387-bffc-583987a1259f"
      },
      "source": [
        "@spawnat :any println(\"Hi! I'm worker $(myid())\")"
      ],
      "execution_count": null,
      "outputs": [
        {
          "output_type": "execute_result",
          "data": {
            "text/plain": [
              "Future(2, 1, 15, nothing)"
            ]
          },
          "metadata": {
            "tags": []
          },
          "execution_count": 385
        }
      ]
    },
    {
      "cell_type": "markdown",
      "metadata": {
        "id": "fZMDIATZg9Ug",
        "colab_type": "text"
      },
      "source": [
        "Both `@everywhere` and `@spawnat` return immediately. The output of `@spawnat` is a `Future` object. You can call `fetch()` on this object to wait for the result:"
      ]
    },
    {
      "cell_type": "code",
      "metadata": {
        "id": "Ml5TBZLQf2oY",
        "colab_type": "code",
        "colab": {
          "base_uri": "https://localhost:8080/",
          "height": 51
        },
        "outputId": "bd4a584c-b90b-46bf-bbdc-085508bc298a"
      },
      "source": [
        "result = @spawnat 3 1+2+3+4\n",
        "fetch(result)"
      ],
      "execution_count": null,
      "outputs": [
        {
          "output_type": "stream",
          "text": [
            "      From worker 3:\tHi! I'm worker 3\n"
          ],
          "name": "stdout"
        },
        {
          "output_type": "execute_result",
          "data": {
            "text/plain": [
              "10"
            ]
          },
          "metadata": {
            "tags": []
          },
          "execution_count": 386
        }
      ]
    },
    {
      "cell_type": "markdown",
      "metadata": {
        "id": "f8rR6jBdhuvT",
        "colab_type": "text"
      },
      "source": [
        "If you import some package in the main process, it is <u>not</u> automatically imported in the workers. For example, the following code fails because the worker does not know what `pyimport` is:"
      ]
    },
    {
      "cell_type": "code",
      "metadata": {
        "id": "s89GQtv5iNfP",
        "colab_type": "code",
        "colab": {
          "base_uri": "https://localhost:8080/",
          "height": 71
        },
        "outputId": "f723f2e7-9db5-4c8b-a645-5a1eed7b8c14"
      },
      "source": [
        "using PyCall\n",
        "\n",
        "result = @spawnat 4 (np = pyimport(\"numpy\"); np.log(10))\n",
        "\n",
        "try\n",
        "    fetch(result)\n",
        "catch ex\n",
        "    ex\n",
        "end"
      ],
      "execution_count": null,
      "outputs": [
        {
          "output_type": "stream",
          "text": [
            "      From worker 2:\tHi! I'm worker 2\n"
          ],
          "name": "stdout"
        },
        {
          "output_type": "execute_result",
          "data": {
            "text/plain": [
              "RemoteException(4, CapturedException(UndefVarError(:pyimport), Any[(#119 at macros.jl:87, 1), (#103 at process_messages.jl:290, 1), (run_work_thunk at process_messages.jl:79, 1), (run_work_thunk at process_messages.jl:88, 1), (#96 at task.jl:356, 1)]))"
            ]
          },
          "metadata": {
            "tags": []
          },
          "execution_count": 387
        }
      ]
    },
    {
      "cell_type": "markdown",
      "metadata": {
        "id": "N-wFnpu7inDg",
        "colab_type": "text"
      },
      "source": [
        "You must use `@everywhere` or `@spawnat` to import the packages you need in each worker:"
      ]
    },
    {
      "cell_type": "code",
      "metadata": {
        "id": "eseDsHvzna1R",
        "colab_type": "code",
        "colab": {
          "base_uri": "https://localhost:8080/",
          "height": 34
        },
        "outputId": "98091c24-8094-4879-ed11-d7945fc83c21"
      },
      "source": [
        "@everywhere using PyCall\n",
        "\n",
        "result = @spawnat 4 (np = pyimport(\"numpy\"); np.log(10))\n",
        "\n",
        "fetch(result)"
      ],
      "execution_count": null,
      "outputs": [
        {
          "output_type": "execute_result",
          "data": {
            "text/plain": [
              "2.302585092994046"
            ]
          },
          "metadata": {
            "tags": []
          },
          "execution_count": 388
        }
      ]
    },
    {
      "cell_type": "markdown",
      "metadata": {
        "id": "Nzk3gbLOnqTx",
        "colab_type": "text"
      },
      "source": [
        "Similarly, if you define a function in the main process, it is <u>not</u> automatically available in the workers. You must define the function in every worker:"
      ]
    },
    {
      "cell_type": "code",
      "metadata": {
        "id": "vrvbWhDMnzdX",
        "colab_type": "code",
        "colab": {
          "base_uri": "https://localhost:8080/",
          "height": 34
        },
        "outputId": "50f160c9-acf1-431c-eda6-96e0aa0be8b7"
      },
      "source": [
        "@everywhere addtwo(n) = n + 2\n",
        "result = @spawnat 4 addtwo(40)\n",
        "fetch(result)"
      ],
      "execution_count": null,
      "outputs": [
        {
          "output_type": "execute_result",
          "data": {
            "text/plain": [
              "42"
            ]
          },
          "metadata": {
            "tags": []
          },
          "execution_count": 389
        }
      ]
    },
    {
      "cell_type": "markdown",
      "metadata": {
        "id": "9skIo6pnoikr",
        "colab_type": "text"
      },
      "source": [
        "You can pass a `Future` to `@everywhere` or `@spawnat`, as long as you wrap it in a `fetch()` function:"
      ]
    },
    {
      "cell_type": "code",
      "metadata": {
        "id": "IjovCqk7n_cu",
        "colab_type": "code",
        "colab": {
          "base_uri": "https://localhost:8080/",
          "height": 119
        },
        "outputId": "115fc2a4-8aaf-41d0-9676-0694dcffd842"
      },
      "source": [
        "M = @spawnat 2 rand(5)\n",
        "result = @spawnat 3 fetch(M) .* 10.0\n",
        "fetch(result)"
      ],
      "execution_count": null,
      "outputs": [
        {
          "output_type": "execute_result",
          "data": {
            "text/plain": [
              "5-element Array{Float64,1}:\n",
              " 8.143601261794771\n",
              " 5.941065096374154\n",
              " 2.704552370805511\n",
              " 5.513939084979562\n",
              " 7.231763240434006"
            ]
          },
          "metadata": {
            "tags": []
          },
          "execution_count": 390
        }
      ]
    },
    {
      "cell_type": "markdown",
      "metadata": {
        "id": "H4YeovYto60s",
        "colab_type": "text"
      },
      "source": [
        "In this example, worker 2 creates a random array, then worker 3 fetches this array and multiplies each element by 10, then the main process fetches the result and displays it."
      ]
    },
    {
      "cell_type": "markdown",
      "metadata": {
        "id": "FA9DFoEuiGib",
        "colab_type": "text"
      },
      "source": [
        "# Command Line Arguments"
      ]
    },
    {
      "cell_type": "markdown",
      "metadata": {
        "id": "I1nlKvCZhVo7",
        "colab_type": "text"
      },
      "source": [
        "Command line arguments are available via `ARGS`:\n",
        "\n"
      ]
    },
    {
      "cell_type": "code",
      "metadata": {
        "id": "Ysg_6WElhY7-",
        "colab_type": "code",
        "colab": {
          "base_uri": "https://localhost:8080/",
          "height": 51
        },
        "outputId": "0b29ac30-6fd7-469b-dcfb-e9a9f73a2725"
      },
      "source": [
        "ARGS"
      ],
      "execution_count": null,
      "outputs": [
        {
          "output_type": "execute_result",
          "data": {
            "text/plain": [
              "1-element Array{String,1}:\n",
              " \"/root/.local/share/jupyter/runtime/kernel-00715812-3308-4091-a939-72717e384699.json\""
            ]
          },
          "metadata": {
            "tags": []
          },
          "execution_count": 391
        }
      ]
    },
    {
      "cell_type": "markdown",
      "metadata": {
        "id": "jRe_1ovZhdqh",
        "colab_type": "text"
      },
      "source": [
        "Unlike Python's `sys.argv`, the first element of this array is <u>not</u> the program name. If you need the program name, use `PROGRAM_FILE` instead:"
      ]
    },
    {
      "cell_type": "code",
      "metadata": {
        "id": "2z3obYZghrHL",
        "colab_type": "code",
        "colab": {
          "base_uri": "https://localhost:8080/",
          "height": 34
        },
        "outputId": "a2b2c2ec-602a-4e93-d236-77ab3299605a"
      },
      "source": [
        "PROGRAM_FILE"
      ],
      "execution_count": null,
      "outputs": [
        {
          "output_type": "execute_result",
          "data": {
            "text/plain": [
              "\"/root/.julia/packages/IJulia/DrVMH/src/kernel.jl\""
            ]
          },
          "metadata": {
            "tags": []
          },
          "execution_count": 392
        }
      ]
    },
    {
      "cell_type": "markdown",
      "metadata": {
        "id": "UnKMaPm8r1XC",
        "colab_type": "text"
      },
      "source": [
        "You can get the current module, directory, file or line number:"
      ]
    },
    {
      "cell_type": "code",
      "metadata": {
        "id": "ZIou0Kgbr5mu",
        "colab_type": "code",
        "colab": {
          "base_uri": "https://localhost:8080/",
          "height": 34
        },
        "outputId": "100df3f7-29c0-40bc-d31c-db4342d96723"
      },
      "source": [
        "@__MODULE__, @__DIR__, @__FILE__, @__LINE__"
      ],
      "execution_count": null,
      "outputs": [
        {
          "output_type": "execute_result",
          "data": {
            "text/plain": [
              "(Main, \"/content\", \"In[393]\", 1)"
            ]
          },
          "metadata": {
            "tags": []
          },
          "execution_count": 393
        }
      ]
    },
    {
      "cell_type": "markdown",
      "metadata": {
        "id": "ahpsLiV_hBLi",
        "colab_type": "text"
      },
      "source": [
        "The equivalent of Python's `if __name__ == \"__main__\"` is:"
      ]
    },
    {
      "cell_type": "code",
      "metadata": {
        "id": "hPUUlZG6g_A5",
        "colab_type": "code",
        "colab": {}
      },
      "source": [
        "if abspath(PROGRAM_FILE) == @__FILE__\n",
        "    println(\"Starting of the program\")\n",
        "end"
      ],
      "execution_count": null,
      "outputs": []
    },
    {
      "cell_type": "markdown",
      "metadata": {
        "id": "8g43x6YYiKLf",
        "colab_type": "text"
      },
      "source": [
        "# Memory Management"
      ]
    },
    {
      "cell_type": "markdown",
      "metadata": {
        "id": "o-YehjM8iMmn",
        "colab_type": "text"
      },
      "source": [
        "Let's check how many megabytes of RAM are available:"
      ]
    },
    {
      "cell_type": "code",
      "metadata": {
        "id": "O80YQtSciPvV",
        "colab_type": "code",
        "colab": {
          "base_uri": "https://localhost:8080/",
          "height": 34
        },
        "outputId": "025c0257-68eb-4f06-988e-bd3d79ed939f"
      },
      "source": [
        "free() = println(\"Available RAM: \", Sys.free_memory() ÷ 10^6, \" MB\")\n",
        "\n",
        "free()"
      ],
      "execution_count": null,
      "outputs": [
        {
          "output_type": "stream",
          "text": [
            "Available RAM: 8416 MB\n"
          ],
          "name": "stdout"
        }
      ]
    },
    {
      "cell_type": "markdown",
      "metadata": {
        "id": "bxKvaTpfdO5j",
        "colab_type": "text"
      },
      "source": [
        "If a variable holds a large object that you don't need anymore, you can either wait until the variable falls out of scope, or set it to `nothing`. Either way, the memory will only be freed when the Garbage Collector does its magic, which may not be immediate. In general, you don't have to worry about that, but if you want, you can always call the GC directly:"
      ]
    },
    {
      "cell_type": "code",
      "metadata": {
        "id": "j0M8Oka3fod6",
        "colab_type": "code",
        "colab": {
          "base_uri": "https://localhost:8080/",
          "height": 51
        },
        "outputId": "d132d381-7562-4dae-a971-6d82a638b106"
      },
      "source": [
        "function use_ram()\n",
        "    M = rand(10000, 10000) # use 400+MB of RAM\n",
        "    println(\"sum(M)=$(sum(M))\")\n",
        "end # M will be freed by the GC eventually after this\n",
        "\n",
        "use_ram()\n",
        "\n",
        "M = rand(10000, 10000) # use 400+MB of RAM\n",
        "println(\"sum(M)=$(sum(M))\")\n",
        "M = nothing\n",
        "\n",
        "GC.gc() # rarely needed"
      ],
      "execution_count": null,
      "outputs": [
        {
          "output_type": "stream",
          "text": [
            "sum(M)=5.000078479414207e7\n",
            "sum(M)=5.000278218586619e7\n"
          ],
          "name": "stdout"
        }
      ]
    },
    {
      "cell_type": "code",
      "metadata": {
        "id": "O8Fbip9OpRyD",
        "colab_type": "code",
        "colab": {
          "base_uri": "https://localhost:8080/",
          "height": 34
        },
        "outputId": "e039df89-8fac-4888-8836-7e21c60a9aa9"
      },
      "source": [
        "free()"
      ],
      "execution_count": null,
      "outputs": [
        {
          "output_type": "stream",
          "text": [
            "Available RAM: 6811 MB\n"
          ],
          "name": "stdout"
        }
      ]
    },
    {
      "cell_type": "markdown",
      "metadata": {
        "id": "EsYZBLwwpqEG",
        "colab_type": "text"
      },
      "source": [
        "# Thanks!"
      ]
    },
    {
      "cell_type": "markdown",
      "metadata": {
        "id": "0QOVcDKLptgh",
        "colab_type": "text"
      },
      "source": [
        "I hope you enjoyed this introduction to Julia! I recommend you join the friendly and helpful Julia community on Slack or Discourse.\n",
        "\n",
        "Cheers!\n",
        "\n",
        "Aurélien Geron"
      ]
    },
    {
      "cell_type": "code",
      "metadata": {
        "id": "Z3IpBJjap9Sm",
        "colab_type": "code",
        "colab": {}
      },
      "source": [
        ""
      ],
      "execution_count": null,
      "outputs": []
    }
  ]
}